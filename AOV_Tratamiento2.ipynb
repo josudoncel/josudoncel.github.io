{
 "cells": [
  {
   "cell_type": "markdown",
   "metadata": {},
   "source": [
    "# Analisis de la Varianza: Ejemplo de mejora de tratamiento\n",
    "\n",
    "Se analiza la mejora tras usar tratamientos para tratar el acne. Hiru tratamendu ezberdin erabili ondoren, lorturiko hobekuntza portzentajeak aztertu nahi dugu (ver diapositiva 5 de la presentación del tema Analisis de la varianza). Suponemos que el porcentaje de mejora es una variable aleatoria normal. ¿Hay diferencia significativa entre los tres tratamientos a un nivel de significación del $5\\%$?\n"
   ]
  },
  {
   "cell_type": "code",
   "execution_count": 3,
   "metadata": {},
   "outputs": [
    {
     "name": "stdout",
     "output_type": "stream",
     "text": [
      "tibble [35 × 2] (S3: tbl_df/tbl/data.frame)\n",
      " $ Mejora     : chr [1:35] \"48.6\" \"49.4\" \"50.1\" \"49.8\" ...\n",
      " $ Tratamiento: chr [1:35] \"I\" \"I\" \"I\" \"I\" ...\n"
     ]
    }
   ],
   "source": [
    "# leer datos \n",
    "library(\"readxl\")\n",
    "Datos <-read_excel(\"AOV_Tratamiento.xls\")\n",
    "str(Datos)\n",
    "\n",
    "# Pasamos la variable tratamiento a factor y la variable mejora a numerica\n",
    "Datos$Tratamiento.f <-factor(Datos$Tratamiento)\n",
    "Datos$Mejora <-as.numeric(Datos$Mejora)\n",
    "#str(Hobekuntza)\n",
    "#Hobekuntza"
   ]
  },
  {
   "cell_type": "markdown",
   "metadata": {},
   "source": [
    "Comenzamos por presentar cosas vistas en estadística descriptiva"
   ]
  },
  {
   "cell_type": "code",
   "execution_count": 5,
   "metadata": {},
   "outputs": [
    {
     "data": {
      "text/plain": [
       "        mean       sd   0%   25%  50%    75% 100% Mejora:n\n",
       "I   49.46000 1.732179 46.7 48.70 49.6 50.475 52.5       10\n",
       "II  68.73333 2.000606 64.5 67.95 68.6 69.950 71.9       12\n",
       "III 63.60000 2.222236 60.5 62.30 63.2 64.800 67.5       13"
      ]
     },
     "metadata": {},
     "output_type": "display_data"
    }
   ],
   "source": [
    "#install.packages(\"RcmdrMisc\")\n",
    "library(\"RcmdrMisc\")\n",
    "numSummary(Datos[,\"Mejora\"], groups=Datos$Tratamiento.f,    \n",
    "           statistics = c(\"mean\", \"sd\", \"quantiles\"), quantiles=c(0,.25,.5,.75,1))"
   ]
  },
  {
   "cell_type": "markdown",
   "metadata": {},
   "source": [
    "En el enunciado se afirma la normalidad de los datos por lo que no lo verificamos.\n",
    "\n",
    "### Igualdad de varianzas"
   ]
  },
  {
   "cell_type": "code",
   "execution_count": 6,
   "metadata": {},
   "outputs": [
    {
     "data": {
      "text/html": [
       "<table>\n",
       "<caption>A anova: 2 × 3</caption>\n",
       "<thead>\n",
       "\t<tr><th></th><th scope=col>Df</th><th scope=col>F value</th><th scope=col>Pr(&gt;F)</th></tr>\n",
       "\t<tr><th></th><th scope=col>&lt;int&gt;</th><th scope=col>&lt;dbl&gt;</th><th scope=col>&lt;dbl&gt;</th></tr>\n",
       "</thead>\n",
       "<tbody>\n",
       "\t<tr><th scope=row>group</th><td> 2</td><td>0.4913992</td><td>0.6163106</td></tr>\n",
       "\t<tr><th scope=row> </th><td>32</td><td>       NA</td><td>       NA</td></tr>\n",
       "</tbody>\n",
       "</table>\n"
      ],
      "text/latex": [
       "A anova: 2 × 3\n",
       "\\begin{tabular}{r|lll}\n",
       "  & Df & F value & Pr(>F)\\\\\n",
       "  & <int> & <dbl> & <dbl>\\\\\n",
       "\\hline\n",
       "\tgroup &  2 & 0.4913992 & 0.6163106\\\\\n",
       "\t  & 32 &        NA &        NA\\\\\n",
       "\\end{tabular}\n"
      ],
      "text/markdown": [
       "\n",
       "A anova: 2 × 3\n",
       "\n",
       "| <!--/--> | Df &lt;int&gt; | F value &lt;dbl&gt; | Pr(&gt;F) &lt;dbl&gt; |\n",
       "|---|---|---|---|\n",
       "| group |  2 | 0.4913992 | 0.6163106 |\n",
       "| <!----> | 32 |        NA |        NA |\n",
       "\n"
      ],
      "text/plain": [
       "      Df F value   Pr(>F)   \n",
       "group  2 0.4913992 0.6163106\n",
       "      32        NA        NA"
      ]
     },
     "metadata": {},
     "output_type": "display_data"
    }
   ],
   "source": [
    "leveneTest(Datos$Mejora, Datos$Tratamiento.f, center=mean) "
   ]
  },
  {
   "cell_type": "markdown",
   "metadata": {},
   "source": [
    "\n",
    "El test de Levene realiza un contraste en el que $H_0$ es que las varianzas son iguales. En este caso, el valor del estadístico es 0.4913992, los grados de libertad 2 y el p-valor 0.6163106. Por consiguiente, a un nivel de significación del $5\\%$, no se rechaza la igualdad de varianzas.\n",
    "\n",
    "Por tanto, todo indica que estamos en las condiciones para realizar el Analisis de la Varianza. Hemos de realizar el siguiente contraste de hipótesis: \n",
    "\n",
    "\n",
    "$H_0:\\ \\mu_I=\\mu_{II}=\\mu_{III}$\n",
    "\n",
    "$H_1: \\exists i,j$ non $\\mu_j\\neq \\mu_i$\n",
    "\n"
   ]
  },
  {
   "cell_type": "code",
   "execution_count": 7,
   "metadata": {},
   "outputs": [
    {
     "data": {
      "text/plain": [
       "              Df Sum Sq Mean Sq F value Pr(>F)    \n",
       "Tratamiento.f  2 2133.7  1066.8     262 <2e-16 ***\n",
       "Residuals     32  130.3     4.1                   \n",
       "---\n",
       "Signif. codes:  0 ‘***’ 0.001 ‘**’ 0.01 ‘*’ 0.05 ‘.’ 0.1 ‘ ’ 1"
      ]
     },
     "metadata": {},
     "output_type": "display_data"
    }
   ],
   "source": [
    "Anova2 <-  aov(Mejora ~ Tratamiento.f, data=Datos)\n",
    "summary(Anova2)"
   ]
  },
  {
   "cell_type": "markdown",
   "metadata": {},
   "source": [
    "Observamos que el p-valor es mucho más pequeño que 0.0001, por tanto concluimos a un nivel de significación del $5\\%$ que hay diferencia en la eficacia media de los tratamientos contra el acna.\n",
    "\n",
    "\n",
    "Ahora la pregunta es... ¿Todos los tratamientos son iguales? Para responder a esta pregunta usaremos las comparaciones multiples de medias. Hay distintos métodos, pero el que más se usa es el de Scheffé  eta Tukey. El de Tukey es el que da los resultados más fiables, pero requiere que los tamaños muestrales sean iguales. El metodo de Scheffé se puede usar en cualquier caso (por tanto es el más usado) pero es más conservador que el de Tukey, es decir, da p-valores más altos."
   ]
  },
  {
   "cell_type": "code",
   "execution_count": 10,
   "metadata": {},
   "outputs": [
    {
     "data": {
      "text/plain": [
       "        mean       sd data:n\n",
       "I   49.46000 1.732179     10\n",
       "II  68.73333 2.000606     12\n",
       "III 63.60000 2.222236     13"
      ]
     },
     "metadata": {},
     "output_type": "display_data"
    }
   ],
   "source": [
    "# vamos a ver las medias y quasidesviaciones estandar de la muestra. ¿Cuales parecen que son distintas?\n",
    "numSummary(Datos$Mejora , groups=Datos$Tratamiento,    statistics=c(\"mean\", \"sd\")) "
   ]
  },
  {
   "cell_type": "code",
   "execution_count": 11,
   "metadata": {},
   "outputs": [
    {
     "data": {
      "text/plain": [
       "\n",
       "\t Simultaneous Tests for General Linear Hypotheses\n",
       "\n",
       "Multiple Comparisons of Means: Tukey Contrasts\n",
       "\n",
       "\n",
       "Fit: aov(formula = Mejora ~ Tratamiento.f, data = Datos)\n",
       "\n",
       "Linear Hypotheses:\n",
       "              Estimate Std. Error t value Pr(>|t|)    \n",
       "II - I == 0    19.2733     0.8640  22.308   <1e-05 ***\n",
       "III - I == 0   14.1400     0.8487  16.660   <1e-05 ***\n",
       "III - II == 0  -5.1333     0.8078  -6.355   <1e-05 ***\n",
       "---\n",
       "Signif. codes:  0 ‘***’ 0.001 ‘**’ 0.01 ‘*’ 0.05 ‘.’ 0.1 ‘ ’ 1\n",
       "(Adjusted p values reported -- single-step method)\n"
      ]
     },
     "metadata": {},
     "output_type": "display_data"
    },
    {
     "data": {
      "text/plain": [
       "\n",
       "\t Simultaneous Confidence Intervals\n",
       "\n",
       "Multiple Comparisons of Means: Tukey Contrasts\n",
       "\n",
       "\n",
       "Fit: aov(formula = Mejora ~ Tratamiento.f, data = Datos)\n",
       "\n",
       "Quantile = 2.4557\n",
       "95% family-wise confidence level\n",
       " \n",
       "\n",
       "Linear Hypotheses:\n",
       "              Estimate lwr     upr    \n",
       "II - I == 0   19.2733  17.1517 21.3950\n",
       "III - I == 0  14.1400  12.0558 16.2242\n",
       "III - II == 0 -5.1333  -7.1170 -3.1497\n"
      ]
     },
     "metadata": {},
     "output_type": "display_data"
    }
   ],
   "source": [
    "library(multcomp)\n",
    "# aurreko paketea kargatu behar da glht komandoa erabiltzeko\n",
    "multiplesTukey <- glht(Anova2, linfct = mcp(Tratamiento.f = \"Tukey\"))\n",
    "summary(multiplesTukey)\n",
    "confint(multiplesTukey)"
   ]
  },
  {
   "cell_type": "markdown",
   "metadata": {},
   "source": [
    "Observamos los p-valores y nos damos cuenta que todas las comparaciones dos a dos tienen diferencias significativas. Por tanto, con un nivel de significación del $5\\%$, la eficacia de todos tratamientos es distinta. ¿Pero cual es la mejor? ¿Y la peor?\n",
    "\n",
    "Si miramos los intervalos de confianza, concluimos lo siguiente: Como $$I^{0.95}_{\\mu_{II}-\\mu_I}=(17.1517,21.395)$$ concluimos que $\\mu_2>\\mu_1$ con un nivel de significación del $5\\%$. Además, vemos que $$I^{0.95}_{\\mu_{III}-\\mu_I}=(12.0558,16.2242),$$ concluimos con un  nivel de significación del $5\\%$ que  $\\mu_3 > \\mu_1$ dela. Por ultimo, como $$I^{0.95}_{\\mu_{III}-\\mu_{II}}=(-7.117,-3.1497),$$ concluimos con un nivel de significación del $5\\%$ que $\\mu_3 < \\mu_2$. Por tanto, se cumple que $\\mu_2 > \\mu_3 > \\mu_1$. Es decir, el Tratamiento 2 es el de mayor eficacia y el tratamiento 1 el de peor."
   ]
  },
  {
   "cell_type": "code",
   "execution_count": null,
   "metadata": {},
   "outputs": [],
   "source": []
  }
 ],
 "metadata": {
  "kernelspec": {
   "display_name": "R",
   "language": "R",
   "name": "ir"
  },
  "language_info": {
   "codemirror_mode": "r",
   "file_extension": ".r",
   "mimetype": "text/x-r-source",
   "name": "R",
   "pygments_lexer": "r",
   "version": "3.6.3"
  }
 },
 "nbformat": 4,
 "nbformat_minor": 2
}
