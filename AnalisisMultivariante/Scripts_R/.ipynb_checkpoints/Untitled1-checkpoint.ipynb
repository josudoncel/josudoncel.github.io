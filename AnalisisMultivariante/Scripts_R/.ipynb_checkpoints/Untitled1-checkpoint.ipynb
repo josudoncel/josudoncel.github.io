{
 "cells": [
  {
   "cell_type": "code",
   "execution_count": 2,
   "metadata": {},
   "outputs": [
    {
     "data": {
      "text/html": [
       "<strong>png:</strong> 2"
      ],
      "text/latex": [
       "\\textbf{png:} 2"
      ],
      "text/markdown": [
       "**png:** 2"
      ],
      "text/plain": [
       "png \n",
       "  2 "
      ]
     },
     "metadata": {},
     "output_type": "display_data"
    },
    {
     "data": {
      "text/html": [
       "<strong>png:</strong> 2"
      ],
      "text/latex": [
       "\\textbf{png:} 2"
      ],
      "text/markdown": [
       "**png:** 2"
      ],
      "text/plain": [
       "png \n",
       "  2 "
      ]
     },
     "metadata": {},
     "output_type": "display_data"
    }
   ],
   "source": [
    "galton<-read.table(file=\"Galton.txt\", header=TRUE, dec=\",\", sep=\"\\t\")\n",
    "#str(galton)\n",
    "#galton$Father\n",
    "#galton$Height\n",
    "#galton$Father\n",
    "#plot(data.frame(galton$Height),data.frame(galton$Father)\n",
    "Altura_hijos<- c(65, 66, 63, 64, 65, 66, 71, 69, 66, 71, 70, 68, 70, 71, 72, 74, 74)\n",
    "Altura_padres<-c(59, 60, 61, 62, 63, 64, 65, 66, 67, 68, 69, 70, 71, 72, 73, 74, 75)\n",
    "#print(Altura_hijos)\n",
    "#galton$Height\n",
    "#length(Altura_hijos)\n",
    "#length(Altura_padres)\n",
    "pdf(\"galton1.pdf\") \n",
    "plot(Altura_padres,Altura_hijos,pch=0,xlab=\"Altura padre (en pulgadas)\", ylab=\"Altura hijo (en pulgadas)\")\n",
    "dev.off()\n",
    "pdf(\"galton2.pdf\") \n",
    "plot(Altura_padres,Altura_hijos,pch=0,xlab=\"Altura padre (en pulgadas)\", ylab=\"Altura hijo (en pulgadas)\")\n",
    "abline(28.63, 0.595, col= \"red\", lty=2, lwd=3)\n",
    "dev.off()"
   ]
  },
  {
   "cell_type": "code",
   "execution_count": 62,
   "metadata": {},
   "outputs": [
    {
     "name": "stderr",
     "output_type": "stream",
     "text": [
      "Installing package into ‘/home/josu/R/x86_64-pc-linux-gnu-library/3.4’\n",
      "(as ‘lib’ is unspecified)\n",
      "\n"
     ]
    },
    {
     "data": {
      "text/html": [
       "<style>\n",
       ".dl-inline {width: auto; margin:0; padding: 0}\n",
       ".dl-inline>dt, .dl-inline>dd {float: none; width: auto; display: inline-block}\n",
       ".dl-inline>dt::after {content: \":\\0020\"; padding-right: .5ex}\n",
       ".dl-inline>dt:not(:first-of-type) {padding-left: .5ex}\n",
       "</style><dl class=dl-inline><dt>Abused</dt><dd>45</dd><dt>NotAbused</dt><dd>31</dd></dl>\n"
      ],
      "text/latex": [
       "\\begin{description*}\n",
       "\\item[Abused] 45\n",
       "\\item[NotAbused] 31\n",
       "\\end{description*}\n"
      ],
      "text/markdown": [
       "Abused\n",
       ":   45NotAbused\n",
       ":   31\n",
       "\n"
      ],
      "text/plain": [
       "   Abused NotAbused \n",
       "       45        31 "
      ]
     },
     "metadata": {},
     "output_type": "display_data"
    },
    {
     "data": {
      "text/plain": [
       "sexab$csa: Abused\n",
       "      cpa              ptsd               csa    \n",
       " Min.   :-1.115   Min.   : 5.985   Abused   :45  \n",
       " 1st Qu.: 1.415   1st Qu.: 9.374   NotAbused: 0  \n",
       " Median : 2.627   Median :11.313                 \n",
       " Mean   : 3.075   Mean   :11.941                 \n",
       " 3rd Qu.: 4.317   3rd Qu.:14.901                 \n",
       " Max.   : 8.647   Max.   :18.993                 \n",
       "------------------------------------------------------------ \n",
       "sexab$csa: NotAbused\n",
       "      cpa               ptsd               csa    \n",
       " Min.   :-3.1204   Min.   :-3.349   Abused   : 0  \n",
       " 1st Qu.:-0.2299   1st Qu.: 3.544   NotAbused:31  \n",
       " Median : 1.3216   Median : 5.794                 \n",
       " Mean   : 1.3088   Mean   : 4.696                 \n",
       " 3rd Qu.: 2.8309   3rd Qu.: 6.838                 \n",
       " Max.   : 5.0497   Max.   :10.914                 "
      ]
     },
     "metadata": {},
     "output_type": "display_data"
    },
    {
     "data": {
      "image/png": "[encoded data removed]",
      "text/plain": [
       "plot without title"
      ]
     },
     "metadata": {
      "image/png": {
       "height": 420,
       "width": 420
      }
     },
     "output_type": "display_data"
    },
    {
     "data": {
      "text/plain": [
       "\n",
       "\tWelch Two Sample t-test\n",
       "\n",
       "data:  sexab$ptsd[1:45] and sexab$ptsd[46:76]\n",
       "t = 8.9006, df = 63.675, p-value = 8.803e-13\n",
       "alternative hypothesis: true difference in means is not equal to 0\n",
       "95 percent confidence interval:\n",
       " 5.618873 8.871565\n",
       "sample estimates:\n",
       "mean of x mean of y \n",
       "11.941093  4.695874 \n"
      ]
     },
     "metadata": {},
     "output_type": "display_data"
    },
    {
     "data": {
      "text/plain": [
       "\n",
       "Call:\n",
       "lm(formula = ptsd ~ cpa + csa + cpa * csa, data = sexab)\n",
       "\n",
       "Residuals:\n",
       "    Min      1Q  Median      3Q     Max \n",
       "-8.1999 -2.5313 -0.1807  2.7744  6.9748 \n",
       "\n",
       "Coefficients:\n",
       "                 Estimate Std. Error t value Pr(>|t|)    \n",
       "(Intercept)       10.5571     0.8063  13.094  < 2e-16 ***\n",
       "cpa                0.4500     0.2085   2.159   0.0342 *  \n",
       "csaNotAbused      -6.8612     1.0747  -6.384 1.48e-08 ***\n",
       "cpa:csaNotAbused   0.3140     0.3685   0.852   0.3970    \n",
       "---\n",
       "Signif. codes:  0 ‘***’ 0.001 ‘**’ 0.01 ‘*’ 0.05 ‘.’ 0.1 ‘ ’ 1\n",
       "\n",
       "Residual standard error: 3.279 on 72 degrees of freedom\n",
       "Multiple R-squared:  0.5828,\tAdjusted R-squared:  0.5654 \n",
       "F-statistic: 33.53 on 3 and 72 DF,  p-value: 1.133e-13\n"
      ]
     },
     "metadata": {},
     "output_type": "display_data"
    },
    {
     "data": {
      "text/plain": [
       "\n",
       "Call:\n",
       "lm(formula = ptsd ~ cpa + csa, data = sexab)\n",
       "\n",
       "Residuals:\n",
       "    Min      1Q  Median      3Q     Max \n",
       "-8.1567 -2.3643 -0.1533  2.1466  7.1417 \n",
       "\n",
       "Coefficients:\n",
       "             Estimate Std. Error t value Pr(>|t|)    \n",
       "(Intercept)   10.2480     0.7187  14.260  < 2e-16 ***\n",
       "cpa            0.5506     0.1716   3.209  0.00198 ** \n",
       "csaNotAbused  -6.2728     0.8219  -7.632 6.91e-11 ***\n",
       "---\n",
       "Signif. codes:  0 ‘***’ 0.001 ‘**’ 0.01 ‘*’ 0.05 ‘.’ 0.1 ‘ ’ 1\n",
       "\n",
       "Residual standard error: 3.273 on 73 degrees of freedom\n",
       "Multiple R-squared:  0.5786,\tAdjusted R-squared:  0.5671 \n",
       "F-statistic: 50.12 on 2 and 73 DF,  p-value: 2.002e-14\n"
      ]
     },
     "metadata": {},
     "output_type": "display_data"
    },
    {
     "data": {
      "text/html": [
       "<table>\n",
       "<caption>A anova: 2 × 6</caption>\n",
       "<thead>\n",
       "\t<tr><th></th><th scope=col>Res.Df</th><th scope=col>RSS</th><th scope=col>Df</th><th scope=col>Sum of Sq</th><th scope=col>F</th><th scope=col>Pr(&gt;F)</th></tr>\n",
       "\t<tr><th></th><th scope=col>&lt;dbl&gt;</th><th scope=col>&lt;dbl&gt;</th><th scope=col>&lt;dbl&gt;</th><th scope=col>&lt;dbl&gt;</th><th scope=col>&lt;dbl&gt;</th><th scope=col>&lt;dbl&gt;</th></tr>\n",
       "</thead>\n",
       "<tbody>\n",
       "\t<tr><th scope=row>1</th><td>72</td><td>774.2766</td><td>NA</td><td>       NA</td><td>       NA</td><td>      NA</td></tr>\n",
       "\t<tr><th scope=row>2</th><td>73</td><td>782.0835</td><td>-1</td><td>-7.806862</td><td>0.7259603</td><td>0.397021</td></tr>\n",
       "</tbody>\n",
       "</table>\n"
      ],
      "text/latex": [
       "A anova: 2 × 6\n",
       "\\begin{tabular}{r|llllll}\n",
       "  & Res.Df & RSS & Df & Sum of Sq & F & Pr(>F)\\\\\n",
       "  & <dbl> & <dbl> & <dbl> & <dbl> & <dbl> & <dbl>\\\\\n",
       "\\hline\n",
       "\t1 & 72 & 774.2766 & NA &        NA &        NA &       NA\\\\\n",
       "\t2 & 73 & 782.0835 & -1 & -7.806862 & 0.7259603 & 0.397021\\\\\n",
       "\\end{tabular}\n"
      ],
      "text/markdown": [
       "\n",
       "A anova: 2 × 6\n",
       "\n",
       "| <!--/--> | Res.Df &lt;dbl&gt; | RSS &lt;dbl&gt; | Df &lt;dbl&gt; | Sum of Sq &lt;dbl&gt; | F &lt;dbl&gt; | Pr(&gt;F) &lt;dbl&gt; |\n",
       "|---|---|---|---|---|---|---|\n",
       "| 1 | 72 | 774.2766 | NA |        NA |        NA |       NA |\n",
       "| 2 | 73 | 782.0835 | -1 | -7.806862 | 0.7259603 | 0.397021 |\n",
       "\n"
      ],
      "text/plain": [
       "  Res.Df RSS      Df Sum of Sq F         Pr(>F)  \n",
       "1 72     774.2766 NA        NA        NA       NA\n",
       "2 73     782.0835 -1 -7.806862 0.7259603 0.397021"
      ]
     },
     "metadata": {},
     "output_type": "display_data"
    },
    {
     "data": {
      "image/png": "[encoded data removed]",
      "text/plain": [
       "plot without title"
      ]
     },
     "metadata": {
      "image/png": {
       "height": 420,
       "width": 420
      }
     },
     "output_type": "display_data"
    }
   ],
   "source": [
    "#install.packages(\"faraway\")\n",
    "library(faraway)\n",
    "data(sexab)\n",
    "\n",
    "summary(sexab$csa)\n",
    "\n",
    "by(sexab,sexab$csa,summary) # Vemos una descriptiva en funci�n de si sufrieron o no abusos en la infancia\n",
    "\n",
    "# Parece a simple vista que el stress prostaum�tico es mayor en las abusadas.\n",
    "\n",
    "plot(ptsd~csa, sexab)\n",
    "plot(ptsd~cpa, pch=as.character(csa),sexab) ## KONTUZ PCH\n",
    "\n",
    "# Hacemos un test para ver si esas diferencias son estad�sticamente significativas:\n",
    "\n",
    "t.test(sexab$ptsd[1:45],sexab$ptsd[46:76])  ## Se rechaza la hip�tesis nula de igualdad de medias\n",
    "\n",
    "# Hacemos el modelo lineal general considerando la interacci�n:\n",
    "\n",
    "ejc<-lm(formula = ptsd ~ cpa + csa + cpa * csa, data = sexab)\n",
    "summary(ejc)\n",
    "\n",
    "## Sin interacci�n\n",
    "ejc2<-lm(formula = ptsd ~ cpa + csa , data = sexab)\n",
    "summary(ejc2)\n",
    "\n",
    "anova(ejc,ejc2)\n",
    "\n"
   ]
  },
  {
   "cell_type": "code",
   "execution_count": null,
   "metadata": {},
   "outputs": [],
   "source": []
  }
 ],
 "metadata": {
  "kernelspec": {
   "display_name": "R",
   "language": "R",
   "name": "ir"
  },
  "language_info": {
   "codemirror_mode": "r",
   "file_extension": ".r",
   "mimetype": "text/x-r-source",
   "name": "R",
   "pygments_lexer": "r",
   "version": "3.4.4"
  }
 },
 "nbformat": 4,
 "nbformat_minor": 2
}
