{
 "cells": [
  {
   "cell_type": "markdown",
   "metadata": {},
   "source": [
    "## Ejemplo de Regresión Lineal Multiple\n",
    "\n",
    "La siguiente tabla recoge la información proporcionada por 8 empresas con relación a su producto estrella.  Los  datos  muestran  las  ventas  anuales  en  toneladas  (Y),  el  gasto  anual  en  publicidad  en  miles de euros (X1)  y  la  valoración de la calidad del producto por parte de los consumidores (X2). Queremos  construir  un  modelo  explicativo  que  relacione  las  ventas  del  producto  con  el  gasto  en  publicidad y la opinión de los consumidores respecto a su calidad.\n",
    "\n",
    "<img src=\"figs/rlmultiple_tabla.png\">"
   ]
  },
  {
   "cell_type": "markdown",
   "metadata": {},
   "source": [
    "Escribimos la matriz X\n",
    "$$X=\n",
    "\\begin{pmatrix}\n",
    "1 & 58 & 111\\\\\n",
    "1 & 84 & 131\\\\\n",
    "1 & 78 & 158\\\\\n",
    "1 & 81 & 147\\\\\n",
    "1 & 82 & 121\\\\\n",
    "1 & 102& 165\\\\\n",
    "1 & 85 & 174\\\\\n",
    "1& 102 & 169\n",
    "\\end{pmatrix}\n",
    "$$\n",
    "y el vector $y=(64,78,83,88,89,99,101,102)^T$\n",
    "\n",
    "Para calcular los valores de las estimaciones de los parámetros ($b=(\\beta_0,\\beta_1,\\beta_2$)^T) resolvemos el siguiente sistema de ecuaciones:\n",
    "$$\n",
    "X^TXb=Xy\n",
    "$$\n",
    "y obtenemos\n",
    "$$\n",
    "b=\\begin{pmatrix}\n",
    "9.05\\\\\n",
    "0.52\\\\\n",
    "0.24\n",
    "\\end{pmatrix}\n",
    "$$\n",
    "\n",
    "Por tanto, el modelo de regresión lineal viene dado por la siguiente expressión:\n",
    "$$\n",
    "\\hat Y = 9.05 + 0.52X_1 + 0.24X_2\n",
    "$$\n",
    "\n",
    "Vamos  a  calcular  los  intervalos  de  confianza  y  significación  de  los  parámetros  $\\beta_1$ y $\\beta_2$.  Para  ello  necesitamos estimar primero la varianza de estos parámetros.\n",
    "\n",
    "Primero, será necesario estimar primero la varianza residual\n",
    "$$\n",
    "\\hat \\sigma^2=\\frac{1}{n-p-1}e^Te\n",
    "$$\n",
    "\n",
    "Como $e^Te=Y^TY- b X^TX$, entonces \n",
    "$$\n",
    "\\hat \\sigma^2=\\frac{63140-62970.84}{8-2-1}=33.83\n",
    "$$\n",
    "\n",
    "Ahora \n",
    "$$\n",
    "(X^TX)^{-1}=\n",
    "\\begin{pmatrix}\n",
    "6.35& -3.2\\cdot 10^{-2}&2.4\\cdot 10^{-2}\\\\\n",
    "-3.2\\cdot 10^{-2}& 1.5\\cdot 10^{-3}&-6.5\\cdot 10^{-4}\\\\\n",
    "2.4\\cdot 10^{-2}& -6.5\\cdot 10^{-3}&5.3\\cdot 10^{-4}\n",
    "\\end{pmatrix}\n",
    "$$\n",
    "\n",
    "Entonces, $Var[\\hat \\beta_1]=33.83\\cdot 1.5\\cdot 10^{-3}=0.0548$ y \n",
    "$Var[\\hat \\beta_2]=33.83\\cdot 5.3\\cdot 10^{-4}=0.0182$.\n",
    "\n",
    "Con esto, podemos calcular los intervalos de confianza del 95%:\n",
    "$$\n",
    "I_{\\beta_1}^{0.95}=0.52\\pm 2.57\\cdot \\sqrt{0.0548}\n",
    "$$\n",
    "$$\n",
    "I_{\\beta_2}^{0.95}=0.24\\pm 2.57\\cdot \\sqrt{0.0182}\n",
    "$$\n",
    "\n",
    "Realizamos el test de Wald para $\\beta_1$ y $\\beta_2$.\n",
    "\n",
    "$H_0:\\ \\beta_1=0$\n",
    "\n",
    "$H_1:\\ \\beta_1\\neq 0$\n",
    "\n",
    "El estadístico pivote es $t_p=\\frac{0.52}{\\sqrt{0.0548}}=2.22$ y el p-valor $$\n",
    "2\\cdot P(t_{n-p-1}>|t_p|)=2\\cdot P(t_5>2.22)>0.05\n",
    "$$\n",
    "\n",
    "$H_0:\\ \\beta_2=0$\n",
    "\n",
    "$H_1:\\ \\beta_2\\neq 0$\n",
    "\n",
    "El estadístico pivote es $t_p=\\frac{0.24}{\\sqrt{0.0182}}=1.178$ y el p-valor $$\n",
    "2\\cdot P(t_{n-p-1}>|t_p|)=2\\cdot P(t_5>1.178)>0.05\n",
    "$$\n",
    "\n",
    "Por  tanto,  concluimos  que  ni  la  inversión  anual  en  publicidad,  ni  la  valoración  de  la  calidad  del  producto por parte del consumidor influyen de manera significativa en las ventas del producto. \n",
    "\n",
    "Vamos a realizar el contraste F:\n",
    "\n",
    "$H_0:\\ \\beta_0=\\beta_1=\\beta_2=0$\n",
    "\n",
    "$H_1:\\ \\exists j\\in\\{0,1,2\\} t.q. \\beta_j\\neq 0$\n",
    "\n",
    "El estadístico pivote es \n",
    "$$\n",
    "F=\\frac{SC(X)/p}{SCE/(n-p-1)}=\\frac{1018.84/2}{169.15/5}=15.06\n",
    "$$\n",
    "\n",
    "ya que $SCE=\\sum_i (y_i-y_i)^2$ y $SCT=\\sum_{i}(y_i-\\bar y)^2$.\n",
    "\n",
    "El p-valor del contraste F es $P(F_{p,n-p-1}>F)=P(F_{2,5}>15.06)<0.05$. Por  tanto,  la  inversión  realizada  en  publicidad  y  la  valoración  de  calidad  dada  por  el  consumidor,  influyen  conjuntamente  en  las  ventas  de  un  producto.\n",
    "\n",
    "El coeficiente de determinación y el corregido son los siguientes\n",
    "$$\n",
    "R^2=1-\\frac{SCE}{SCT}=0.86\n",
    "$$\n",
    "$$\n",
    "\\bar R^2=1-\\frac{SCE/5}{SCT/2}=0.79\n",
    "$$\n",
    "  \n",
    "Las variables inversión  realizada  en  publicidad  y  la  valoración  de  calidad  dada  por  el  consumidor explican  el  80% de la variabilidad en las ventas medias anuales (coeficiente de determinación corregido).\n",
    "\n",
    "Todo esto se puede hacer usando R de la siguiente forma."
   ]
  },
  {
   "cell_type": "code",
   "execution_count": 10,
   "metadata": {},
   "outputs": [],
   "source": [
    "y <- c(64, 78, 83, 88, 89, 99, 101, 102)\n",
    "\n",
    "x1<- c(58, 84, 78, 81, 82, 102, 85, 102)\n",
    "\n",
    "x2<-c(111, 131, 158, 147, 121, 165, 174, 169)\n",
    "\n"
   ]
  },
  {
   "cell_type": "code",
   "execution_count": 11,
   "metadata": {
    "scrolled": true
   },
   "outputs": [
    {
     "data": {
      "text/plain": [
       "\n",
       "Call:\n",
       "lm(formula = y ~ x1 + x2)\n",
       "\n",
       "Residuals:\n",
       "      1       2       3       4       5       6       7       8 \n",
       "-1.8419 -6.1641 -4.5155  1.5608  8.2740 -2.6805  6.0066 -0.6394 \n",
       "\n",
       "Coefficients:\n",
       "            Estimate Std. Error t value Pr(>|t|)  \n",
       "(Intercept)   9.0538    14.9631   0.605   0.5715  \n",
       "x1            0.5203     0.2317   2.246   0.0747 .\n",
       "x2            0.2397     0.1378   1.740   0.1423  \n",
       "---\n",
       "Signif. codes:  0 ‘***’ 0.001 ‘**’ 0.01 ‘*’ 0.05 ‘.’ 0.1 ‘ ’ 1\n",
       "\n",
       "Residual standard error: 5.939 on 5 degrees of freedom\n",
       "Multiple R-squared:  0.8516,\tAdjusted R-squared:  0.7922 \n",
       "F-statistic: 14.34 on 2 and 5 DF,  p-value: 0.008489\n"
      ]
     },
     "metadata": {},
     "output_type": "display_data"
    }
   ],
   "source": [
    "ej2<-lm(y~x1+x2)\n",
    "summary(ej2)\n",
    "#deviance(ej2)"
   ]
  },
  {
   "cell_type": "code",
   "execution_count": 12,
   "metadata": {},
   "outputs": [
    {
     "data": {
      "text/html": [
       "<table>\n",
       "<caption>A matrix: 3 × 2 of type dbl</caption>\n",
       "<thead>\n",
       "\t<tr><th></th><th scope=col>2.5 %</th><th scope=col>97.5 %</th></tr>\n",
       "</thead>\n",
       "<tbody>\n",
       "\t<tr><th scope=row>(Intercept)</th><td>-29.41001993</td><td>47.5177197</td></tr>\n",
       "\t<tr><th scope=row>x1</th><td> -0.07522724</td><td> 1.1157852</td></tr>\n",
       "\t<tr><th scope=row>x2</th><td> -0.11435554</td><td> 0.5938483</td></tr>\n",
       "</tbody>\n",
       "</table>\n"
      ],
      "text/latex": [
       "A matrix: 3 × 2 of type dbl\n",
       "\\begin{tabular}{r|ll}\n",
       "  & 2.5 \\% & 97.5 \\%\\\\\n",
       "\\hline\n",
       "\t(Intercept) & -29.41001993 & 47.5177197\\\\\n",
       "\tx1 &  -0.07522724 &  1.1157852\\\\\n",
       "\tx2 &  -0.11435554 &  0.5938483\\\\\n",
       "\\end{tabular}\n"
      ],
      "text/markdown": [
       "\n",
       "A matrix: 3 × 2 of type dbl\n",
       "\n",
       "| <!--/--> | 2.5 % | 97.5 % |\n",
       "|---|---|---|\n",
       "| (Intercept) | -29.41001993 | 47.5177197 |\n",
       "| x1 |  -0.07522724 |  1.1157852 |\n",
       "| x2 |  -0.11435554 |  0.5938483 |\n",
       "\n"
      ],
      "text/plain": [
       "            2.5 %        97.5 %    \n",
       "(Intercept) -29.41001993 47.5177197\n",
       "x1           -0.07522724  1.1157852\n",
       "x2           -0.11435554  0.5938483"
      ]
     },
     "metadata": {},
     "output_type": "display_data"
    }
   ],
   "source": [
    "confint(ej2)"
   ]
  },
  {
   "cell_type": "markdown",
   "metadata": {},
   "source": [
    "# Diagnosis del modelo\n",
    "\n",
    "Independencia de los datos, normalidad de los residuos, "
   ]
  },
  {
   "cell_type": "markdown",
   "metadata": {},
   "source": [
    "#### Independencia\n",
    "Test de Durbin-Watson para el análisis de la correlacion o independencia de los datos. "
   ]
  },
  {
   "cell_type": "code",
   "execution_count": 41,
   "metadata": {},
   "outputs": [
    {
     "data": {
      "text/plain": [
       "\n",
       "\tDurbin-Watson test\n",
       "\n",
       "data:  y ~ x1 + x2\n",
       "DW = 1.9452, p-value = 0.4345\n",
       "alternative hypothesis: true autocorrelation is greater than 0\n"
      ]
     },
     "metadata": {},
     "output_type": "display_data"
    }
   ],
   "source": [
    "# paquete necesario para hacer este test\n",
    "#install.packages(\"lmtest\")\n",
    "#library(lmtest)\n",
    "dwtest(y ~ x1+x2)\n"
   ]
  },
  {
   "cell_type": "markdown",
   "metadata": {},
   "source": [
    "No podemos rechazar la hipótesis nula (datos incorrelados), por tanto aceptamos que no son correctados."
   ]
  },
  {
   "cell_type": "markdown",
   "metadata": {},
   "source": [
    "#### Normalidad \n",
    "\n",
    "Analizamos la normalidad de los residuos (estandarizados)"
   ]
  },
  {
   "cell_type": "code",
   "execution_count": 35,
   "metadata": {},
   "outputs": [
    {
     "data": {
      "text/plain": [
       "\n",
       "\tOne-sample Kolmogorov-Smirnov test\n",
       "\n",
       "data:  res.estan.ej2\n",
       "D = 0.18634, p-value = 0.8993\n",
       "alternative hypothesis: two-sided\n"
      ]
     },
     "metadata": {},
     "output_type": "display_data"
    }
   ],
   "source": [
    "res.estan.ej2<-residuals(ej2)/(summary(ej2)$sig*sqrt(1-influence(ej2)$hat)) \n",
    "ks.test(res.estan.ej2,pnorm,mean(res.estan.ej2),sd(res.estan.ej2))"
   ]
  },
  {
   "cell_type": "markdown",
   "metadata": {},
   "source": [
    "No podemos rechazar la normalidad, por tanto la aceptamos. Dibujamos histograma con respecto a la curva de la distribucion normal"
   ]
  },
  {
   "cell_type": "code",
   "execution_count": 20,
   "metadata": {},
   "outputs": [
    {
     "data": {
      "image/png": "[encoded data removed]",
      "text/plain": [
       "Plot with title “Histogram of res.estan.ej2”"
      ]
     },
     "metadata": {
      "image/png": {
       "height": 420,
       "width": 420
      }
     },
     "output_type": "display_data"
    }
   ],
   "source": [
    "hist(res.estan.ej2, freq = FALSE)\n",
    "curve(dnorm, add = TRUE)"
   ]
  },
  {
   "cell_type": "code",
   "execution_count": 33,
   "metadata": {
    "scrolled": true
   },
   "outputs": [
    {
     "data": {
      "image/png": "[encoded data removed]",
      "text/plain": [
       "Plot with title “Grafico P P”"
      ]
     },
     "metadata": {
      "image/png": {
       "height": 420,
       "width": 420
      }
     },
     "output_type": "display_data"
    }
   ],
   "source": [
    "# El grafico P P tambien puede usarse para analizar la normalidad de los datos\n",
    "dist.prob <- pnorm(res.estan.ej2)\n",
    "plot(ppoints(length(res.estan.ej2)), sort(dist.prob),\n",
    "     main = \"Grafico P P\", xlab = \"Probabilidad Acumulada Esperada\", \n",
    "     ylab = \"Probabilidad Acumulada Esperada\")\n",
    "abline(0,1)"
   ]
  },
  {
   "cell_type": "markdown",
   "metadata": {},
   "source": [
    "La distancia entre la probabilidad observada y la esperada (distribución normal) es pequeñá. Normalidad aceptada. "
   ]
  },
  {
   "cell_type": "markdown",
   "metadata": {},
   "source": [
    "#### Varianza constante\n",
    "\n",
    "Analizamos ahora la hipótesis de varianza constante de los residuos. Dibujamos los residuos y los residuos estandarizados."
   ]
  },
  {
   "cell_type": "code",
   "execution_count": 49,
   "metadata": {},
   "outputs": [
    {
     "data": {
      "image/png": "[encoded data removed]",
      "text/plain": [
       "plot without title"
      ]
     },
     "metadata": {
      "image/png": {
       "height": 420,
       "width": 420
      }
     },
     "output_type": "display_data"
    },
    {
     "data": {
      "image/png": "[encoded data removed]",
      "text/plain": [
       "plot without title"
      ]
     },
     "metadata": {
      "image/png": {
       "height": 420,
       "width": 420
      }
     },
     "output_type": "display_data"
    }
   ],
   "source": [
    "yhat=9.0538 +x1*0.5203+x2*0.2397\n",
    "plot(yhat,residuals(ej2),xlab = \"Residuos\", ylab = \"Valores estimados\")\n",
    "plot(yhat,res.estan.ej2,xlab = \"Residuos estandarizados\", ylab = \"Valores estimados\")"
   ]
  },
  {
   "cell_type": "markdown",
   "metadata": {},
   "source": [
    "#### Valores influyentes\n",
    "\n",
    "Serán candidatos a valor influyente si su valor hat es superior a (p+1)/n=(2+1)/8=0.375"
   ]
  },
  {
   "cell_type": "code",
   "execution_count": 50,
   "metadata": {},
   "outputs": [
    {
     "data": {
      "text/plain": [
       "Influence measures of\n",
       "\t lm(formula = y ~ x1 + x2) :\n",
       "\n",
       "   dfb.1_  dfb.x1    dfb.x2   dffit cov.r  cook.d   hat inf\n",
       "1 -0.5528  0.3144  0.078360 -0.6058 4.472 0.14499 0.627   *\n",
       "2 -0.3042 -0.4012  0.555479 -0.7672 0.939 0.17357 0.263    \n",
       "3 -0.0219  0.4677 -0.474254 -0.6434 1.652 0.14265 0.331    \n",
       "4  0.0241 -0.0322  0.023257  0.1025 2.160 0.00430 0.139    \n",
       "5  1.2417  1.3685 -2.092346  2.5003 0.115 0.84058 0.427   *\n",
       "6  0.2315 -0.2649  0.059281 -0.4016 2.533 0.06287 0.369    \n",
       "7 -0.5008 -0.9315  1.347845  1.5669 0.833 0.61782 0.483   *\n",
       "8  0.0586 -0.0503 -0.000474 -0.0907 3.023 0.00341 0.361   *"
      ]
     },
     "metadata": {},
     "output_type": "display_data"
    }
   ],
   "source": [
    "influence.measures(ej2) "
   ]
  },
  {
   "cell_type": "markdown",
   "metadata": {},
   "source": [
    "En esta tabla los valores 1, 5, 7 y 8 tienen asterisco y por tanto son susceptibles de ser valores influyentes. Observamos que la distancia de cook (cook.d) en estos casos es menor que 1 por tanto concluimos que no hay valores influyentes. Menos aun teniendo en cuenta que hay 8 observaciones."
   ]
  },
  {
   "cell_type": "code",
   "execution_count": null,
   "metadata": {},
   "outputs": [],
   "source": []
  }
 ],
 "metadata": {
  "kernelspec": {
   "display_name": "R",
   "language": "R",
   "name": "ir"
  },
  "language_info": {
   "codemirror_mode": "r",
   "file_extension": ".r",
   "mimetype": "text/x-r-source",
   "name": "R",
   "pygments_lexer": "r",
   "version": "3.6.3"
  }
 },
 "nbformat": 4,
 "nbformat_minor": 2
}
