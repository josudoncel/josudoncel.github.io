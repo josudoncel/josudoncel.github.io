{
 "cells": [
  {
   "cell_type": "code",
   "execution_count": 30,
   "metadata": {},
   "outputs": [
    {
     "data": {
      "text/html": [
       "<table>\n",
       "<caption>A tibble: 31 × 4</caption>\n",
       "<thead>\n",
       "\t<tr><th scope=col>Nota</th><th scope=col>Profesor</th><th scope=col>Z1</th><th scope=col>Z2</th></tr>\n",
       "\t<tr><th scope=col>&lt;dbl&gt;</th><th scope=col>&lt;chr&gt;</th><th scope=col>&lt;dbl+lbl&gt;</th><th scope=col>&lt;dbl+lbl&gt;</th></tr>\n",
       "</thead>\n",
       "<tbody>\n",
       "\t<tr><td>75</td><td>J</td><td>1</td><td>0</td></tr>\n",
       "\t<tr><td>70</td><td>J</td><td>1</td><td>0</td></tr>\n",
       "\t<tr><td>73</td><td>J</td><td>1</td><td>0</td></tr>\n",
       "\t<tr><td>82</td><td>J</td><td>1</td><td>0</td></tr>\n",
       "\t<tr><td>81</td><td>J</td><td>1</td><td>0</td></tr>\n",
       "\t<tr><td>75</td><td>J</td><td>1</td><td>0</td></tr>\n",
       "\t<tr><td>70</td><td>P</td><td>0</td><td>1</td></tr>\n",
       "\t<tr><td>74</td><td>P</td><td>0</td><td>1</td></tr>\n",
       "\t<tr><td>80</td><td>P</td><td>0</td><td>1</td></tr>\n",
       "\t<tr><td>85</td><td>P</td><td>0</td><td>1</td></tr>\n",
       "\t<tr><td>68</td><td>P</td><td>0</td><td>1</td></tr>\n",
       "\t<tr><td>68</td><td>P</td><td>0</td><td>1</td></tr>\n",
       "\t<tr><td>74</td><td>P</td><td>0</td><td>1</td></tr>\n",
       "\t<tr><td>66</td><td>P</td><td>0</td><td>1</td></tr>\n",
       "\t<tr><td>76</td><td>P</td><td>0</td><td>1</td></tr>\n",
       "\t<tr><td>78</td><td>P</td><td>0</td><td>1</td></tr>\n",
       "\t<tr><td>73</td><td>P</td><td>0</td><td>1</td></tr>\n",
       "\t<tr><td>73</td><td>P</td><td>0</td><td>1</td></tr>\n",
       "\t<tr><td>59</td><td>P</td><td>0</td><td>1</td></tr>\n",
       "\t<tr><td>83</td><td>P</td><td>0</td><td>1</td></tr>\n",
       "\t<tr><td>79</td><td>R</td><td>0</td><td>0</td></tr>\n",
       "\t<tr><td>65</td><td>R</td><td>0</td><td>0</td></tr>\n",
       "\t<tr><td>74</td><td>R</td><td>0</td><td>0</td></tr>\n",
       "\t<tr><td>75</td><td>R</td><td>0</td><td>0</td></tr>\n",
       "\t<tr><td>84</td><td>R</td><td>0</td><td>0</td></tr>\n",
       "\t<tr><td>68</td><td>R</td><td>0</td><td>0</td></tr>\n",
       "\t<tr><td>76</td><td>R</td><td>0</td><td>0</td></tr>\n",
       "\t<tr><td>65</td><td>R</td><td>0</td><td>0</td></tr>\n",
       "\t<tr><td>79</td><td>R</td><td>0</td><td>0</td></tr>\n",
       "\t<tr><td>71</td><td>R</td><td>0</td><td>0</td></tr>\n",
       "\t<tr><td>61</td><td>R</td><td>0</td><td>0</td></tr>\n",
       "</tbody>\n",
       "</table>\n"
      ],
      "text/latex": [
       "A tibble: 31 × 4\n",
       "\\begin{tabular}{llll}\n",
       " Nota & Profesor & Z1 & Z2\\\\\n",
       " <dbl> & <chr> & <dbl+lbl> & <dbl+lbl>\\\\\n",
       "\\hline\n",
       "\t 75 & J & 1 & 0\\\\\n",
       "\t 70 & J & 1 & 0\\\\\n",
       "\t 73 & J & 1 & 0\\\\\n",
       "\t 82 & J & 1 & 0\\\\\n",
       "\t 81 & J & 1 & 0\\\\\n",
       "\t 75 & J & 1 & 0\\\\\n",
       "\t 70 & P & 0 & 1\\\\\n",
       "\t 74 & P & 0 & 1\\\\\n",
       "\t 80 & P & 0 & 1\\\\\n",
       "\t 85 & P & 0 & 1\\\\\n",
       "\t 68 & P & 0 & 1\\\\\n",
       "\t 68 & P & 0 & 1\\\\\n",
       "\t 74 & P & 0 & 1\\\\\n",
       "\t 66 & P & 0 & 1\\\\\n",
       "\t 76 & P & 0 & 1\\\\\n",
       "\t 78 & P & 0 & 1\\\\\n",
       "\t 73 & P & 0 & 1\\\\\n",
       "\t 73 & P & 0 & 1\\\\\n",
       "\t 59 & P & 0 & 1\\\\\n",
       "\t 83 & P & 0 & 1\\\\\n",
       "\t 79 & R & 0 & 0\\\\\n",
       "\t 65 & R & 0 & 0\\\\\n",
       "\t 74 & R & 0 & 0\\\\\n",
       "\t 75 & R & 0 & 0\\\\\n",
       "\t 84 & R & 0 & 0\\\\\n",
       "\t 68 & R & 0 & 0\\\\\n",
       "\t 76 & R & 0 & 0\\\\\n",
       "\t 65 & R & 0 & 0\\\\\n",
       "\t 79 & R & 0 & 0\\\\\n",
       "\t 71 & R & 0 & 0\\\\\n",
       "\t 61 & R & 0 & 0\\\\\n",
       "\\end{tabular}\n"
      ],
      "text/markdown": [
       "\n",
       "A tibble: 31 × 4\n",
       "\n",
       "| Nota &lt;dbl&gt; | Profesor &lt;chr&gt; | Z1 &lt;dbl+lbl&gt; | Z2 &lt;dbl+lbl&gt; |\n",
       "|---|---|---|---|\n",
       "| 75 | J | 1 | 0 |\n",
       "| 70 | J | 1 | 0 |\n",
       "| 73 | J | 1 | 0 |\n",
       "| 82 | J | 1 | 0 |\n",
       "| 81 | J | 1 | 0 |\n",
       "| 75 | J | 1 | 0 |\n",
       "| 70 | P | 0 | 1 |\n",
       "| 74 | P | 0 | 1 |\n",
       "| 80 | P | 0 | 1 |\n",
       "| 85 | P | 0 | 1 |\n",
       "| 68 | P | 0 | 1 |\n",
       "| 68 | P | 0 | 1 |\n",
       "| 74 | P | 0 | 1 |\n",
       "| 66 | P | 0 | 1 |\n",
       "| 76 | P | 0 | 1 |\n",
       "| 78 | P | 0 | 1 |\n",
       "| 73 | P | 0 | 1 |\n",
       "| 73 | P | 0 | 1 |\n",
       "| 59 | P | 0 | 1 |\n",
       "| 83 | P | 0 | 1 |\n",
       "| 79 | R | 0 | 0 |\n",
       "| 65 | R | 0 | 0 |\n",
       "| 74 | R | 0 | 0 |\n",
       "| 75 | R | 0 | 0 |\n",
       "| 84 | R | 0 | 0 |\n",
       "| 68 | R | 0 | 0 |\n",
       "| 76 | R | 0 | 0 |\n",
       "| 65 | R | 0 | 0 |\n",
       "| 79 | R | 0 | 0 |\n",
       "| 71 | R | 0 | 0 |\n",
       "| 61 | R | 0 | 0 |\n",
       "\n"
      ],
      "text/plain": [
       "   Nota Profesor Z1 Z2\n",
       "1  75   J        1  0 \n",
       "2  70   J        1  0 \n",
       "3  73   J        1  0 \n",
       "4  82   J        1  0 \n",
       "5  81   J        1  0 \n",
       "6  75   J        1  0 \n",
       "7  70   P        0  1 \n",
       "8  74   P        0  1 \n",
       "9  80   P        0  1 \n",
       "10 85   P        0  1 \n",
       "11 68   P        0  1 \n",
       "12 68   P        0  1 \n",
       "13 74   P        0  1 \n",
       "14 66   P        0  1 \n",
       "15 76   P        0  1 \n",
       "16 78   P        0  1 \n",
       "17 73   P        0  1 \n",
       "18 73   P        0  1 \n",
       "19 59   P        0  1 \n",
       "20 83   P        0  1 \n",
       "21 79   R        0  0 \n",
       "22 65   R        0  0 \n",
       "23 74   R        0  0 \n",
       "24 75   R        0  0 \n",
       "25 84   R        0  0 \n",
       "26 68   R        0  0 \n",
       "27 76   R        0  0 \n",
       "28 65   R        0  0 \n",
       "29 79   R        0  0 \n",
       "30 71   R        0  0 \n",
       "31 61   R        0  0 "
      ]
     },
     "metadata": {},
     "output_type": "display_data"
    }
   ],
   "source": [
    "require(\"haven\")\n",
    "datos_notas <- read_spss(\"Notas.sav\")\n",
    "datos_notas"
   ]
  },
  {
   "cell_type": "code",
   "execution_count": 12,
   "metadata": {},
   "outputs": [
    {
     "data": {
      "text/plain": [
       "\n",
       "Call:\n",
       "lm(formula = nota ~ profesor)\n",
       "\n",
       "Residuals:\n",
       "     Min       1Q   Median       3Q      Max \n",
       "-14.3571  -4.9058  -0.3571   4.8214  11.6429 \n",
       "\n",
       "Coefficients:\n",
       "            Estimate Std. Error t value Pr(>|t|)    \n",
       "(Intercept)   76.000      2.721  27.930   <2e-16 ***\n",
       "profesorP     -2.643      3.252  -0.813    0.423    \n",
       "profesorR     -3.545      3.383  -1.048    0.304    \n",
       "---\n",
       "Signif. codes:  0 ‘***’ 0.001 ‘**’ 0.01 ‘*’ 0.05 ‘.’ 0.1 ‘ ’ 1\n",
       "\n",
       "Residual standard error: 6.665 on 28 degrees of freedom\n",
       "Multiple R-squared:  0.03845,\tAdjusted R-squared:  -0.03024 \n",
       "F-statistic: 0.5598 on 2 and 28 DF,  p-value: 0.5776\n"
      ]
     },
     "metadata": {},
     "output_type": "display_data"
    }
   ],
   "source": [
    "nota <- datos_notas$Nota\n",
    "profesor <- datos_notas$Profesor\n",
    "summary(lm(nota~profesor))"
   ]
  },
  {
   "cell_type": "markdown",
   "metadata": {},
   "source": [
    "Creamos dos variables indicador: \n",
    "\n",
    "$z_{1}$: que vale uno si profesor=Patricia y zero en el resto de casos\n",
    "\n",
    "$z_{2}$: que vale uno si profesor=Roberto y zero en el resto de casos\n",
    "\n",
    "Si llamamos y a la variable de la nota obtenida, la ecuación del modelo es la siguiente:\n",
    "\n",
    "$$\n",
    "\\hat{y} = 76 - 2.643 z_1 - 3.545 z_2\n",
    "$$"
   ]
  },
  {
   "cell_type": "code",
   "execution_count": 31,
   "metadata": {},
   "outputs": [
    {
     "data": {
      "text/plain": [
       "\n",
       "Call:\n",
       "lm(formula = nota ~ profesor2)\n",
       "\n",
       "Residuals:\n",
       "     Min       1Q   Median       3Q      Max \n",
       "-14.3571  -4.9058  -0.3571   4.8214  11.6429 \n",
       "\n",
       "Coefficients:\n",
       "            Estimate Std. Error t value Pr(>|t|)    \n",
       "(Intercept)  73.3571     1.7814  41.180   <2e-16 ***\n",
       "profesor2R   -0.9026     2.6855  -0.336    0.739    \n",
       "profesor2J    2.6429     3.2523   0.813    0.423    \n",
       "---\n",
       "Signif. codes:  0 ‘***’ 0.001 ‘**’ 0.01 ‘*’ 0.05 ‘.’ 0.1 ‘ ’ 1\n",
       "\n",
       "Residual standard error: 6.665 on 28 degrees of freedom\n",
       "Multiple R-squared:  0.03845,\tAdjusted R-squared:  -0.03024 \n",
       "F-statistic: 0.5598 on 2 and 28 DF,  p-value: 0.5776\n"
      ]
     },
     "metadata": {},
     "output_type": "display_data"
    }
   ],
   "source": [
    "# estimamos la nota esperada de cada clase:\n",
    "# Jon: 76, Patricia: 76-2.643=73.357, Roberto=76-3.545=72.455\n",
    "\n",
    "#cambiamos el grupo de referencia al de Patricia\n",
    "profesor2 <- relevel(as.factor(profesor), \"P\")\n",
    "summary(lm(nota~profesor2))\n"
   ]
  },
  {
   "cell_type": "code",
   "execution_count": null,
   "metadata": {},
   "outputs": [],
   "source": []
  }
 ],
 "metadata": {
  "kernelspec": {
   "display_name": "R",
   "language": "R",
   "name": "ir"
  },
  "language_info": {
   "codemirror_mode": "r",
   "file_extension": ".r",
   "mimetype": "text/x-r-source",
   "name": "R",
   "pygments_lexer": "r",
   "version": "3.6.3"
  }
 },
 "nbformat": 4,
 "nbformat_minor": 4
}
