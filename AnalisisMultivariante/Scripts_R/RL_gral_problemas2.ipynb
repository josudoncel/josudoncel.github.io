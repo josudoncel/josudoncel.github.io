{
 "cells": [
  {
   "cell_type": "code",
   "execution_count": 5,
   "metadata": {},
   "outputs": [
    {
     "data": {
      "text/html": [
       "<table>\n",
       "<caption>A tibble: 20 × 5</caption>\n",
       "<thead>\n",
       "\t<tr><th scope=col>extru</th><th scope=col>aditivo</th><th scope=col>resist</th><th scope=col>opaci</th><th scope=col>brillo</th></tr>\n",
       "\t<tr><th scope=col>&lt;dbl&gt;</th><th scope=col>&lt;dbl&gt;</th><th scope=col>&lt;dbl&gt;</th><th scope=col>&lt;dbl&gt;</th><th scope=col>&lt;dbl&gt;</th></tr>\n",
       "</thead>\n",
       "<tbody>\n",
       "\t<tr><td>1</td><td>1</td><td>6.5</td><td>4.4</td><td> 9.5</td></tr>\n",
       "\t<tr><td>1</td><td>1</td><td>6.2</td><td>6.4</td><td> 9.9</td></tr>\n",
       "\t<tr><td>1</td><td>1</td><td>5.8</td><td>3.0</td><td> 9.6</td></tr>\n",
       "\t<tr><td>1</td><td>1</td><td>6.5</td><td>4.1</td><td> 9.6</td></tr>\n",
       "\t<tr><td>1</td><td>1</td><td>6.5</td><td>0.8</td><td> 9.2</td></tr>\n",
       "\t<tr><td>1</td><td>2</td><td>6.9</td><td>5.7</td><td> 9.1</td></tr>\n",
       "\t<tr><td>1</td><td>2</td><td>7.2</td><td>2.0</td><td>10.0</td></tr>\n",
       "\t<tr><td>1</td><td>2</td><td>6.9</td><td>3.9</td><td> 9.9</td></tr>\n",
       "\t<tr><td>1</td><td>2</td><td>6.1</td><td>1.9</td><td> 9.5</td></tr>\n",
       "\t<tr><td>1</td><td>2</td><td>6.3</td><td>5.7</td><td> 9.4</td></tr>\n",
       "\t<tr><td>2</td><td>1</td><td>6.7</td><td>2.8</td><td> 9.1</td></tr>\n",
       "\t<tr><td>2</td><td>1</td><td>6.6</td><td>4.1</td><td> 9.3</td></tr>\n",
       "\t<tr><td>2</td><td>1</td><td>7.2</td><td>3.8</td><td> 8.3</td></tr>\n",
       "\t<tr><td>2</td><td>1</td><td>7.1</td><td>1.6</td><td> 8.4</td></tr>\n",
       "\t<tr><td>2</td><td>1</td><td>6.8</td><td>3.4</td><td> 8.5</td></tr>\n",
       "\t<tr><td>2</td><td>2</td><td>7.1</td><td>8.4</td><td> 9.2</td></tr>\n",
       "\t<tr><td>2</td><td>2</td><td>7.0</td><td>5.2</td><td> 8.8</td></tr>\n",
       "\t<tr><td>2</td><td>2</td><td>7.2</td><td>6.9</td><td> 9.7</td></tr>\n",
       "\t<tr><td>2</td><td>2</td><td>7.5</td><td>2.7</td><td>10.1</td></tr>\n",
       "\t<tr><td>2</td><td>2</td><td>7.6</td><td>1.9</td><td> 9.2</td></tr>\n",
       "</tbody>\n",
       "</table>\n"
      ],
      "text/latex": [
       "A tibble: 20 × 5\n",
       "\\begin{tabular}{lllll}\n",
       " extru & aditivo & resist & opaci & brillo\\\\\n",
       " <dbl> & <dbl> & <dbl> & <dbl> & <dbl>\\\\\n",
       "\\hline\n",
       "\t 1 & 1 & 6.5 & 4.4 &  9.5\\\\\n",
       "\t 1 & 1 & 6.2 & 6.4 &  9.9\\\\\n",
       "\t 1 & 1 & 5.8 & 3.0 &  9.6\\\\\n",
       "\t 1 & 1 & 6.5 & 4.1 &  9.6\\\\\n",
       "\t 1 & 1 & 6.5 & 0.8 &  9.2\\\\\n",
       "\t 1 & 2 & 6.9 & 5.7 &  9.1\\\\\n",
       "\t 1 & 2 & 7.2 & 2.0 & 10.0\\\\\n",
       "\t 1 & 2 & 6.9 & 3.9 &  9.9\\\\\n",
       "\t 1 & 2 & 6.1 & 1.9 &  9.5\\\\\n",
       "\t 1 & 2 & 6.3 & 5.7 &  9.4\\\\\n",
       "\t 2 & 1 & 6.7 & 2.8 &  9.1\\\\\n",
       "\t 2 & 1 & 6.6 & 4.1 &  9.3\\\\\n",
       "\t 2 & 1 & 7.2 & 3.8 &  8.3\\\\\n",
       "\t 2 & 1 & 7.1 & 1.6 &  8.4\\\\\n",
       "\t 2 & 1 & 6.8 & 3.4 &  8.5\\\\\n",
       "\t 2 & 2 & 7.1 & 8.4 &  9.2\\\\\n",
       "\t 2 & 2 & 7.0 & 5.2 &  8.8\\\\\n",
       "\t 2 & 2 & 7.2 & 6.9 &  9.7\\\\\n",
       "\t 2 & 2 & 7.5 & 2.7 & 10.1\\\\\n",
       "\t 2 & 2 & 7.6 & 1.9 &  9.2\\\\\n",
       "\\end{tabular}\n"
      ],
      "text/markdown": [
       "\n",
       "A tibble: 20 × 5\n",
       "\n",
       "| extru &lt;dbl&gt; | aditivo &lt;dbl&gt; | resist &lt;dbl&gt; | opaci &lt;dbl&gt; | brillo &lt;dbl&gt; |\n",
       "|---|---|---|---|---|\n",
       "| 1 | 1 | 6.5 | 4.4 |  9.5 |\n",
       "| 1 | 1 | 6.2 | 6.4 |  9.9 |\n",
       "| 1 | 1 | 5.8 | 3.0 |  9.6 |\n",
       "| 1 | 1 | 6.5 | 4.1 |  9.6 |\n",
       "| 1 | 1 | 6.5 | 0.8 |  9.2 |\n",
       "| 1 | 2 | 6.9 | 5.7 |  9.1 |\n",
       "| 1 | 2 | 7.2 | 2.0 | 10.0 |\n",
       "| 1 | 2 | 6.9 | 3.9 |  9.9 |\n",
       "| 1 | 2 | 6.1 | 1.9 |  9.5 |\n",
       "| 1 | 2 | 6.3 | 5.7 |  9.4 |\n",
       "| 2 | 1 | 6.7 | 2.8 |  9.1 |\n",
       "| 2 | 1 | 6.6 | 4.1 |  9.3 |\n",
       "| 2 | 1 | 7.2 | 3.8 |  8.3 |\n",
       "| 2 | 1 | 7.1 | 1.6 |  8.4 |\n",
       "| 2 | 1 | 6.8 | 3.4 |  8.5 |\n",
       "| 2 | 2 | 7.1 | 8.4 |  9.2 |\n",
       "| 2 | 2 | 7.0 | 5.2 |  8.8 |\n",
       "| 2 | 2 | 7.2 | 6.9 |  9.7 |\n",
       "| 2 | 2 | 7.5 | 2.7 | 10.1 |\n",
       "| 2 | 2 | 7.6 | 1.9 |  9.2 |\n",
       "\n"
      ],
      "text/plain": [
       "   extru aditivo resist opaci brillo\n",
       "1  1     1       6.5    4.4    9.5  \n",
       "2  1     1       6.2    6.4    9.9  \n",
       "3  1     1       5.8    3.0    9.6  \n",
       "4  1     1       6.5    4.1    9.6  \n",
       "5  1     1       6.5    0.8    9.2  \n",
       "6  1     2       6.9    5.7    9.1  \n",
       "7  1     2       7.2    2.0   10.0  \n",
       "8  1     2       6.9    3.9    9.9  \n",
       "9  1     2       6.1    1.9    9.5  \n",
       "10 1     2       6.3    5.7    9.4  \n",
       "11 2     1       6.7    2.8    9.1  \n",
       "12 2     1       6.6    4.1    9.3  \n",
       "13 2     1       7.2    3.8    8.3  \n",
       "14 2     1       7.1    1.6    8.4  \n",
       "15 2     1       6.8    3.4    8.5  \n",
       "16 2     2       7.1    8.4    9.2  \n",
       "17 2     2       7.0    5.2    8.8  \n",
       "18 2     2       7.2    6.9    9.7  \n",
       "19 2     2       7.5    2.7   10.1  \n",
       "20 2     2       7.6    1.9    9.2  "
      ]
     },
     "metadata": {},
     "output_type": "display_data"
    }
   ],
   "source": [
    "require(\"haven\")\n",
    "datos <- read_spss(\"Brillo_Resist_Opac.sav\")\n",
    "datos"
   ]
  },
  {
   "cell_type": "code",
   "execution_count": 10,
   "metadata": {},
   "outputs": [
    {
     "data": {
      "text/plain": [
       "\n",
       "Call:\n",
       "lm(formula = opa ~ ext + adi)\n",
       "\n",
       "Residuals:\n",
       "   Min     1Q Median     3Q    Max \n",
       "-2.675 -1.903  0.015  1.183  3.825 \n",
       "\n",
       "Coefficients:\n",
       "            Estimate Std. Error t value Pr(>|t|)\n",
       "(Intercept)   2.0150     1.9620   1.027    0.319\n",
       "ext           0.2900     0.9002   0.322    0.751\n",
       "adi           0.9900     0.9002   1.100    0.287\n",
       "\n",
       "Residual standard error: 2.013 on 17 degrees of freedom\n",
       "Multiple R-squared:  0.07171,\tAdjusted R-squared:  -0.0375 \n",
       "F-statistic: 0.6566 on 2 and 17 DF,  p-value: 0.5313\n"
      ]
     },
     "metadata": {},
     "output_type": "display_data"
    }
   ],
   "source": [
    "# apartado a)\n",
    "res <- datos$resist\n",
    "opa <- datos$opaci\n",
    "bri <- datos$brillo\n",
    "ext <- datos$extru\n",
    "adi <- datos$aditivo\n",
    "reg <- lm(opa~ext+adi)\n",
    "summary(reg)\n",
    "# no tienen influencia significativa ni individualmente ni \n",
    "#    conjuntamente"
   ]
  },
  {
   "cell_type": "code",
   "execution_count": 28,
   "metadata": {},
   "outputs": [
    {
     "data": {
      "text/plain": [
       "\n",
       "Call:\n",
       "lm(formula = res ~ ext + adi)\n",
       "\n",
       "Residuals:\n",
       "    Min      1Q  Median      3Q     Max \n",
       "-0.5850 -0.2075  0.0650  0.2150  0.5150 \n",
       "\n",
       "Coefficients:\n",
       "            Estimate Std. Error t value Pr(>|t|)    \n",
       "(Intercept)   5.3150     0.3140  16.926 4.49e-12 ***\n",
       "ext           0.5900     0.1441   4.095 0.000755 ***\n",
       "adi           0.3900     0.1441   2.707 0.014960 *  \n",
       "---\n",
       "Signif. codes:  0 ‘***’ 0.001 ‘**’ 0.01 ‘*’ 0.05 ‘.’ 0.1 ‘ ’ 1\n",
       "\n",
       "Residual standard error: 0.3222 on 17 degrees of freedom\n",
       "Multiple R-squared:  0.5863,\tAdjusted R-squared:  0.5377 \n",
       "F-statistic: 12.05 on 2 and 17 DF,  p-value: 0.0005515\n"
      ]
     },
     "metadata": {},
     "output_type": "display_data"
    }
   ],
   "source": [
    "# apartado b)\n",
    "reg2 <- lm(res~ext+adi)\n",
    "summary(reg2)\n",
    "# si tienen influencia significativa conjuntamente (p.valor 0.0005515)"
   ]
  },
  {
   "cell_type": "code",
   "execution_count": 26,
   "metadata": {},
   "outputs": [
    {
     "data": {
      "text/plain": [
       "\n",
       "Call:\n",
       "lm(formula = res ~ ext + adi + ext * adi)\n",
       "\n",
       "Residuals:\n",
       "   Min     1Q Median     3Q    Max \n",
       "-0.580 -0.205  0.060  0.220  0.520 \n",
       "\n",
       "Coefficients:\n",
       "            Estimate Std. Error t value Pr(>|t|)    \n",
       "(Intercept)   5.3600     0.7425   7.219 2.05e-06 ***\n",
       "ext           0.5600     0.4696   1.193    0.250    \n",
       "adi           0.3600     0.4696   0.767    0.454    \n",
       "ext:adi       0.0200     0.2970   0.067    0.947    \n",
       "---\n",
       "Signif. codes:  0 ‘***’ 0.001 ‘**’ 0.01 ‘*’ 0.05 ‘.’ 0.1 ‘ ’ 1\n",
       "\n",
       "Residual standard error: 0.332 on 16 degrees of freedom\n",
       "Multiple R-squared:  0.5864,\tAdjusted R-squared:  0.5089 \n",
       "F-statistic: 7.563 on 3 and 16 DF,  p-value: 0.00227\n"
      ]
     },
     "metadata": {},
     "output_type": "display_data"
    },
    {
     "data": {
      "text/html": [
       "<table>\n",
       "<caption>A anova: 2 × 6</caption>\n",
       "<thead>\n",
       "\t<tr><th></th><th scope=col>Res.Df</th><th scope=col>RSS</th><th scope=col>Df</th><th scope=col>Sum of Sq</th><th scope=col>F</th><th scope=col>Pr(&gt;F)</th></tr>\n",
       "\t<tr><th></th><th scope=col>&lt;dbl&gt;</th><th scope=col>&lt;dbl&gt;</th><th scope=col>&lt;dbl&gt;</th><th scope=col>&lt;dbl&gt;</th><th scope=col>&lt;dbl&gt;</th><th scope=col>&lt;dbl&gt;</th></tr>\n",
       "</thead>\n",
       "<tbody>\n",
       "\t<tr><th scope=row>1</th><td>16</td><td>1.7640</td><td>NA</td><td>    NA</td><td>         NA</td><td>       NA</td></tr>\n",
       "\t<tr><th scope=row>2</th><td>17</td><td>1.7645</td><td>-1</td><td>-5e-04</td><td>0.004535147</td><td>0.9471426</td></tr>\n",
       "</tbody>\n",
       "</table>\n"
      ],
      "text/latex": [
       "A anova: 2 × 6\n",
       "\\begin{tabular}{r|llllll}\n",
       "  & Res.Df & RSS & Df & Sum of Sq & F & Pr(>F)\\\\\n",
       "  & <dbl> & <dbl> & <dbl> & <dbl> & <dbl> & <dbl>\\\\\n",
       "\\hline\n",
       "\t1 & 16 & 1.7640 & NA &     NA &          NA &        NA\\\\\n",
       "\t2 & 17 & 1.7645 & -1 & -5e-04 & 0.004535147 & 0.9471426\\\\\n",
       "\\end{tabular}\n"
      ],
      "text/markdown": [
       "\n",
       "A anova: 2 × 6\n",
       "\n",
       "| <!--/--> | Res.Df &lt;dbl&gt; | RSS &lt;dbl&gt; | Df &lt;dbl&gt; | Sum of Sq &lt;dbl&gt; | F &lt;dbl&gt; | Pr(&gt;F) &lt;dbl&gt; |\n",
       "|---|---|---|---|---|---|---|\n",
       "| 1 | 16 | 1.7640 | NA |     NA |          NA |        NA |\n",
       "| 2 | 17 | 1.7645 | -1 | -5e-04 | 0.004535147 | 0.9471426 |\n",
       "\n"
      ],
      "text/plain": [
       "  Res.Df RSS    Df Sum of Sq F           Pr(>F)   \n",
       "1 16     1.7640 NA     NA             NA        NA\n",
       "2 17     1.7645 -1 -5e-04    0.004535147 0.9471426"
      ]
     },
     "metadata": {},
     "output_type": "display_data"
    }
   ],
   "source": [
    "# apartado b3)\n",
    "reg3 <- lm(res~ext+adi+ext*adi)\n",
    "summary(reg3)\n",
    "anova(reg3,reg2)\n",
    "# de acuerdo a este test (anidados), nos quedamos con reg2 \n",
    "#  (observese que p-valor de la ANOVA es grande)"
   ]
  },
  {
   "cell_type": "markdown",
   "metadata": {},
   "source": [
    "El modelo elegido es \n",
    "\n",
    "$$\n",
    "\\hat{y} = 5.3150 + 0.5900 z_{11} + 0.3900 z_{21}\n",
    "$$\n",
    "donde $y$ es la resistencia y las variables indicador son las siguientes:\n",
    "\n",
    "* $z_{11} = 1$ si extru = 1 y zero en otro caso\n",
    "\n",
    "* $z_{21} = 1$ si aditivo = 1 y zero en otro caso\n",
    "\n",
    "Nota: apartados b1) y b2) ya respondidos con lo escrito ahora mismo"
   ]
  },
  {
   "cell_type": "code",
   "execution_count": 24,
   "metadata": {},
   "outputs": [
    {
     "data": {
      "text/plain": [
       "\n",
       "Call:\n",
       "lm(formula = bri ~ ext + adi)\n",
       "\n",
       "Residuals:\n",
       "   Min     1Q Median     3Q    Max \n",
       "-0.645 -0.355  0.035  0.225  0.865 \n",
       "\n",
       "Coefficients:\n",
       "            Estimate Std. Error t value Pr(>|t|)    \n",
       "(Intercept)   9.5550     0.4211  22.693 3.76e-14 ***\n",
       "ext          -0.5100     0.1932  -2.640   0.0172 *  \n",
       "adi           0.3500     0.1932   1.812   0.0877 .  \n",
       "---\n",
       "Signif. codes:  0 ‘***’ 0.001 ‘**’ 0.01 ‘*’ 0.05 ‘.’ 0.1 ‘ ’ 1\n",
       "\n",
       "Residual standard error: 0.432 on 17 degrees of freedom\n",
       "Multiple R-squared:  0.3762,\tAdjusted R-squared:  0.3028 \n",
       "F-statistic: 5.125 on 2 and 17 DF,  p-value: 0.01812\n"
      ]
     },
     "metadata": {},
     "output_type": "display_data"
    }
   ],
   "source": [
    "# apartado c)\n",
    "reg4 <- lm(bri~ext+adi)\n",
    "summary(reg4)\n",
    "# si tienen influencia estadisticamente significativa conjuntamente \n",
    "#    ya que el p-valor del contraste F es 0.01812."
   ]
  },
  {
   "cell_type": "code",
   "execution_count": null,
   "metadata": {},
   "outputs": [],
   "source": []
  }
 ],
 "metadata": {
  "kernelspec": {
   "display_name": "R",
   "language": "R",
   "name": "ir"
  },
  "language_info": {
   "codemirror_mode": "r",
   "file_extension": ".r",
   "mimetype": "text/x-r-source",
   "name": "R",
   "pygments_lexer": "r",
   "version": "3.6.3"
  }
 },
 "nbformat": 4,
 "nbformat_minor": 4
}
