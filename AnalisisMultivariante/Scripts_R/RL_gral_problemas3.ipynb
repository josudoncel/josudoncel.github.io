{
 "cells": [
  {
   "cell_type": "code",
   "execution_count": 1,
   "metadata": {},
   "outputs": [
    {
     "name": "stderr",
     "output_type": "stream",
     "text": [
      "Loading required package: haven\n",
      "\n"
     ]
    },
    {
     "data": {
      "text/html": [
       "<table>\n",
       "<caption>A tibble: 29 × 3</caption>\n",
       "<thead>\n",
       "\t<tr><th scope=col>PesoX</th><th scope=col>DietaZ</th><th scope=col>AbsorciónY</th></tr>\n",
       "\t<tr><th scope=col>&lt;dbl&gt;</th><th scope=col>&lt;chr&gt;</th><th scope=col>&lt;dbl&gt;</th></tr>\n",
       "</thead>\n",
       "<tbody>\n",
       "\t<tr><td>3</td><td>a</td><td>13</td></tr>\n",
       "\t<tr><td>3</td><td>b</td><td>16</td></tr>\n",
       "\t<tr><td>2</td><td>a</td><td>12</td></tr>\n",
       "\t<tr><td>2</td><td>a</td><td>11</td></tr>\n",
       "\t<tr><td>3</td><td>b</td><td>16</td></tr>\n",
       "\t<tr><td>4</td><td>a</td><td>12</td></tr>\n",
       "\t<tr><td>4</td><td>b</td><td>16</td></tr>\n",
       "\t<tr><td>1</td><td>a</td><td>12</td></tr>\n",
       "\t<tr><td>1</td><td>a</td><td>10</td></tr>\n",
       "\t<tr><td>3</td><td>b</td><td>14</td></tr>\n",
       "\t<tr><td>4</td><td>a</td><td>12</td></tr>\n",
       "\t<tr><td>5</td><td>b</td><td>18</td></tr>\n",
       "\t<tr><td>1</td><td>a</td><td>12</td></tr>\n",
       "\t<tr><td>2</td><td>b</td><td>16</td></tr>\n",
       "\t<tr><td>2</td><td>b</td><td>14</td></tr>\n",
       "\t<tr><td>5</td><td>b</td><td>17</td></tr>\n",
       "\t<tr><td>4</td><td>a</td><td>14</td></tr>\n",
       "\t<tr><td>1</td><td>a</td><td>12</td></tr>\n",
       "\t<tr><td>3</td><td>b</td><td>16</td></tr>\n",
       "\t<tr><td>5</td><td>b</td><td>17</td></tr>\n",
       "\t<tr><td>3</td><td>a</td><td>11</td></tr>\n",
       "\t<tr><td>2</td><td>b</td><td>16</td></tr>\n",
       "\t<tr><td>4</td><td>a</td><td>11</td></tr>\n",
       "\t<tr><td>2</td><td>b</td><td>15</td></tr>\n",
       "\t<tr><td>4</td><td>a</td><td>12</td></tr>\n",
       "\t<tr><td>2</td><td>b</td><td>15</td></tr>\n",
       "\t<tr><td>3</td><td>b</td><td>18</td></tr>\n",
       "\t<tr><td>4</td><td>a</td><td>11</td></tr>\n",
       "\t<tr><td>1</td><td>a</td><td>10</td></tr>\n",
       "</tbody>\n",
       "</table>\n"
      ],
      "text/latex": [
       "A tibble: 29 × 3\n",
       "\\begin{tabular}{lll}\n",
       " PesoX & DietaZ & AbsorciónY\\\\\n",
       " <dbl> & <chr> & <dbl>\\\\\n",
       "\\hline\n",
       "\t 3 & a & 13\\\\\n",
       "\t 3 & b & 16\\\\\n",
       "\t 2 & a & 12\\\\\n",
       "\t 2 & a & 11\\\\\n",
       "\t 3 & b & 16\\\\\n",
       "\t 4 & a & 12\\\\\n",
       "\t 4 & b & 16\\\\\n",
       "\t 1 & a & 12\\\\\n",
       "\t 1 & a & 10\\\\\n",
       "\t 3 & b & 14\\\\\n",
       "\t 4 & a & 12\\\\\n",
       "\t 5 & b & 18\\\\\n",
       "\t 1 & a & 12\\\\\n",
       "\t 2 & b & 16\\\\\n",
       "\t 2 & b & 14\\\\\n",
       "\t 5 & b & 17\\\\\n",
       "\t 4 & a & 14\\\\\n",
       "\t 1 & a & 12\\\\\n",
       "\t 3 & b & 16\\\\\n",
       "\t 5 & b & 17\\\\\n",
       "\t 3 & a & 11\\\\\n",
       "\t 2 & b & 16\\\\\n",
       "\t 4 & a & 11\\\\\n",
       "\t 2 & b & 15\\\\\n",
       "\t 4 & a & 12\\\\\n",
       "\t 2 & b & 15\\\\\n",
       "\t 3 & b & 18\\\\\n",
       "\t 4 & a & 11\\\\\n",
       "\t 1 & a & 10\\\\\n",
       "\\end{tabular}\n"
      ],
      "text/markdown": [
       "\n",
       "A tibble: 29 × 3\n",
       "\n",
       "| PesoX &lt;dbl&gt; | DietaZ &lt;chr&gt; | AbsorciónY &lt;dbl&gt; |\n",
       "|---|---|---|\n",
       "| 3 | a | 13 |\n",
       "| 3 | b | 16 |\n",
       "| 2 | a | 12 |\n",
       "| 2 | a | 11 |\n",
       "| 3 | b | 16 |\n",
       "| 4 | a | 12 |\n",
       "| 4 | b | 16 |\n",
       "| 1 | a | 12 |\n",
       "| 1 | a | 10 |\n",
       "| 3 | b | 14 |\n",
       "| 4 | a | 12 |\n",
       "| 5 | b | 18 |\n",
       "| 1 | a | 12 |\n",
       "| 2 | b | 16 |\n",
       "| 2 | b | 14 |\n",
       "| 5 | b | 17 |\n",
       "| 4 | a | 14 |\n",
       "| 1 | a | 12 |\n",
       "| 3 | b | 16 |\n",
       "| 5 | b | 17 |\n",
       "| 3 | a | 11 |\n",
       "| 2 | b | 16 |\n",
       "| 4 | a | 11 |\n",
       "| 2 | b | 15 |\n",
       "| 4 | a | 12 |\n",
       "| 2 | b | 15 |\n",
       "| 3 | b | 18 |\n",
       "| 4 | a | 11 |\n",
       "| 1 | a | 10 |\n",
       "\n"
      ],
      "text/plain": [
       "   PesoX DietaZ AbsorciónY\n",
       "1  3     a      13        \n",
       "2  3     b      16        \n",
       "3  2     a      12        \n",
       "4  2     a      11        \n",
       "5  3     b      16        \n",
       "6  4     a      12        \n",
       "7  4     b      16        \n",
       "8  1     a      12        \n",
       "9  1     a      10        \n",
       "10 3     b      14        \n",
       "11 4     a      12        \n",
       "12 5     b      18        \n",
       "13 1     a      12        \n",
       "14 2     b      16        \n",
       "15 2     b      14        \n",
       "16 5     b      17        \n",
       "17 4     a      14        \n",
       "18 1     a      12        \n",
       "19 3     b      16        \n",
       "20 5     b      17        \n",
       "21 3     a      11        \n",
       "22 2     b      16        \n",
       "23 4     a      11        \n",
       "24 2     b      15        \n",
       "25 4     a      12        \n",
       "26 2     b      15        \n",
       "27 3     b      18        \n",
       "28 4     a      11        \n",
       "29 1     a      10        "
      ]
     },
     "metadata": {},
     "output_type": "display_data"
    }
   ],
   "source": [
    "require(\"haven\")\n",
    "datos_dieta <- read_spss(\"Dieta.sav\")\n",
    "datos_dieta"
   ]
  },
  {
   "cell_type": "code",
   "execution_count": 6,
   "metadata": {
    "scrolled": true
   },
   "outputs": [
    {
     "data": {
      "text/plain": [
       "\n",
       "Call:\n",
       "lm(formula = absor ~ peso + diet)\n",
       "\n",
       "Residuals:\n",
       "     Min       1Q   Median       3Q      Max \n",
       "-1.93734 -0.49868  0.06266  0.59653  2.06266 \n",
       "\n",
       "Coefficients:\n",
       "            Estimate Std. Error t value Pr(>|t|)    \n",
       "(Intercept)  10.5262     0.4809  21.887  < 2e-16 ***\n",
       "peso          0.4387     0.1548   2.833  0.00879 ** \n",
       "dietb         4.0952     0.3879  10.557 6.77e-11 ***\n",
       "---\n",
       "Signif. codes:  0 ‘***’ 0.001 ‘**’ 0.01 ‘*’ 0.05 ‘.’ 0.1 ‘ ’ 1\n",
       "\n",
       "Residual standard error: 1.019 on 26 degrees of freedom\n",
       "Multiple R-squared:  0.8424,\tAdjusted R-squared:  0.8303 \n",
       "F-statistic: 69.49 on 2 and 26 DF,  p-value: 3.701e-11\n"
      ]
     },
     "metadata": {},
     "output_type": "display_data"
    },
    {
     "data": {
      "text/plain": [
       "\n",
       "Call:\n",
       "lm(formula = absor ~ peso + diet + peso * diet)\n",
       "\n",
       "Residuals:\n",
       "     Min       1Q   Median       3Q      Max \n",
       "-1.90323 -0.58065 -0.04948  0.77083  2.09677 \n",
       "\n",
       "Coefficients:\n",
       "            Estimate Std. Error t value Pr(>|t|)    \n",
       "(Intercept)  10.9557     0.5784  18.941 2.43e-16 ***\n",
       "peso          0.2734     0.1988   1.376  0.18117    \n",
       "dietb         2.9152     0.9853   2.959  0.00667 ** \n",
       "peso:dietb    0.4040     0.3108   1.300  0.20558    \n",
       "---\n",
       "Signif. codes:  0 ‘***’ 0.001 ‘**’ 0.01 ‘*’ 0.05 ‘.’ 0.1 ‘ ’ 1\n",
       "\n",
       "Residual standard error: 1.006 on 25 degrees of freedom\n",
       "Multiple R-squared:  0.8524,\tAdjusted R-squared:  0.8347 \n",
       "F-statistic: 48.11 on 3 and 25 DF,  p-value: 1.571e-10\n"
      ]
     },
     "metadata": {},
     "output_type": "display_data"
    },
    {
     "data": {
      "text/html": [
       "<table>\n",
       "<caption>A anova: 2 × 6</caption>\n",
       "<thead>\n",
       "\t<tr><th></th><th scope=col>Res.Df</th><th scope=col>RSS</th><th scope=col>Df</th><th scope=col>Sum of Sq</th><th scope=col>F</th><th scope=col>Pr(&gt;F)</th></tr>\n",
       "\t<tr><th></th><th scope=col>&lt;dbl&gt;</th><th scope=col>&lt;dbl&gt;</th><th scope=col>&lt;dbl&gt;</th><th scope=col>&lt;dbl&gt;</th><th scope=col>&lt;dbl&gt;</th><th scope=col>&lt;dbl&gt;</th></tr>\n",
       "</thead>\n",
       "<tbody>\n",
       "\t<tr><th scope=row>1</th><td>26</td><td>26.99890</td><td>NA</td><td>      NA</td><td>      NA</td><td>       NA</td></tr>\n",
       "\t<tr><th scope=row>2</th><td>25</td><td>25.29024</td><td> 1</td><td>1.708662</td><td>1.689053</td><td>0.2055827</td></tr>\n",
       "</tbody>\n",
       "</table>\n"
      ],
      "text/latex": [
       "A anova: 2 × 6\n",
       "\\begin{tabular}{r|llllll}\n",
       "  & Res.Df & RSS & Df & Sum of Sq & F & Pr(>F)\\\\\n",
       "  & <dbl> & <dbl> & <dbl> & <dbl> & <dbl> & <dbl>\\\\\n",
       "\\hline\n",
       "\t1 & 26 & 26.99890 & NA &       NA &       NA &        NA\\\\\n",
       "\t2 & 25 & 25.29024 &  1 & 1.708662 & 1.689053 & 0.2055827\\\\\n",
       "\\end{tabular}\n"
      ],
      "text/markdown": [
       "\n",
       "A anova: 2 × 6\n",
       "\n",
       "| <!--/--> | Res.Df &lt;dbl&gt; | RSS &lt;dbl&gt; | Df &lt;dbl&gt; | Sum of Sq &lt;dbl&gt; | F &lt;dbl&gt; | Pr(&gt;F) &lt;dbl&gt; |\n",
       "|---|---|---|---|---|---|---|\n",
       "| 1 | 26 | 26.99890 | NA |       NA |       NA |        NA |\n",
       "| 2 | 25 | 25.29024 |  1 | 1.708662 | 1.689053 | 0.2055827 |\n",
       "\n"
      ],
      "text/plain": [
       "  Res.Df RSS      Df Sum of Sq F        Pr(>F)   \n",
       "1 26     26.99890 NA       NA        NA        NA\n",
       "2 25     25.29024  1 1.708662  1.689053 0.2055827"
      ]
     },
     "metadata": {},
     "output_type": "display_data"
    }
   ],
   "source": [
    "# apartado a)\n",
    "peso <- datos_dieta$PesoX \n",
    "diet <- datos_dieta$DietaZ\n",
    "absor <- datos_dieta$AbsorciónY\n",
    "m1 <- lm( absor ~ peso + diet )\n",
    "summary(m1)\n",
    "m2 <- lm( absor ~ peso + diet + peso*diet )\n",
    "summary(m2)\n",
    "# si miramos el R^2 ajustado, m2 es ligeramente mejor. \n",
    "anova(m1,m2)\n",
    "# si miramos la tabla ANOVA, nos quedamos con m1"
   ]
  },
  {
   "cell_type": "markdown",
   "metadata": {},
   "source": [
    "Estimamos la ecuación del modelo m1:\n",
    "\n",
    "$$\n",
    "\\hat{y}=10.5262 + 4.0952 z + 0.4387 x \n",
    "$$\n",
    "\n",
    "donde z es el peso y x es la variable indicador de la dieta, que vale \n",
    "1 si la dieta es la b y zero en otro caso"
   ]
  },
  {
   "cell_type": "code",
   "execution_count": 7,
   "metadata": {},
   "outputs": [],
   "source": [
    "# apartado b)\n",
    "# el modelo elegido es el m1. Interpretacion de coeficientes\n",
    "#   - para ratas del mismo peso, la diferencia esperada en la \n",
    "#      absorcion entre la dieta b y la a es 4.0952\n",
    "#   - para ratas del mismo tipo de dieta, la diferencia esperada en la \n",
    "#      absorcion al incrementar el peso en una unidad es 0.4387 "
   ]
  },
  {
   "cell_type": "code",
   "execution_count": 8,
   "metadata": {},
   "outputs": [],
   "source": [
    "# apartado c)\n",
    "# por lo que hemos dicho en el apartado b) en la dieta b"
   ]
  },
  {
   "cell_type": "code",
   "execution_count": 13,
   "metadata": {},
   "outputs": [],
   "source": [
    "# apartado d)\n",
    "# con la dieta a para una rata de 3.5 tenemos,\n",
    "#    yhat = 10.5262 + 4.0952 * 3.5 + 0.4387 * 0 = 24.8594\n",
    "# mientras que con la dieta b, \n",
    "#    yhat = 10.5262 + 4.0952 * 3.5 + 0.4387 * 1 = 25.2981"
   ]
  },
  {
   "cell_type": "code",
   "execution_count": null,
   "metadata": {},
   "outputs": [],
   "source": []
  }
 ],
 "metadata": {
  "kernelspec": {
   "display_name": "R",
   "language": "R",
   "name": "ir"
  },
  "language_info": {
   "codemirror_mode": "r",
   "file_extension": ".r",
   "mimetype": "text/x-r-source",
   "name": "R",
   "pygments_lexer": "r",
   "version": "3.6.3"
  }
 },
 "nbformat": 4,
 "nbformat_minor": 4
}
