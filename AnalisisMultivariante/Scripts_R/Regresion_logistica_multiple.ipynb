{
 "cells": [
  {
   "cell_type": "markdown",
   "metadata": {},
   "source": [
    "# Ejemplo de Regresión Logistica Multiple\n",
    "\n",
    "Queremos estudiar la proporcion de niños que desarrollan bronquitis o pneumonia en su primer año de vida, por sexo y tipo de alimentación\n"
   ]
  },
  {
   "cell_type": "code",
   "execution_count": 9,
   "metadata": {},
   "outputs": [
    {
     "data": {
      "text/plain": [
       "    disease        nondisease      sex        food  \n",
       " Min.   :16.00   Min.   :111.0   Boy :3   Bottle:2  \n",
       " 1st Qu.:22.00   1st Qu.:180.0   Girl:3   Breast:2  \n",
       " Median :39.00   Median :358.5            Suppl :2  \n",
       " Mean   :39.67   Mean   :306.0                      \n",
       " 3rd Qu.:47.75   3rd Qu.:420.0                      \n",
       " Max.   :77.00   Max.   :447.0                      "
      ]
     },
     "metadata": {},
     "output_type": "display_data"
    },
    {
     "data": {
      "text/html": [
       "<table>\n",
       "<caption>A data.frame: 6 × 4</caption>\n",
       "<thead>\n",
       "\t<tr><th></th><th scope=col>disease</th><th scope=col>nondisease</th><th scope=col>sex</th><th scope=col>food</th></tr>\n",
       "\t<tr><th></th><th scope=col>&lt;dbl&gt;</th><th scope=col>&lt;dbl&gt;</th><th scope=col>&lt;fct&gt;</th><th scope=col>&lt;fct&gt;</th></tr>\n",
       "</thead>\n",
       "<tbody>\n",
       "\t<tr><th scope=row>1</th><td>77</td><td>381</td><td>Boy </td><td>Bottle</td></tr>\n",
       "\t<tr><th scope=row>2</th><td>19</td><td>128</td><td>Boy </td><td>Suppl </td></tr>\n",
       "\t<tr><th scope=row>3</th><td>47</td><td>447</td><td>Boy </td><td>Breast</td></tr>\n",
       "\t<tr><th scope=row>4</th><td>48</td><td>336</td><td>Girl</td><td>Bottle</td></tr>\n",
       "\t<tr><th scope=row>5</th><td>16</td><td>111</td><td>Girl</td><td>Suppl </td></tr>\n",
       "\t<tr><th scope=row>6</th><td>31</td><td>433</td><td>Girl</td><td>Breast</td></tr>\n",
       "</tbody>\n",
       "</table>\n"
      ],
      "text/latex": [
       "A data.frame: 6 × 4\n",
       "\\begin{tabular}{r|llll}\n",
       "  & disease & nondisease & sex & food\\\\\n",
       "  & <dbl> & <dbl> & <fct> & <fct>\\\\\n",
       "\\hline\n",
       "\t1 & 77 & 381 & Boy  & Bottle\\\\\n",
       "\t2 & 19 & 128 & Boy  & Suppl \\\\\n",
       "\t3 & 47 & 447 & Boy  & Breast\\\\\n",
       "\t4 & 48 & 336 & Girl & Bottle\\\\\n",
       "\t5 & 16 & 111 & Girl & Suppl \\\\\n",
       "\t6 & 31 & 433 & Girl & Breast\\\\\n",
       "\\end{tabular}\n"
      ],
      "text/markdown": [
       "\n",
       "A data.frame: 6 × 4\n",
       "\n",
       "| <!--/--> | disease &lt;dbl&gt; | nondisease &lt;dbl&gt; | sex &lt;fct&gt; | food &lt;fct&gt; |\n",
       "|---|---|---|---|---|\n",
       "| 1 | 77 | 381 | Boy  | Bottle |\n",
       "| 2 | 19 | 128 | Boy  | Suppl  |\n",
       "| 3 | 47 | 447 | Boy  | Breast |\n",
       "| 4 | 48 | 336 | Girl | Bottle |\n",
       "| 5 | 16 | 111 | Girl | Suppl  |\n",
       "| 6 | 31 | 433 | Girl | Breast |\n",
       "\n"
      ],
      "text/plain": [
       "  disease nondisease sex  food  \n",
       "1 77      381        Boy  Bottle\n",
       "2 19      128        Boy  Suppl \n",
       "3 47      447        Boy  Breast\n",
       "4 48      336        Girl Bottle\n",
       "5 16      111        Girl Suppl \n",
       "6 31      433        Girl Breast"
      ]
     },
     "metadata": {},
     "output_type": "display_data"
    }
   ],
   "source": [
    "#install.packages(\"faraway\")\n",
    "library(faraway)\n",
    "\n",
    "summary(babyfood)\n",
    "babyfood"
   ]
  },
  {
   "cell_type": "code",
   "execution_count": 10,
   "metadata": {},
   "outputs": [
    {
     "data": {
      "text/html": [
       "<table>\n",
       "<caption>A data.frame: 78 × 3</caption>\n",
       "<thead>\n",
       "\t<tr><th></th><th scope=col>y</th><th scope=col>sexn</th><th scope=col>foodn</th></tr>\n",
       "\t<tr><th></th><th scope=col>&lt;dbl&gt;</th><th scope=col>&lt;fct&gt;</th><th scope=col>&lt;fct&gt;</th></tr>\n",
       "</thead>\n",
       "<tbody>\n",
       "\t<tr><th scope=row>1</th><td>1</td><td>boy</td><td>bottle</td></tr>\n",
       "\t<tr><th scope=row>2</th><td>1</td><td>boy</td><td>bottle</td></tr>\n",
       "\t<tr><th scope=row>3</th><td>1</td><td>boy</td><td>bottle</td></tr>\n",
       "\t<tr><th scope=row>4</th><td>1</td><td>boy</td><td>bottle</td></tr>\n",
       "\t<tr><th scope=row>5</th><td>1</td><td>boy</td><td>bottle</td></tr>\n",
       "\t<tr><th scope=row>6</th><td>1</td><td>boy</td><td>bottle</td></tr>\n",
       "\t<tr><th scope=row>7</th><td>1</td><td>boy</td><td>bottle</td></tr>\n",
       "\t<tr><th scope=row>8</th><td>1</td><td>boy</td><td>bottle</td></tr>\n",
       "\t<tr><th scope=row>9</th><td>1</td><td>boy</td><td>bottle</td></tr>\n",
       "\t<tr><th scope=row>10</th><td>1</td><td>boy</td><td>bottle</td></tr>\n",
       "\t<tr><th scope=row>11</th><td>1</td><td>boy</td><td>bottle</td></tr>\n",
       "\t<tr><th scope=row>12</th><td>1</td><td>boy</td><td>bottle</td></tr>\n",
       "\t<tr><th scope=row>13</th><td>1</td><td>boy</td><td>bottle</td></tr>\n",
       "\t<tr><th scope=row>14</th><td>1</td><td>boy</td><td>bottle</td></tr>\n",
       "\t<tr><th scope=row>15</th><td>1</td><td>boy</td><td>bottle</td></tr>\n",
       "\t<tr><th scope=row>16</th><td>1</td><td>boy</td><td>bottle</td></tr>\n",
       "\t<tr><th scope=row>17</th><td>1</td><td>boy</td><td>bottle</td></tr>\n",
       "\t<tr><th scope=row>18</th><td>1</td><td>boy</td><td>bottle</td></tr>\n",
       "\t<tr><th scope=row>19</th><td>1</td><td>boy</td><td>bottle</td></tr>\n",
       "\t<tr><th scope=row>20</th><td>1</td><td>boy</td><td>bottle</td></tr>\n",
       "\t<tr><th scope=row>21</th><td>1</td><td>boy</td><td>bottle</td></tr>\n",
       "\t<tr><th scope=row>22</th><td>1</td><td>boy</td><td>bottle</td></tr>\n",
       "\t<tr><th scope=row>23</th><td>1</td><td>boy</td><td>bottle</td></tr>\n",
       "\t<tr><th scope=row>24</th><td>1</td><td>boy</td><td>bottle</td></tr>\n",
       "\t<tr><th scope=row>25</th><td>1</td><td>boy</td><td>bottle</td></tr>\n",
       "\t<tr><th scope=row>26</th><td>1</td><td>boy</td><td>bottle</td></tr>\n",
       "\t<tr><th scope=row>27</th><td>1</td><td>boy</td><td>bottle</td></tr>\n",
       "\t<tr><th scope=row>28</th><td>1</td><td>boy</td><td>bottle</td></tr>\n",
       "\t<tr><th scope=row>29</th><td>1</td><td>boy</td><td>bottle</td></tr>\n",
       "\t<tr><th scope=row>30</th><td>1</td><td>boy</td><td>bottle</td></tr>\n",
       "\t<tr><th scope=row>⋮</th><td>⋮</td><td>⋮</td><td>⋮</td></tr>\n",
       "\t<tr><th scope=row>49</th><td>1</td><td>boy</td><td>bottle</td></tr>\n",
       "\t<tr><th scope=row>50</th><td>1</td><td>boy</td><td>bottle</td></tr>\n",
       "\t<tr><th scope=row>51</th><td>1</td><td>boy</td><td>bottle</td></tr>\n",
       "\t<tr><th scope=row>52</th><td>1</td><td>boy</td><td>bottle</td></tr>\n",
       "\t<tr><th scope=row>53</th><td>1</td><td>boy</td><td>bottle</td></tr>\n",
       "\t<tr><th scope=row>54</th><td>1</td><td>boy</td><td>bottle</td></tr>\n",
       "\t<tr><th scope=row>55</th><td>1</td><td>boy</td><td>bottle</td></tr>\n",
       "\t<tr><th scope=row>56</th><td>1</td><td>boy</td><td>bottle</td></tr>\n",
       "\t<tr><th scope=row>57</th><td>1</td><td>boy</td><td>bottle</td></tr>\n",
       "\t<tr><th scope=row>58</th><td>1</td><td>boy</td><td>bottle</td></tr>\n",
       "\t<tr><th scope=row>59</th><td>1</td><td>boy</td><td>bottle</td></tr>\n",
       "\t<tr><th scope=row>60</th><td>1</td><td>boy</td><td>bottle</td></tr>\n",
       "\t<tr><th scope=row>61</th><td>1</td><td>boy</td><td>bottle</td></tr>\n",
       "\t<tr><th scope=row>62</th><td>1</td><td>boy</td><td>bottle</td></tr>\n",
       "\t<tr><th scope=row>63</th><td>1</td><td>boy</td><td>bottle</td></tr>\n",
       "\t<tr><th scope=row>64</th><td>1</td><td>boy</td><td>bottle</td></tr>\n",
       "\t<tr><th scope=row>65</th><td>1</td><td>boy</td><td>bottle</td></tr>\n",
       "\t<tr><th scope=row>66</th><td>1</td><td>boy</td><td>bottle</td></tr>\n",
       "\t<tr><th scope=row>67</th><td>1</td><td>boy</td><td>bottle</td></tr>\n",
       "\t<tr><th scope=row>68</th><td>1</td><td>boy</td><td>bottle</td></tr>\n",
       "\t<tr><th scope=row>69</th><td>1</td><td>boy</td><td>bottle</td></tr>\n",
       "\t<tr><th scope=row>70</th><td>1</td><td>boy</td><td>bottle</td></tr>\n",
       "\t<tr><th scope=row>71</th><td>1</td><td>boy</td><td>bottle</td></tr>\n",
       "\t<tr><th scope=row>72</th><td>1</td><td>boy</td><td>bottle</td></tr>\n",
       "\t<tr><th scope=row>73</th><td>1</td><td>boy</td><td>bottle</td></tr>\n",
       "\t<tr><th scope=row>74</th><td>1</td><td>boy</td><td>bottle</td></tr>\n",
       "\t<tr><th scope=row>75</th><td>1</td><td>boy</td><td>bottle</td></tr>\n",
       "\t<tr><th scope=row>76</th><td>1</td><td>boy</td><td>bottle</td></tr>\n",
       "\t<tr><th scope=row>77</th><td>1</td><td>boy</td><td>bottle</td></tr>\n",
       "\t<tr><th scope=row>78</th><td>0</td><td>boy</td><td>bottle</td></tr>\n",
       "</tbody>\n",
       "</table>\n"
      ],
      "text/latex": [
       "A data.frame: 78 × 3\n",
       "\\begin{tabular}{r|lll}\n",
       "  & y & sexn & foodn\\\\\n",
       "  & <dbl> & <fct> & <fct>\\\\\n",
       "\\hline\n",
       "\t1 & 1 & boy & bottle\\\\\n",
       "\t2 & 1 & boy & bottle\\\\\n",
       "\t3 & 1 & boy & bottle\\\\\n",
       "\t4 & 1 & boy & bottle\\\\\n",
       "\t5 & 1 & boy & bottle\\\\\n",
       "\t6 & 1 & boy & bottle\\\\\n",
       "\t7 & 1 & boy & bottle\\\\\n",
       "\t8 & 1 & boy & bottle\\\\\n",
       "\t9 & 1 & boy & bottle\\\\\n",
       "\t10 & 1 & boy & bottle\\\\\n",
       "\t11 & 1 & boy & bottle\\\\\n",
       "\t12 & 1 & boy & bottle\\\\\n",
       "\t13 & 1 & boy & bottle\\\\\n",
       "\t14 & 1 & boy & bottle\\\\\n",
       "\t15 & 1 & boy & bottle\\\\\n",
       "\t16 & 1 & boy & bottle\\\\\n",
       "\t17 & 1 & boy & bottle\\\\\n",
       "\t18 & 1 & boy & bottle\\\\\n",
       "\t19 & 1 & boy & bottle\\\\\n",
       "\t20 & 1 & boy & bottle\\\\\n",
       "\t21 & 1 & boy & bottle\\\\\n",
       "\t22 & 1 & boy & bottle\\\\\n",
       "\t23 & 1 & boy & bottle\\\\\n",
       "\t24 & 1 & boy & bottle\\\\\n",
       "\t25 & 1 & boy & bottle\\\\\n",
       "\t26 & 1 & boy & bottle\\\\\n",
       "\t27 & 1 & boy & bottle\\\\\n",
       "\t28 & 1 & boy & bottle\\\\\n",
       "\t29 & 1 & boy & bottle\\\\\n",
       "\t30 & 1 & boy & bottle\\\\\n",
       "\t⋮ & ⋮ & ⋮ & ⋮\\\\\n",
       "\t49 & 1 & boy & bottle\\\\\n",
       "\t50 & 1 & boy & bottle\\\\\n",
       "\t51 & 1 & boy & bottle\\\\\n",
       "\t52 & 1 & boy & bottle\\\\\n",
       "\t53 & 1 & boy & bottle\\\\\n",
       "\t54 & 1 & boy & bottle\\\\\n",
       "\t55 & 1 & boy & bottle\\\\\n",
       "\t56 & 1 & boy & bottle\\\\\n",
       "\t57 & 1 & boy & bottle\\\\\n",
       "\t58 & 1 & boy & bottle\\\\\n",
       "\t59 & 1 & boy & bottle\\\\\n",
       "\t60 & 1 & boy & bottle\\\\\n",
       "\t61 & 1 & boy & bottle\\\\\n",
       "\t62 & 1 & boy & bottle\\\\\n",
       "\t63 & 1 & boy & bottle\\\\\n",
       "\t64 & 1 & boy & bottle\\\\\n",
       "\t65 & 1 & boy & bottle\\\\\n",
       "\t66 & 1 & boy & bottle\\\\\n",
       "\t67 & 1 & boy & bottle\\\\\n",
       "\t68 & 1 & boy & bottle\\\\\n",
       "\t69 & 1 & boy & bottle\\\\\n",
       "\t70 & 1 & boy & bottle\\\\\n",
       "\t71 & 1 & boy & bottle\\\\\n",
       "\t72 & 1 & boy & bottle\\\\\n",
       "\t73 & 1 & boy & bottle\\\\\n",
       "\t74 & 1 & boy & bottle\\\\\n",
       "\t75 & 1 & boy & bottle\\\\\n",
       "\t76 & 1 & boy & bottle\\\\\n",
       "\t77 & 1 & boy & bottle\\\\\n",
       "\t78 & 0 & boy & bottle\\\\\n",
       "\\end{tabular}\n"
      ],
      "text/markdown": [
       "\n",
       "A data.frame: 78 × 3\n",
       "\n",
       "| <!--/--> | y &lt;dbl&gt; | sexn &lt;fct&gt; | foodn &lt;fct&gt; |\n",
       "|---|---|---|---|\n",
       "| 1 | 1 | boy | bottle |\n",
       "| 2 | 1 | boy | bottle |\n",
       "| 3 | 1 | boy | bottle |\n",
       "| 4 | 1 | boy | bottle |\n",
       "| 5 | 1 | boy | bottle |\n",
       "| 6 | 1 | boy | bottle |\n",
       "| 7 | 1 | boy | bottle |\n",
       "| 8 | 1 | boy | bottle |\n",
       "| 9 | 1 | boy | bottle |\n",
       "| 10 | 1 | boy | bottle |\n",
       "| 11 | 1 | boy | bottle |\n",
       "| 12 | 1 | boy | bottle |\n",
       "| 13 | 1 | boy | bottle |\n",
       "| 14 | 1 | boy | bottle |\n",
       "| 15 | 1 | boy | bottle |\n",
       "| 16 | 1 | boy | bottle |\n",
       "| 17 | 1 | boy | bottle |\n",
       "| 18 | 1 | boy | bottle |\n",
       "| 19 | 1 | boy | bottle |\n",
       "| 20 | 1 | boy | bottle |\n",
       "| 21 | 1 | boy | bottle |\n",
       "| 22 | 1 | boy | bottle |\n",
       "| 23 | 1 | boy | bottle |\n",
       "| 24 | 1 | boy | bottle |\n",
       "| 25 | 1 | boy | bottle |\n",
       "| 26 | 1 | boy | bottle |\n",
       "| 27 | 1 | boy | bottle |\n",
       "| 28 | 1 | boy | bottle |\n",
       "| 29 | 1 | boy | bottle |\n",
       "| 30 | 1 | boy | bottle |\n",
       "| ⋮ | ⋮ | ⋮ | ⋮ |\n",
       "| 49 | 1 | boy | bottle |\n",
       "| 50 | 1 | boy | bottle |\n",
       "| 51 | 1 | boy | bottle |\n",
       "| 52 | 1 | boy | bottle |\n",
       "| 53 | 1 | boy | bottle |\n",
       "| 54 | 1 | boy | bottle |\n",
       "| 55 | 1 | boy | bottle |\n",
       "| 56 | 1 | boy | bottle |\n",
       "| 57 | 1 | boy | bottle |\n",
       "| 58 | 1 | boy | bottle |\n",
       "| 59 | 1 | boy | bottle |\n",
       "| 60 | 1 | boy | bottle |\n",
       "| 61 | 1 | boy | bottle |\n",
       "| 62 | 1 | boy | bottle |\n",
       "| 63 | 1 | boy | bottle |\n",
       "| 64 | 1 | boy | bottle |\n",
       "| 65 | 1 | boy | bottle |\n",
       "| 66 | 1 | boy | bottle |\n",
       "| 67 | 1 | boy | bottle |\n",
       "| 68 | 1 | boy | bottle |\n",
       "| 69 | 1 | boy | bottle |\n",
       "| 70 | 1 | boy | bottle |\n",
       "| 71 | 1 | boy | bottle |\n",
       "| 72 | 1 | boy | bottle |\n",
       "| 73 | 1 | boy | bottle |\n",
       "| 74 | 1 | boy | bottle |\n",
       "| 75 | 1 | boy | bottle |\n",
       "| 76 | 1 | boy | bottle |\n",
       "| 77 | 1 | boy | bottle |\n",
       "| 78 | 0 | boy | bottle |\n",
       "\n"
      ],
      "text/plain": [
       "   y sexn foodn \n",
       "1  1 boy  bottle\n",
       "2  1 boy  bottle\n",
       "3  1 boy  bottle\n",
       "4  1 boy  bottle\n",
       "5  1 boy  bottle\n",
       "6  1 boy  bottle\n",
       "7  1 boy  bottle\n",
       "8  1 boy  bottle\n",
       "9  1 boy  bottle\n",
       "10 1 boy  bottle\n",
       "11 1 boy  bottle\n",
       "12 1 boy  bottle\n",
       "13 1 boy  bottle\n",
       "14 1 boy  bottle\n",
       "15 1 boy  bottle\n",
       "16 1 boy  bottle\n",
       "17 1 boy  bottle\n",
       "18 1 boy  bottle\n",
       "19 1 boy  bottle\n",
       "20 1 boy  bottle\n",
       "21 1 boy  bottle\n",
       "22 1 boy  bottle\n",
       "23 1 boy  bottle\n",
       "24 1 boy  bottle\n",
       "25 1 boy  bottle\n",
       "26 1 boy  bottle\n",
       "27 1 boy  bottle\n",
       "28 1 boy  bottle\n",
       "29 1 boy  bottle\n",
       "30 1 boy  bottle\n",
       "⋮  ⋮ ⋮    ⋮     \n",
       "49 1 boy  bottle\n",
       "50 1 boy  bottle\n",
       "51 1 boy  bottle\n",
       "52 1 boy  bottle\n",
       "53 1 boy  bottle\n",
       "54 1 boy  bottle\n",
       "55 1 boy  bottle\n",
       "56 1 boy  bottle\n",
       "57 1 boy  bottle\n",
       "58 1 boy  bottle\n",
       "59 1 boy  bottle\n",
       "60 1 boy  bottle\n",
       "61 1 boy  bottle\n",
       "62 1 boy  bottle\n",
       "63 1 boy  bottle\n",
       "64 1 boy  bottle\n",
       "65 1 boy  bottle\n",
       "66 1 boy  bottle\n",
       "67 1 boy  bottle\n",
       "68 1 boy  bottle\n",
       "69 1 boy  bottle\n",
       "70 1 boy  bottle\n",
       "71 1 boy  bottle\n",
       "72 1 boy  bottle\n",
       "73 1 boy  bottle\n",
       "74 1 boy  bottle\n",
       "75 1 boy  bottle\n",
       "76 1 boy  bottle\n",
       "77 1 boy  bottle\n",
       "78 0 boy  bottle"
      ]
     },
     "metadata": {},
     "output_type": "display_data"
    }
   ],
   "source": [
    "# vamos a modificar crear datos con 0 y 1 en la variable respuesta (Y)\n",
    "y<-rep(c(1,0,1,0,1,0,1,0,1,0,1,0),c(77,381,19,128,47,447,48,336,16,111,31,433))\n",
    "sexn<-rep(c(\"boy\",\"girl\"),c(1099,975))\n",
    "foodn<-rep(c(\"bottle\",\"supply\",\"breast\",\"bottle\",\"supply\",\"breast\"),c(458,147,494,384,127,464))\n",
    "datos<-data.frame(y,sexn,foodn)\n",
    " #vemos que los 77 primeros datos son iguales y el siguiente no\n",
    "head(datos,78)"
   ]
  },
  {
   "cell_type": "code",
   "execution_count": 21,
   "metadata": {},
   "outputs": [
    {
     "data": {
      "text/plain": [
       "      foodn\n",
       "sexn   bottle breast supply\n",
       "  boy      77     47     19\n",
       "  girl     48     31     16"
      ]
     },
     "metadata": {},
     "output_type": "display_data"
    },
    {
     "data": {
      "text/plain": [
       "      foodn\n",
       "sexn      bottle    breast    supply\n",
       "  boy  0.5384615 0.3286713 0.1328671\n",
       "  girl 0.5052632 0.3263158 0.1684211"
      ]
     },
     "metadata": {},
     "output_type": "display_data"
    },
    {
     "data": {
      "text/plain": [
       "      foodn\n",
       "sexn      bottle    breast    supply\n",
       "  boy  0.6160000 0.6025641 0.5428571\n",
       "  girl 0.3840000 0.3974359 0.4571429"
      ]
     },
     "metadata": {},
     "output_type": "display_data"
    },
    {
     "data": {
      "text/plain": [
       "      foodn\n",
       "sexn       bottle     breast     supply\n",
       "  boy  0.32352941 0.19747899 0.07983193\n",
       "  girl 0.20168067 0.13025210 0.06722689"
      ]
     },
     "metadata": {},
     "output_type": "display_data"
    }
   ],
   "source": [
    "## Tabla de contingencia y los porcentajes por fila, por columna y total\n",
    "\n",
    "xtabs(y~sexn +foodn, data=datos)\n",
    "prop.table(xtabs(y~sexn +foodn, data=datos),1)\n",
    "prop.table(xtabs(y~sexn +foodn, data=datos),2)\n",
    "prop.table(xtabs(y~sexn +foodn, data=datos))"
   ]
  },
  {
   "cell_type": "code",
   "execution_count": 31,
   "metadata": {},
   "outputs": [
    {
     "data": {
      "text/plain": [
       "\n",
       "Call:\n",
       "glm(formula = y ~ sexn + foodn, family = binomial, data = datos)\n",
       "\n",
       "Deviance Residuals: \n",
       "    Min       1Q   Median       3Q      Max  \n",
       "-0.6030  -0.5218  -0.4409  -0.3795   2.3094  \n",
       "\n",
       "Coefficients:\n",
       "            Estimate Std. Error z value Pr(>|z|)    \n",
       "(Intercept)  -1.6127     0.1124 -14.347  < 2e-16 ***\n",
       "sexngirl     -0.3126     0.1410  -2.216   0.0267 *  \n",
       "foodnbreast  -0.6693     0.1530  -4.374 1.22e-05 ***\n",
       "foodnsupply  -0.1725     0.2056  -0.839   0.4013    \n",
       "---\n",
       "Signif. codes:  0 ‘***’ 0.001 ‘**’ 0.01 ‘*’ 0.05 ‘.’ 0.1 ‘ ’ 1\n",
       "\n",
       "(Dispersion parameter for binomial family taken to be 1)\n",
       "\n",
       "    Null deviance: 1478.1  on 2073  degrees of freedom\n",
       "Residual deviance: 1452.4  on 2070  degrees of freedom\n",
       "AIC: 1460.4\n",
       "\n",
       "Number of Fisher Scoring iterations: 5\n"
      ]
     },
     "metadata": {},
     "output_type": "display_data"
    }
   ],
   "source": [
    "### Ajustamos el modelo completo\n",
    "ml.1 <- glm( y ~ sexn + foodn, family=binomial, data=datos)\n",
    "summary (ml.1)"
   ]
  },
  {
   "cell_type": "code",
   "execution_count": 25,
   "metadata": {},
   "outputs": [
    {
     "data": {
      "text/plain": [
       "\n",
       "Call:\n",
       "glm(formula = y ~ foodn, family = binomial, data = datos)\n",
       "\n",
       "Deviance Residuals: \n",
       "    Min       1Q   Median       3Q      Max  \n",
       "-0.5669  -0.5669  -0.4121  -0.4121   2.2397  \n",
       "\n",
       "Coefficients:\n",
       "            Estimate Std. Error z value Pr(>|z|)    \n",
       "(Intercept) -1.74676    0.09693 -18.022  < 2e-16 ***\n",
       "foodnbreast -0.67645    0.15281  -4.427 9.57e-06 ***\n",
       "foodnsupply -0.17435    0.20531  -0.849    0.396    \n",
       "---\n",
       "Signif. codes:  0 ‘***’ 0.001 ‘**’ 0.01 ‘*’ 0.05 ‘.’ 0.1 ‘ ’ 1\n",
       "\n",
       "(Dispersion parameter for binomial family taken to be 1)\n",
       "\n",
       "    Null deviance: 1478.1  on 2073  degrees of freedom\n",
       "Residual deviance: 1457.4  on 2071  degrees of freedom\n",
       "AIC: 1463.4\n",
       "\n",
       "Number of Fisher Scoring iterations: 5\n"
      ]
     },
     "metadata": {},
     "output_type": "display_data"
    }
   ],
   "source": [
    "# Ajustamos modelo solo con foodn\n",
    "ml.2 <- glm( y ~  foodn, family=binomial, data=datos)\n",
    "summary (ml.2)\n",
    "\n",
    "\n"
   ]
  },
  {
   "cell_type": "code",
   "execution_count": 36,
   "metadata": {},
   "outputs": [
    {
     "data": {
      "text/plain": [
       "\n",
       "Call:\n",
       "glm(formula = y ~ sexn, family = binomial, data = datos)\n",
       "\n",
       "Deviance Residuals: \n",
       "    Min       1Q   Median       3Q      Max  \n",
       "-0.5280  -0.5280  -0.4528  -0.4528   2.1580  \n",
       "\n",
       "Coefficients:\n",
       "            Estimate Std. Error z value Pr(>|z|)    \n",
       "(Intercept) -1.89991    0.08966 -21.190   <2e-16 ***\n",
       "sexngirl    -0.32613    0.14035  -2.324   0.0201 *  \n",
       "---\n",
       "Signif. codes:  0 ‘***’ 0.001 ‘**’ 0.01 ‘*’ 0.05 ‘.’ 0.1 ‘ ’ 1\n",
       "\n",
       "(Dispersion parameter for binomial family taken to be 1)\n",
       "\n",
       "    Null deviance: 1478.1  on 2073  degrees of freedom\n",
       "Residual deviance: 1472.6  on 2072  degrees of freedom\n",
       "AIC: 1476.6\n",
       "\n",
       "Number of Fisher Scoring iterations: 4\n"
      ]
     },
     "metadata": {},
     "output_type": "display_data"
    }
   ],
   "source": [
    "# Ajustamos modelo solo con sexn\n",
    "ml.3 <- glm( y ~  sexn, family=binomial, data=datos)\n",
    "summary (ml.3)"
   ]
  },
  {
   "cell_type": "code",
   "execution_count": 28,
   "metadata": {},
   "outputs": [
    {
     "data": {
      "text/html": [
       "<table>\n",
       "<caption>A anova: 2 × 5</caption>\n",
       "<thead>\n",
       "\t<tr><th></th><th scope=col>Resid. Df</th><th scope=col>Resid. Dev</th><th scope=col>Df</th><th scope=col>Deviance</th><th scope=col>Pr(&gt;Chi)</th></tr>\n",
       "\t<tr><th></th><th scope=col>&lt;dbl&gt;</th><th scope=col>&lt;dbl&gt;</th><th scope=col>&lt;dbl&gt;</th><th scope=col>&lt;dbl&gt;</th><th scope=col>&lt;dbl&gt;</th></tr>\n",
       "</thead>\n",
       "<tbody>\n",
       "\t<tr><th scope=row>1</th><td>2070</td><td>1452.449</td><td>NA</td><td>       NA</td><td>        NA</td></tr>\n",
       "\t<tr><th scope=row>2</th><td>2071</td><td>1457.426</td><td>-1</td><td>-4.977057</td><td>0.02568564</td></tr>\n",
       "</tbody>\n",
       "</table>\n"
      ],
      "text/latex": [
       "A anova: 2 × 5\n",
       "\\begin{tabular}{r|lllll}\n",
       "  & Resid. Df & Resid. Dev & Df & Deviance & Pr(>Chi)\\\\\n",
       "  & <dbl> & <dbl> & <dbl> & <dbl> & <dbl>\\\\\n",
       "\\hline\n",
       "\t1 & 2070 & 1452.449 & NA &        NA &         NA\\\\\n",
       "\t2 & 2071 & 1457.426 & -1 & -4.977057 & 0.02568564\\\\\n",
       "\\end{tabular}\n"
      ],
      "text/markdown": [
       "\n",
       "A anova: 2 × 5\n",
       "\n",
       "| <!--/--> | Resid. Df &lt;dbl&gt; | Resid. Dev &lt;dbl&gt; | Df &lt;dbl&gt; | Deviance &lt;dbl&gt; | Pr(&gt;Chi) &lt;dbl&gt; |\n",
       "|---|---|---|---|---|---|\n",
       "| 1 | 2070 | 1452.449 | NA |        NA |         NA |\n",
       "| 2 | 2071 | 1457.426 | -1 | -4.977057 | 0.02568564 |\n",
       "\n"
      ],
      "text/plain": [
       "  Resid. Df Resid. Dev Df Deviance  Pr(>Chi)  \n",
       "1 2070      1452.449   NA        NA         NA\n",
       "2 2071      1457.426   -1 -4.977057 0.02568564"
      ]
     },
     "metadata": {},
     "output_type": "display_data"
    },
    {
     "data": {
      "text/html": [
       "<table>\n",
       "<caption>A anova: 2 × 5</caption>\n",
       "<thead>\n",
       "\t<tr><th></th><th scope=col>Resid. Df</th><th scope=col>Resid. Dev</th><th scope=col>Df</th><th scope=col>Deviance</th><th scope=col>Pr(&gt;Chi)</th></tr>\n",
       "\t<tr><th></th><th scope=col>&lt;dbl&gt;</th><th scope=col>&lt;dbl&gt;</th><th scope=col>&lt;dbl&gt;</th><th scope=col>&lt;dbl&gt;</th><th scope=col>&lt;dbl&gt;</th></tr>\n",
       "</thead>\n",
       "<tbody>\n",
       "\t<tr><th scope=row>1</th><td>2070</td><td>1452.449</td><td>NA</td><td>       NA</td><td>          NA</td></tr>\n",
       "\t<tr><th scope=row>2</th><td>2072</td><td>1472.626</td><td>-2</td><td>-20.17723</td><td>4.154992e-05</td></tr>\n",
       "</tbody>\n",
       "</table>\n"
      ],
      "text/latex": [
       "A anova: 2 × 5\n",
       "\\begin{tabular}{r|lllll}\n",
       "  & Resid. Df & Resid. Dev & Df & Deviance & Pr(>Chi)\\\\\n",
       "  & <dbl> & <dbl> & <dbl> & <dbl> & <dbl>\\\\\n",
       "\\hline\n",
       "\t1 & 2070 & 1452.449 & NA &        NA &           NA\\\\\n",
       "\t2 & 2072 & 1472.626 & -2 & -20.17723 & 4.154992e-05\\\\\n",
       "\\end{tabular}\n"
      ],
      "text/markdown": [
       "\n",
       "A anova: 2 × 5\n",
       "\n",
       "| <!--/--> | Resid. Df &lt;dbl&gt; | Resid. Dev &lt;dbl&gt; | Df &lt;dbl&gt; | Deviance &lt;dbl&gt; | Pr(&gt;Chi) &lt;dbl&gt; |\n",
       "|---|---|---|---|---|---|\n",
       "| 1 | 2070 | 1452.449 | NA |        NA |           NA |\n",
       "| 2 | 2072 | 1472.626 | -2 | -20.17723 | 4.154992e-05 |\n",
       "\n"
      ],
      "text/plain": [
       "  Resid. Df Resid. Dev Df Deviance  Pr(>Chi)    \n",
       "1 2070      1452.449   NA        NA           NA\n",
       "2 2072      1472.626   -2 -20.17723 4.154992e-05"
      ]
     },
     "metadata": {},
     "output_type": "display_data"
    }
   ],
   "source": [
    "# comparacion de modelos anidados usando ANOVA\n",
    "\n",
    "anova(ml.1,ml.2, test=\"Chi\")   \n",
    "anova(ml.1,ml.3, test=\"Chi\")\n",
    "# en los dos casos nos quedamos con el grande (ml.1)"
   ]
  },
  {
   "cell_type": "code",
   "execution_count": 35,
   "metadata": {},
   "outputs": [],
   "source": [
    "######crear la probabilidad de exito estimada por el modelo y dividir a los\n",
    "###### individuos segun si es <0.1 o >0.1\n",
    "datos$phat<-fitted(ml.1)\n",
    "#datos$phat\n",
    "datos$yhat<-ifelse (datos$phat < 0.1, 0, 1)\n",
    "#datos$yhat"
   ]
  },
  {
   "cell_type": "code",
   "execution_count": 30,
   "metadata": {},
   "outputs": [
    {
     "data": {
      "text/plain": [
       "   yhat\n",
       "y     0   1\n",
       "  0 880 956\n",
       "  1  78 160"
      ]
     },
     "metadata": {},
     "output_type": "display_data"
    }
   ],
   "source": [
    "###tabla de clasificacion\n",
    "Table <- xtabs(~y+yhat, data=datos)\n",
    "Table"
   ]
  },
  {
   "cell_type": "code",
   "execution_count": null,
   "metadata": {},
   "outputs": [],
   "source": []
  }
 ],
 "metadata": {
  "kernelspec": {
   "display_name": "R",
   "language": "R",
   "name": "ir"
  },
  "language_info": {
   "codemirror_mode": "r",
   "file_extension": ".r",
   "mimetype": "text/x-r-source",
   "name": "R",
   "pygments_lexer": "r",
   "version": "3.6.3"
  }
 },
 "nbformat": 4,
 "nbformat_minor": 4
}
