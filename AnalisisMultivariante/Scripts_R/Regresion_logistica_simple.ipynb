{
 "cells": [
  {
   "cell_type": "markdown",
   "metadata": {},
   "source": [
    "# Ejemplo de Regresión Logistica Simple (una sola covariable)\n",
    "\n",
    "La base de datos \"Ejemplo5.csv\" muestra la edad (X) y la presencia o ausencia de enfermedades coronarias\n",
    "(Y) en una muestra de 100 personas. El objetivo del estudio es saber si la edad de una persona\n",
    "influye en la aparición de una enfermedad coronaria.\n",
    "\n",
    "La presencia/ausencia de enfermedad coronaria está codificada como 1/0, mientras que la edad está\n",
    "recogida de forma continua en años."
   ]
  },
  {
   "cell_type": "code",
   "execution_count": 2,
   "metadata": {},
   "outputs": [],
   "source": [
    "ej5 <- read.csv(file = 'Ejemplo5.csv')\n",
    "#ej5"
   ]
  },
  {
   "cell_type": "markdown",
   "metadata": {},
   "source": [
    "Realizamos un diagrama de dispersión de Y respecto de X."
   ]
  },
  {
   "cell_type": "code",
   "execution_count": 9,
   "metadata": {},
   "outputs": [
    {
     "data": {
      "image/png": "[encoded data removed]",
      "text/plain": [
       "plot without title"
      ]
     },
     "metadata": {
      "image/png": {
       "height": 420,
       "width": 420
      }
     },
     "output_type": "display_data"
    }
   ],
   "source": [
    "plot(ej5$edad, ej5$corona)"
   ]
  },
  {
   "cell_type": "markdown",
   "metadata": {},
   "source": [
    "Este gráfico no es muy útil para describir la relación existente entre la edad y el hecho de padecer una enfermedad coronaria. La única conclusión que podríamos sacar es que hay más personas con enfermedad coronaria en edades avanzadas que en edades más jóvenes. Pero esto no nos dice nada acerca de la relación entre las variables.\n",
    "\n",
    "Para medir el efecto de la edad en padecer una enfermedad coronaria, realizamos una regresión\n",
    "logística de estos datos con R, y obtenemos los siguientes resultados:"
   ]
  },
  {
   "cell_type": "code",
   "execution_count": 11,
   "metadata": {},
   "outputs": [],
   "source": [
    "glm.1<- glm(corona ~ edad, data=ej5, family=binomial)"
   ]
  },
  {
   "cell_type": "code",
   "execution_count": 12,
   "metadata": {},
   "outputs": [
    {
     "data": {
      "text/plain": [
       "\n",
       "Call:\n",
       "glm(formula = corona ~ edad, family = binomial, data = ej5)\n",
       "\n",
       "Deviance Residuals: \n",
       "    Min       1Q   Median       3Q      Max  \n",
       "-1.9718  -0.8456  -0.4576   0.8253   2.2859  \n",
       "\n",
       "Coefficients:\n",
       "            Estimate Std. Error z value Pr(>|z|)    \n",
       "(Intercept) -5.30945    1.13365  -4.683 2.82e-06 ***\n",
       "edad         0.11092    0.02406   4.610 4.02e-06 ***\n",
       "---\n",
       "Signif. codes:  0 ‘***’ 0.001 ‘**’ 0.01 ‘*’ 0.05 ‘.’ 0.1 ‘ ’ 1\n",
       "\n",
       "(Dispersion parameter for binomial family taken to be 1)\n",
       "\n",
       "    Null deviance: 136.66  on 99  degrees of freedom\n",
       "Residual deviance: 107.35  on 98  degrees of freedom\n",
       "AIC: 111.35\n",
       "\n",
       "Number of Fisher Scoring iterations: 4\n"
      ]
     },
     "metadata": {},
     "output_type": "display_data"
    }
   ],
   "source": [
    "summary(glm.1)"
   ]
  },
  {
   "cell_type": "markdown",
   "metadata": {},
   "source": [
    "Si  definimos  el  Modelo  1  como  el  modelo  que  únicamente  contiene  el  término  independiente  ($\\beta_0$) y el Modelo 2 como el modelo que contiene al término independiente y la edad ($\\beta_0$ y $\\beta_1$), realizamos el siguiente contraste: \n",
    "\n",
    "* H0: Modelo 1 es preferible i. e. $\\beta_1$ = 0\n",
    "\n",
    "* H1: Modelo 2 es preferible i. e. $\\beta_1 \\neq 0$  \n",
    "\n",
    "Realizamos el contraste de Razón de verosimilitud con \n",
    "$-2 lnL(Modelo1) = 136.663$ y $ -2lnL (Modelo2) = 107.353$\n",
    "\n",
    "El estadistico es\n",
    "\n",
    "$$G = -2ln \\frac{L(Modelo1)}{L(Modelo2}= 136.663 - 107.353 = 29.31$$ \n",
    "\n",
    "Y el p-valor\n",
    "\n",
    "$$p = P(\\chi^2_1> 29.31) < 0.001$$\n",
    "\n",
    "Por tanto, nos quedamos con el modelo 2.\n",
    "\n",
    "Llegaremos a la misma conclusión mediante el contraste de Wald. El estadístico de este contraste es \n",
    "\n",
    "$$\n",
    "W = \\frac{\\hat \\beta_1}{\\sqrt{Var{\\hat \\beta_1}}}=\\frac{0.111}{0.024}= 4.61\n",
    "$$\n",
    "\n",
    "Por tanto,\n",
    "\n",
    "$$\n",
    "p = P(Z> 4.61) < 0.001  \n",
    "$$\n",
    "\n",
    "Los dos  contrastes  nos  llevan  a  admitir como  mejor  el  Modelo  2.  Además,  los  resultados  son  bastante parecidos, a saber, 5.41 (contraste de razón de verosimilitud) y 4.61 (test de Wald). Es  decir  concluimos  que  la  edad  tiene  una  influencia  estadísticamente  significativa  en  la  probabilidad de contraer una enfermedad coronaria. \n",
    "\n",
    "Estudiamos el odds ratio de la variable edad. Primero, vemos que $e^{\\hat \\beta_1}=1.117$ y ademas\n",
    "\n",
    "$$\n",
    "I_{\\beta_1}^{0.95}=0.111\\pm 1.96 \\cdot 0.024 =(0.064, 0.158) \\Rightarrow I_{OR}^{0.95}=(e^{0.064},e^{0.158})=(1.066, 1.171)\n",
    "$$\n",
    "\n",
    "El  odds  de  padecer  una  enfermedad  coronaria  aumenta  1.117  veces  (intervalo  de  confianza  del  95% (1.07, 1.17))  por cada aumento de un año en la edad. \n",
    "\n",
    "La ecuación del modelo sería la siguiente:\n",
    "\n",
    "$$\n",
    "Logit(p) = -5.309 + 0.111 \\cdot EDAD\n",
    "$$\n",
    "\n",
    "Por ejemplo, una persona de 60 años, se predice que tiene la siguiente probabilidad de padecer una\n",
    "enfermedad coronaria \n",
    "\n",
    "$$\n",
    "p=\\frac{e^{-5.309 + 0.111 \\cdot 60}}{1+e^{-5.309 + 0.111 \\cdot 60}}=0.79.\n",
    "$$\n",
    "\n",
    "\n",
    "### Variable independiente categorica\n",
    "\n",
    "Supongamos  que  el  interés  radica  en  medir  el  efecto  de  la  edad,  pero  no  de  forma  continua,  sino  con  un  punto  de  corte  en,  por  ejemplo  50  años.  Es  decir,  queremos  saber  en  cuanto  aumenta el odds de padecer una enfermedad coronaria para los individuos con más de 50 años con  respecto  a  los  individuos  con  una  edad  de  50  años  o  inferior.  Para  ello  categorizamos  la  edad  en  dos  categorías  ($\\leq$  50  vs.  $>$  50).  "
   ]
  },
  {
   "cell_type": "code",
   "execution_count": 17,
   "metadata": {},
   "outputs": [
    {
     "data": {
      "text/plain": [
       "\n",
       "Call:\n",
       "glm(formula = corona ~ factor(edad2), family = binomial, data = ej5)\n",
       "\n",
       "Deviance Residuals: \n",
       "    Min       1Q   Median       3Q      Max  \n",
       "-1.6835  -0.7910  -0.7910   0.7452   1.6213  \n",
       "\n",
       "Coefficients:\n",
       "               Estimate Std. Error z value Pr(>|z|)    \n",
       "(Intercept)     -1.0014     0.2756  -3.634  0.00028 ***\n",
       "factor(edad2)1   2.1409     0.4909   4.361 1.29e-05 ***\n",
       "---\n",
       "Signif. codes:  0 ‘***’ 0.001 ‘**’ 0.01 ‘*’ 0.05 ‘.’ 0.1 ‘ ’ 1\n",
       "\n",
       "(Dispersion parameter for binomial family taken to be 1)\n",
       "\n",
       "    Null deviance: 136.66  on 99  degrees of freedom\n",
       "Residual deviance: 114.53  on 98  degrees of freedom\n",
       "AIC: 118.53\n",
       "\n",
       "Number of Fisher Scoring iterations: 4\n"
      ]
     },
     "metadata": {},
     "output_type": "display_data"
    }
   ],
   "source": [
    "#importante poner factor(edad2) para que lo tome como variable dicotomica\n",
    "glm.2<-glm(corona ~ factor(edad2), data=ej5, family=binomial) \n",
    "summary(glm.2)"
   ]
  },
  {
   "cell_type": "markdown",
   "metadata": {},
   "source": [
    "La ecuación del modelo sería la siguiente:\n",
    "$$\n",
    "Logit(p) = -1.001 + 2.141·(EDAD>50)\n",
    "$$\n",
    "\n",
    "Tanto el test de Wald (Z = 4.361, p < 0.0001), como el contraste de razón de verosimilitud ($\\chi^2_1$\n",
    "= 21.13, p < 0.0001), nos hacen concluir que los individuos de más de 50 años tienen un riesgo\n",
    "mayor de padecer una enfermedad coronaria que los de 50 o menos años de edad. \n",
    "\n",
    "\n",
    "Como $e^{2.141}=8.508$, un individuo de más de 50 años aumenta el odds de padecer una enfermedad coronaria en 8.5 con respecto a otro de 50 años o menos. Ademas,\n",
    "\n",
    "$$\n",
    "I^{0.95}_{\\beta_1}=2.1409\\pm 1.96 \\cdot 0.4909 = (1.07, 1.17) \\Rightarrow I^{0.95}_{OR}=(e^{1.07},e^{1.17})=(3.25, 22.27)\n",
    "$$\n",
    "\n",
    "El intervalo de confianza del 95% del OR es (1.07, 1.17)\n",
    "\n",
    "Además, utilizando la ecuación del modelo, podemos calcular la probabilidad de padecer una\n",
    "enfermedad coronaria para individuos de 50 o menos años de edad \n",
    "\n",
    "$$\n",
    "p=\\frac{e^{-1.001 + 2.141·0}}{1+e^{-1.001 + 2.141·0}}=0.269\n",
    "$$\n",
    "\n",
    " y la probabilidad de\n",
    "padecer una enfermedad coronaria para individuos con más de 50 años de edad \n",
    "\n",
    "$$\n",
    "p=\\frac{e^{-1.001 + 2.141·1}}{1+e^{-1.001 + 2.141·}}=0.758\n",
    "$$"
   ]
  },
  {
   "cell_type": "markdown",
   "metadata": {},
   "source": [
    "### Variable independiente categórica con 3 modalidades\n",
    "\n",
    "Supongamos  que  el  interés  radica  en  medir  el  efecto  de  la  edad,  pero  no  de  forma  continua,  sino en  3  intervalos,  por  ejemplo  <  40,  [40  −  60)  y  ≥  60 años.  Es  decir,  queremos  saber  en  cuanto aumenta el odds de padecer una enfermedad coronaria para los individuos con una edad comprendida entre 40 y 60 años y para los individuos con 60 o más años de edad con respecto a los  individuos  con  una  edad  inferior  a  40  años.  Para  ello,  igual  que  en  el  caso  anterior,  categorizamos  la  edad  en  las  3  categorías  propuestas,  dejando  de  referencia  los  más  jovenes. Los resultados que obtenemos se resumen en las siguientes tablas"
   ]
  },
  {
   "cell_type": "code",
   "execution_count": 3,
   "metadata": {},
   "outputs": [
    {
     "data": {
      "text/plain": [
       "\n",
       "Call:\n",
       "glm(formula = corona ~ factor(edad3), family = binomial, data = ej5)\n",
       "\n",
       "Deviance Residuals: \n",
       "    Min       1Q   Median       3Q      Max  \n",
       "-1.7941  -1.2588  -0.5949   1.0982   1.9074  \n",
       "\n",
       "Coefficients:\n",
       "               Estimate Std. Error z value Pr(>|z|)    \n",
       "(Intercept)     -1.6422     0.4460  -3.682 0.000231 ***\n",
       "factor(edad3)1   1.8315     0.5245   3.492 0.000479 ***\n",
       "factor(edad3)2   3.0285     0.9077   3.336 0.000848 ***\n",
       "---\n",
       "Signif. codes:  0 ‘***’ 0.001 ‘**’ 0.01 ‘*’ 0.05 ‘.’ 0.1 ‘ ’ 1\n",
       "\n",
       "(Dispersion parameter for binomial family taken to be 1)\n",
       "\n",
       "    Null deviance: 136.66  on 99  degrees of freedom\n",
       "Residual deviance: 115.81  on 97  degrees of freedom\n",
       "AIC: 121.81\n",
       "\n",
       "Number of Fisher Scoring iterations: 4\n"
      ]
     },
     "metadata": {},
     "output_type": "display_data"
    }
   ],
   "source": [
    "glm.3<-glm(corona ~ factor(edad3), data=ej5, family=binomial) \n",
    "summary(glm.3)"
   ]
  },
  {
   "cell_type": "markdown",
   "metadata": {},
   "source": [
    "La ecuación del modelo sería la siguiente:\n",
    "\n",
    "$$\n",
    "Logit(p) = –1.642 + 1.831·(EDAD∈[40, 60)) + 3.028 ·(EDAD≥60)\n",
    "$$\n",
    "\n",
    "En este caso, realizamos el contraste de razón de verosimilitud \n",
    "\n",
    "$$\n",
    "G=-2Ln(M1)-(-2Ln(M2))=136.66-115.81=20.85\n",
    "$$\n",
    "\n",
    "por tanto, $p=P(\\chi^2_1> 20.85) < 0.0001, lo cual nos hace concluir que la edad es un factor con una influencia significativa en el riesgo de padecer una enfermedad coronaria. \n",
    "\n",
    "El test de Wald nos indica que la diferencia en el riesgo en edades comprendidas en el  intervalo  [40,  60)  y  en  edad  ≥60  es  estadísticamente  significativa  en  ambos  casos  con  respecto a la categoría de referencia. \n",
    "\n",
    "La magnitud de la relación viene dada por los coeficientes del modelo.  Un  individuo  con  una  edad  comprendida  en  el  intervalo  [40,  60)  aumenta  el  odds  de  padecer  una enfermedad coronaria en 6.24 (observese que $6.24=e^{1.831}$) con respecto a otro con menos de 40 años y el intervalo de confianza del $95\\%$ es\n",
    "\n",
    "$$\n",
    "I_{\\beta_1}^{0.95}=1.8315\\pm 1.96\\cdot 0.5245=(0.803,2.859)\n",
    "\\Rightarrow I_{OR_{21}}=(2.23, 17.45) \n",
    "$$\n",
    "\n",
    "\n",
    "Un individuo con 60 o más años de edad aumenta el odds de padecer una enfermedad coronaria en 20.7 ($e^{3.028}$) con respecto a otro con menos de 40 años y el intervalo de confianza del $95\\%$ es\n",
    "\n",
    "$$\n",
    "I_{\\beta_1}^{0.95}=3.029 \\pm 1.96·0.908=(1.249, 4.809)\n",
    "\\Rightarrow I_{OR_{31}}=(3.487, 122.57) \n",
    "$$\n"
   ]
  },
  {
   "cell_type": "code",
   "execution_count": null,
   "metadata": {},
   "outputs": [],
   "source": []
  }
 ],
 "metadata": {
  "kernelspec": {
   "display_name": "R",
   "language": "R",
   "name": "ir"
  },
  "language_info": {
   "codemirror_mode": "r",
   "file_extension": ".r",
   "mimetype": "text/x-r-source",
   "name": "R",
   "pygments_lexer": "r",
   "version": "3.6.3"
  }
 },
 "nbformat": 4,
 "nbformat_minor": 4
}
