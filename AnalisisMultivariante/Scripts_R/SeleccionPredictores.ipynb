{
 "cells": [
  {
   "cell_type": "markdown",
   "metadata": {},
   "source": [
    "# Selección de los predictores\n",
    "\n",
    "\n",
    "A la hora de seleccionar los predictores que deben formar parte del modelo se puede seguir el método paso a paso (stepwise), el cual emplea criterios matemáticos para decidir qué predictores contribuyen significativamente al modelo y en qué orden se introducen. Dentro de este método se diferencias tres estrategias:\n",
    "\n",
    "1. Dirección forward: El modelo inicial no contiene ningún predictor, solo el parámetro $\\beta_0$.\n",
    "A partir de este se generan todos los posibles modelos introduciendo una sola variable de entre las disponibles. Aquella variable que mejore en mayor medida el modelo se selecciona. A continuación se intenta incrementar el modelo probando a introducir una a una las variables restantes. Si introduciendo alguna de ellas mejora, también se selecciona. En el caso de que varias lo hagan, se selecciona la que incremente en mayor medida la capacidad del modelo. Este proceso se repite hasta llegar al punto en el que ninguna de las variables que quedan por incorporar mejore el modelo.\n",
    "\n",
    "2.    Dirección backward: El modelo se inicia con todas las variables disponibles incluidas como predictores. Se prueba a eliminar una a una cada variable, si se mejora el modelo, queda excluida. Este método permite evaluar cada variable en presencia de las otras.\n",
    "\n",
    "3.    Doble o mixto: Se trata de una combinación de la selección forward y backward. Se inicia igual que el forward pero tras cada nueva incorporación se realiza un test de extracción de predictores no útiles como en el backward. Presenta la ventaja de que si a medida que se añaden predictores, alguno de los ya presentes deja de contribuir al modelo, se elimina.\n",
    "\n",
    "El método paso a paso requiere de algún criterio matemático para determinar si el modelo mejora o empeora con cada incorporación o extracción. Se puede usar como criterio el $R^2$ ajustado por ejemplo."
   ]
  },
  {
   "cell_type": "markdown",
   "metadata": {},
   "source": [
    "### Ejemplo\n",
    "\n",
    "Un estudio quiere generar un modelo que permita predecir la esperanza de vida media de los habitantes de una ciudad en función de diferentes variables. Se dispone de información sobre: habitantes, analfabetismo, ingresos, esperanza de vida, asesinatos, universitarios, heladas, área y densidad poblacional."
   ]
  },
  {
   "cell_type": "code",
   "execution_count": 6,
   "metadata": {},
   "outputs": [],
   "source": [
    "#install.packages('dplyr')\n",
    "library(dplyr)\n",
    "datos <- as.data.frame(state.x77)\n",
    "datos <- rename(habitantes = Population, analfabetismo = Illiteracy,\n",
    "                ingresos = Income, esp_vida = `Life Exp`, asesinatos = Murder,\n",
    "                universitarios = `HS Grad`, heladas = Frost, area = Area,\n",
    "                .data = datos)\n",
    "datos <- mutate(.data = datos, densidad_pobl = habitantes * 1000 / area)\n",
    "#datos"
   ]
  },
  {
   "cell_type": "code",
   "execution_count": 7,
   "metadata": {},
   "outputs": [
    {
     "data": {
      "text/html": [
       "<table>\n",
       "<caption>A matrix: 9 × 9 of type dbl</caption>\n",
       "<thead>\n",
       "\t<tr><th></th><th scope=col>habitantes</th><th scope=col>ingresos</th><th scope=col>analfabetismo</th><th scope=col>esp_vida</th><th scope=col>asesinatos</th><th scope=col>universitarios</th><th scope=col>heladas</th><th scope=col>area</th><th scope=col>densidad_pobl</th></tr>\n",
       "</thead>\n",
       "<tbody>\n",
       "\t<tr><th scope=row>habitantes</th><td> 1.000</td><td> 0.208</td><td> 0.108</td><td>-0.068</td><td> 0.344</td><td>-0.098</td><td>-0.332</td><td> 0.023</td><td> 0.246</td></tr>\n",
       "\t<tr><th scope=row>ingresos</th><td> 0.208</td><td> 1.000</td><td>-0.437</td><td> 0.340</td><td>-0.230</td><td> 0.620</td><td> 0.226</td><td> 0.363</td><td> 0.330</td></tr>\n",
       "\t<tr><th scope=row>analfabetismo</th><td> 0.108</td><td>-0.437</td><td> 1.000</td><td>-0.588</td><td> 0.703</td><td>-0.657</td><td>-0.672</td><td> 0.077</td><td> 0.009</td></tr>\n",
       "\t<tr><th scope=row>esp_vida</th><td>-0.068</td><td> 0.340</td><td>-0.588</td><td> 1.000</td><td>-0.781</td><td> 0.582</td><td> 0.262</td><td>-0.107</td><td> 0.091</td></tr>\n",
       "\t<tr><th scope=row>asesinatos</th><td> 0.344</td><td>-0.230</td><td> 0.703</td><td>-0.781</td><td> 1.000</td><td>-0.488</td><td>-0.539</td><td> 0.228</td><td>-0.185</td></tr>\n",
       "\t<tr><th scope=row>universitarios</th><td>-0.098</td><td> 0.620</td><td>-0.657</td><td> 0.582</td><td>-0.488</td><td> 1.000</td><td> 0.367</td><td> 0.334</td><td>-0.088</td></tr>\n",
       "\t<tr><th scope=row>heladas</th><td>-0.332</td><td> 0.226</td><td>-0.672</td><td> 0.262</td><td>-0.539</td><td> 0.367</td><td> 1.000</td><td> 0.059</td><td> 0.002</td></tr>\n",
       "\t<tr><th scope=row>area</th><td> 0.023</td><td> 0.363</td><td> 0.077</td><td>-0.107</td><td> 0.228</td><td> 0.334</td><td> 0.059</td><td> 1.000</td><td>-0.341</td></tr>\n",
       "\t<tr><th scope=row>densidad_pobl</th><td> 0.246</td><td> 0.330</td><td> 0.009</td><td> 0.091</td><td>-0.185</td><td>-0.088</td><td> 0.002</td><td>-0.341</td><td> 1.000</td></tr>\n",
       "</tbody>\n",
       "</table>\n"
      ],
      "text/latex": [
       "A matrix: 9 × 9 of type dbl\n",
       "\\begin{tabular}{r|lllllllll}\n",
       "  & habitantes & ingresos & analfabetismo & esp\\_vida & asesinatos & universitarios & heladas & area & densidad\\_pobl\\\\\n",
       "\\hline\n",
       "\thabitantes &  1.000 &  0.208 &  0.108 & -0.068 &  0.344 & -0.098 & -0.332 &  0.023 &  0.246\\\\\n",
       "\tingresos &  0.208 &  1.000 & -0.437 &  0.340 & -0.230 &  0.620 &  0.226 &  0.363 &  0.330\\\\\n",
       "\tanalfabetismo &  0.108 & -0.437 &  1.000 & -0.588 &  0.703 & -0.657 & -0.672 &  0.077 &  0.009\\\\\n",
       "\tesp\\_vida & -0.068 &  0.340 & -0.588 &  1.000 & -0.781 &  0.582 &  0.262 & -0.107 &  0.091\\\\\n",
       "\tasesinatos &  0.344 & -0.230 &  0.703 & -0.781 &  1.000 & -0.488 & -0.539 &  0.228 & -0.185\\\\\n",
       "\tuniversitarios & -0.098 &  0.620 & -0.657 &  0.582 & -0.488 &  1.000 &  0.367 &  0.334 & -0.088\\\\\n",
       "\theladas & -0.332 &  0.226 & -0.672 &  0.262 & -0.539 &  0.367 &  1.000 &  0.059 &  0.002\\\\\n",
       "\tarea &  0.023 &  0.363 &  0.077 & -0.107 &  0.228 &  0.334 &  0.059 &  1.000 & -0.341\\\\\n",
       "\tdensidad\\_pobl &  0.246 &  0.330 &  0.009 &  0.091 & -0.185 & -0.088 &  0.002 & -0.341 &  1.000\\\\\n",
       "\\end{tabular}\n"
      ],
      "text/markdown": [
       "\n",
       "A matrix: 9 × 9 of type dbl\n",
       "\n",
       "| <!--/--> | habitantes | ingresos | analfabetismo | esp_vida | asesinatos | universitarios | heladas | area | densidad_pobl |\n",
       "|---|---|---|---|---|---|---|---|---|---|\n",
       "| habitantes |  1.000 |  0.208 |  0.108 | -0.068 |  0.344 | -0.098 | -0.332 |  0.023 |  0.246 |\n",
       "| ingresos |  0.208 |  1.000 | -0.437 |  0.340 | -0.230 |  0.620 |  0.226 |  0.363 |  0.330 |\n",
       "| analfabetismo |  0.108 | -0.437 |  1.000 | -0.588 |  0.703 | -0.657 | -0.672 |  0.077 |  0.009 |\n",
       "| esp_vida | -0.068 |  0.340 | -0.588 |  1.000 | -0.781 |  0.582 |  0.262 | -0.107 |  0.091 |\n",
       "| asesinatos |  0.344 | -0.230 |  0.703 | -0.781 |  1.000 | -0.488 | -0.539 |  0.228 | -0.185 |\n",
       "| universitarios | -0.098 |  0.620 | -0.657 |  0.582 | -0.488 |  1.000 |  0.367 |  0.334 | -0.088 |\n",
       "| heladas | -0.332 |  0.226 | -0.672 |  0.262 | -0.539 |  0.367 |  1.000 |  0.059 |  0.002 |\n",
       "| area |  0.023 |  0.363 |  0.077 | -0.107 |  0.228 |  0.334 |  0.059 |  1.000 | -0.341 |\n",
       "| densidad_pobl |  0.246 |  0.330 |  0.009 |  0.091 | -0.185 | -0.088 |  0.002 | -0.341 |  1.000 |\n",
       "\n"
      ],
      "text/plain": [
       "               habitantes ingresos analfabetismo esp_vida asesinatos\n",
       "habitantes      1.000      0.208    0.108        -0.068    0.344    \n",
       "ingresos        0.208      1.000   -0.437         0.340   -0.230    \n",
       "analfabetismo   0.108     -0.437    1.000        -0.588    0.703    \n",
       "esp_vida       -0.068      0.340   -0.588         1.000   -0.781    \n",
       "asesinatos      0.344     -0.230    0.703        -0.781    1.000    \n",
       "universitarios -0.098      0.620   -0.657         0.582   -0.488    \n",
       "heladas        -0.332      0.226   -0.672         0.262   -0.539    \n",
       "area            0.023      0.363    0.077        -0.107    0.228    \n",
       "densidad_pobl   0.246      0.330    0.009         0.091   -0.185    \n",
       "               universitarios heladas area   densidad_pobl\n",
       "habitantes     -0.098         -0.332   0.023  0.246       \n",
       "ingresos        0.620          0.226   0.363  0.330       \n",
       "analfabetismo  -0.657         -0.672   0.077  0.009       \n",
       "esp_vida        0.582          0.262  -0.107  0.091       \n",
       "asesinatos     -0.488         -0.539   0.228 -0.185       \n",
       "universitarios  1.000          0.367   0.334 -0.088       \n",
       "heladas         0.367          1.000   0.059  0.002       \n",
       "area            0.334          0.059   1.000 -0.341       \n",
       "densidad_pobl  -0.088          0.002  -0.341  1.000       "
      ]
     },
     "metadata": {},
     "output_type": "display_data"
    }
   ],
   "source": [
    "round(cor(x = datos, method = \"pearson\"), 3)"
   ]
  },
  {
   "cell_type": "markdown",
   "metadata": {},
   "source": [
    "\n"
   ]
  },
  {
   "cell_type": "code",
   "execution_count": 40,
   "metadata": {},
   "outputs": [
    {
     "data": {
      "text/plain": [
       "\n",
       "Call:\n",
       "lm(formula = esp_vida ~ habitantes + ingresos + analfabetismo + \n",
       "    asesinatos + universitarios + heladas + area + densidad_pobl, \n",
       "    data = datos)\n",
       "\n",
       "Residuals:\n",
       "     Min       1Q   Median       3Q      Max \n",
       "-1.47514 -0.45887 -0.06352  0.59362  1.21823 \n",
       "\n",
       "Coefficients:\n",
       "                 Estimate Std. Error t value Pr(>|t|)    \n",
       "(Intercept)     6.995e+01  1.843e+00  37.956  < 2e-16 ***\n",
       "habitantes      6.480e-05  3.001e-05   2.159   0.0367 *  \n",
       "ingresos        2.701e-04  3.087e-04   0.875   0.3867    \n",
       "analfabetismo   3.029e-01  4.024e-01   0.753   0.4559    \n",
       "asesinatos     -3.286e-01  4.941e-02  -6.652 5.12e-08 ***\n",
       "universitarios  4.291e-02  2.332e-02   1.840   0.0730 .  \n",
       "heladas        -4.580e-03  3.189e-03  -1.436   0.1585    \n",
       "area           -1.558e-06  1.914e-06  -0.814   0.4205    \n",
       "densidad_pobl  -1.105e-03  7.312e-04  -1.511   0.1385    \n",
       "---\n",
       "Signif. codes:  0 ‘***’ 0.001 ‘**’ 0.01 ‘*’ 0.05 ‘.’ 0.1 ‘ ’ 1\n",
       "\n",
       "Residual standard error: 0.7337 on 41 degrees of freedom\n",
       "Multiple R-squared:  0.7501,\tAdjusted R-squared:  0.7013 \n",
       "F-statistic: 15.38 on 8 and 41 DF,  p-value: 3.787e-10\n"
      ]
     },
     "metadata": {},
     "output_type": "display_data"
    }
   ],
   "source": [
    "modelo <- lm(esp_vida ~ habitantes + ingresos + analfabetismo + asesinatos +\n",
    "               universitarios + heladas + area + densidad_pobl, data = datos )\n",
    "summary(modelo)\n"
   ]
  },
  {
   "cell_type": "code",
   "execution_count": 49,
   "metadata": {},
   "outputs": [
    {
     "data": {
      "text/plain": [
       "\n",
       "Call:\n",
       "lm(formula = esp_vida ~ densidad_pobl, data = datos)\n",
       "\n",
       "Residuals:\n",
       "    Min      1Q  Median      3Q     Max \n",
       "-2.8876 -0.7612 -0.1896  1.0250  2.7292 \n",
       "\n",
       "Coefficients:\n",
       "               Estimate Std. Error t value Pr(>|t|)    \n",
       "(Intercept)   7.080e+01  2.312e-01 306.193   <2e-16 ***\n",
       "densidad_pobl 5.531e-04  8.731e-04   0.634    0.529    \n",
       "---\n",
       "Signif. codes:  0 ‘***’ 0.001 ‘**’ 0.01 ‘*’ 0.05 ‘.’ 0.1 ‘ ’ 1\n",
       "\n",
       "Residual standard error: 1.351 on 48 degrees of freedom\n",
       "Multiple R-squared:  0.008292,\tAdjusted R-squared:  -0.01237 \n",
       "F-statistic: 0.4014 on 1 and 48 DF,  p-value: 0.5294\n"
      ]
     },
     "metadata": {},
     "output_type": "display_data"
    },
    {
     "data": {
      "text/html": [
       "<table>\n",
       "<caption>A anova: 2 × 6</caption>\n",
       "<thead>\n",
       "\t<tr><th></th><th scope=col>Res.Df</th><th scope=col>RSS</th><th scope=col>Df</th><th scope=col>Sum of Sq</th><th scope=col>F</th><th scope=col>Pr(&gt;F)</th></tr>\n",
       "\t<tr><th></th><th scope=col>&lt;dbl&gt;</th><th scope=col>&lt;dbl&gt;</th><th scope=col>&lt;dbl&gt;</th><th scope=col>&lt;dbl&gt;</th><th scope=col>&lt;dbl&gt;</th><th scope=col>&lt;dbl&gt;</th></tr>\n",
       "</thead>\n",
       "<tbody>\n",
       "\t<tr><th scope=row>1</th><td>41</td><td>22.06833</td><td>NA</td><td>       NA</td><td>      NA</td><td>          NA</td></tr>\n",
       "\t<tr><th scope=row>2</th><td>48</td><td>87.56681</td><td>-7</td><td>-65.49847</td><td>17.38391</td><td>1.893973e-10</td></tr>\n",
       "</tbody>\n",
       "</table>\n"
      ],
      "text/latex": [
       "A anova: 2 × 6\n",
       "\\begin{tabular}{r|llllll}\n",
       "  & Res.Df & RSS & Df & Sum of Sq & F & Pr(>F)\\\\\n",
       "  & <dbl> & <dbl> & <dbl> & <dbl> & <dbl> & <dbl>\\\\\n",
       "\\hline\n",
       "\t1 & 41 & 22.06833 & NA &        NA &       NA &           NA\\\\\n",
       "\t2 & 48 & 87.56681 & -7 & -65.49847 & 17.38391 & 1.893973e-10\\\\\n",
       "\\end{tabular}\n"
      ],
      "text/markdown": [
       "\n",
       "A anova: 2 × 6\n",
       "\n",
       "| <!--/--> | Res.Df &lt;dbl&gt; | RSS &lt;dbl&gt; | Df &lt;dbl&gt; | Sum of Sq &lt;dbl&gt; | F &lt;dbl&gt; | Pr(&gt;F) &lt;dbl&gt; |\n",
       "|---|---|---|---|---|---|---|\n",
       "| 1 | 41 | 22.06833 | NA |        NA |       NA |           NA |\n",
       "| 2 | 48 | 87.56681 | -7 | -65.49847 | 17.38391 | 1.893973e-10 |\n",
       "\n"
      ],
      "text/plain": [
       "  Res.Df RSS      Df Sum of Sq F        Pr(>F)      \n",
       "1 41     22.06833 NA        NA       NA           NA\n",
       "2 48     87.56681 -7 -65.49847 17.38391 1.893973e-10"
      ]
     },
     "metadata": {},
     "output_type": "display_data"
    }
   ],
   "source": [
    "# Eliminamos todas las variables menos densidad de problacion y vemos el predictor no es signicativo y \n",
    "#    ademas que R^2 es mucho peor. Usando anova, nos quedamos con el modelo inicial\n",
    "\n",
    "modelo2 <- lm(esp_vida ~ densidad_pobl, data = datos )\n",
    "summary(modelo2)\n",
    "anova(modelo,modelo2)"
   ]
  },
  {
   "cell_type": "code",
   "execution_count": 48,
   "metadata": {},
   "outputs": [
    {
     "data": {
      "text/plain": [
       "\n",
       "Call:\n",
       "lm(formula = esp_vida ~ habitantes + asesinatos + universitarios, \n",
       "    data = datos)\n",
       "\n",
       "Residuals:\n",
       "     Min       1Q   Median       3Q      Max \n",
       "-1.60049 -0.45970  0.05036  0.44988  2.26044 \n",
       "\n",
       "Coefficients:\n",
       "                 Estimate Std. Error t value Pr(>|t|)    \n",
       "(Intercept)     7.041e+01  9.686e-01  72.700  < 2e-16 ***\n",
       "habitantes      6.250e-05  2.592e-05   2.411   0.0199 *  \n",
       "asesinatos     -2.664e-01  3.574e-02  -7.454 1.91e-09 ***\n",
       "universitarios  4.075e-02  1.541e-02   2.644   0.0112 *  \n",
       "---\n",
       "Signif. codes:  0 ‘***’ 0.001 ‘**’ 0.01 ‘*’ 0.05 ‘.’ 0.1 ‘ ’ 1\n",
       "\n",
       "Residual standard error: 0.758 on 46 degrees of freedom\n",
       "Multiple R-squared:  0.7007,\tAdjusted R-squared:  0.6812 \n",
       "F-statistic: 35.89 on 3 and 46 DF,  p-value: 4.15e-12\n"
      ]
     },
     "metadata": {},
     "output_type": "display_data"
    },
    {
     "data": {
      "text/html": [
       "<table>\n",
       "<caption>A anova: 2 × 6</caption>\n",
       "<thead>\n",
       "\t<tr><th></th><th scope=col>Res.Df</th><th scope=col>RSS</th><th scope=col>Df</th><th scope=col>Sum of Sq</th><th scope=col>F</th><th scope=col>Pr(&gt;F)</th></tr>\n",
       "\t<tr><th></th><th scope=col>&lt;dbl&gt;</th><th scope=col>&lt;dbl&gt;</th><th scope=col>&lt;dbl&gt;</th><th scope=col>&lt;dbl&gt;</th><th scope=col>&lt;dbl&gt;</th><th scope=col>&lt;dbl&gt;</th></tr>\n",
       "</thead>\n",
       "<tbody>\n",
       "\t<tr><th scope=row>1</th><td>41</td><td>22.06833</td><td>NA</td><td>      NA</td><td>      NA</td><td>       NA</td></tr>\n",
       "\t<tr><th scope=row>2</th><td>46</td><td>26.42982</td><td>-5</td><td>-4.36149</td><td>1.620613</td><td>0.1761754</td></tr>\n",
       "</tbody>\n",
       "</table>\n"
      ],
      "text/latex": [
       "A anova: 2 × 6\n",
       "\\begin{tabular}{r|llllll}\n",
       "  & Res.Df & RSS & Df & Sum of Sq & F & Pr(>F)\\\\\n",
       "  & <dbl> & <dbl> & <dbl> & <dbl> & <dbl> & <dbl>\\\\\n",
       "\\hline\n",
       "\t1 & 41 & 22.06833 & NA &       NA &       NA &        NA\\\\\n",
       "\t2 & 46 & 26.42982 & -5 & -4.36149 & 1.620613 & 0.1761754\\\\\n",
       "\\end{tabular}\n"
      ],
      "text/markdown": [
       "\n",
       "A anova: 2 × 6\n",
       "\n",
       "| <!--/--> | Res.Df &lt;dbl&gt; | RSS &lt;dbl&gt; | Df &lt;dbl&gt; | Sum of Sq &lt;dbl&gt; | F &lt;dbl&gt; | Pr(&gt;F) &lt;dbl&gt; |\n",
       "|---|---|---|---|---|---|---|\n",
       "| 1 | 41 | 22.06833 | NA |       NA |       NA |        NA |\n",
       "| 2 | 46 | 26.42982 | -5 | -4.36149 | 1.620613 | 0.1761754 |\n",
       "\n"
      ],
      "text/plain": [
       "  Res.Df RSS      Df Sum of Sq F        Pr(>F)   \n",
       "1 41     22.06833 NA       NA        NA        NA\n",
       "2 46     26.42982 -5 -4.36149  1.620613 0.1761754"
      ]
     },
     "metadata": {},
     "output_type": "display_data"
    }
   ],
   "source": [
    "# Eliminamos todas las variables cuyo p-valor sea superior 0.1. El valor de R^2 es mas bajo que el modelo inicial\n",
    "#  Usando anova, nos quedamos con el modelo este modelo\n",
    "modelo3 <- lm(esp_vida ~ habitantes + asesinatos +\n",
    "               universitarios, data = datos )\n",
    "summary(modelo3)\n",
    "anova(modelo,modelo3)"
   ]
  },
  {
   "cell_type": "code",
   "execution_count": 50,
   "metadata": {},
   "outputs": [
    {
     "data": {
      "text/plain": [
       "\n",
       "Call:\n",
       "lm(formula = esp_vida ~ habitantes + ingresos + analfabetismo + \n",
       "    asesinatos + universitarios + heladas + densidad_pobl, data = datos)\n",
       "\n",
       "Residuals:\n",
       "     Min       1Q   Median       3Q      Max \n",
       "-1.50252 -0.40471 -0.06079  0.58682  1.43862 \n",
       "\n",
       "Coefficients:\n",
       "                 Estimate Std. Error t value Pr(>|t|)    \n",
       "(Intercept)     7.094e+01  1.378e+00  51.488  < 2e-16 ***\n",
       "habitantes      6.249e-05  2.976e-05   2.100   0.0418 *  \n",
       "ingresos        1.485e-04  2.690e-04   0.552   0.5840    \n",
       "analfabetismo   1.452e-01  3.512e-01   0.413   0.6814    \n",
       "asesinatos     -3.319e-01  4.904e-02  -6.768 3.12e-08 ***\n",
       "universitarios  3.746e-02  2.225e-02   1.684   0.0996 .  \n",
       "heladas        -5.533e-03  2.955e-03  -1.873   0.0681 .  \n",
       "densidad_pobl  -7.995e-04  6.251e-04  -1.279   0.2079    \n",
       "---\n",
       "Signif. codes:  0 ‘***’ 0.001 ‘**’ 0.01 ‘*’ 0.05 ‘.’ 0.1 ‘ ’ 1\n",
       "\n",
       "Residual standard error: 0.7307 on 42 degrees of freedom\n",
       "Multiple R-squared:  0.746,\tAdjusted R-squared:  0.7037 \n",
       "F-statistic: 17.63 on 7 and 42 DF,  p-value: 1.173e-10\n"
      ]
     },
     "metadata": {},
     "output_type": "display_data"
    },
    {
     "data": {
      "text/html": [
       "<table>\n",
       "<caption>A anova: 2 × 6</caption>\n",
       "<thead>\n",
       "\t<tr><th></th><th scope=col>Res.Df</th><th scope=col>RSS</th><th scope=col>Df</th><th scope=col>Sum of Sq</th><th scope=col>F</th><th scope=col>Pr(&gt;F)</th></tr>\n",
       "\t<tr><th></th><th scope=col>&lt;dbl&gt;</th><th scope=col>&lt;dbl&gt;</th><th scope=col>&lt;dbl&gt;</th><th scope=col>&lt;dbl&gt;</th><th scope=col>&lt;dbl&gt;</th><th scope=col>&lt;dbl&gt;</th></tr>\n",
       "</thead>\n",
       "<tbody>\n",
       "\t<tr><th scope=row>1</th><td>46</td><td>26.42982</td><td>NA</td><td>      NA</td><td>      NA</td><td>      NA</td></tr>\n",
       "\t<tr><th scope=row>2</th><td>42</td><td>22.42473</td><td> 4</td><td>4.005096</td><td>1.875318</td><td>0.132649</td></tr>\n",
       "</tbody>\n",
       "</table>\n"
      ],
      "text/latex": [
       "A anova: 2 × 6\n",
       "\\begin{tabular}{r|llllll}\n",
       "  & Res.Df & RSS & Df & Sum of Sq & F & Pr(>F)\\\\\n",
       "  & <dbl> & <dbl> & <dbl> & <dbl> & <dbl> & <dbl>\\\\\n",
       "\\hline\n",
       "\t1 & 46 & 26.42982 & NA &       NA &       NA &       NA\\\\\n",
       "\t2 & 42 & 22.42473 &  4 & 4.005096 & 1.875318 & 0.132649\\\\\n",
       "\\end{tabular}\n"
      ],
      "text/markdown": [
       "\n",
       "A anova: 2 × 6\n",
       "\n",
       "| <!--/--> | Res.Df &lt;dbl&gt; | RSS &lt;dbl&gt; | Df &lt;dbl&gt; | Sum of Sq &lt;dbl&gt; | F &lt;dbl&gt; | Pr(&gt;F) &lt;dbl&gt; |\n",
       "|---|---|---|---|---|---|---|\n",
       "| 1 | 46 | 26.42982 | NA |       NA |       NA |       NA |\n",
       "| 2 | 42 | 22.42473 |  4 | 4.005096 | 1.875318 | 0.132649 |\n",
       "\n"
      ],
      "text/plain": [
       "  Res.Df RSS      Df Sum of Sq F        Pr(>F)  \n",
       "1 46     26.42982 NA       NA        NA       NA\n",
       "2 42     22.42473  4 4.005096  1.875318 0.132649"
      ]
     },
     "metadata": {},
     "output_type": "display_data"
    }
   ],
   "source": [
    "# Eliminamos la variable area por tener el mayor p-valor. El valor de R^2 ajustado es ligeramente superior que el \n",
    "#    del modelo inicial. Usando anova, nos quedamos con el modelo 3 \n",
    "\n",
    "modelo4 <- lm(esp_vida ~ habitantes + ingresos + analfabetismo + asesinatos +\n",
    "               universitarios + heladas + densidad_pobl, data = datos )\n",
    "summary(modelo4)\n",
    "anova(modelo3,modelo4)"
   ]
  },
  {
   "cell_type": "markdown",
   "metadata": {},
   "source": [
    "\n",
    "\n",
    "En R la función step() permite encontrar el mejor modelo basado en AIC utilizando cualquiera de las 3 variantes del método paso a paso. El AIC tiende a ser más restrictivo e introducir menos predictores que el $R^2$ ajustado. Para un mismo set de datos, no todos los métodos tienen porque concluir en un mismo modelo."
   ]
  },
  {
   "cell_type": "code",
   "execution_count": 10,
   "metadata": {
    "scrolled": true
   },
   "outputs": [
    {
     "name": "stdout",
     "output_type": "stream",
     "text": [
      "Start:  AIC=-22.89\n",
      "esp_vida ~ habitantes + ingresos + analfabetismo + asesinatos + \n",
      "    universitarios + heladas + area + densidad_pobl\n",
      "\n",
      "                 Df Sum of Sq    RSS     AIC\n",
      "- analfabetismo   1    0.3050 22.373 -24.208\n",
      "- area            1    0.3564 22.425 -24.093\n",
      "- ingresos        1    0.4120 22.480 -23.969\n",
      "<none>                        22.068 -22.894\n",
      "- heladas         1    1.1102 23.178 -22.440\n",
      "- densidad_pobl   1    1.2288 23.297 -22.185\n",
      "- universitarios  1    1.8225 23.891 -20.926\n",
      "- habitantes      1    2.5095 24.578 -19.509\n",
      "- asesinatos      1   23.8173 45.886  11.707\n",
      "\n",
      "Step:  AIC=-24.21\n",
      "esp_vida ~ habitantes + ingresos + asesinatos + universitarios + \n",
      "    heladas + area + densidad_pobl\n",
      "\n",
      "                 Df Sum of Sq    RSS     AIC\n",
      "- area            1    0.1427 22.516 -25.890\n",
      "- ingresos        1    0.2316 22.605 -25.693\n",
      "<none>                        22.373 -24.208\n",
      "- densidad_pobl   1    0.9286 23.302 -24.174\n",
      "- universitarios  1    1.5218 23.895 -22.918\n",
      "+ analfabetismo   1    0.3050 22.068 -22.894\n",
      "- habitantes      1    2.2047 24.578 -21.509\n",
      "- heladas         1    3.1324 25.506 -19.656\n",
      "- asesinatos      1   26.7071 49.080  13.072\n",
      "\n",
      "Step:  AIC=-25.89\n",
      "esp_vida ~ habitantes + ingresos + asesinatos + universitarios + \n",
      "    heladas + densidad_pobl\n",
      "\n",
      "                 Df Sum of Sq    RSS     AIC\n",
      "- ingresos        1     0.132 22.648 -27.598\n",
      "- densidad_pobl   1     0.786 23.302 -26.174\n",
      "<none>                        22.516 -25.890\n",
      "- universitarios  1     1.424 23.940 -24.824\n",
      "+ area            1     0.143 22.373 -24.208\n",
      "+ analfabetismo   1     0.091 22.425 -24.093\n",
      "- habitantes      1     2.332 24.848 -22.962\n",
      "- heladas         1     3.304 25.820 -21.043\n",
      "- asesinatos      1    32.779 55.295  17.033\n",
      "\n",
      "Step:  AIC=-27.6\n",
      "esp_vida ~ habitantes + asesinatos + universitarios + heladas + \n",
      "    densidad_pobl\n",
      "\n",
      "                 Df Sum of Sq    RSS     AIC\n",
      "- densidad_pobl   1     0.660 23.308 -28.161\n",
      "<none>                        22.648 -27.598\n",
      "+ ingresos        1     0.132 22.516 -25.890\n",
      "+ analfabetismo   1     0.061 22.587 -25.732\n",
      "+ area            1     0.043 22.605 -25.693\n",
      "- habitantes      1     2.659 25.307 -24.046\n",
      "- heladas         1     3.179 25.827 -23.030\n",
      "- universitarios  1     3.966 26.614 -21.529\n",
      "- asesinatos      1    33.626 56.274  15.910\n",
      "\n",
      "Step:  AIC=-28.16\n",
      "esp_vida ~ habitantes + asesinatos + universitarios + heladas\n",
      "\n",
      "                 Df Sum of Sq    RSS     AIC\n",
      "<none>                        23.308 -28.161\n",
      "+ densidad_pobl   1     0.660 22.648 -27.598\n",
      "+ ingresos        1     0.006 23.302 -26.174\n",
      "+ analfabetismo   1     0.004 23.304 -26.170\n",
      "+ area            1     0.001 23.307 -26.163\n",
      "- habitantes      1     2.064 25.372 -25.920\n",
      "- heladas         1     3.122 26.430 -23.877\n",
      "- universitarios  1     5.112 28.420 -20.246\n",
      "- asesinatos      1    34.816 58.124  15.528\n"
     ]
    },
    {
     "data": {
      "text/plain": [
       "\n",
       "Call:\n",
       "lm(formula = esp_vida ~ habitantes + asesinatos + universitarios + \n",
       "    heladas, data = datos)\n",
       "\n",
       "Coefficients:\n",
       "   (Intercept)      habitantes      asesinatos  universitarios         heladas  \n",
       "     7.103e+01       5.014e-05      -3.001e-01       4.658e-02      -5.943e-03  \n"
      ]
     },
     "metadata": {},
     "output_type": "display_data"
    }
   ],
   "source": [
    "step(object = modelo, direction = \"both\", trace = 1)\n",
    "# direction: backward, forward or both\n",
    "# trace: si es positivo, muestra todas los pasos, si es zero no."
   ]
  },
  {
   "cell_type": "code",
   "execution_count": 56,
   "metadata": {},
   "outputs": [
    {
     "data": {
      "text/plain": [
       "\n",
       "Call:\n",
       "lm(formula = esp_vida ~ habitantes + asesinatos + universitarios + \n",
       "    heladas, data = datos)\n",
       "\n",
       "Residuals:\n",
       "     Min       1Q   Median       3Q      Max \n",
       "-1.47095 -0.53464 -0.03701  0.57621  1.50683 \n",
       "\n",
       "Coefficients:\n",
       "                 Estimate Std. Error t value Pr(>|t|)    \n",
       "(Intercept)     7.103e+01  9.529e-01  74.542  < 2e-16 ***\n",
       "habitantes      5.014e-05  2.512e-05   1.996  0.05201 .  \n",
       "asesinatos     -3.001e-01  3.661e-02  -8.199 1.77e-10 ***\n",
       "universitarios  4.658e-02  1.483e-02   3.142  0.00297 ** \n",
       "heladas        -5.943e-03  2.421e-03  -2.455  0.01802 *  \n",
       "---\n",
       "Signif. codes:  0 ‘***’ 0.001 ‘**’ 0.01 ‘*’ 0.05 ‘.’ 0.1 ‘ ’ 1\n",
       "\n",
       "Residual standard error: 0.7197 on 45 degrees of freedom\n",
       "Multiple R-squared:  0.736,\tAdjusted R-squared:  0.7126 \n",
       "F-statistic: 31.37 on 4 and 45 DF,  p-value: 1.696e-12\n"
      ]
     },
     "metadata": {},
     "output_type": "display_data"
    },
    {
     "data": {
      "text/html": [
       "<table>\n",
       "<caption>A anova: 2 × 6</caption>\n",
       "<thead>\n",
       "\t<tr><th></th><th scope=col>Res.Df</th><th scope=col>RSS</th><th scope=col>Df</th><th scope=col>Sum of Sq</th><th scope=col>F</th><th scope=col>Pr(&gt;F)</th></tr>\n",
       "\t<tr><th></th><th scope=col>&lt;dbl&gt;</th><th scope=col>&lt;dbl&gt;</th><th scope=col>&lt;dbl&gt;</th><th scope=col>&lt;dbl&gt;</th><th scope=col>&lt;dbl&gt;</th><th scope=col>&lt;dbl&gt;</th></tr>\n",
       "</thead>\n",
       "<tbody>\n",
       "\t<tr><th scope=row>1</th><td>41</td><td>22.06833</td><td>NA</td><td>       NA</td><td>       NA</td><td>       NA</td></tr>\n",
       "\t<tr><th scope=row>2</th><td>45</td><td>23.30804</td><td>-4</td><td>-1.239709</td><td>0.5758033</td><td>0.6817522</td></tr>\n",
       "</tbody>\n",
       "</table>\n"
      ],
      "text/latex": [
       "A anova: 2 × 6\n",
       "\\begin{tabular}{r|llllll}\n",
       "  & Res.Df & RSS & Df & Sum of Sq & F & Pr(>F)\\\\\n",
       "  & <dbl> & <dbl> & <dbl> & <dbl> & <dbl> & <dbl>\\\\\n",
       "\\hline\n",
       "\t1 & 41 & 22.06833 & NA &        NA &        NA &        NA\\\\\n",
       "\t2 & 45 & 23.30804 & -4 & -1.239709 & 0.5758033 & 0.6817522\\\\\n",
       "\\end{tabular}\n"
      ],
      "text/markdown": [
       "\n",
       "A anova: 2 × 6\n",
       "\n",
       "| <!--/--> | Res.Df &lt;dbl&gt; | RSS &lt;dbl&gt; | Df &lt;dbl&gt; | Sum of Sq &lt;dbl&gt; | F &lt;dbl&gt; | Pr(&gt;F) &lt;dbl&gt; |\n",
       "|---|---|---|---|---|---|---|\n",
       "| 1 | 41 | 22.06833 | NA |        NA |        NA |        NA |\n",
       "| 2 | 45 | 23.30804 | -4 | -1.239709 | 0.5758033 | 0.6817522 |\n",
       "\n"
      ],
      "text/plain": [
       "  Res.Df RSS      Df Sum of Sq F         Pr(>F)   \n",
       "1 41     22.06833 NA        NA        NA        NA\n",
       "2 45     23.30804 -4 -1.239709 0.5758033 0.6817522"
      ]
     },
     "metadata": {},
     "output_type": "display_data"
    }
   ],
   "source": [
    "modelo_final_step <- lm(esp_vida ~ habitantes + asesinatos + universitarios + heladas, data = datos )\n",
    "summary(modelo_final_step)\n",
    "anova(modelo,modelo_final_step)"
   ]
  },
  {
   "cell_type": "markdown",
   "metadata": {},
   "source": [
    "## Observaciones:\n",
    "\n",
    "* El modelo final tiene un $R^2$ ajustado de 0.7126, que es mayor que el del modelo inicial\n",
    "* Tiene la desventaja de que no controlamos totalmente como seleccionamos los predictores\n",
    "* El modelo final usando step y el inicial no tienen diferencia significativa"
   ]
  },
  {
   "cell_type": "code",
   "execution_count": 55,
   "metadata": {},
   "outputs": [
    {
     "data": {
      "text/html": [
       "<table>\n",
       "<caption>A anova: 2 × 6</caption>\n",
       "<thead>\n",
       "\t<tr><th></th><th scope=col>Res.Df</th><th scope=col>RSS</th><th scope=col>Df</th><th scope=col>Sum of Sq</th><th scope=col>F</th><th scope=col>Pr(&gt;F)</th></tr>\n",
       "\t<tr><th></th><th scope=col>&lt;dbl&gt;</th><th scope=col>&lt;dbl&gt;</th><th scope=col>&lt;dbl&gt;</th><th scope=col>&lt;dbl&gt;</th><th scope=col>&lt;dbl&gt;</th><th scope=col>&lt;dbl&gt;</th></tr>\n",
       "</thead>\n",
       "<tbody>\n",
       "\t<tr><th scope=row>1</th><td>46</td><td>26.42982</td><td>NA</td><td>      NA</td><td>      NA</td><td>        NA</td></tr>\n",
       "\t<tr><th scope=row>2</th><td>45</td><td>23.30804</td><td> 1</td><td>3.121781</td><td>6.027111</td><td>0.01801778</td></tr>\n",
       "</tbody>\n",
       "</table>\n"
      ],
      "text/latex": [
       "A anova: 2 × 6\n",
       "\\begin{tabular}{r|llllll}\n",
       "  & Res.Df & RSS & Df & Sum of Sq & F & Pr(>F)\\\\\n",
       "  & <dbl> & <dbl> & <dbl> & <dbl> & <dbl> & <dbl>\\\\\n",
       "\\hline\n",
       "\t1 & 46 & 26.42982 & NA &       NA &       NA &         NA\\\\\n",
       "\t2 & 45 & 23.30804 &  1 & 3.121781 & 6.027111 & 0.01801778\\\\\n",
       "\\end{tabular}\n"
      ],
      "text/markdown": [
       "\n",
       "A anova: 2 × 6\n",
       "\n",
       "| <!--/--> | Res.Df &lt;dbl&gt; | RSS &lt;dbl&gt; | Df &lt;dbl&gt; | Sum of Sq &lt;dbl&gt; | F &lt;dbl&gt; | Pr(&gt;F) &lt;dbl&gt; |\n",
       "|---|---|---|---|---|---|---|\n",
       "| 1 | 46 | 26.42982 | NA |       NA |       NA |         NA |\n",
       "| 2 | 45 | 23.30804 |  1 | 3.121781 | 6.027111 | 0.01801778 |\n",
       "\n"
      ],
      "text/plain": [
       "  Res.Df RSS      Df Sum of Sq F        Pr(>F)    \n",
       "1 46     26.42982 NA       NA        NA         NA\n",
       "2 45     23.30804  1 3.121781  6.027111 0.01801778"
      ]
     },
     "metadata": {},
     "output_type": "display_data"
    }
   ],
   "source": [
    "# Usando anova, nos quedamos con modelo calculado con step frente al 3\n",
    "anova(modelo3,modelo_final_step)"
   ]
  },
  {
   "cell_type": "code",
   "execution_count": 58,
   "metadata": {},
   "outputs": [
    {
     "data": {
      "text/plain": [
       "\n",
       "Call:\n",
       "lm(formula = esp_vida ~ habitantes + asesinatos + universitarios + \n",
       "    heladas, data = datos)\n",
       "\n",
       "Residuals:\n",
       "     Min       1Q   Median       3Q      Max \n",
       "-1.47095 -0.53464 -0.03701  0.57621  1.50683 \n",
       "\n",
       "Coefficients:\n",
       "                 Estimate Std. Error t value Pr(>|t|)    \n",
       "(Intercept)     7.103e+01  9.529e-01  74.542  < 2e-16 ***\n",
       "habitantes      5.014e-05  2.512e-05   1.996  0.05201 .  \n",
       "asesinatos     -3.001e-01  3.661e-02  -8.199 1.77e-10 ***\n",
       "universitarios  4.658e-02  1.483e-02   3.142  0.00297 ** \n",
       "heladas        -5.943e-03  2.421e-03  -2.455  0.01802 *  \n",
       "---\n",
       "Signif. codes:  0 ‘***’ 0.001 ‘**’ 0.01 ‘*’ 0.05 ‘.’ 0.1 ‘ ’ 1\n",
       "\n",
       "Residual standard error: 0.7197 on 45 degrees of freedom\n",
       "Multiple R-squared:  0.736,\tAdjusted R-squared:  0.7126 \n",
       "F-statistic: 31.37 on 4 and 45 DF,  p-value: 1.696e-12\n"
      ]
     },
     "metadata": {},
     "output_type": "display_data"
    },
    {
     "data": {
      "text/html": [
       "<table>\n",
       "<caption>A anova: 2 × 6</caption>\n",
       "<thead>\n",
       "\t<tr><th></th><th scope=col>Res.Df</th><th scope=col>RSS</th><th scope=col>Df</th><th scope=col>Sum of Sq</th><th scope=col>F</th><th scope=col>Pr(&gt;F)</th></tr>\n",
       "\t<tr><th></th><th scope=col>&lt;dbl&gt;</th><th scope=col>&lt;dbl&gt;</th><th scope=col>&lt;dbl&gt;</th><th scope=col>&lt;dbl&gt;</th><th scope=col>&lt;dbl&gt;</th><th scope=col>&lt;dbl&gt;</th></tr>\n",
       "</thead>\n",
       "<tbody>\n",
       "\t<tr><th scope=row>1</th><td>46</td><td>25.37162</td><td>NA</td><td>      NA</td><td>      NA</td><td>        NA</td></tr>\n",
       "\t<tr><th scope=row>2</th><td>45</td><td>23.30804</td><td> 1</td><td>2.063582</td><td>3.984084</td><td>0.05200514</td></tr>\n",
       "</tbody>\n",
       "</table>\n"
      ],
      "text/latex": [
       "A anova: 2 × 6\n",
       "\\begin{tabular}{r|llllll}\n",
       "  & Res.Df & RSS & Df & Sum of Sq & F & Pr(>F)\\\\\n",
       "  & <dbl> & <dbl> & <dbl> & <dbl> & <dbl> & <dbl>\\\\\n",
       "\\hline\n",
       "\t1 & 46 & 25.37162 & NA &       NA &       NA &         NA\\\\\n",
       "\t2 & 45 & 23.30804 &  1 & 2.063582 & 3.984084 & 0.05200514\\\\\n",
       "\\end{tabular}\n"
      ],
      "text/markdown": [
       "\n",
       "A anova: 2 × 6\n",
       "\n",
       "| <!--/--> | Res.Df &lt;dbl&gt; | RSS &lt;dbl&gt; | Df &lt;dbl&gt; | Sum of Sq &lt;dbl&gt; | F &lt;dbl&gt; | Pr(&gt;F) &lt;dbl&gt; |\n",
       "|---|---|---|---|---|---|---|\n",
       "| 1 | 46 | 25.37162 | NA |       NA |       NA |         NA |\n",
       "| 2 | 45 | 23.30804 |  1 | 2.063582 | 3.984084 | 0.05200514 |\n",
       "\n"
      ],
      "text/plain": [
       "  Res.Df RSS      Df Sum of Sq F        Pr(>F)    \n",
       "1 46     25.37162 NA       NA        NA         NA\n",
       "2 45     23.30804  1 2.063582  3.984084 0.05200514"
      ]
     },
     "metadata": {},
     "output_type": "display_data"
    }
   ],
   "source": [
    "modelo_final_step_sin_habitantes <- lm(esp_vida ~  asesinatos + universitarios + heladas, data = datos )\n",
    "summary(modelo_final_step)\n",
    "anova(modelo_final_step_sin_habitantes,modelo_final_step)\n",
    "# Conclusions: con un nivel de confianza del 5%, el modelo dado por step y el mismo modelo sin la variable \n",
    "#     habitantes, no muestran una diferencia significativa. Nos quedamos con el más pequeño."
   ]
  },
  {
   "cell_type": "code",
   "execution_count": null,
   "metadata": {},
   "outputs": [],
   "source": []
  }
 ],
 "metadata": {
  "kernelspec": {
   "display_name": "R",
   "language": "R",
   "name": "ir"
  },
  "language_info": {
   "codemirror_mode": "r",
   "file_extension": ".r",
   "mimetype": "text/x-r-source",
   "name": "R",
   "pygments_lexer": "r",
   "version": "3.6.3"
  }
 },
 "nbformat": 4,
 "nbformat_minor": 4
}
