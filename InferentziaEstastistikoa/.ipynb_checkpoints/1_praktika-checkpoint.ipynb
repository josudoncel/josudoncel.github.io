{
 "cells": [
  {
   "cell_type": "markdown",
   "metadata": {},
   "source": [
    "# INFERENTZIA ESTATISTIKOA: Lehenengo praktika\n",
    "\n"
   ]
  },
  {
   "cell_type": "code",
   "execution_count": 2,
   "metadata": {
    "scrolled": false
   },
   "outputs": [
    {
     "name": "stderr",
     "output_type": "stream",
     "text": [
      "Warning message in file(file, \"rt\"):\n",
      "“cannot open file 'altuerak.txt': No such file or directory”\n"
     ]
    },
    {
     "ename": "ERROR",
     "evalue": "Error in file(file, \"rt\"): cannot open the connection\n",
     "output_type": "error",
     "traceback": [
      "Error in file(file, \"rt\"): cannot open the connection\nTraceback:\n",
      "1. read.table(file = \"altuerak.txt\", header = TRUE, dec = \",\", sep = \"\\t\")",
      "2. file(file, \"rt\")"
     ]
    }
   ],
   "source": [
    "# txt datuak irakurri\n",
    "\n",
    "Datuak <-read.table(file=\"altuerak.txt\", header=TRUE, dec=\",\", sep=\"\\t\")\n",
    "write.xlsx(Datuak,file=\"altuerak.xlsx\")"
   ]
  },
  {
   "cell_type": "code",
   "execution_count": null,
   "metadata": {},
   "outputs": [],
   "source": [
    "# excel datuak irakurri\n",
    "library(readxl)\n",
    "Datuakexcel <-read_excel(\"altuerak.xlsx\")"
   ]
  },
  {
   "cell_type": "markdown",
   "metadata": {},
   "source": [
    "### Datuen irakurketa "
   ]
  },
  {
   "cell_type": "code",
   "execution_count": null,
   "metadata": {},
   "outputs": [],
   "source": [
    "Datuak"
   ]
  },
  {
   "cell_type": "code",
   "execution_count": null,
   "metadata": {},
   "outputs": [],
   "source": [
    "head(Datuak)"
   ]
  },
  {
   "cell_type": "code",
   "execution_count": null,
   "metadata": {},
   "outputs": [],
   "source": [
    "summary(Datuak2)"
   ]
  },
  {
   "cell_type": "code",
   "execution_count": null,
   "metadata": {},
   "outputs": [],
   "source": [
    "str(Datuak)"
   ]
  },
  {
   "cell_type": "markdown",
   "metadata": {},
   "source": [
    "### Aldagai berriak sortu"
   ]
  },
  {
   "cell_type": "code",
   "execution_count": null,
   "metadata": {},
   "outputs": [],
   "source": [
    "# JAIOTERRIA (numerikoa) FAKTORE BIHURTU: (1,2,3) -> (Araba, Bizkaia, Gipuzkoa)\n",
    "\n",
    "Datuak$jaioterria.f <- factor(Datuak$JAIOTERRIA, levels=c(1,2,3), \n",
    "                              labels=c(\"Araba\", \"Bizkaia\", \"Gipuzkoa\"))"
   ]
  },
  {
   "cell_type": "markdown",
   "metadata": {},
   "source": [
    "### Eragiketak egiten aldagaiekin."
   ]
  },
  {
   "cell_type": "code",
   "execution_count": null,
   "metadata": {},
   "outputs": [],
   "source": [
    "# Lehenengo adibidea: aitaren eta amaren ateko altueren diferentzia\n",
    "\n",
    "Datuak$diferentzia <- Datuak$AITARENA - Datuak$AMARENA\n",
    "\n",
    "# Bigarren adibidea: imc kalkulatu\n",
    "\n",
    "Datuak$imc <- Datuak$PISUA/(Datuak$ALTUERA/100)^2\n",
    "\n",
    "# Hirugarren adibidea: imc>25 baino handiagoa bada, obesitate=1, bestela obesitate=0\n",
    "\n",
    "Datuak$obesitate <-as.factor(ifelse(Datuak$imc>25, 1,0))\n",
    "\n",
    "# Laugarren adibidea: aldagaiak tartekatu\n",
    "\n",
    "Datuak$altuerakTarteak <- cut(Datuak$imc, breaks = c(0,18.49,19.99,24.99,100), \n",
    "                              labels=c(\"Gutxiegi\", \"Normal\",\"Gehiegi\",\"Obesitate\"), right=T)\n"
   ]
  },
  {
   "cell_type": "markdown",
   "metadata": {},
   "source": [
    "### Datu-multzo berriak sortzen"
   ]
  },
  {
   "cell_type": "code",
   "execution_count": null,
   "metadata": {},
   "outputs": [],
   "source": [
    "# 1etik 12ra arteko indibiduoak aukeratu\n",
    "\n",
    "Datuak2 <- Datuak[1:12,]\n",
    "\n",
    "# Indibiduo guztiak aukeratu, baino 3, 5 eta 6 zutabetan dauden aldagaietan\n",
    "\n",
    "Datuak3 <- Datuak[,c(3,5,6)]\n",
    "\n",
    "# Aldagaia ezberdin 1 dutenak (guztiak Arabakoak izan ezik)\n",
    "\n",
    "Datuak4 <- subset(Datuak,JAIOTERRIA!=1)\n",
    "\n",
    "# Altuera jaioterria berdin 2 dutenak ( Bizkaikoak baino ez)\n",
    "\n",
    "altuerakBizkaia <- Datuak$ALTUERA[Datuak$JAIOTERRIA==2]\n",
    "# edo \n",
    "altuerakBizkaia2 <- Datuak$ALTUERA[Datuak$jaioterria.f==\"Bizkaia\"]"
   ]
  },
  {
   "cell_type": "markdown",
   "metadata": {},
   "source": [
    "### Gorde eta kargatu datuak"
   ]
  },
  {
   "cell_type": "code",
   "execution_count": null,
   "metadata": {},
   "outputs": [],
   "source": [
    "# gorde\n",
    "save(\"Datuak\", file=\"DatuPolitak.rda\")\n",
    "# kargatu (beste saio batean)\n",
    "load(\"DatuPolitak.rda\")"
   ]
  },
  {
   "cell_type": "code",
   "execution_count": null,
   "metadata": {},
   "outputs": [],
   "source": [
    "summary(Datuak)"
   ]
  },
  {
   "cell_type": "markdown",
   "metadata": {},
   "source": [
    "# Estatistika deskribatzailea"
   ]
  },
  {
   "cell_type": "code",
   "execution_count": null,
   "metadata": {},
   "outputs": [],
   "source": [
    "# batezbestekoa eta desbideratze estandarra kalkulatu\n",
    "\n",
    "mean(Datuak$ALTUERA)\n",
    "mean(Datuak$PISUA)\n",
    "sd(Datuak$AITARENA)\n",
    "sd(Datuak$AMARENA)\n",
    "\n",
    "# aldagai kategorikoaen maiztasunak\n",
    "table(Datuak$SEXUA)\n",
    "table(Datuak$jaioterria.f)"
   ]
  },
  {
   "cell_type": "markdown",
   "metadata": {},
   "source": [
    "### Irudiak egiten"
   ]
  },
  {
   "cell_type": "code",
   "execution_count": null,
   "metadata": {},
   "outputs": [],
   "source": [
    "# barra diagrama\n",
    "barplot(table(Datuak$SEXUA))"
   ]
  },
  {
   "cell_type": "code",
   "execution_count": null,
   "metadata": {},
   "outputs": [],
   "source": [
    "# histograma\n",
    "hist(Datuak$imc)"
   ]
  },
  {
   "cell_type": "code",
   "execution_count": null,
   "metadata": {},
   "outputs": [],
   "source": [
    "# hosto-diagrama\n",
    "stem(Datuak$imc)"
   ]
  },
  {
   "cell_type": "code",
   "execution_count": null,
   "metadata": {},
   "outputs": [],
   "source": [
    "# kutxa diagrama\n",
    "boxplot(Datuak$imc)"
   ]
  },
  {
   "cell_type": "markdown",
   "metadata": {},
   "source": [
    "### Bi aldagaiko estatistika deskribatzailea"
   ]
  },
  {
   "cell_type": "code",
   "execution_count": null,
   "metadata": {},
   "outputs": [],
   "source": [
    "# emakumezkoen batezbesteko altuera\n",
    "mean(Datuak$ALTUERA[Datuak$SEXUA==\"emakumezkoa\"])\n",
    "# gizonen pisuen desbideratze estandarra\n",
    "mean(Datuak$PISUA[Datuak$SEXUA==\"emakumezkoa\"])\n",
    "# Gipuzkoakoen pisuen estatistiko batzuk\n",
    "summary(Datuak$PISUA[Datuak$JAIOTERRIA==3])"
   ]
  },
  {
   "cell_type": "code",
   "execution_count": null,
   "metadata": {
    "scrolled": true
   },
   "outputs": [],
   "source": [
    "# taulak: balio absolutuak eta portzentaiak\n",
    "table(Datuak$jaioterria.f,Datuak$SEXUA)\n",
    "prop.table(table(Datuak$jaioterria.f,Datuak$SEXUA))"
   ]
  },
  {
   "cell_type": "code",
   "execution_count": null,
   "metadata": {
    "scrolled": true
   },
   "outputs": [],
   "source": [
    "#beste modu bat taulak egiteko\n",
    "taula1<-xtabs(~Datuak$jaioterria.f +Datuak$SEXUA )\n",
    "taula1"
   ]
  },
  {
   "cell_type": "code",
   "execution_count": null,
   "metadata": {},
   "outputs": [],
   "source": [
    "# barra diagramak\n",
    "taula <- table(Datuak$SEXUA,Datuak$jaioterria.f)\n",
    "barplot(taula)"
   ]
  },
  {
   "cell_type": "code",
   "execution_count": null,
   "metadata": {},
   "outputs": [],
   "source": [
    "# kutxa diagrama\n",
    "boxplot(Datuak$imc~Datuak$SEXUA)"
   ]
  },
  {
   "cell_type": "markdown",
   "metadata": {},
   "source": [
    "### Erregresio Lineala"
   ]
  },
  {
   "cell_type": "code",
   "execution_count": null,
   "metadata": {},
   "outputs": [],
   "source": [
    "#erregresioa egin\n",
    "erregresio <- lm(Datuak$PISUA ~ Datuak$ALTUERA)\n",
    "summary(erregresio)\n",
    "\n",
    "# pearsonen koerlazio linealaren koefizientea\n",
    "print(\"koerlazio linealaren koefizientea\")\n",
    "cor(Datuak$PISUA , Datuak$ALTUERA)\n"
   ]
  },
  {
   "cell_type": "code",
   "execution_count": null,
   "metadata": {},
   "outputs": [],
   "source": []
  }
 ],
 "metadata": {
  "kernelspec": {
   "display_name": "R",
   "language": "R",
   "name": "ir"
  },
  "language_info": {
   "codemirror_mode": "r",
   "file_extension": ".r",
   "mimetype": "text/x-r-source",
   "name": "R",
   "pygments_lexer": "r",
   "version": "3.4.4"
  }
 },
 "nbformat": 4,
 "nbformat_minor": 2
}
