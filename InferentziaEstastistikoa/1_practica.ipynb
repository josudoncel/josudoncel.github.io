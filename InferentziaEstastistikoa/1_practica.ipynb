{
 "cells": [
  {
   "cell_type": "markdown",
   "metadata": {},
   "source": [
    "# INFERENCIA ESTADÍSTICA: PRIMERA PRÁCTICA\n"
   ]
  },
  {
   "cell_type": "markdown",
   "metadata": {},
   "source": [
    "En la primera práctica de ordenador, vamos a recordar como se ejecuta codigo en R usando\n",
    "Rstudio, ası́ como repasaremos la ejecución de comandos que permiten\n",
    "estudiar algunos conceptos de estadı́stica descriptiva con R.\n",
    "\n",
    "### Instalar R y RStudio\n",
    "\n",
    "Como las prácticas de ordenador se van a realizar en un aula informática de la facultad, no hace falta instalar R ni RStudio en estos ordenadores. Sin embargo, si quereis repasar o preparar el examen de prácticas en casa, lo tendréis que instalar en vuestros ordenadores.\n",
    "\n",
    "### Abrir RStudio\n",
    "\n",
    "Para abrir RStudio en un ordenador de la sala informática de la Facultad, hay que abrir el AppStore y buscar RStudio.\n",
    "\n",
    "### Abrir Script\n",
    "\n",
    "Fichero-> Nuevo Fichero -> R Script\n",
    "\n",
    "\n",
    "### Script de iniciación \n",
    "\n",
    "a<- 3\n",
    "\n",
    "a\n",
    "\n",
    "b<-sqrt(a)\n",
    "\n",
    "b\n",
    "\n",
    "#### Nota: \n",
    "Se puede ejecutar una linea tras otra o todo a la vez (seleccionando)"
   ]
  },
  {
   "cell_type": "markdown",
   "metadata": {},
   "source": [
    "### Leer datos de fichero txt\n",
    "\n",
    "No os olvideis de bajar el fichero alturas.txt de eGela y ponerlo en el lugar adecuado (o añadir el directorio en donde lo habeis guardado)"
   ]
  },
  {
   "cell_type": "code",
   "execution_count": 19,
   "metadata": {
    "scrolled": true
   },
   "outputs": [],
   "source": [
    "Datos <-read.table(file=\"alturas.txt\", header=TRUE, dec=\",\", sep=\"\\t\")"
   ]
  },
  {
   "cell_type": "markdown",
   "metadata": {},
   "source": [
    "### Leer datos de fichero excel"
   ]
  },
  {
   "cell_type": "code",
   "execution_count": 9,
   "metadata": {},
   "outputs": [
    {
     "name": "stderr",
     "output_type": "stream",
     "text": [
      "New names:\n",
      "* `` -> ...1\n",
      "\n"
     ]
    }
   ],
   "source": [
    "# library(\"readxl\")\n",
    "Datos_en_excel <-read_excel(\"alturas.xlsx\")\n"
   ]
  },
  {
   "cell_type": "markdown",
   "metadata": {},
   "source": [
    "### Meter datos a mano"
   ]
  },
  {
   "cell_type": "code",
   "execution_count": 14,
   "metadata": {},
   "outputs": [
    {
     "data": {
      "text/html": [
       "<table>\n",
       "<caption>A data.frame: 5 × 2</caption>\n",
       "<thead>\n",
       "\t<tr><th scope=col>var1</th><th scope=col>var2</th></tr>\n",
       "\t<tr><th scope=col>&lt;dbl&gt;</th><th scope=col>&lt;fct&gt;</th></tr>\n",
       "</thead>\n",
       "<tbody>\n",
       "\t<tr><td> 0.1</td><td>Si</td></tr>\n",
       "\t<tr><td> 0.4</td><td>No</td></tr>\n",
       "\t<tr><td>10.0</td><td>Si</td></tr>\n",
       "\t<tr><td>15.0</td><td>No</td></tr>\n",
       "\t<tr><td>25.0</td><td>No</td></tr>\n",
       "</tbody>\n",
       "</table>\n"
      ],
      "text/latex": [
       "A data.frame: 5 × 2\n",
       "\\begin{tabular}{ll}\n",
       " var1 & var2\\\\\n",
       " <dbl> & <fct>\\\\\n",
       "\\hline\n",
       "\t  0.1 & Si\\\\\n",
       "\t  0.4 & No\\\\\n",
       "\t 10.0 & Si\\\\\n",
       "\t 15.0 & No\\\\\n",
       "\t 25.0 & No\\\\\n",
       "\\end{tabular}\n"
      ],
      "text/markdown": [
       "\n",
       "A data.frame: 5 × 2\n",
       "\n",
       "| var1 &lt;dbl&gt; | var2 &lt;fct&gt; |\n",
       "|---|---|\n",
       "|  0.1 | Si |\n",
       "|  0.4 | No |\n",
       "| 10.0 | Si |\n",
       "| 15.0 | No |\n",
       "| 25.0 | No |\n",
       "\n"
      ],
      "text/plain": [
       "  var1 var2\n",
       "1  0.1 Si  \n",
       "2  0.4 No  \n",
       "3 10.0 Si  \n",
       "4 15.0 No  \n",
       "5 25.0 No  "
      ]
     },
     "metadata": {},
     "output_type": "display_data"
    }
   ],
   "source": [
    "\n",
    "var1 <- c(0.1,0.4,10,15, 25)\n",
    "var2 <- c(\"Si\",\"No\",\"Si\",\"No\",\"No\")\n",
    "Datos_a_mano <- data.frame(var1,var2)\n",
    "Datos_a_mano"
   ]
  },
  {
   "cell_type": "markdown",
   "metadata": {},
   "source": [
    "### Mostrar datos"
   ]
  },
  {
   "cell_type": "code",
   "execution_count": 20,
   "metadata": {},
   "outputs": [
    {
     "data": {
      "text/html": [
       "<table>\n",
       "<caption>A data.frame: 171 × 6</caption>\n",
       "<thead>\n",
       "\t<tr><th></th><th scope=col>PADRE</th><th scope=col>MADRE</th><th scope=col>SEXO</th><th scope=col>PROVINCIA</th><th scope=col>ALTURA</th><th scope=col>PESO</th></tr>\n",
       "\t<tr><th></th><th scope=col>&lt;int&gt;</th><th scope=col>&lt;int&gt;</th><th scope=col>&lt;fct&gt;</th><th scope=col>&lt;int&gt;</th><th scope=col>&lt;int&gt;</th><th scope=col>&lt;int&gt;</th></tr>\n",
       "</thead>\n",
       "<tbody>\n",
       "\t<tr><th scope=row>1</th><td>174</td><td>156</td><td>mujer </td><td>2</td><td>165</td><td> 65</td></tr>\n",
       "\t<tr><th scope=row>2</th><td>177</td><td>159</td><td>hombre</td><td>2</td><td>170</td><td> 67</td></tr>\n",
       "\t<tr><th scope=row>3</th><td>173</td><td>161</td><td>hombre</td><td>1</td><td>168</td><td> 51</td></tr>\n",
       "\t<tr><th scope=row>4</th><td>174</td><td>156</td><td>hombre</td><td>2</td><td>167</td><td> 69</td></tr>\n",
       "\t<tr><th scope=row>5</th><td>160</td><td>165</td><td>hombre</td><td>1</td><td>162</td><td> 54</td></tr>\n",
       "\t<tr><th scope=row>6</th><td>167</td><td>157</td><td>hombre</td><td>3</td><td>163</td><td> 61</td></tr>\n",
       "\t<tr><th scope=row>7</th><td>171</td><td>162</td><td>mujer </td><td>1</td><td>165</td><td> 65</td></tr>\n",
       "\t<tr><th scope=row>8</th><td>174</td><td>158</td><td>hombre</td><td>3</td><td>168</td><td> 76</td></tr>\n",
       "\t<tr><th scope=row>9</th><td>175</td><td>162</td><td>mujer </td><td>3</td><td>168</td><td> 67</td></tr>\n",
       "\t<tr><th scope=row>10</th><td>174</td><td>161</td><td>mujer </td><td>1</td><td>167</td><td> 69</td></tr>\n",
       "\t<tr><th scope=row>11</th><td>175</td><td>162</td><td>mujer </td><td>3</td><td>168</td><td> 66</td></tr>\n",
       "\t<tr><th scope=row>12</th><td>176</td><td>161</td><td>hombre</td><td>2</td><td>170</td><td> 81</td></tr>\n",
       "\t<tr><th scope=row>13</th><td>180</td><td>156</td><td>hombre</td><td>2</td><td>170</td><td> 92</td></tr>\n",
       "\t<tr><th scope=row>14</th><td>172</td><td>171</td><td>mujer </td><td>3</td><td>170</td><td> 85</td></tr>\n",
       "\t<tr><th scope=row>15</th><td>171</td><td>158</td><td>mujer </td><td>1</td><td>164</td><td> 58</td></tr>\n",
       "\t<tr><th scope=row>16</th><td>172</td><td>160</td><td>mujer </td><td>3</td><td>165</td><td> 65</td></tr>\n",
       "\t<tr><th scope=row>17</th><td>172</td><td>157</td><td>hombre</td><td>2</td><td>166</td><td> 72</td></tr>\n",
       "\t<tr><th scope=row>18</th><td>175</td><td>158</td><td>mujer </td><td>2</td><td>166</td><td> 62</td></tr>\n",
       "\t<tr><th scope=row>19</th><td>173</td><td>160</td><td>hombre</td><td>2</td><td>168</td><td> 86</td></tr>\n",
       "\t<tr><th scope=row>20</th><td>173</td><td>164</td><td>mujer </td><td>1</td><td>165</td><td> 65</td></tr>\n",
       "\t<tr><th scope=row>21</th><td>171</td><td>167</td><td>mujer </td><td>2</td><td>167</td><td> 69</td></tr>\n",
       "\t<tr><th scope=row>22</th><td>177</td><td>160</td><td>mujer </td><td>2</td><td>168</td><td> 74</td></tr>\n",
       "\t<tr><th scope=row>23</th><td>172</td><td>161</td><td>mujer </td><td>3</td><td>166</td><td> 62</td></tr>\n",
       "\t<tr><th scope=row>24</th><td>180</td><td>164</td><td>hombre</td><td>1</td><td>174</td><td>108</td></tr>\n",
       "\t<tr><th scope=row>25</th><td>174</td><td>159</td><td>hombre</td><td>3</td><td>168</td><td> 75</td></tr>\n",
       "\t<tr><th scope=row>26</th><td>169</td><td>167</td><td>hombre</td><td>2</td><td>168</td><td> 77</td></tr>\n",
       "\t<tr><th scope=row>27</th><td>174</td><td>166</td><td>mujer </td><td>2</td><td>169</td><td> 63</td></tr>\n",
       "\t<tr><th scope=row>28</th><td>166</td><td>160</td><td>hombre</td><td>2</td><td>164</td><td> 68</td></tr>\n",
       "\t<tr><th scope=row>29</th><td>168</td><td>159</td><td>mujer </td><td>3</td><td>162</td><td> 44</td></tr>\n",
       "\t<tr><th scope=row>30</th><td>172</td><td>163</td><td>mujer </td><td>2</td><td>166</td><td> 72</td></tr>\n",
       "\t<tr><th scope=row>⋮</th><td>⋮</td><td>⋮</td><td>⋮</td><td>⋮</td><td>⋮</td><td>⋮</td></tr>\n",
       "\t<tr><th scope=row>142</th><td>174</td><td>159</td><td>hombre</td><td>2</td><td>168</td><td>66</td></tr>\n",
       "\t<tr><th scope=row>143</th><td>177</td><td>161</td><td>hombre</td><td>3</td><td>171</td><td>87</td></tr>\n",
       "\t<tr><th scope=row>144</th><td>180</td><td>160</td><td>mujer </td><td>1</td><td>170</td><td>80</td></tr>\n",
       "\t<tr><th scope=row>145</th><td>168</td><td>163</td><td>hombre</td><td>3</td><td>166</td><td>77</td></tr>\n",
       "\t<tr><th scope=row>146</th><td>168</td><td>164</td><td>mujer </td><td>3</td><td>164</td><td>58</td></tr>\n",
       "\t<tr><th scope=row>147</th><td>171</td><td>160</td><td>hombre</td><td>1</td><td>167</td><td>69</td></tr>\n",
       "\t<tr><th scope=row>148</th><td>170</td><td>162</td><td>mujer </td><td>3</td><td>165</td><td>65</td></tr>\n",
       "\t<tr><th scope=row>149</th><td>157</td><td>162</td><td>hombre</td><td>3</td><td>159</td><td>33</td></tr>\n",
       "\t<tr><th scope=row>150</th><td>163</td><td>162</td><td>hombre</td><td>2</td><td>163</td><td>61</td></tr>\n",
       "\t<tr><th scope=row>151</th><td>166</td><td>165</td><td>mujer </td><td>2</td><td>164</td><td>58</td></tr>\n",
       "\t<tr><th scope=row>152</th><td>166</td><td>163</td><td>mujer </td><td>2</td><td>163</td><td>51</td></tr>\n",
       "\t<tr><th scope=row>153</th><td>169</td><td>166</td><td>hombre</td><td>2</td><td>168</td><td>69</td></tr>\n",
       "\t<tr><th scope=row>154</th><td>175</td><td>158</td><td>hombre</td><td>1</td><td>168</td><td>67</td></tr>\n",
       "\t<tr><th scope=row>155</th><td>172</td><td>157</td><td>mujer </td><td>2</td><td>164</td><td>58</td></tr>\n",
       "\t<tr><th scope=row>156</th><td>170</td><td>161</td><td>hombre</td><td>3</td><td>166</td><td>82</td></tr>\n",
       "\t<tr><th scope=row>157</th><td>177</td><td>158</td><td>mujer </td><td>2</td><td>167</td><td>79</td></tr>\n",
       "\t<tr><th scope=row>158</th><td>175</td><td>155</td><td>hombre</td><td>2</td><td>167</td><td>79</td></tr>\n",
       "\t<tr><th scope=row>159</th><td>174</td><td>158</td><td>hombre</td><td>2</td><td>168</td><td>68</td></tr>\n",
       "\t<tr><th scope=row>160</th><td>173</td><td>166</td><td>mujer </td><td>3</td><td>168</td><td>86</td></tr>\n",
       "\t<tr><th scope=row>161</th><td>176</td><td>157</td><td>mujer </td><td>2</td><td>166</td><td>72</td></tr>\n",
       "\t<tr><th scope=row>162</th><td>162</td><td>161</td><td>hombre</td><td>2</td><td>162</td><td>54</td></tr>\n",
       "\t<tr><th scope=row>163</th><td>174</td><td>158</td><td>hombre</td><td>2</td><td>168</td><td>66</td></tr>\n",
       "\t<tr><th scope=row>164</th><td>169</td><td>161</td><td>mujer </td><td>3</td><td>164</td><td>58</td></tr>\n",
       "\t<tr><th scope=row>165</th><td>174</td><td>156</td><td>mujer </td><td>1</td><td>165</td><td>65</td></tr>\n",
       "\t<tr><th scope=row>166</th><td>165</td><td>170</td><td>mujer </td><td>2</td><td>165</td><td>65</td></tr>\n",
       "\t<tr><th scope=row>167</th><td>169</td><td>164</td><td>hombre</td><td>3</td><td>167</td><td>79</td></tr>\n",
       "\t<tr><th scope=row>168</th><td>166</td><td>157</td><td>mujer </td><td>3</td><td>160</td><td>30</td></tr>\n",
       "\t<tr><th scope=row>169</th><td>173</td><td>159</td><td>mujer </td><td>2</td><td>165</td><td>65</td></tr>\n",
       "\t<tr><th scope=row>170</th><td>176</td><td>158</td><td>hombre</td><td>1</td><td>169</td><td>82</td></tr>\n",
       "\t<tr><th scope=row>171</th><td>180</td><td>161</td><td>hombre</td><td>3</td><td>172</td><td>84</td></tr>\n",
       "</tbody>\n",
       "</table>\n"
      ],
      "text/latex": [
       "A data.frame: 171 × 6\n",
       "\\begin{tabular}{r|llllll}\n",
       "  & PADRE & MADRE & SEXO & PROVINCIA & ALTURA & PESO\\\\\n",
       "  & <int> & <int> & <fct> & <int> & <int> & <int>\\\\\n",
       "\\hline\n",
       "\t1 & 174 & 156 & mujer  & 2 & 165 &  65\\\\\n",
       "\t2 & 177 & 159 & hombre & 2 & 170 &  67\\\\\n",
       "\t3 & 173 & 161 & hombre & 1 & 168 &  51\\\\\n",
       "\t4 & 174 & 156 & hombre & 2 & 167 &  69\\\\\n",
       "\t5 & 160 & 165 & hombre & 1 & 162 &  54\\\\\n",
       "\t6 & 167 & 157 & hombre & 3 & 163 &  61\\\\\n",
       "\t7 & 171 & 162 & mujer  & 1 & 165 &  65\\\\\n",
       "\t8 & 174 & 158 & hombre & 3 & 168 &  76\\\\\n",
       "\t9 & 175 & 162 & mujer  & 3 & 168 &  67\\\\\n",
       "\t10 & 174 & 161 & mujer  & 1 & 167 &  69\\\\\n",
       "\t11 & 175 & 162 & mujer  & 3 & 168 &  66\\\\\n",
       "\t12 & 176 & 161 & hombre & 2 & 170 &  81\\\\\n",
       "\t13 & 180 & 156 & hombre & 2 & 170 &  92\\\\\n",
       "\t14 & 172 & 171 & mujer  & 3 & 170 &  85\\\\\n",
       "\t15 & 171 & 158 & mujer  & 1 & 164 &  58\\\\\n",
       "\t16 & 172 & 160 & mujer  & 3 & 165 &  65\\\\\n",
       "\t17 & 172 & 157 & hombre & 2 & 166 &  72\\\\\n",
       "\t18 & 175 & 158 & mujer  & 2 & 166 &  62\\\\\n",
       "\t19 & 173 & 160 & hombre & 2 & 168 &  86\\\\\n",
       "\t20 & 173 & 164 & mujer  & 1 & 165 &  65\\\\\n",
       "\t21 & 171 & 167 & mujer  & 2 & 167 &  69\\\\\n",
       "\t22 & 177 & 160 & mujer  & 2 & 168 &  74\\\\\n",
       "\t23 & 172 & 161 & mujer  & 3 & 166 &  62\\\\\n",
       "\t24 & 180 & 164 & hombre & 1 & 174 & 108\\\\\n",
       "\t25 & 174 & 159 & hombre & 3 & 168 &  75\\\\\n",
       "\t26 & 169 & 167 & hombre & 2 & 168 &  77\\\\\n",
       "\t27 & 174 & 166 & mujer  & 2 & 169 &  63\\\\\n",
       "\t28 & 166 & 160 & hombre & 2 & 164 &  68\\\\\n",
       "\t29 & 168 & 159 & mujer  & 3 & 162 &  44\\\\\n",
       "\t30 & 172 & 163 & mujer  & 2 & 166 &  72\\\\\n",
       "\t⋮ & ⋮ & ⋮ & ⋮ & ⋮ & ⋮ & ⋮\\\\\n",
       "\t142 & 174 & 159 & hombre & 2 & 168 & 66\\\\\n",
       "\t143 & 177 & 161 & hombre & 3 & 171 & 87\\\\\n",
       "\t144 & 180 & 160 & mujer  & 1 & 170 & 80\\\\\n",
       "\t145 & 168 & 163 & hombre & 3 & 166 & 77\\\\\n",
       "\t146 & 168 & 164 & mujer  & 3 & 164 & 58\\\\\n",
       "\t147 & 171 & 160 & hombre & 1 & 167 & 69\\\\\n",
       "\t148 & 170 & 162 & mujer  & 3 & 165 & 65\\\\\n",
       "\t149 & 157 & 162 & hombre & 3 & 159 & 33\\\\\n",
       "\t150 & 163 & 162 & hombre & 2 & 163 & 61\\\\\n",
       "\t151 & 166 & 165 & mujer  & 2 & 164 & 58\\\\\n",
       "\t152 & 166 & 163 & mujer  & 2 & 163 & 51\\\\\n",
       "\t153 & 169 & 166 & hombre & 2 & 168 & 69\\\\\n",
       "\t154 & 175 & 158 & hombre & 1 & 168 & 67\\\\\n",
       "\t155 & 172 & 157 & mujer  & 2 & 164 & 58\\\\\n",
       "\t156 & 170 & 161 & hombre & 3 & 166 & 82\\\\\n",
       "\t157 & 177 & 158 & mujer  & 2 & 167 & 79\\\\\n",
       "\t158 & 175 & 155 & hombre & 2 & 167 & 79\\\\\n",
       "\t159 & 174 & 158 & hombre & 2 & 168 & 68\\\\\n",
       "\t160 & 173 & 166 & mujer  & 3 & 168 & 86\\\\\n",
       "\t161 & 176 & 157 & mujer  & 2 & 166 & 72\\\\\n",
       "\t162 & 162 & 161 & hombre & 2 & 162 & 54\\\\\n",
       "\t163 & 174 & 158 & hombre & 2 & 168 & 66\\\\\n",
       "\t164 & 169 & 161 & mujer  & 3 & 164 & 58\\\\\n",
       "\t165 & 174 & 156 & mujer  & 1 & 165 & 65\\\\\n",
       "\t166 & 165 & 170 & mujer  & 2 & 165 & 65\\\\\n",
       "\t167 & 169 & 164 & hombre & 3 & 167 & 79\\\\\n",
       "\t168 & 166 & 157 & mujer  & 3 & 160 & 30\\\\\n",
       "\t169 & 173 & 159 & mujer  & 2 & 165 & 65\\\\\n",
       "\t170 & 176 & 158 & hombre & 1 & 169 & 82\\\\\n",
       "\t171 & 180 & 161 & hombre & 3 & 172 & 84\\\\\n",
       "\\end{tabular}\n"
      ],
      "text/markdown": [
       "\n",
       "A data.frame: 171 × 6\n",
       "\n",
       "| <!--/--> | PADRE &lt;int&gt; | MADRE &lt;int&gt; | SEXO &lt;fct&gt; | PROVINCIA &lt;int&gt; | ALTURA &lt;int&gt; | PESO &lt;int&gt; |\n",
       "|---|---|---|---|---|---|---|\n",
       "| 1 | 174 | 156 | mujer  | 2 | 165 |  65 |\n",
       "| 2 | 177 | 159 | hombre | 2 | 170 |  67 |\n",
       "| 3 | 173 | 161 | hombre | 1 | 168 |  51 |\n",
       "| 4 | 174 | 156 | hombre | 2 | 167 |  69 |\n",
       "| 5 | 160 | 165 | hombre | 1 | 162 |  54 |\n",
       "| 6 | 167 | 157 | hombre | 3 | 163 |  61 |\n",
       "| 7 | 171 | 162 | mujer  | 1 | 165 |  65 |\n",
       "| 8 | 174 | 158 | hombre | 3 | 168 |  76 |\n",
       "| 9 | 175 | 162 | mujer  | 3 | 168 |  67 |\n",
       "| 10 | 174 | 161 | mujer  | 1 | 167 |  69 |\n",
       "| 11 | 175 | 162 | mujer  | 3 | 168 |  66 |\n",
       "| 12 | 176 | 161 | hombre | 2 | 170 |  81 |\n",
       "| 13 | 180 | 156 | hombre | 2 | 170 |  92 |\n",
       "| 14 | 172 | 171 | mujer  | 3 | 170 |  85 |\n",
       "| 15 | 171 | 158 | mujer  | 1 | 164 |  58 |\n",
       "| 16 | 172 | 160 | mujer  | 3 | 165 |  65 |\n",
       "| 17 | 172 | 157 | hombre | 2 | 166 |  72 |\n",
       "| 18 | 175 | 158 | mujer  | 2 | 166 |  62 |\n",
       "| 19 | 173 | 160 | hombre | 2 | 168 |  86 |\n",
       "| 20 | 173 | 164 | mujer  | 1 | 165 |  65 |\n",
       "| 21 | 171 | 167 | mujer  | 2 | 167 |  69 |\n",
       "| 22 | 177 | 160 | mujer  | 2 | 168 |  74 |\n",
       "| 23 | 172 | 161 | mujer  | 3 | 166 |  62 |\n",
       "| 24 | 180 | 164 | hombre | 1 | 174 | 108 |\n",
       "| 25 | 174 | 159 | hombre | 3 | 168 |  75 |\n",
       "| 26 | 169 | 167 | hombre | 2 | 168 |  77 |\n",
       "| 27 | 174 | 166 | mujer  | 2 | 169 |  63 |\n",
       "| 28 | 166 | 160 | hombre | 2 | 164 |  68 |\n",
       "| 29 | 168 | 159 | mujer  | 3 | 162 |  44 |\n",
       "| 30 | 172 | 163 | mujer  | 2 | 166 |  72 |\n",
       "| ⋮ | ⋮ | ⋮ | ⋮ | ⋮ | ⋮ | ⋮ |\n",
       "| 142 | 174 | 159 | hombre | 2 | 168 | 66 |\n",
       "| 143 | 177 | 161 | hombre | 3 | 171 | 87 |\n",
       "| 144 | 180 | 160 | mujer  | 1 | 170 | 80 |\n",
       "| 145 | 168 | 163 | hombre | 3 | 166 | 77 |\n",
       "| 146 | 168 | 164 | mujer  | 3 | 164 | 58 |\n",
       "| 147 | 171 | 160 | hombre | 1 | 167 | 69 |\n",
       "| 148 | 170 | 162 | mujer  | 3 | 165 | 65 |\n",
       "| 149 | 157 | 162 | hombre | 3 | 159 | 33 |\n",
       "| 150 | 163 | 162 | hombre | 2 | 163 | 61 |\n",
       "| 151 | 166 | 165 | mujer  | 2 | 164 | 58 |\n",
       "| 152 | 166 | 163 | mujer  | 2 | 163 | 51 |\n",
       "| 153 | 169 | 166 | hombre | 2 | 168 | 69 |\n",
       "| 154 | 175 | 158 | hombre | 1 | 168 | 67 |\n",
       "| 155 | 172 | 157 | mujer  | 2 | 164 | 58 |\n",
       "| 156 | 170 | 161 | hombre | 3 | 166 | 82 |\n",
       "| 157 | 177 | 158 | mujer  | 2 | 167 | 79 |\n",
       "| 158 | 175 | 155 | hombre | 2 | 167 | 79 |\n",
       "| 159 | 174 | 158 | hombre | 2 | 168 | 68 |\n",
       "| 160 | 173 | 166 | mujer  | 3 | 168 | 86 |\n",
       "| 161 | 176 | 157 | mujer  | 2 | 166 | 72 |\n",
       "| 162 | 162 | 161 | hombre | 2 | 162 | 54 |\n",
       "| 163 | 174 | 158 | hombre | 2 | 168 | 66 |\n",
       "| 164 | 169 | 161 | mujer  | 3 | 164 | 58 |\n",
       "| 165 | 174 | 156 | mujer  | 1 | 165 | 65 |\n",
       "| 166 | 165 | 170 | mujer  | 2 | 165 | 65 |\n",
       "| 167 | 169 | 164 | hombre | 3 | 167 | 79 |\n",
       "| 168 | 166 | 157 | mujer  | 3 | 160 | 30 |\n",
       "| 169 | 173 | 159 | mujer  | 2 | 165 | 65 |\n",
       "| 170 | 176 | 158 | hombre | 1 | 169 | 82 |\n",
       "| 171 | 180 | 161 | hombre | 3 | 172 | 84 |\n",
       "\n"
      ],
      "text/plain": [
       "    PADRE MADRE SEXO   PROVINCIA ALTURA PESO\n",
       "1   174   156   mujer  2         165     65 \n",
       "2   177   159   hombre 2         170     67 \n",
       "3   173   161   hombre 1         168     51 \n",
       "4   174   156   hombre 2         167     69 \n",
       "5   160   165   hombre 1         162     54 \n",
       "6   167   157   hombre 3         163     61 \n",
       "7   171   162   mujer  1         165     65 \n",
       "8   174   158   hombre 3         168     76 \n",
       "9   175   162   mujer  3         168     67 \n",
       "10  174   161   mujer  1         167     69 \n",
       "11  175   162   mujer  3         168     66 \n",
       "12  176   161   hombre 2         170     81 \n",
       "13  180   156   hombre 2         170     92 \n",
       "14  172   171   mujer  3         170     85 \n",
       "15  171   158   mujer  1         164     58 \n",
       "16  172   160   mujer  3         165     65 \n",
       "17  172   157   hombre 2         166     72 \n",
       "18  175   158   mujer  2         166     62 \n",
       "19  173   160   hombre 2         168     86 \n",
       "20  173   164   mujer  1         165     65 \n",
       "21  171   167   mujer  2         167     69 \n",
       "22  177   160   mujer  2         168     74 \n",
       "23  172   161   mujer  3         166     62 \n",
       "24  180   164   hombre 1         174    108 \n",
       "25  174   159   hombre 3         168     75 \n",
       "26  169   167   hombre 2         168     77 \n",
       "27  174   166   mujer  2         169     63 \n",
       "28  166   160   hombre 2         164     68 \n",
       "29  168   159   mujer  3         162     44 \n",
       "30  172   163   mujer  2         166     72 \n",
       "⋮   ⋮     ⋮     ⋮      ⋮         ⋮      ⋮   \n",
       "142 174   159   hombre 2         168    66  \n",
       "143 177   161   hombre 3         171    87  \n",
       "144 180   160   mujer  1         170    80  \n",
       "145 168   163   hombre 3         166    77  \n",
       "146 168   164   mujer  3         164    58  \n",
       "147 171   160   hombre 1         167    69  \n",
       "148 170   162   mujer  3         165    65  \n",
       "149 157   162   hombre 3         159    33  \n",
       "150 163   162   hombre 2         163    61  \n",
       "151 166   165   mujer  2         164    58  \n",
       "152 166   163   mujer  2         163    51  \n",
       "153 169   166   hombre 2         168    69  \n",
       "154 175   158   hombre 1         168    67  \n",
       "155 172   157   mujer  2         164    58  \n",
       "156 170   161   hombre 3         166    82  \n",
       "157 177   158   mujer  2         167    79  \n",
       "158 175   155   hombre 2         167    79  \n",
       "159 174   158   hombre 2         168    68  \n",
       "160 173   166   mujer  3         168    86  \n",
       "161 176   157   mujer  2         166    72  \n",
       "162 162   161   hombre 2         162    54  \n",
       "163 174   158   hombre 2         168    66  \n",
       "164 169   161   mujer  3         164    58  \n",
       "165 174   156   mujer  1         165    65  \n",
       "166 165   170   mujer  2         165    65  \n",
       "167 169   164   hombre 3         167    79  \n",
       "168 166   157   mujer  3         160    30  \n",
       "169 173   159   mujer  2         165    65  \n",
       "170 176   158   hombre 1         169    82  \n",
       "171 180   161   hombre 3         172    84  "
      ]
     },
     "metadata": {},
     "output_type": "display_data"
    }
   ],
   "source": [
    "Datos"
   ]
  },
  {
   "cell_type": "code",
   "execution_count": 25,
   "metadata": {},
   "outputs": [
    {
     "data": {
      "text/html": [
       "<table>\n",
       "<caption>A data.frame: 10 × 6</caption>\n",
       "<thead>\n",
       "\t<tr><th></th><th scope=col>PADRE</th><th scope=col>MADRE</th><th scope=col>SEXO</th><th scope=col>PROVINCIA</th><th scope=col>ALTURA</th><th scope=col>PESO</th></tr>\n",
       "\t<tr><th></th><th scope=col>&lt;int&gt;</th><th scope=col>&lt;int&gt;</th><th scope=col>&lt;fct&gt;</th><th scope=col>&lt;int&gt;</th><th scope=col>&lt;int&gt;</th><th scope=col>&lt;int&gt;</th></tr>\n",
       "</thead>\n",
       "<tbody>\n",
       "\t<tr><th scope=row>1</th><td>174</td><td>156</td><td>mujer </td><td>2</td><td>165</td><td>65</td></tr>\n",
       "\t<tr><th scope=row>2</th><td>177</td><td>159</td><td>hombre</td><td>2</td><td>170</td><td>67</td></tr>\n",
       "\t<tr><th scope=row>3</th><td>173</td><td>161</td><td>hombre</td><td>1</td><td>168</td><td>51</td></tr>\n",
       "\t<tr><th scope=row>4</th><td>174</td><td>156</td><td>hombre</td><td>2</td><td>167</td><td>69</td></tr>\n",
       "\t<tr><th scope=row>5</th><td>160</td><td>165</td><td>hombre</td><td>1</td><td>162</td><td>54</td></tr>\n",
       "\t<tr><th scope=row>6</th><td>167</td><td>157</td><td>hombre</td><td>3</td><td>163</td><td>61</td></tr>\n",
       "\t<tr><th scope=row>7</th><td>171</td><td>162</td><td>mujer </td><td>1</td><td>165</td><td>65</td></tr>\n",
       "\t<tr><th scope=row>8</th><td>174</td><td>158</td><td>hombre</td><td>3</td><td>168</td><td>76</td></tr>\n",
       "\t<tr><th scope=row>9</th><td>175</td><td>162</td><td>mujer </td><td>3</td><td>168</td><td>67</td></tr>\n",
       "\t<tr><th scope=row>10</th><td>174</td><td>161</td><td>mujer </td><td>1</td><td>167</td><td>69</td></tr>\n",
       "</tbody>\n",
       "</table>\n"
      ],
      "text/latex": [
       "A data.frame: 10 × 6\n",
       "\\begin{tabular}{r|llllll}\n",
       "  & PADRE & MADRE & SEXO & PROVINCIA & ALTURA & PESO\\\\\n",
       "  & <int> & <int> & <fct> & <int> & <int> & <int>\\\\\n",
       "\\hline\n",
       "\t1 & 174 & 156 & mujer  & 2 & 165 & 65\\\\\n",
       "\t2 & 177 & 159 & hombre & 2 & 170 & 67\\\\\n",
       "\t3 & 173 & 161 & hombre & 1 & 168 & 51\\\\\n",
       "\t4 & 174 & 156 & hombre & 2 & 167 & 69\\\\\n",
       "\t5 & 160 & 165 & hombre & 1 & 162 & 54\\\\\n",
       "\t6 & 167 & 157 & hombre & 3 & 163 & 61\\\\\n",
       "\t7 & 171 & 162 & mujer  & 1 & 165 & 65\\\\\n",
       "\t8 & 174 & 158 & hombre & 3 & 168 & 76\\\\\n",
       "\t9 & 175 & 162 & mujer  & 3 & 168 & 67\\\\\n",
       "\t10 & 174 & 161 & mujer  & 1 & 167 & 69\\\\\n",
       "\\end{tabular}\n"
      ],
      "text/markdown": [
       "\n",
       "A data.frame: 10 × 6\n",
       "\n",
       "| <!--/--> | PADRE &lt;int&gt; | MADRE &lt;int&gt; | SEXO &lt;fct&gt; | PROVINCIA &lt;int&gt; | ALTURA &lt;int&gt; | PESO &lt;int&gt; |\n",
       "|---|---|---|---|---|---|---|\n",
       "| 1 | 174 | 156 | mujer  | 2 | 165 | 65 |\n",
       "| 2 | 177 | 159 | hombre | 2 | 170 | 67 |\n",
       "| 3 | 173 | 161 | hombre | 1 | 168 | 51 |\n",
       "| 4 | 174 | 156 | hombre | 2 | 167 | 69 |\n",
       "| 5 | 160 | 165 | hombre | 1 | 162 | 54 |\n",
       "| 6 | 167 | 157 | hombre | 3 | 163 | 61 |\n",
       "| 7 | 171 | 162 | mujer  | 1 | 165 | 65 |\n",
       "| 8 | 174 | 158 | hombre | 3 | 168 | 76 |\n",
       "| 9 | 175 | 162 | mujer  | 3 | 168 | 67 |\n",
       "| 10 | 174 | 161 | mujer  | 1 | 167 | 69 |\n",
       "\n"
      ],
      "text/plain": [
       "   PADRE MADRE SEXO   PROVINCIA ALTURA PESO\n",
       "1  174   156   mujer  2         165    65  \n",
       "2  177   159   hombre 2         170    67  \n",
       "3  173   161   hombre 1         168    51  \n",
       "4  174   156   hombre 2         167    69  \n",
       "5  160   165   hombre 1         162    54  \n",
       "6  167   157   hombre 3         163    61  \n",
       "7  171   162   mujer  1         165    65  \n",
       "8  174   158   hombre 3         168    76  \n",
       "9  175   162   mujer  3         168    67  \n",
       "10 174   161   mujer  1         167    69  "
      ]
     },
     "metadata": {},
     "output_type": "display_data"
    }
   ],
   "source": [
    "# el siguiente comando sirve para ver los n primeros datos unicamente\n",
    "n<-10\n",
    "head(Datos,n)"
   ]
  },
  {
   "cell_type": "code",
   "execution_count": 27,
   "metadata": {},
   "outputs": [
    {
     "name": "stdout",
     "output_type": "stream",
     "text": [
      "'data.frame':\t171 obs. of  6 variables:\n",
      " $ PADRE    : int  174 177 173 174 160 167 171 174 175 174 ...\n",
      " $ MADRE    : int  156 159 161 156 165 157 162 158 162 161 ...\n",
      " $ SEXO     : Factor w/ 2 levels \"hombre\",\"mujer\": 2 1 1 1 1 1 2 1 2 2 ...\n",
      " $ PROVINCIA: int  2 2 1 2 1 3 1 3 3 1 ...\n",
      " $ ALTURA   : int  165 170 168 167 162 163 165 168 168 167 ...\n",
      " $ PESO     : int  65 67 51 69 54 61 65 76 67 69 ...\n"
     ]
    }
   ],
   "source": [
    "# con el siguiente comando vemos el tipo de variables que tiene nuestra base de datos: \n",
    "str(Datos)\n",
    "# PADRE: Es variable entera. MADRE, PROVINCIA, ALTURA Y PESO también\n",
    "# SEXO es cualitativa (factor)"
   ]
  },
  {
   "cell_type": "markdown",
   "metadata": {},
   "source": [
    "### Crear nuevas variables"
   ]
  },
  {
   "cell_type": "code",
   "execution_count": 29,
   "metadata": {},
   "outputs": [],
   "source": [
    "# PROVINCIA (numerica) convertir en factor: (1,2,3) -> (Alava, Vizcaya, Guipuzcoa)\n",
    "\n",
    "Datos\$PROVINCIA.F <- factor(Datos\$PROVINCIA, levels=c(1,2,3), \n",
    "                              labels=c(\"Alava\", \"Vizcaya\", \"Guipuzcoa\"))"
   ]
  },
  {
   "cell_type": "markdown",
   "metadata": {},
   "source": [
    "### Operaciones con variables"
   ]
  },
  {
   "cell_type": "code",
   "execution_count": 37,
   "metadata": {},
   "outputs": [],
   "source": [
    "# Diferencia entre la altura del padre y de la madre\n",
    "\n",
    "Datos$DIFERENCIA <- Datos$PADRE - Datos$MADRE\n",
    "\n",
    "# Calcular el imc\n",
    "\n",
    "Datos$IMC <- Datos$PESO/(Datos$ALTURA/100)^2\n",
    "\n",
    "# Si imc>25, obesidad=1, en caso contrario obesidad=0\n",
    "\n",
    "Datos$OBESIDAD <-as.factor(ifelse(Datos$IMC>25, 1,0))\n",
    "\n",
    "# Clasificar segun imc\n",
    "\n",
    "Datos$NIVEL_IMC <- cut(Datos$IMC, breaks = c(0,18.49,19.99,24.99,100), \n",
    "                              labels=c(\"Muy bajo\", \"Normal\",\"Alto\",\"Obesidad\"), right=T)\n"
   ]
  },
  {
   "cell_type": "markdown",
   "metadata": {},
   "source": [
    "### Creando nuevas bases de datos"
   ]
  },
  {
   "cell_type": "code",
   "execution_count": 1,
   "metadata": {},
   "outputs": [
    {
     "ename": "ERROR",
     "evalue": "Error in eval(expr, envir, enclos): object 'Datos' not found\n",
     "output_type": "error",
     "traceback": [
      "Error in eval(expr, envir, enclos): object 'Datos' not found\nTraceback:\n"
     ]
    }
   ],
   "source": [
    "# Seleccionar los primeros 12 individuos\n",
    "\n",
    "Datos2 <- Datos[1:12,]\n",
    "\n",
    "# Seleccionar todos los individuos, pero las variables de la columna 3, 5 y 6\n",
    "\n",
    "Datos3 <- Datos[,c(3,5,6)]\n",
    "\n",
    "# Seleccionar todos los que no son de Alava\n",
    "\n",
    "Datos4 <- subset(Datos,PROVINCIA!=1)\n",
    "\n",
    "# Las alturas de los que tienen PROVINCIA igual a 2 (solo los de Vizcaya)\n",
    "alturas_viz <- Datos$ALTURA[Datos$PROVINCIA==2]\n",
    "# o equivalentemente\n",
    "altueras_viz2 <- Datos$ALTURA[Datos$PROVINCIA.F==\"Vizcaya\"]"
   ]
  },
  {
   "cell_type": "markdown",
   "metadata": {},
   "source": [
    "### Guardar y Cargar datos"
   ]
  },
  {
   "cell_type": "code",
   "execution_count": 40,
   "metadata": {},
   "outputs": [],
   "source": [
    "# guardar\n",
    "save(\"Datos\", file=\"MisDatos.rda\")\n",
    "# cargar (en otra sesión)\n",
    "load(\"MisDatos.rda\")"
   ]
  },
  {
   "cell_type": "markdown",
   "metadata": {},
   "source": [
    "# Estatistica descriptiva"
   ]
  },
  {
   "cell_type": "code",
   "execution_count": 43,
   "metadata": {},
   "outputs": [
    {
     "data": {
      "text/html": [
       "166.812865497076"
      ],
      "text/latex": [
       "166.812865497076"
      ],
      "text/markdown": [
       "166.812865497076"
      ],
      "text/plain": [
       "[1] 166.8129"
      ]
     },
     "metadata": {},
     "output_type": "display_data"
    },
    {
     "data": {
      "text/html": [
       "3.72563521525363"
      ],
      "text/latex": [
       "3.72563521525363"
      ],
      "text/markdown": [
       "3.72563521525363"
      ],
      "text/plain": [
       "[1] 3.725635"
      ]
     },
     "metadata": {},
     "output_type": "display_data"
    },
    {
     "data": {
      "text/html": [
       "2.86461142528142"
      ],
      "text/latex": [
       "2.86461142528142"
      ],
      "text/markdown": [
       "2.86461142528142"
      ],
      "text/plain": [
       "[1] 2.864611"
      ]
     },
     "metadata": {},
     "output_type": "display_data"
    },
    {
     "data": {
      "text/plain": [
       "\n",
       "hombre  mujer \n",
       "    89     82 "
      ]
     },
     "metadata": {},
     "output_type": "display_data"
    },
    {
     "data": {
      "text/plain": [
       "\n",
       "    Alava   Vizcaya Guipuzcoa \n",
       "       39        82        50 "
      ]
     },
     "metadata": {},
     "output_type": "display_data"
    },
    {
     "data": {
      "text/plain": [
       "\n",
       " 1  2  3 \n",
       "39 82 50 "
      ]
     },
     "metadata": {},
     "output_type": "display_data"
    }
   ],
   "source": [
    "# algunos estadisticos\n",
    "\n",
    "mean(Datos$ALTURA)\n",
    "sd(Datos$MADRE)\n",
    "100*sd(Datos$PADRE)/mean(Datos$PADRE)\n",
    "\n",
    "\n",
    "# frecuencias de variables cualitativas\n",
    "table(Datos$SEXO)\n",
    "table(Datos$PROVINCIA.F)\n",
    "# Cuidado con lo siguiente!\n",
    "table(Datos$PROVINCIA)"
   ]
  },
  {
   "cell_type": "markdown",
   "metadata": {},
   "source": [
    "### Hacer imagenes"
   ]
  },
  {
   "cell_type": "code",
   "execution_count": 44,
   "metadata": {},
   "outputs": [
    {
     "data": {
      "image/png": "iVBORw0KGgoAAAANSUhEUgAAA0gAAANICAMAAADKOT/pAAACrFBMVEUAAAABAQECAgIDAwME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\nrkJggg==",
      "text/plain": [
       "plot without title"
      ]
     },
     "metadata": {
      "image/png": {
       "height": 420,
       "width": 420
      }
     },
     "output_type": "display_data"
    }
   ],
   "source": [
    "# diagrama\n",
    "barplot(table(Datos$SEXO))"
   ]
  },
  {
   "cell_type": "code",
   "execution_count": 45,
   "metadata": {},
   "outputs": [
    {
     "data": {
      "image/png": "iVBORw0KGgoAAAANSUhEUgAAA0gAAANICAMAAADKOT/pAAAC/VBMVEUAAAABAQECAgIDAwME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\nYII=",
      "text/plain": [
       "Plot with title “Histogram of Datos$IMC”"
      ]
     },
     "metadata": {
      "image/png": {
       "height": 420,
       "width": 420
      }
     },
     "output_type": "display_data"
    }
   ],
   "source": [
    "# histograma\n",
    "hist(Datos$IMC)"
   ]
  },
  {
   "cell_type": "code",
   "execution_count": 46,
   "metadata": {},
   "outputs": [
    {
     "name": "stdout",
     "output_type": "stream",
     "text": [
      "\n",
      "  The decimal point is at the |\n",
      "\n",
      "  10 | 777777\n",
      "  12 | 1\n",
      "  14 | 33\n",
      "  16 | 8888\n",
      "  18 | 111222\n",
      "  20 | 666666666666666\n",
      "  22 | 115590002444477999999999999999\n",
      "  24 | 13447777777733333689\n",
      "  26 | 11111112333669999991335555577779\n",
      "  28 | 00033333344471488888\n",
      "  30 | 4555555558589\n",
      "  32 | 466224\n",
      "  34 | 00368927\n",
      "  36 | 11116\n",
      "  38 | \n",
      "  40 | 009\n",
      "\n"
     ]
    }
   ],
   "source": [
    "# tallos y hojas\n",
    "stem(Datos$IMC)"
   ]
  },
  {
   "cell_type": "code",
   "execution_count": 47,
   "metadata": {},
   "outputs": [
    {
     "data": {
      "image/png": "iVBORw0KGgoAAAANSUhEUgAAA0gAAANICAMAAADKOT/pAAACo1BMVEUAAAABAQECAgIDAwME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\nBwAUWPQAgIL/A5t4o08j8Z0wAAAAAElFTkSuQmCC",
      "text/plain": [
       "plot without title"
      ]
     },
     "metadata": {
      "image/png": {
       "height": 420,
       "width": 420
      }
     },
     "output_type": "display_data"
    }
   ],
   "source": [
    "# diagrama de cajas\n",
    "boxplot(Datos$IMC)"
   ]
  },
  {
   "cell_type": "markdown",
   "metadata": {},
   "source": [
    "### Estadistica descriptiva de dos variables"
   ]
  },
  {
   "cell_type": "code",
   "execution_count": 50,
   "metadata": {
    "scrolled": false
   },
   "outputs": [
    {
     "data": {
      "text/html": [
       "165.780487804878"
      ],
      "text/latex": [
       "165.780487804878"
      ],
      "text/markdown": [
       "165.780487804878"
      ],
      "text/plain": [
       "[1] 165.7805"
      ]
     },
     "metadata": {},
     "output_type": "display_data"
    },
    {
     "data": {
      "text/html": [
       "16.2965683798818"
      ],
      "text/latex": [
       "16.2965683798818"
      ],
      "text/markdown": [
       "16.2965683798818"
      ],
      "text/plain": [
       "[1] 16.29657"
      ]
     },
     "metadata": {},
     "output_type": "display_data"
    },
    {
     "data": {
      "text/plain": [
       "   Min. 1st Qu.  Median    Mean 3rd Qu.    Max. \n",
       "  30.00   61.25   75.50   72.92   86.00  124.00 "
      ]
     },
     "metadata": {},
     "output_type": "display_data"
    }
   ],
   "source": [
    "# media de las alturas de las mujeres\n",
    "mean(Datos$ALTURA[Datos$SEXO==\"mujer\"])\n",
    "# desviación estándar del peso de los hombres\n",
    "sd(Datos$PESO[Datos$SEXO==\"hombre\"])\n",
    "# Algunos estadísticos de los pesos de los de Guipuzcoa\n",
    "summary(Datos$PESO[Datos$PROVINCIA==3])"
   ]
  },
  {
   "cell_type": "code",
   "execution_count": 54,
   "metadata": {
    "scrolled": true
   },
   "outputs": [
    {
     "data": {
      "text/plain": [
       "           \n",
       "            hombre mujer\n",
       "  Alava         18    21\n",
       "  Vizcaya       44    38\n",
       "  Guipuzcoa     27    23"
      ]
     },
     "metadata": {},
     "output_type": "display_data"
    },
    {
     "data": {
      "text/plain": [
       "           \n",
       "               hombre     mujer\n",
       "  Alava     0.1052632 0.1228070\n",
       "  Vizcaya   0.2573099 0.2222222\n",
       "  Guipuzcoa 0.1578947 0.1345029"
      ]
     },
     "metadata": {},
     "output_type": "display_data"
    }
   ],
   "source": [
    "# tablas de contigencias: valores absolutos y porcentages\n",
    "table(Datos$PROVINCIA.F,Datos$SEXO)\n",
    "prop.table(table(Datos$PROVINCIA.F,Datos$SEXO))"
   ]
  },
  {
   "cell_type": "code",
   "execution_count": 55,
   "metadata": {
    "scrolled": true
   },
   "outputs": [
    {
     "data": {
      "text/plain": [
       "                 Datos$SEXO\n",
       "Datos$PROVINCIA.F hombre mujer\n",
       "        Alava         18    21\n",
       "        Vizcaya       44    38\n",
       "        Guipuzcoa     27    23"
      ]
     },
     "metadata": {},
     "output_type": "display_data"
    }
   ],
   "source": [
    "#otro modo de hacer tablas\n",
    "tabla1<-xtabs(~Datos$PROVINCIA.F +Datos$SEXO )\n",
    "tabla1"
   ]
  },
  {
   "cell_type": "code",
   "execution_count": 61,
   "metadata": {},
   "outputs": [
    {
     "data": {
      "image/png": "iVBORw0KGgoAAAANSUhEUgAAA0gAAANICAMAAADKOT/pAAAC9FBMVEUAAAABAQECAgIDAwME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\nOTwTCJCfX5gAAAAASUVORK5CYII=",
      "text/plain": [
       "plot without title"
      ]
     },
     "metadata": {
      "image/png": {
       "height": 420,
       "width": 420
      }
     },
     "output_type": "display_data"
    }
   ],
   "source": [
    "# diagrama de barras \n",
    "tabla <- table(Datos$SEXO,Datos$PROVINCIA.F)\n",
    "barplot(tabla, legend = TRUE)"
   ]
  },
  {
   "cell_type": "code",
   "execution_count": 64,
   "metadata": {},
   "outputs": [
    {
     "data": {
      "image/png": "iVBORw0KGgoAAAANSUhEUgAAA0gAAANICAMAAADKOT/pAAAC/VBMVEUAAAABAQECAgIDAwME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\nAAWEBCggJEABIQEKCAlQQEiAAkICFPwPlqpJlb3qZuoAAAAASUVORK5CYII=",
      "text/plain": [
       "plot without title"
      ]
     },
     "metadata": {
      "image/png": {
       "height": 420,
       "width": 420
      }
     },
     "output_type": "display_data"
    }
   ],
   "source": [
    "# Diagrama de cajas\n",
    "boxplot(Datos$IMC~Datos$SEXO)"
   ]
  },
  {
   "cell_type": "markdown",
   "metadata": {},
   "source": [
    "### Regresion Lineal"
   ]
  },
  {
   "cell_type": "code",
   "execution_count": 66,
   "metadata": {},
   "outputs": [
    {
     "data": {
      "text/plain": [
       "\n",
       "Call:\n",
       "lm(formula = Datos$PESO ~ Datos$ALTURA)\n",
       "\n",
       "Residuals:\n",
       "     Min       1Q   Median       3Q      Max \n",
       "-29.4483  -6.8493  -0.4331   5.6431  28.0745 \n",
       "\n",
       "Coefficients:\n",
       "              Estimate Std. Error t value Pr(>|t|)    \n",
       "(Intercept)  -679.3847    37.7158  -18.01   <2e-16 ***\n",
       "Datos$ALTURA    4.5076     0.2261   19.94   <2e-16 ***\n",
       "---\n",
       "Signif. codes:  0 ‘***’ 0.001 ‘**’ 0.01 ‘*’ 0.05 ‘.’ 0.1 ‘ ’ 1\n",
       "\n",
       "Residual standard error: 9.812 on 169 degrees of freedom\n",
       "Multiple R-squared:  0.7017,\tAdjusted R-squared:    0.7 \n",
       "F-statistic: 397.6 on 1 and 169 DF,  p-value: < 2.2e-16\n"
      ]
     },
     "metadata": {},
     "output_type": "display_data"
    }
   ],
   "source": [
    "# Se quiere estudiar si existe una relación lineal entre la altura y el peso\n",
    "regresion <- lm(Datos$PESO ~ Datos$ALTURA)\n",
    "summary(regresion)"
   ]
  },
  {
   "cell_type": "code",
   "execution_count": 67,
   "metadata": {},
   "outputs": [
    {
     "data": {
      "text/html": [
       "0.837702420409697"
      ],
      "text/latex": [
       "0.837702420409697"
      ],
      "text/markdown": [
       "0.837702420409697"
      ],
      "text/plain": [
       "[1] 0.8377024"
      ]
     },
     "metadata": {},
     "output_type": "display_data"
    }
   ],
   "source": [
    "# Coeficiente de corelacion linear de Pearson\n",
    "cor(Datos$PESO , Datos$ALTURA)"
   ]
  },
  {
   "cell_type": "code",
   "execution_count": null,
   "metadata": {},
   "outputs": [],
   "source": []
  }
 ],
 "metadata": {
  "kernelspec": {
   "display_name": "R",
   "language": "R",
   "name": "ir"
  },
  "language_info": {
   "codemirror_mode": "r",
   "file_extension": ".r",
   "mimetype": "text/x-r-source",
   "name": "R",
   "pygments_lexer": "r",
   "version": "3.6.3"
  }
 },
 "nbformat": 4,
 "nbformat_minor": 2
}
