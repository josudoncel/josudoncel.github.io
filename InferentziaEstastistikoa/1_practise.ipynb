{
 "cells": [
  {
   "cell_type": "markdown",
   "metadata": {},
   "source": [
    "# STATISTICAL INFERENCE: FIRST COMPUTER PRACTISE\n"
   ]
  },
  {
   "cell_type": "markdown",
   "metadata": {},
   "source": [
    "In the first computer lab, we are going to remember how to execute code in R using\n",
    "Rstudio, as well as we will review the execution of commands that allow\n",
    "study some concepts of descriptive statistics with R.\n",
    "\n",
    "### Install R and RStudio\n",
    "\n",
    "As the computer practices are going to be carried out in a computer room at the faculty, it is not necessary to install R or RStudio on these computers. However, if you want to review or prepare for the practice exam at home, you will have to install it on your computers.\n",
    "\n",
    "### Open RStudio\n",
    "\n",
    "To open RStudio in a computer of the computer room of the faculty, you must open AppStore and find RStudio.\n",
    "\n",
    "### Open Script\n",
    "\n",
    "File -> New File -> R Script\n",
    "\n",
    "\n",
    "### Starting Script \n",
    "\n",
    "a<- 3\n",
    "\n",
    "a\n",
    "\n",
    "b<-sqrt(a)\n",
    "\n",
    "b\n",
    "\n",
    "#### Note: \n",
    "You can execute the code line by line or all together (selecting all)"
   ]
  },
  {
   "cell_type": "markdown",
   "metadata": {},
   "source": [
    "### Read Data from txt file\n",
    "\n",
    "Once you download the file height.txt from eGela, you must put it in a correct place (or add the path where you have put the file)"
   ]
  },
  {
   "cell_type": "code",
   "execution_count": 10,
   "metadata": {
    "scrolled": true
   },
   "outputs": [],
   "source": [
    "Data_txt <-read.table(file=\"heights.txt\", header=TRUE, dec=\",\", sep=\"\\t\")"
   ]
  },
  {
   "cell_type": "markdown",
   "metadata": {},
   "source": [
    "### Read data from excel file"
   ]
  },
  {
   "cell_type": "code",
   "execution_count": 11,
   "metadata": {},
   "outputs": [],
   "source": [
    "# library(\"readxl\")\n",
    "Data <-read_excel(\"heights.xlsx\")\n"
   ]
  },
  {
   "cell_type": "markdown",
   "metadata": {},
   "source": [
    "### Introduce data by hand"
   ]
  },
  {
   "cell_type": "code",
   "execution_count": 12,
   "metadata": {},
   "outputs": [
    {
     "data": {
      "text/html": [
       "<table class=\"dataframe\">\n",
       "<caption>A data.frame: 5 × 2</caption>\n",
       "<thead>\n",
       "\t<tr><th scope=col>var1</th><th scope=col>var2</th></tr>\n",
       "\t<tr><th scope=col>&lt;dbl&gt;</th><th scope=col>&lt;chr&gt;</th></tr>\n",
       "</thead>\n",
       "<tbody>\n",
       "\t<tr><td> 0.1</td><td>Si</td></tr>\n",
       "\t<tr><td> 0.4</td><td>No</td></tr>\n",
       "\t<tr><td>10.0</td><td>Si</td></tr>\n",
       "\t<tr><td>15.0</td><td>No</td></tr>\n",
       "\t<tr><td>25.0</td><td>No</td></tr>\n",
       "</tbody>\n",
       "</table>\n"
      ],
      "text/latex": [
       "A data.frame: 5 × 2\n",
       "\\begin{tabular}{ll}\n",
       " var1 & var2\\\\\n",
       " <dbl> & <chr>\\\\\n",
       "\\hline\n",
       "\t  0.1 & Si\\\\\n",
       "\t  0.4 & No\\\\\n",
       "\t 10.0 & Si\\\\\n",
       "\t 15.0 & No\\\\\n",
       "\t 25.0 & No\\\\\n",
       "\\end{tabular}\n"
      ],
      "text/markdown": [
       "\n",
       "A data.frame: 5 × 2\n",
       "\n",
       "| var1 &lt;dbl&gt; | var2 &lt;chr&gt; |\n",
       "|---|---|\n",
       "|  0.1 | Si |\n",
       "|  0.4 | No |\n",
       "| 10.0 | Si |\n",
       "| 15.0 | No |\n",
       "| 25.0 | No |\n",
       "\n"
      ],
      "text/plain": [
       "  var1 var2\n",
       "1  0.1 Si  \n",
       "2  0.4 No  \n",
       "3 10.0 Si  \n",
       "4 15.0 No  \n",
       "5 25.0 No  "
      ]
     },
     "metadata": {},
     "output_type": "display_data"
    }
   ],
   "source": [
    "\n",
    "var1 <- c(0.1,0.4,10,15, 25)\n",
    "var2 <- c(\"Si\",\"No\",\"Si\",\"No\",\"No\")\n",
    "Data_by_hand <- data.frame(var1,var2)\n",
    "Data_by_hand"
   ]
  },
  {
   "cell_type": "markdown",
   "metadata": {},
   "source": [
    "### Show the data"
   ]
  },
  {
   "cell_type": "code",
   "execution_count": 13,
   "metadata": {},
   "outputs": [
    {
     "data": {
      "text/html": [
       "<table class=\"dataframe\">\n",
       "<caption>A tibble: 171 × 7</caption>\n",
       "<thead>\n",
       "\t<tr><th scope=col>ID</th><th scope=col>FATHER</th><th scope=col>MOTHER</th><th scope=col>SEX</th><th scope=col>BIRTHPLACE</th><th scope=col>HEIGHTS</th><th scope=col>WEIGHTS</th></tr>\n",
       "\t<tr><th scope=col>&lt;dbl&gt;</th><th scope=col>&lt;dbl&gt;</th><th scope=col>&lt;dbl&gt;</th><th scope=col>&lt;chr&gt;</th><th scope=col>&lt;dbl&gt;</th><th scope=col>&lt;dbl&gt;</th><th scope=col>&lt;dbl&gt;</th></tr>\n",
       "</thead>\n",
       "<tbody>\n",
       "\t<tr><td> 1</td><td>174</td><td>156</td><td>female</td><td>2</td><td>165</td><td> 65</td></tr>\n",
       "\t<tr><td> 2</td><td>177</td><td>159</td><td>male  </td><td>2</td><td>170</td><td> 67</td></tr>\n",
       "\t<tr><td> 3</td><td>173</td><td>161</td><td>male  </td><td>1</td><td>168</td><td> 51</td></tr>\n",
       "\t<tr><td> 4</td><td>174</td><td>156</td><td>male  </td><td>2</td><td>167</td><td> 69</td></tr>\n",
       "\t<tr><td> 5</td><td>160</td><td>165</td><td>male  </td><td>1</td><td>162</td><td> 54</td></tr>\n",
       "\t<tr><td> 6</td><td>167</td><td>157</td><td>male  </td><td>3</td><td>163</td><td> 61</td></tr>\n",
       "\t<tr><td> 7</td><td>171</td><td>162</td><td>female</td><td>1</td><td>165</td><td> 65</td></tr>\n",
       "\t<tr><td> 8</td><td>174</td><td>158</td><td>male  </td><td>3</td><td>168</td><td> 76</td></tr>\n",
       "\t<tr><td> 9</td><td>175</td><td>162</td><td>female</td><td>3</td><td>168</td><td> 67</td></tr>\n",
       "\t<tr><td>10</td><td>174</td><td>161</td><td>female</td><td>1</td><td>167</td><td> 69</td></tr>\n",
       "\t<tr><td>11</td><td>175</td><td>162</td><td>female</td><td>3</td><td>168</td><td> 66</td></tr>\n",
       "\t<tr><td>12</td><td>176</td><td>161</td><td>male  </td><td>2</td><td>170</td><td> 81</td></tr>\n",
       "\t<tr><td>13</td><td>180</td><td>156</td><td>male  </td><td>2</td><td>170</td><td> 92</td></tr>\n",
       "\t<tr><td>14</td><td>172</td><td>171</td><td>female</td><td>3</td><td>170</td><td> 85</td></tr>\n",
       "\t<tr><td>15</td><td>171</td><td>158</td><td>female</td><td>1</td><td>164</td><td> 58</td></tr>\n",
       "\t<tr><td>16</td><td>172</td><td>160</td><td>female</td><td>3</td><td>165</td><td> 65</td></tr>\n",
       "\t<tr><td>17</td><td>172</td><td>157</td><td>male  </td><td>2</td><td>166</td><td> 72</td></tr>\n",
       "\t<tr><td>18</td><td>175</td><td>158</td><td>female</td><td>2</td><td>166</td><td> 62</td></tr>\n",
       "\t<tr><td>19</td><td>173</td><td>160</td><td>male  </td><td>2</td><td>168</td><td> 86</td></tr>\n",
       "\t<tr><td>20</td><td>173</td><td>164</td><td>female</td><td>1</td><td>165</td><td> 65</td></tr>\n",
       "\t<tr><td>21</td><td>171</td><td>167</td><td>female</td><td>2</td><td>167</td><td> 69</td></tr>\n",
       "\t<tr><td>22</td><td>177</td><td>160</td><td>female</td><td>2</td><td>168</td><td> 74</td></tr>\n",
       "\t<tr><td>23</td><td>172</td><td>161</td><td>female</td><td>3</td><td>166</td><td> 62</td></tr>\n",
       "\t<tr><td>24</td><td>180</td><td>164</td><td>male  </td><td>1</td><td>174</td><td>108</td></tr>\n",
       "\t<tr><td>25</td><td>174</td><td>159</td><td>male  </td><td>3</td><td>168</td><td> 75</td></tr>\n",
       "\t<tr><td>26</td><td>169</td><td>167</td><td>male  </td><td>2</td><td>168</td><td> 77</td></tr>\n",
       "\t<tr><td>27</td><td>174</td><td>166</td><td>female</td><td>2</td><td>169</td><td> 63</td></tr>\n",
       "\t<tr><td>28</td><td>166</td><td>160</td><td>male  </td><td>2</td><td>164</td><td> 68</td></tr>\n",
       "\t<tr><td>29</td><td>168</td><td>159</td><td>female</td><td>3</td><td>162</td><td> 44</td></tr>\n",
       "\t<tr><td>30</td><td>172</td><td>163</td><td>female</td><td>2</td><td>166</td><td> 72</td></tr>\n",
       "\t<tr><td>⋮</td><td>⋮</td><td>⋮</td><td>⋮</td><td>⋮</td><td>⋮</td><td>⋮</td></tr>\n",
       "\t<tr><td>142</td><td>174</td><td>159</td><td>male  </td><td>2</td><td>168</td><td>66</td></tr>\n",
       "\t<tr><td>143</td><td>177</td><td>161</td><td>male  </td><td>3</td><td>171</td><td>87</td></tr>\n",
       "\t<tr><td>144</td><td>180</td><td>160</td><td>female</td><td>1</td><td>170</td><td>80</td></tr>\n",
       "\t<tr><td>145</td><td>168</td><td>163</td><td>male  </td><td>3</td><td>166</td><td>77</td></tr>\n",
       "\t<tr><td>146</td><td>168</td><td>164</td><td>female</td><td>3</td><td>164</td><td>58</td></tr>\n",
       "\t<tr><td>147</td><td>171</td><td>160</td><td>male  </td><td>1</td><td>167</td><td>69</td></tr>\n",
       "\t<tr><td>148</td><td>170</td><td>162</td><td>female</td><td>3</td><td>165</td><td>65</td></tr>\n",
       "\t<tr><td>149</td><td>157</td><td>162</td><td>male  </td><td>3</td><td>159</td><td>33</td></tr>\n",
       "\t<tr><td>150</td><td>163</td><td>162</td><td>male  </td><td>2</td><td>163</td><td>61</td></tr>\n",
       "\t<tr><td>151</td><td>166</td><td>165</td><td>female</td><td>2</td><td>164</td><td>58</td></tr>\n",
       "\t<tr><td>152</td><td>166</td><td>163</td><td>female</td><td>2</td><td>163</td><td>51</td></tr>\n",
       "\t<tr><td>153</td><td>169</td><td>166</td><td>male  </td><td>2</td><td>168</td><td>69</td></tr>\n",
       "\t<tr><td>154</td><td>175</td><td>158</td><td>male  </td><td>1</td><td>168</td><td>67</td></tr>\n",
       "\t<tr><td>155</td><td>172</td><td>157</td><td>female</td><td>2</td><td>164</td><td>58</td></tr>\n",
       "\t<tr><td>156</td><td>170</td><td>161</td><td>male  </td><td>3</td><td>166</td><td>82</td></tr>\n",
       "\t<tr><td>157</td><td>177</td><td>158</td><td>female</td><td>2</td><td>167</td><td>79</td></tr>\n",
       "\t<tr><td>158</td><td>175</td><td>155</td><td>male  </td><td>2</td><td>167</td><td>79</td></tr>\n",
       "\t<tr><td>159</td><td>174</td><td>158</td><td>male  </td><td>2</td><td>168</td><td>68</td></tr>\n",
       "\t<tr><td>160</td><td>173</td><td>166</td><td>female</td><td>3</td><td>168</td><td>86</td></tr>\n",
       "\t<tr><td>161</td><td>176</td><td>157</td><td>female</td><td>2</td><td>166</td><td>72</td></tr>\n",
       "\t<tr><td>162</td><td>162</td><td>161</td><td>male  </td><td>2</td><td>162</td><td>54</td></tr>\n",
       "\t<tr><td>163</td><td>174</td><td>158</td><td>male  </td><td>2</td><td>168</td><td>66</td></tr>\n",
       "\t<tr><td>164</td><td>169</td><td>161</td><td>female</td><td>3</td><td>164</td><td>58</td></tr>\n",
       "\t<tr><td>165</td><td>174</td><td>156</td><td>female</td><td>1</td><td>165</td><td>65</td></tr>\n",
       "\t<tr><td>166</td><td>165</td><td>170</td><td>female</td><td>2</td><td>165</td><td>65</td></tr>\n",
       "\t<tr><td>167</td><td>169</td><td>164</td><td>male  </td><td>3</td><td>167</td><td>79</td></tr>\n",
       "\t<tr><td>168</td><td>166</td><td>157</td><td>female</td><td>3</td><td>160</td><td>30</td></tr>\n",
       "\t<tr><td>169</td><td>173</td><td>159</td><td>female</td><td>2</td><td>165</td><td>65</td></tr>\n",
       "\t<tr><td>170</td><td>176</td><td>158</td><td>male  </td><td>1</td><td>169</td><td>82</td></tr>\n",
       "\t<tr><td>171</td><td>180</td><td>161</td><td>male  </td><td>3</td><td>172</td><td>84</td></tr>\n",
       "</tbody>\n",
       "</table>\n"
      ],
      "text/latex": [
       "A tibble: 171 × 7\n",
       "\\begin{tabular}{lllllll}\n",
       " ID & FATHER & MOTHER & SEX & BIRTHPLACE & HEIGHTS & WEIGHTS\\\\\n",
       " <dbl> & <dbl> & <dbl> & <chr> & <dbl> & <dbl> & <dbl>\\\\\n",
       "\\hline\n",
       "\t  1 & 174 & 156 & female & 2 & 165 &  65\\\\\n",
       "\t  2 & 177 & 159 & male   & 2 & 170 &  67\\\\\n",
       "\t  3 & 173 & 161 & male   & 1 & 168 &  51\\\\\n",
       "\t  4 & 174 & 156 & male   & 2 & 167 &  69\\\\\n",
       "\t  5 & 160 & 165 & male   & 1 & 162 &  54\\\\\n",
       "\t  6 & 167 & 157 & male   & 3 & 163 &  61\\\\\n",
       "\t  7 & 171 & 162 & female & 1 & 165 &  65\\\\\n",
       "\t  8 & 174 & 158 & male   & 3 & 168 &  76\\\\\n",
       "\t  9 & 175 & 162 & female & 3 & 168 &  67\\\\\n",
       "\t 10 & 174 & 161 & female & 1 & 167 &  69\\\\\n",
       "\t 11 & 175 & 162 & female & 3 & 168 &  66\\\\\n",
       "\t 12 & 176 & 161 & male   & 2 & 170 &  81\\\\\n",
       "\t 13 & 180 & 156 & male   & 2 & 170 &  92\\\\\n",
       "\t 14 & 172 & 171 & female & 3 & 170 &  85\\\\\n",
       "\t 15 & 171 & 158 & female & 1 & 164 &  58\\\\\n",
       "\t 16 & 172 & 160 & female & 3 & 165 &  65\\\\\n",
       "\t 17 & 172 & 157 & male   & 2 & 166 &  72\\\\\n",
       "\t 18 & 175 & 158 & female & 2 & 166 &  62\\\\\n",
       "\t 19 & 173 & 160 & male   & 2 & 168 &  86\\\\\n",
       "\t 20 & 173 & 164 & female & 1 & 165 &  65\\\\\n",
       "\t 21 & 171 & 167 & female & 2 & 167 &  69\\\\\n",
       "\t 22 & 177 & 160 & female & 2 & 168 &  74\\\\\n",
       "\t 23 & 172 & 161 & female & 3 & 166 &  62\\\\\n",
       "\t 24 & 180 & 164 & male   & 1 & 174 & 108\\\\\n",
       "\t 25 & 174 & 159 & male   & 3 & 168 &  75\\\\\n",
       "\t 26 & 169 & 167 & male   & 2 & 168 &  77\\\\\n",
       "\t 27 & 174 & 166 & female & 2 & 169 &  63\\\\\n",
       "\t 28 & 166 & 160 & male   & 2 & 164 &  68\\\\\n",
       "\t 29 & 168 & 159 & female & 3 & 162 &  44\\\\\n",
       "\t 30 & 172 & 163 & female & 2 & 166 &  72\\\\\n",
       "\t ⋮ & ⋮ & ⋮ & ⋮ & ⋮ & ⋮ & ⋮\\\\\n",
       "\t 142 & 174 & 159 & male   & 2 & 168 & 66\\\\\n",
       "\t 143 & 177 & 161 & male   & 3 & 171 & 87\\\\\n",
       "\t 144 & 180 & 160 & female & 1 & 170 & 80\\\\\n",
       "\t 145 & 168 & 163 & male   & 3 & 166 & 77\\\\\n",
       "\t 146 & 168 & 164 & female & 3 & 164 & 58\\\\\n",
       "\t 147 & 171 & 160 & male   & 1 & 167 & 69\\\\\n",
       "\t 148 & 170 & 162 & female & 3 & 165 & 65\\\\\n",
       "\t 149 & 157 & 162 & male   & 3 & 159 & 33\\\\\n",
       "\t 150 & 163 & 162 & male   & 2 & 163 & 61\\\\\n",
       "\t 151 & 166 & 165 & female & 2 & 164 & 58\\\\\n",
       "\t 152 & 166 & 163 & female & 2 & 163 & 51\\\\\n",
       "\t 153 & 169 & 166 & male   & 2 & 168 & 69\\\\\n",
       "\t 154 & 175 & 158 & male   & 1 & 168 & 67\\\\\n",
       "\t 155 & 172 & 157 & female & 2 & 164 & 58\\\\\n",
       "\t 156 & 170 & 161 & male   & 3 & 166 & 82\\\\\n",
       "\t 157 & 177 & 158 & female & 2 & 167 & 79\\\\\n",
       "\t 158 & 175 & 155 & male   & 2 & 167 & 79\\\\\n",
       "\t 159 & 174 & 158 & male   & 2 & 168 & 68\\\\\n",
       "\t 160 & 173 & 166 & female & 3 & 168 & 86\\\\\n",
       "\t 161 & 176 & 157 & female & 2 & 166 & 72\\\\\n",
       "\t 162 & 162 & 161 & male   & 2 & 162 & 54\\\\\n",
       "\t 163 & 174 & 158 & male   & 2 & 168 & 66\\\\\n",
       "\t 164 & 169 & 161 & female & 3 & 164 & 58\\\\\n",
       "\t 165 & 174 & 156 & female & 1 & 165 & 65\\\\\n",
       "\t 166 & 165 & 170 & female & 2 & 165 & 65\\\\\n",
       "\t 167 & 169 & 164 & male   & 3 & 167 & 79\\\\\n",
       "\t 168 & 166 & 157 & female & 3 & 160 & 30\\\\\n",
       "\t 169 & 173 & 159 & female & 2 & 165 & 65\\\\\n",
       "\t 170 & 176 & 158 & male   & 1 & 169 & 82\\\\\n",
       "\t 171 & 180 & 161 & male   & 3 & 172 & 84\\\\\n",
       "\\end{tabular}\n"
      ],
      "text/markdown": [
       "\n",
       "A tibble: 171 × 7\n",
       "\n",
       "| ID &lt;dbl&gt; | FATHER &lt;dbl&gt; | MOTHER &lt;dbl&gt; | SEX &lt;chr&gt; | BIRTHPLACE &lt;dbl&gt; | HEIGHTS &lt;dbl&gt; | WEIGHTS &lt;dbl&gt; |\n",
       "|---|---|---|---|---|---|---|\n",
       "|  1 | 174 | 156 | female | 2 | 165 |  65 |\n",
       "|  2 | 177 | 159 | male   | 2 | 170 |  67 |\n",
       "|  3 | 173 | 161 | male   | 1 | 168 |  51 |\n",
       "|  4 | 174 | 156 | male   | 2 | 167 |  69 |\n",
       "|  5 | 160 | 165 | male   | 1 | 162 |  54 |\n",
       "|  6 | 167 | 157 | male   | 3 | 163 |  61 |\n",
       "|  7 | 171 | 162 | female | 1 | 165 |  65 |\n",
       "|  8 | 174 | 158 | male   | 3 | 168 |  76 |\n",
       "|  9 | 175 | 162 | female | 3 | 168 |  67 |\n",
       "| 10 | 174 | 161 | female | 1 | 167 |  69 |\n",
       "| 11 | 175 | 162 | female | 3 | 168 |  66 |\n",
       "| 12 | 176 | 161 | male   | 2 | 170 |  81 |\n",
       "| 13 | 180 | 156 | male   | 2 | 170 |  92 |\n",
       "| 14 | 172 | 171 | female | 3 | 170 |  85 |\n",
       "| 15 | 171 | 158 | female | 1 | 164 |  58 |\n",
       "| 16 | 172 | 160 | female | 3 | 165 |  65 |\n",
       "| 17 | 172 | 157 | male   | 2 | 166 |  72 |\n",
       "| 18 | 175 | 158 | female | 2 | 166 |  62 |\n",
       "| 19 | 173 | 160 | male   | 2 | 168 |  86 |\n",
       "| 20 | 173 | 164 | female | 1 | 165 |  65 |\n",
       "| 21 | 171 | 167 | female | 2 | 167 |  69 |\n",
       "| 22 | 177 | 160 | female | 2 | 168 |  74 |\n",
       "| 23 | 172 | 161 | female | 3 | 166 |  62 |\n",
       "| 24 | 180 | 164 | male   | 1 | 174 | 108 |\n",
       "| 25 | 174 | 159 | male   | 3 | 168 |  75 |\n",
       "| 26 | 169 | 167 | male   | 2 | 168 |  77 |\n",
       "| 27 | 174 | 166 | female | 2 | 169 |  63 |\n",
       "| 28 | 166 | 160 | male   | 2 | 164 |  68 |\n",
       "| 29 | 168 | 159 | female | 3 | 162 |  44 |\n",
       "| 30 | 172 | 163 | female | 2 | 166 |  72 |\n",
       "| ⋮ | ⋮ | ⋮ | ⋮ | ⋮ | ⋮ | ⋮ |\n",
       "| 142 | 174 | 159 | male   | 2 | 168 | 66 |\n",
       "| 143 | 177 | 161 | male   | 3 | 171 | 87 |\n",
       "| 144 | 180 | 160 | female | 1 | 170 | 80 |\n",
       "| 145 | 168 | 163 | male   | 3 | 166 | 77 |\n",
       "| 146 | 168 | 164 | female | 3 | 164 | 58 |\n",
       "| 147 | 171 | 160 | male   | 1 | 167 | 69 |\n",
       "| 148 | 170 | 162 | female | 3 | 165 | 65 |\n",
       "| 149 | 157 | 162 | male   | 3 | 159 | 33 |\n",
       "| 150 | 163 | 162 | male   | 2 | 163 | 61 |\n",
       "| 151 | 166 | 165 | female | 2 | 164 | 58 |\n",
       "| 152 | 166 | 163 | female | 2 | 163 | 51 |\n",
       "| 153 | 169 | 166 | male   | 2 | 168 | 69 |\n",
       "| 154 | 175 | 158 | male   | 1 | 168 | 67 |\n",
       "| 155 | 172 | 157 | female | 2 | 164 | 58 |\n",
       "| 156 | 170 | 161 | male   | 3 | 166 | 82 |\n",
       "| 157 | 177 | 158 | female | 2 | 167 | 79 |\n",
       "| 158 | 175 | 155 | male   | 2 | 167 | 79 |\n",
       "| 159 | 174 | 158 | male   | 2 | 168 | 68 |\n",
       "| 160 | 173 | 166 | female | 3 | 168 | 86 |\n",
       "| 161 | 176 | 157 | female | 2 | 166 | 72 |\n",
       "| 162 | 162 | 161 | male   | 2 | 162 | 54 |\n",
       "| 163 | 174 | 158 | male   | 2 | 168 | 66 |\n",
       "| 164 | 169 | 161 | female | 3 | 164 | 58 |\n",
       "| 165 | 174 | 156 | female | 1 | 165 | 65 |\n",
       "| 166 | 165 | 170 | female | 2 | 165 | 65 |\n",
       "| 167 | 169 | 164 | male   | 3 | 167 | 79 |\n",
       "| 168 | 166 | 157 | female | 3 | 160 | 30 |\n",
       "| 169 | 173 | 159 | female | 2 | 165 | 65 |\n",
       "| 170 | 176 | 158 | male   | 1 | 169 | 82 |\n",
       "| 171 | 180 | 161 | male   | 3 | 172 | 84 |\n",
       "\n"
      ],
      "text/plain": [
       "    ID  FATHER MOTHER SEX    BIRTHPLACE HEIGHTS WEIGHTS\n",
       "1    1  174    156    female 2          165      65    \n",
       "2    2  177    159    male   2          170      67    \n",
       "3    3  173    161    male   1          168      51    \n",
       "4    4  174    156    male   2          167      69    \n",
       "5    5  160    165    male   1          162      54    \n",
       "6    6  167    157    male   3          163      61    \n",
       "7    7  171    162    female 1          165      65    \n",
       "8    8  174    158    male   3          168      76    \n",
       "9    9  175    162    female 3          168      67    \n",
       "10  10  174    161    female 1          167      69    \n",
       "11  11  175    162    female 3          168      66    \n",
       "12  12  176    161    male   2          170      81    \n",
       "13  13  180    156    male   2          170      92    \n",
       "14  14  172    171    female 3          170      85    \n",
       "15  15  171    158    female 1          164      58    \n",
       "16  16  172    160    female 3          165      65    \n",
       "17  17  172    157    male   2          166      72    \n",
       "18  18  175    158    female 2          166      62    \n",
       "19  19  173    160    male   2          168      86    \n",
       "20  20  173    164    female 1          165      65    \n",
       "21  21  171    167    female 2          167      69    \n",
       "22  22  177    160    female 2          168      74    \n",
       "23  23  172    161    female 3          166      62    \n",
       "24  24  180    164    male   1          174     108    \n",
       "25  25  174    159    male   3          168      75    \n",
       "26  26  169    167    male   2          168      77    \n",
       "27  27  174    166    female 2          169      63    \n",
       "28  28  166    160    male   2          164      68    \n",
       "29  29  168    159    female 3          162      44    \n",
       "30  30  172    163    female 2          166      72    \n",
       "⋮   ⋮   ⋮      ⋮      ⋮      ⋮          ⋮       ⋮      \n",
       "142 142 174    159    male   2          168     66     \n",
       "143 143 177    161    male   3          171     87     \n",
       "144 144 180    160    female 1          170     80     \n",
       "145 145 168    163    male   3          166     77     \n",
       "146 146 168    164    female 3          164     58     \n",
       "147 147 171    160    male   1          167     69     \n",
       "148 148 170    162    female 3          165     65     \n",
       "149 149 157    162    male   3          159     33     \n",
       "150 150 163    162    male   2          163     61     \n",
       "151 151 166    165    female 2          164     58     \n",
       "152 152 166    163    female 2          163     51     \n",
       "153 153 169    166    male   2          168     69     \n",
       "154 154 175    158    male   1          168     67     \n",
       "155 155 172    157    female 2          164     58     \n",
       "156 156 170    161    male   3          166     82     \n",
       "157 157 177    158    female 2          167     79     \n",
       "158 158 175    155    male   2          167     79     \n",
       "159 159 174    158    male   2          168     68     \n",
       "160 160 173    166    female 3          168     86     \n",
       "161 161 176    157    female 2          166     72     \n",
       "162 162 162    161    male   2          162     54     \n",
       "163 163 174    158    male   2          168     66     \n",
       "164 164 169    161    female 3          164     58     \n",
       "165 165 174    156    female 1          165     65     \n",
       "166 166 165    170    female 2          165     65     \n",
       "167 167 169    164    male   3          167     79     \n",
       "168 168 166    157    female 3          160     30     \n",
       "169 169 173    159    female 2          165     65     \n",
       "170 170 176    158    male   1          169     82     \n",
       "171 171 180    161    male   3          172     84     "
      ]
     },
     "metadata": {},
     "output_type": "display_data"
    }
   ],
   "source": [
    "Data"
   ]
  },
  {
   "cell_type": "code",
   "execution_count": 15,
   "metadata": {},
   "outputs": [
    {
     "data": {
      "text/html": [
       "<table class=\"dataframe\">\n",
       "<caption>A tibble: 10 × 7</caption>\n",
       "<thead>\n",
       "\t<tr><th scope=col>ID</th><th scope=col>FATHER</th><th scope=col>MOTHER</th><th scope=col>SEX</th><th scope=col>BIRTHPLACE</th><th scope=col>HEIGHTS</th><th scope=col>WEIGHTS</th></tr>\n",
       "\t<tr><th scope=col>&lt;dbl&gt;</th><th scope=col>&lt;dbl&gt;</th><th scope=col>&lt;dbl&gt;</th><th scope=col>&lt;chr&gt;</th><th scope=col>&lt;dbl&gt;</th><th scope=col>&lt;dbl&gt;</th><th scope=col>&lt;dbl&gt;</th></tr>\n",
       "</thead>\n",
       "<tbody>\n",
       "\t<tr><td> 1</td><td>174</td><td>156</td><td>female</td><td>2</td><td>165</td><td>65</td></tr>\n",
       "\t<tr><td> 2</td><td>177</td><td>159</td><td>male  </td><td>2</td><td>170</td><td>67</td></tr>\n",
       "\t<tr><td> 3</td><td>173</td><td>161</td><td>male  </td><td>1</td><td>168</td><td>51</td></tr>\n",
       "\t<tr><td> 4</td><td>174</td><td>156</td><td>male  </td><td>2</td><td>167</td><td>69</td></tr>\n",
       "\t<tr><td> 5</td><td>160</td><td>165</td><td>male  </td><td>1</td><td>162</td><td>54</td></tr>\n",
       "\t<tr><td> 6</td><td>167</td><td>157</td><td>male  </td><td>3</td><td>163</td><td>61</td></tr>\n",
       "\t<tr><td> 7</td><td>171</td><td>162</td><td>female</td><td>1</td><td>165</td><td>65</td></tr>\n",
       "\t<tr><td> 8</td><td>174</td><td>158</td><td>male  </td><td>3</td><td>168</td><td>76</td></tr>\n",
       "\t<tr><td> 9</td><td>175</td><td>162</td><td>female</td><td>3</td><td>168</td><td>67</td></tr>\n",
       "\t<tr><td>10</td><td>174</td><td>161</td><td>female</td><td>1</td><td>167</td><td>69</td></tr>\n",
       "</tbody>\n",
       "</table>\n"
      ],
      "text/latex": [
       "A tibble: 10 × 7\n",
       "\\begin{tabular}{lllllll}\n",
       " ID & FATHER & MOTHER & SEX & BIRTHPLACE & HEIGHTS & WEIGHTS\\\\\n",
       " <dbl> & <dbl> & <dbl> & <chr> & <dbl> & <dbl> & <dbl>\\\\\n",
       "\\hline\n",
       "\t  1 & 174 & 156 & female & 2 & 165 & 65\\\\\n",
       "\t  2 & 177 & 159 & male   & 2 & 170 & 67\\\\\n",
       "\t  3 & 173 & 161 & male   & 1 & 168 & 51\\\\\n",
       "\t  4 & 174 & 156 & male   & 2 & 167 & 69\\\\\n",
       "\t  5 & 160 & 165 & male   & 1 & 162 & 54\\\\\n",
       "\t  6 & 167 & 157 & male   & 3 & 163 & 61\\\\\n",
       "\t  7 & 171 & 162 & female & 1 & 165 & 65\\\\\n",
       "\t  8 & 174 & 158 & male   & 3 & 168 & 76\\\\\n",
       "\t  9 & 175 & 162 & female & 3 & 168 & 67\\\\\n",
       "\t 10 & 174 & 161 & female & 1 & 167 & 69\\\\\n",
       "\\end{tabular}\n"
      ],
      "text/markdown": [
       "\n",
       "A tibble: 10 × 7\n",
       "\n",
       "| ID &lt;dbl&gt; | FATHER &lt;dbl&gt; | MOTHER &lt;dbl&gt; | SEX &lt;chr&gt; | BIRTHPLACE &lt;dbl&gt; | HEIGHTS &lt;dbl&gt; | WEIGHTS &lt;dbl&gt; |\n",
       "|---|---|---|---|---|---|---|\n",
       "|  1 | 174 | 156 | female | 2 | 165 | 65 |\n",
       "|  2 | 177 | 159 | male   | 2 | 170 | 67 |\n",
       "|  3 | 173 | 161 | male   | 1 | 168 | 51 |\n",
       "|  4 | 174 | 156 | male   | 2 | 167 | 69 |\n",
       "|  5 | 160 | 165 | male   | 1 | 162 | 54 |\n",
       "|  6 | 167 | 157 | male   | 3 | 163 | 61 |\n",
       "|  7 | 171 | 162 | female | 1 | 165 | 65 |\n",
       "|  8 | 174 | 158 | male   | 3 | 168 | 76 |\n",
       "|  9 | 175 | 162 | female | 3 | 168 | 67 |\n",
       "| 10 | 174 | 161 | female | 1 | 167 | 69 |\n",
       "\n"
      ],
      "text/plain": [
       "   ID FATHER MOTHER SEX    BIRTHPLACE HEIGHTS WEIGHTS\n",
       "1   1 174    156    female 2          165     65     \n",
       "2   2 177    159    male   2          170     67     \n",
       "3   3 173    161    male   1          168     51     \n",
       "4   4 174    156    male   2          167     69     \n",
       "5   5 160    165    male   1          162     54     \n",
       "6   6 167    157    male   3          163     61     \n",
       "7   7 171    162    female 1          165     65     \n",
       "8   8 174    158    male   3          168     76     \n",
       "9   9 175    162    female 3          168     67     \n",
       "10 10 174    161    female 1          167     69     "
      ]
     },
     "metadata": {},
     "output_type": "display_data"
    }
   ],
   "source": [
    "# with the following command, we can see the first n data\n",
    "n<-10\n",
    "head(Data,n)"
   ]
  },
  {
   "cell_type": "code",
   "execution_count": 17,
   "metadata": {},
   "outputs": [
    {
     "name": "stdout",
     "output_type": "stream",
     "text": [
      "tibble [171 × 7] (S3: tbl_df/tbl/data.frame)\n",
      " $ ID        : num [1:171] 1 2 3 4 5 6 7 8 9 10 ...\n",
      " $ FATHER    : num [1:171] 174 177 173 174 160 167 171 174 175 174 ...\n",
      " $ MOTHER    : num [1:171] 156 159 161 156 165 157 162 158 162 161 ...\n",
      " $ SEX       : chr [1:171] \"female\" \"male\" \"male\" \"male\" ...\n",
      " $ BIRTHPLACE: num [1:171] 2 2 1 2 1 3 1 3 3 1 ...\n",
      " $ HEIGHTS   : num [1:171] 165 170 168 167 162 163 165 168 168 167 ...\n",
      " $ WEIGHTS   : num [1:171] 65 67 51 69 54 61 65 76 67 69 ...\n"
     ]
    }
   ],
   "source": [
    "# with the following command, we can see the type of variables of the database\n",
    "str(Data)\n",
    "# FATHER: Numerical variable. MOTHER, BIRTHPLACE... as well\n",
    "# SEX is a factor (qualitative variable)"
   ]
  },
  {
   "cell_type": "markdown",
   "metadata": {},
   "source": [
    "### Create new variables"
   ]
  },
  {
   "cell_type": "code",
   "execution_count": 18,
   "metadata": {},
   "outputs": [],
   "source": [
    "# We convert BIRTHPLACE (numeric) to factor as follows: (1,2,3) -> (Alava, Vizcaya, Guipuzcoa)\n",
    "\n",
    "Data(DOLAR)BIRTHPLACE.F <- factor(Data$BIRTHPLACE, levels=c(1,2,3), \n",
    "                              labels=c(\"Alava\", \"Vizcaya\", \"Guipuzcoa\"))"
   ]
  },
  {
   "cell_type": "markdown",
   "metadata": {},
   "source": [
    "### Operations with variables"
   ]
  },
  {
   "cell_type": "code",
   "execution_count": 22,
   "metadata": {},
   "outputs": [
    {
     "name": "stdout",
     "output_type": "stream",
     "text": [
      "tibble [171 × 12] (S3: tbl_df/tbl/data.frame)\n",
      " $ ID          : num [1:171] 1 2 3 4 5 6 7 8 9 10 ...\n",
      " $ FATHER      : num [1:171] 174 177 173 174 160 167 171 174 175 174 ...\n",
      " $ MOTHER      : num [1:171] 156 159 161 156 165 157 162 158 162 161 ...\n",
      " $ SEX         : chr [1:171] \"female\" \"male\" \"male\" \"male\" ...\n",
      " $ BIRTHPLACE  : num [1:171] 2 2 1 2 1 3 1 3 3 1 ...\n",
      " $ HEIGHTS     : num [1:171] 165 170 168 167 162 163 165 168 168 167 ...\n",
      " $ WEIGHTS     : num [1:171] 65 67 51 69 54 61 65 76 67 69 ...\n",
      " $ BIRTHPLACE.F: Factor w/ 3 levels \"Alava\",\"Vizcaya\",..: 2 2 1 2 1 3 1 3 3 1 ...\n",
      " $ DIFFERENCE  : num [1:171] 18 18 12 18 -5 10 9 16 13 13 ...\n",
      " $ BMI         : num [1:171] 23.9 23.2 18.1 24.7 20.6 ...\n",
      " $ OBESITY     : Factor w/ 2 levels \"0\",\"1\": 1 1 1 1 1 1 1 2 1 1 ...\n",
      " $ BMI_LEVEL   : Factor w/ 4 levels \"Very low\",\"Normal\",..: 3 3 1 3 3 3 3 4 3 3 ...\n"
     ]
    }
   ],
   "source": [
    "# Difference between the father and the mother height\n",
    "\n",
    "Data(DOLAR)DIFFERENCE <- Data(DOLAR)FATHER - Data$MOTHER\n",
    "\n",
    "# Calculate the BMC (body mass index)\n",
    "\n",
    "Data(DOLAR)BMI <- Data(DOLAR)WEIGHTS/(Data$HEIGHTS/100)^2\n",
    "\n",
    "# if bmi>25, obesity=1, otherwise obesity=0\n",
    "\n",
    "Data(DOLAR)OBESITY <-as.factor(ifelse(Data$BMI>25, 1,0))\n",
    "\n",
    "# Clasify according to bmi\n",
    "\n",
    "Data(DOLAR)BMI_LEVEL <- cut(Data$BMI, breaks = c(0,18.49,19.99,24.99,100), \n",
    "                              labels=c(\"Very low\", \"Normal\",\"High\",\"Obesity\"), right=T)\n",
    "\n",
    "#We observe that the new variables have being added to the database\n",
    "str(Data)"
   ]
  },
  {
   "cell_type": "markdown",
   "metadata": {},
   "source": [
    "### Create new databases"
   ]
  },
  {
   "cell_type": "code",
   "execution_count": 24,
   "metadata": {},
   "outputs": [],
   "source": [
    "# Select the first 12 individuals\n",
    "\n",
    "Data2 <- Data[1:12,]\n",
    "\n",
    "# Select all the individuals, but variables of columns 3, 5 and 6\n",
    "\n",
    "Data3 <- Data[,c(3,5,6)]\n",
    "\n",
    "# Select all the individuals whose birthplace is not 1 (i.e. that are not from Alava) \n",
    "\n",
    "Data4 <- subset(Data,BIRTHPLACE!=1)\n",
    "\n",
    "# The heights of all the individuals whose birthplace is 2 (i.e., they are from Bizkaia)\n",
    "Heights_BIZ <- Data(DOLAR)HEIGHTS[Data$BIRTHPLACE==2]\n",
    "# or equivalently\n",
    "Heights_BIZ2 <- Data(DOLAR)HEIGHTS[Data$BIRTHPLACE.F==\"Vizcaya\"]"
   ]
  },
  {
   "cell_type": "markdown",
   "metadata": {},
   "source": [
    "### Save and Load Data"
   ]
  },
  {
   "cell_type": "code",
   "execution_count": 25,
   "metadata": {},
   "outputs": [],
   "source": [
    "# save\n",
    "save(\"Data\", file=\"MyBeautifulData.rda\")\n",
    "# load (in another session or with another computer)\n",
    "load(\"MyBeautifulData.rda\")"
   ]
  },
  {
   "cell_type": "markdown",
   "metadata": {},
   "source": [
    "# Descriptive Statistics"
   ]
  },
  {
   "cell_type": "code",
   "execution_count": 26,
   "metadata": {},
   "outputs": [
    {
     "data": {
      "text/html": [
       "166.812865497076"
      ],
      "text/latex": [
       "166.812865497076"
      ],
      "text/markdown": [
       "166.812865497076"
      ],
      "text/plain": [
       "[1] 166.8129"
      ]
     },
     "metadata": {},
     "output_type": "display_data"
    },
    {
     "data": {
      "text/html": [
       "3.72563521525363"
      ],
      "text/latex": [
       "3.72563521525363"
      ],
      "text/markdown": [
       "3.72563521525363"
      ],
      "text/plain": [
       "[1] 3.725635"
      ]
     },
     "metadata": {},
     "output_type": "display_data"
    },
    {
     "data": {
      "text/html": [
       "2.86461142528142"
      ],
      "text/latex": [
       "2.86461142528142"
      ],
      "text/markdown": [
       "2.86461142528142"
      ],
      "text/plain": [
       "[1] 2.864611"
      ]
     },
     "metadata": {},
     "output_type": "display_data"
    },
    {
     "data": {
      "text/plain": [
       "\n",
       "female   male \n",
       "    82     89 "
      ]
     },
     "metadata": {},
     "output_type": "display_data"
    },
    {
     "data": {
      "text/plain": [
       "\n",
       "    Alava   Vizcaya Guipuzcoa \n",
       "       39        82        50 "
      ]
     },
     "metadata": {},
     "output_type": "display_data"
    },
    {
     "data": {
      "text/plain": [
       "\n",
       " 1  2  3 \n",
       "39 82 50 "
      ]
     },
     "metadata": {},
     "output_type": "display_data"
    }
   ],
   "source": [
    "# some statistics\n",
    "\n",
    "mean(Data$HEIGHTS)\n",
    "sd(Data$MOTHER)\n",
    "100*sd(Data$FATHER)/mean(Data$FATHER)\n",
    "\n",
    "\n",
    "# frecuency of cualitative variables \n",
    "table(Data$SEX)\n",
    "table(Data$BIRTHPLACE.F)\n",
    "# Be careful with the following!\n",
    "table(Data$BIRTHPLACE)"
   ]
  },
  {
   "cell_type": "markdown",
   "metadata": {},
   "source": [
    "### Do plots"
   ]
  },
  {
   "cell_type": "code",
   "execution_count": 27,
   "metadata": {},
   "outputs": [
    {
     "data": {
      "image/png": "[encoded data removed]",
      "text/plain": [
       "plot without title"
      ]
     },
     "metadata": {
      "image/png": {
       "height": 420,
       "width": 420
      }
     },
     "output_type": "display_data"
    }
   ],
   "source": [
    "# diagram\n",
    "barplot(table(Data$SEX))"
   ]
  },
  {
   "cell_type": "code",
   "execution_count": 28,
   "metadata": {},
   "outputs": [
    {
     "data": {
      "image/png": "[encoded data removed]",
      "text/plain": [
       "Plot with title “Histogram of Data$BMI”"
      ]
     },
     "metadata": {
      "image/png": {
       "height": 420,
       "width": 420
      }
     },
     "output_type": "display_data"
    }
   ],
   "source": [
    "# histogram\n",
    "hist(Data$BMI)"
   ]
  },
  {
   "cell_type": "code",
   "execution_count": 29,
   "metadata": {},
   "outputs": [
    {
     "name": "stdout",
     "output_type": "stream",
     "text": [
      "\n",
      "  The decimal point is at the |\n",
      "\n",
      "  10 | 777777\n",
      "  12 | 1\n",
      "  14 | 33\n",
      "  16 | 8888\n",
      "  18 | 111222\n",
      "  20 | 666666666666666\n",
      "  22 | 115590002444477999999999999999\n",
      "  24 | 13447777777733333689\n",
      "  26 | 11111112333669999991335555577779\n",
      "  28 | 00033333344471488888\n",
      "  30 | 4555555558589\n",
      "  32 | 466224\n",
      "  34 | 00368927\n",
      "  36 | 11116\n",
      "  38 | \n",
      "  40 | 009\n",
      "\n"
     ]
    }
   ],
   "source": [
    "# stem and leaves\n",
    "stem(Data$BMI)"
   ]
  },
  {
   "cell_type": "code",
   "execution_count": 30,
   "metadata": {},
   "outputs": [
    {
     "data": {
      "image/png": "[encoded data removed]",
      "text/plain": [
       "plot without title"
      ]
     },
     "metadata": {
      "image/png": {
       "height": 420,
       "width": 420
      }
     },
     "output_type": "display_data"
    }
   ],
   "source": [
    "# box plot\n",
    "boxplot(Data$BMI)"
   ]
  },
  {
   "cell_type": "markdown",
   "metadata": {},
   "source": [
    "### Two Variables Descriptive Statistics"
   ]
  },
  {
   "cell_type": "code",
   "execution_count": 32,
   "metadata": {
    "scrolled": false
   },
   "outputs": [
    {
     "data": {
      "text/html": [
       "165.780487804878"
      ],
      "text/latex": [
       "165.780487804878"
      ],
      "text/markdown": [
       "165.780487804878"
      ],
      "text/plain": [
       "[1] 165.7805"
      ]
     },
     "metadata": {},
     "output_type": "display_data"
    },
    {
     "data": {
      "text/html": [
       "16.2965683798818"
      ],
      "text/latex": [
       "16.2965683798818"
      ],
      "text/markdown": [
       "16.2965683798818"
      ],
      "text/plain": [
       "[1] 16.29657"
      ]
     },
     "metadata": {},
     "output_type": "display_data"
    },
    {
     "data": {
      "text/plain": [
       "   Min. 1st Qu.  Median    Mean 3rd Qu.    Max. \n",
       "  30.00   61.25   75.50   72.92   86.00  124.00 "
      ]
     },
     "metadata": {},
     "output_type": "display_data"
    }
   ],
   "source": [
    "# mean women heights\n",
    "mean(Data(DOLAR)HEIGHTS[Data$SEX==\"female\"])\n",
    "# men weight quasi-standard deviation\n",
    "sd(Data(DOLAR)WEIGHTS[Data$SEX==\"male\"])\n",
    "# Some statistics about the weights of the population of BIRTHPLACE=3\n",
    "summary(Data(DOLAR)WEIGHTS[Data$BIRTHPLACE==3])"
   ]
  },
  {
   "cell_type": "code",
   "execution_count": 33,
   "metadata": {
    "scrolled": true
   },
   "outputs": [
    {
     "data": {
      "text/plain": [
       "           \n",
       "            female male\n",
       "  Alava         21   18\n",
       "  Vizcaya       38   44\n",
       "  Guipuzcoa     23   27"
      ]
     },
     "metadata": {},
     "output_type": "display_data"
    },
    {
     "data": {
      "text/plain": [
       "           \n",
       "               female      male\n",
       "  Alava     0.1228070 0.1052632\n",
       "  Vizcaya   0.2222222 0.2573099\n",
       "  Guipuzcoa 0.1345029 0.1578947"
      ]
     },
     "metadata": {},
     "output_type": "display_data"
    }
   ],
   "source": [
    "# contigency tables: absolute values and percentages\n",
    "table(Data$BIRTHPLACE.F,Data$SEX)\n",
    "prop.table(table(Data(DOLAR)BIRTHPLACE.F,Data$SEX))"
   ]
  },
  {
   "cell_type": "code",
   "execution_count": 34,
   "metadata": {
    "scrolled": true
   },
   "outputs": [
    {
     "data": {
      "text/plain": [
       "                 Data$SEX\n",
       "Data$BIRTHPLACE.F female male\n",
       "        Alava         21   18\n",
       "        Vizcaya       38   44\n",
       "        Guipuzcoa     23   27"
      ]
     },
     "metadata": {},
     "output_type": "display_data"
    }
   ],
   "source": [
    "# another way of doing tables\n",
    "table1<-xtabs(~Data$BIRTHPLACE.F +Data$SEX )\n",
    "table1"
   ]
  },
  {
   "cell_type": "code",
   "execution_count": 35,
   "metadata": {},
   "outputs": [
    {
     "data": {
      "image/png": "[encoded data removed]",
      "text/plain": [
       "plot without title"
      ]
     },
     "metadata": {
      "image/png": {
       "height": 420,
       "width": 420
      }
     },
     "output_type": "display_data"
    }
   ],
   "source": [
    "# bar diagram \n",
    "mytable <- table(Data$SEX,Data$BIRTHPLACE.F)\n",
    "barplot(mytable, legend = TRUE)"
   ]
  },
  {
   "cell_type": "code",
   "execution_count": 36,
   "metadata": {},
   "outputs": [
    {
     "data": {
      "image/png": "[encoded data removed]",
      "text/plain": [
       "plot without title"
      ]
     },
     "metadata": {
      "image/png": {
       "height": 420,
       "width": 420
      }
     },
     "output_type": "display_data"
    }
   ],
   "source": [
    "# box plot\n",
    "boxplot(Data$BMI~Data$SEX)"
   ]
  },
  {
   "cell_type": "markdown",
   "metadata": {},
   "source": [
    "### Linear Regression"
   ]
  },
  {
   "cell_type": "code",
   "execution_count": 37,
   "metadata": {},
   "outputs": [
    {
     "data": {
      "text/plain": [
       "\n",
       "Call:\n",
       "lm(formula = Data$WEIGHTS ~ Data$HEIGHTS)\n",
       "\n",
       "Residuals:\n",
       "     Min       1Q   Median       3Q      Max \n",
       "-29.4483  -6.8493  -0.4331   5.6431  28.0745 \n",
       "\n",
       "Coefficients:\n",
       "              Estimate Std. Error t value Pr(>|t|)    \n",
       "(Intercept)  -679.3847    37.7158  -18.01   <2e-16 ***\n",
       "Data$HEIGHTS    4.5076     0.2261   19.94   <2e-16 ***\n",
       "---\n",
       "Signif. codes:  0 ‘***’ 0.001 ‘**’ 0.01 ‘*’ 0.05 ‘.’ 0.1 ‘ ’ 1\n",
       "\n",
       "Residual standard error: 9.812 on 169 degrees of freedom\n",
       "Multiple R-squared:  0.7017,\tAdjusted R-squared:    0.7 \n",
       "F-statistic: 397.6 on 1 and 169 DF,  p-value: < 2.2e-16\n"
      ]
     },
     "metadata": {},
     "output_type": "display_data"
    }
   ],
   "source": [
    "# We aim to study if there exists a linear relation between the heights and the weights.\n",
    "reg <- lm(Data$WEIGHTS ~ Data$HEIGHTS)\n",
    "summary(reg)"
   ]
  },
  {
   "cell_type": "code",
   "execution_count": 38,
   "metadata": {},
   "outputs": [
    {
     "data": {
      "text/html": [
       "0.837702420409697"
      ],
      "text/latex": [
       "0.837702420409697"
      ],
      "text/markdown": [
       "0.837702420409697"
      ],
      "text/plain": [
       "[1] 0.8377024"
      ]
     },
     "metadata": {},
     "output_type": "display_data"
    }
   ],
   "source": [
    "# Corelation coefficient of Pearson\n",
    "cor(Data$WEIGHTS , Data$HEIGHTS)"
   ]
  },
  {
   "cell_type": "code",
   "execution_count": null,
   "metadata": {},
   "outputs": [],
   "source": []
  }
 ],
 "metadata": {
  "kernelspec": {
   "display_name": "R",
   "language": "R",
   "name": "ir"
  },
  "language_info": {
   "codemirror_mode": "r",
   "file_extension": ".r",
   "mimetype": "text/x-r-source",
   "name": "R",
   "pygments_lexer": "r",
   "version": "4.1.2"
  }
 },
 "nbformat": 4,
 "nbformat_minor": 2
}
