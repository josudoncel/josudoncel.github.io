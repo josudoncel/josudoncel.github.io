{
 "cells": [
  {
   "cell_type": "markdown",
   "metadata": {},
   "source": [
    "# INFERENTZIA ESTATISTIKOA: Lehenengo praktika\n",
    "\n"
   ]
  },
  {
   "cell_type": "code",
   "execution_count": 1,
   "metadata": {
    "scrolled": true
   },
   "outputs": [],
   "source": [
    "# txt datuak irakurri\n",
    "\n",
    "Datuak <-read.table(file=\"altuerak.txt\", header=TRUE, dec=\",\", sep=\"\\t\")\n"
   ]
  },
  {
   "cell_type": "code",
   "execution_count": 2,
   "metadata": {},
   "outputs": [
    {
     "name": "stderr",
     "output_type": "stream",
     "text": [
      "readxl works best with a newer version of the tibble package.\n",
      "You currently have tibble v1.4.1.\n",
      "Falling back to column name repair from tibble <= v1.4.2.\n",
      "Message displays once per session.\n",
      "\n"
     ]
    }
   ],
   "source": [
    "# excel datuak irakurri\n",
    " library(\"readxl\")\n",
    "Datuakexcel <-read_excel(\"altuerak.xlsx\")"
   ]
  },
  {
   "cell_type": "code",
   "execution_count": 3,
   "metadata": {},
   "outputs": [],
   "source": [
    "# eskuz sartu datuak\n",
    "\n",
    "alda1 <- c(0.1,0.4,10,15, 25)\n",
    "alda2 <- c(\"Bai\",\"Bai\",\"Bai\",\"Ez\",\"Ez\")\n",
    "Datuakeskuz <- data.frame(alda1,alda2)"
   ]
  },
  {
   "cell_type": "markdown",
   "metadata": {},
   "source": [
    "### Datuen irakurketa "
   ]
  },
  {
   "cell_type": "code",
   "execution_count": 4,
   "metadata": {},
   "outputs": [
    {
     "data": {
      "text/html": [
       "<table>\n",
       "<caption>A data.frame: 171 × 6</caption>\n",
       "<thead>\n",
       "\t<tr><th></th><th scope=col>AITARENA</th><th scope=col>AMARENA</th><th scope=col>SEXUA</th><th scope=col>JAIOTERRIA</th><th scope=col>ALTUERA</th><th scope=col>PISUA</th></tr>\n",
       "\t<tr><th></th><th scope=col>&lt;int&gt;</th><th scope=col>&lt;int&gt;</th><th scope=col>&lt;fct&gt;</th><th scope=col>&lt;int&gt;</th><th scope=col>&lt;int&gt;</th><th scope=col>&lt;int&gt;</th></tr>\n",
       "</thead>\n",
       "<tbody>\n",
       "\t<tr><th scope=row>1</th><td>174</td><td>156</td><td>emakumezkoa</td><td>2</td><td>165</td><td> 65</td></tr>\n",
       "\t<tr><th scope=row>2</th><td>177</td><td>159</td><td>gizonezkoa </td><td>2</td><td>170</td><td> 67</td></tr>\n",
       "\t<tr><th scope=row>3</th><td>173</td><td>161</td><td>gizonezkoa </td><td>1</td><td>168</td><td> 51</td></tr>\n",
       "\t<tr><th scope=row>4</th><td>174</td><td>156</td><td>gizonezkoa </td><td>2</td><td>167</td><td> 69</td></tr>\n",
       "\t<tr><th scope=row>5</th><td>160</td><td>165</td><td>gizonezkoa </td><td>1</td><td>162</td><td> 54</td></tr>\n",
       "\t<tr><th scope=row>6</th><td>167</td><td>157</td><td>gizonezkoa </td><td>3</td><td>163</td><td> 61</td></tr>\n",
       "\t<tr><th scope=row>7</th><td>171</td><td>162</td><td>emakumezkoa</td><td>1</td><td>165</td><td> 65</td></tr>\n",
       "\t<tr><th scope=row>8</th><td>174</td><td>158</td><td>gizonezkoa </td><td>3</td><td>168</td><td> 76</td></tr>\n",
       "\t<tr><th scope=row>9</th><td>175</td><td>162</td><td>emakumezkoa</td><td>3</td><td>168</td><td> 67</td></tr>\n",
       "\t<tr><th scope=row>10</th><td>174</td><td>161</td><td>emakumezkoa</td><td>1</td><td>167</td><td> 69</td></tr>\n",
       "\t<tr><th scope=row>11</th><td>175</td><td>162</td><td>emakumezkoa</td><td>3</td><td>168</td><td> 66</td></tr>\n",
       "\t<tr><th scope=row>12</th><td>176</td><td>161</td><td>gizonezkoa </td><td>2</td><td>170</td><td> 81</td></tr>\n",
       "\t<tr><th scope=row>13</th><td>180</td><td>156</td><td>gizonezkoa </td><td>2</td><td>170</td><td> 92</td></tr>\n",
       "\t<tr><th scope=row>14</th><td>172</td><td>171</td><td>emakumezkoa</td><td>3</td><td>170</td><td> 85</td></tr>\n",
       "\t<tr><th scope=row>15</th><td>171</td><td>158</td><td>emakumezkoa</td><td>1</td><td>164</td><td> 58</td></tr>\n",
       "\t<tr><th scope=row>16</th><td>172</td><td>160</td><td>emakumezkoa</td><td>3</td><td>165</td><td> 65</td></tr>\n",
       "\t<tr><th scope=row>17</th><td>172</td><td>157</td><td>gizonezkoa </td><td>2</td><td>166</td><td> 72</td></tr>\n",
       "\t<tr><th scope=row>18</th><td>175</td><td>158</td><td>emakumezkoa</td><td>2</td><td>166</td><td> 62</td></tr>\n",
       "\t<tr><th scope=row>19</th><td>173</td><td>160</td><td>gizonezkoa </td><td>2</td><td>168</td><td> 86</td></tr>\n",
       "\t<tr><th scope=row>20</th><td>173</td><td>164</td><td>emakumezkoa</td><td>1</td><td>165</td><td> 65</td></tr>\n",
       "\t<tr><th scope=row>21</th><td>171</td><td>167</td><td>emakumezkoa</td><td>2</td><td>167</td><td> 69</td></tr>\n",
       "\t<tr><th scope=row>22</th><td>177</td><td>160</td><td>emakumezkoa</td><td>2</td><td>168</td><td> 74</td></tr>\n",
       "\t<tr><th scope=row>23</th><td>172</td><td>161</td><td>emakumezkoa</td><td>3</td><td>166</td><td> 62</td></tr>\n",
       "\t<tr><th scope=row>24</th><td>180</td><td>164</td><td>gizonezkoa </td><td>1</td><td>174</td><td>108</td></tr>\n",
       "\t<tr><th scope=row>25</th><td>174</td><td>159</td><td>gizonezkoa </td><td>3</td><td>168</td><td> 75</td></tr>\n",
       "\t<tr><th scope=row>26</th><td>169</td><td>167</td><td>gizonezkoa </td><td>2</td><td>168</td><td> 77</td></tr>\n",
       "\t<tr><th scope=row>27</th><td>174</td><td>166</td><td>emakumezkoa</td><td>2</td><td>169</td><td> 63</td></tr>\n",
       "\t<tr><th scope=row>28</th><td>166</td><td>160</td><td>gizonezkoa </td><td>2</td><td>164</td><td> 68</td></tr>\n",
       "\t<tr><th scope=row>29</th><td>168</td><td>159</td><td>emakumezkoa</td><td>3</td><td>162</td><td> 44</td></tr>\n",
       "\t<tr><th scope=row>30</th><td>172</td><td>163</td><td>emakumezkoa</td><td>2</td><td>166</td><td> 72</td></tr>\n",
       "\t<tr><th scope=row>⋮</th><td>⋮</td><td>⋮</td><td>⋮</td><td>⋮</td><td>⋮</td><td>⋮</td></tr>\n",
       "\t<tr><th scope=row>142</th><td>174</td><td>159</td><td>gizonezkoa </td><td>2</td><td>168</td><td>66</td></tr>\n",
       "\t<tr><th scope=row>143</th><td>177</td><td>161</td><td>gizonezkoa </td><td>3</td><td>171</td><td>87</td></tr>\n",
       "\t<tr><th scope=row>144</th><td>180</td><td>160</td><td>emakumezkoa</td><td>1</td><td>170</td><td>80</td></tr>\n",
       "\t<tr><th scope=row>145</th><td>168</td><td>163</td><td>gizonezkoa </td><td>3</td><td>166</td><td>77</td></tr>\n",
       "\t<tr><th scope=row>146</th><td>168</td><td>164</td><td>emakumezkoa</td><td>3</td><td>164</td><td>58</td></tr>\n",
       "\t<tr><th scope=row>147</th><td>171</td><td>160</td><td>gizonezkoa </td><td>1</td><td>167</td><td>69</td></tr>\n",
       "\t<tr><th scope=row>148</th><td>170</td><td>162</td><td>emakumezkoa</td><td>3</td><td>165</td><td>65</td></tr>\n",
       "\t<tr><th scope=row>149</th><td>157</td><td>162</td><td>gizonezkoa </td><td>3</td><td>159</td><td>33</td></tr>\n",
       "\t<tr><th scope=row>150</th><td>163</td><td>162</td><td>gizonezkoa </td><td>2</td><td>163</td><td>61</td></tr>\n",
       "\t<tr><th scope=row>151</th><td>166</td><td>165</td><td>emakumezkoa</td><td>2</td><td>164</td><td>58</td></tr>\n",
       "\t<tr><th scope=row>152</th><td>166</td><td>163</td><td>emakumezkoa</td><td>2</td><td>163</td><td>51</td></tr>\n",
       "\t<tr><th scope=row>153</th><td>169</td><td>166</td><td>gizonezkoa </td><td>2</td><td>168</td><td>69</td></tr>\n",
       "\t<tr><th scope=row>154</th><td>175</td><td>158</td><td>gizonezkoa </td><td>1</td><td>168</td><td>67</td></tr>\n",
       "\t<tr><th scope=row>155</th><td>172</td><td>157</td><td>emakumezkoa</td><td>2</td><td>164</td><td>58</td></tr>\n",
       "\t<tr><th scope=row>156</th><td>170</td><td>161</td><td>gizonezkoa </td><td>3</td><td>166</td><td>82</td></tr>\n",
       "\t<tr><th scope=row>157</th><td>177</td><td>158</td><td>emakumezkoa</td><td>2</td><td>167</td><td>79</td></tr>\n",
       "\t<tr><th scope=row>158</th><td>175</td><td>155</td><td>gizonezkoa </td><td>2</td><td>167</td><td>79</td></tr>\n",
       "\t<tr><th scope=row>159</th><td>174</td><td>158</td><td>gizonezkoa </td><td>2</td><td>168</td><td>68</td></tr>\n",
       "\t<tr><th scope=row>160</th><td>173</td><td>166</td><td>emakumezkoa</td><td>3</td><td>168</td><td>86</td></tr>\n",
       "\t<tr><th scope=row>161</th><td>176</td><td>157</td><td>emakumezkoa</td><td>2</td><td>166</td><td>72</td></tr>\n",
       "\t<tr><th scope=row>162</th><td>162</td><td>161</td><td>gizonezkoa </td><td>2</td><td>162</td><td>54</td></tr>\n",
       "\t<tr><th scope=row>163</th><td>174</td><td>158</td><td>gizonezkoa </td><td>2</td><td>168</td><td>66</td></tr>\n",
       "\t<tr><th scope=row>164</th><td>169</td><td>161</td><td>emakumezkoa</td><td>3</td><td>164</td><td>58</td></tr>\n",
       "\t<tr><th scope=row>165</th><td>174</td><td>156</td><td>emakumezkoa</td><td>1</td><td>165</td><td>65</td></tr>\n",
       "\t<tr><th scope=row>166</th><td>165</td><td>170</td><td>emakumezkoa</td><td>2</td><td>165</td><td>65</td></tr>\n",
       "\t<tr><th scope=row>167</th><td>169</td><td>164</td><td>gizonezkoa </td><td>3</td><td>167</td><td>79</td></tr>\n",
       "\t<tr><th scope=row>168</th><td>166</td><td>157</td><td>emakumezkoa</td><td>3</td><td>160</td><td>30</td></tr>\n",
       "\t<tr><th scope=row>169</th><td>173</td><td>159</td><td>emakumezkoa</td><td>2</td><td>165</td><td>65</td></tr>\n",
       "\t<tr><th scope=row>170</th><td>176</td><td>158</td><td>gizonezkoa </td><td>1</td><td>169</td><td>82</td></tr>\n",
       "\t<tr><th scope=row>171</th><td>180</td><td>161</td><td>gizonezkoa </td><td>3</td><td>172</td><td>84</td></tr>\n",
       "</tbody>\n",
       "</table>\n"
      ],
      "text/latex": [
       "A data.frame: 171 × 6\n",
       "\\begin{tabular}{r|llllll}\n",
       "  & AITARENA & AMARENA & SEXUA & JAIOTERRIA & ALTUERA & PISUA\\\\\n",
       "  & <int> & <int> & <fct> & <int> & <int> & <int>\\\\\n",
       "\\hline\n",
       "\t1 & 174 & 156 & emakumezkoa & 2 & 165 &  65\\\\\n",
       "\t2 & 177 & 159 & gizonezkoa  & 2 & 170 &  67\\\\\n",
       "\t3 & 173 & 161 & gizonezkoa  & 1 & 168 &  51\\\\\n",
       "\t4 & 174 & 156 & gizonezkoa  & 2 & 167 &  69\\\\\n",
       "\t5 & 160 & 165 & gizonezkoa  & 1 & 162 &  54\\\\\n",
       "\t6 & 167 & 157 & gizonezkoa  & 3 & 163 &  61\\\\\n",
       "\t7 & 171 & 162 & emakumezkoa & 1 & 165 &  65\\\\\n",
       "\t8 & 174 & 158 & gizonezkoa  & 3 & 168 &  76\\\\\n",
       "\t9 & 175 & 162 & emakumezkoa & 3 & 168 &  67\\\\\n",
       "\t10 & 174 & 161 & emakumezkoa & 1 & 167 &  69\\\\\n",
       "\t11 & 175 & 162 & emakumezkoa & 3 & 168 &  66\\\\\n",
       "\t12 & 176 & 161 & gizonezkoa  & 2 & 170 &  81\\\\\n",
       "\t13 & 180 & 156 & gizonezkoa  & 2 & 170 &  92\\\\\n",
       "\t14 & 172 & 171 & emakumezkoa & 3 & 170 &  85\\\\\n",
       "\t15 & 171 & 158 & emakumezkoa & 1 & 164 &  58\\\\\n",
       "\t16 & 172 & 160 & emakumezkoa & 3 & 165 &  65\\\\\n",
       "\t17 & 172 & 157 & gizonezkoa  & 2 & 166 &  72\\\\\n",
       "\t18 & 175 & 158 & emakumezkoa & 2 & 166 &  62\\\\\n",
       "\t19 & 173 & 160 & gizonezkoa  & 2 & 168 &  86\\\\\n",
       "\t20 & 173 & 164 & emakumezkoa & 1 & 165 &  65\\\\\n",
       "\t21 & 171 & 167 & emakumezkoa & 2 & 167 &  69\\\\\n",
       "\t22 & 177 & 160 & emakumezkoa & 2 & 168 &  74\\\\\n",
       "\t23 & 172 & 161 & emakumezkoa & 3 & 166 &  62\\\\\n",
       "\t24 & 180 & 164 & gizonezkoa  & 1 & 174 & 108\\\\\n",
       "\t25 & 174 & 159 & gizonezkoa  & 3 & 168 &  75\\\\\n",
       "\t26 & 169 & 167 & gizonezkoa  & 2 & 168 &  77\\\\\n",
       "\t27 & 174 & 166 & emakumezkoa & 2 & 169 &  63\\\\\n",
       "\t28 & 166 & 160 & gizonezkoa  & 2 & 164 &  68\\\\\n",
       "\t29 & 168 & 159 & emakumezkoa & 3 & 162 &  44\\\\\n",
       "\t30 & 172 & 163 & emakumezkoa & 2 & 166 &  72\\\\\n",
       "\t⋮ & ⋮ & ⋮ & ⋮ & ⋮ & ⋮ & ⋮\\\\\n",
       "\t142 & 174 & 159 & gizonezkoa  & 2 & 168 & 66\\\\\n",
       "\t143 & 177 & 161 & gizonezkoa  & 3 & 171 & 87\\\\\n",
       "\t144 & 180 & 160 & emakumezkoa & 1 & 170 & 80\\\\\n",
       "\t145 & 168 & 163 & gizonezkoa  & 3 & 166 & 77\\\\\n",
       "\t146 & 168 & 164 & emakumezkoa & 3 & 164 & 58\\\\\n",
       "\t147 & 171 & 160 & gizonezkoa  & 1 & 167 & 69\\\\\n",
       "\t148 & 170 & 162 & emakumezkoa & 3 & 165 & 65\\\\\n",
       "\t149 & 157 & 162 & gizonezkoa  & 3 & 159 & 33\\\\\n",
       "\t150 & 163 & 162 & gizonezkoa  & 2 & 163 & 61\\\\\n",
       "\t151 & 166 & 165 & emakumezkoa & 2 & 164 & 58\\\\\n",
       "\t152 & 166 & 163 & emakumezkoa & 2 & 163 & 51\\\\\n",
       "\t153 & 169 & 166 & gizonezkoa  & 2 & 168 & 69\\\\\n",
       "\t154 & 175 & 158 & gizonezkoa  & 1 & 168 & 67\\\\\n",
       "\t155 & 172 & 157 & emakumezkoa & 2 & 164 & 58\\\\\n",
       "\t156 & 170 & 161 & gizonezkoa  & 3 & 166 & 82\\\\\n",
       "\t157 & 177 & 158 & emakumezkoa & 2 & 167 & 79\\\\\n",
       "\t158 & 175 & 155 & gizonezkoa  & 2 & 167 & 79\\\\\n",
       "\t159 & 174 & 158 & gizonezkoa  & 2 & 168 & 68\\\\\n",
       "\t160 & 173 & 166 & emakumezkoa & 3 & 168 & 86\\\\\n",
       "\t161 & 176 & 157 & emakumezkoa & 2 & 166 & 72\\\\\n",
       "\t162 & 162 & 161 & gizonezkoa  & 2 & 162 & 54\\\\\n",
       "\t163 & 174 & 158 & gizonezkoa  & 2 & 168 & 66\\\\\n",
       "\t164 & 169 & 161 & emakumezkoa & 3 & 164 & 58\\\\\n",
       "\t165 & 174 & 156 & emakumezkoa & 1 & 165 & 65\\\\\n",
       "\t166 & 165 & 170 & emakumezkoa & 2 & 165 & 65\\\\\n",
       "\t167 & 169 & 164 & gizonezkoa  & 3 & 167 & 79\\\\\n",
       "\t168 & 166 & 157 & emakumezkoa & 3 & 160 & 30\\\\\n",
       "\t169 & 173 & 159 & emakumezkoa & 2 & 165 & 65\\\\\n",
       "\t170 & 176 & 158 & gizonezkoa  & 1 & 169 & 82\\\\\n",
       "\t171 & 180 & 161 & gizonezkoa  & 3 & 172 & 84\\\\\n",
       "\\end{tabular}\n"
      ],
      "text/markdown": [
       "\n",
       "A data.frame: 171 × 6\n",
       "\n",
       "| <!--/--> | AITARENA &lt;int&gt; | AMARENA &lt;int&gt; | SEXUA &lt;fct&gt; | JAIOTERRIA &lt;int&gt; | ALTUERA &lt;int&gt; | PISUA &lt;int&gt; |\n",
       "|---|---|---|---|---|---|---|\n",
       "| 1 | 174 | 156 | emakumezkoa | 2 | 165 |  65 |\n",
       "| 2 | 177 | 159 | gizonezkoa  | 2 | 170 |  67 |\n",
       "| 3 | 173 | 161 | gizonezkoa  | 1 | 168 |  51 |\n",
       "| 4 | 174 | 156 | gizonezkoa  | 2 | 167 |  69 |\n",
       "| 5 | 160 | 165 | gizonezkoa  | 1 | 162 |  54 |\n",
       "| 6 | 167 | 157 | gizonezkoa  | 3 | 163 |  61 |\n",
       "| 7 | 171 | 162 | emakumezkoa | 1 | 165 |  65 |\n",
       "| 8 | 174 | 158 | gizonezkoa  | 3 | 168 |  76 |\n",
       "| 9 | 175 | 162 | emakumezkoa | 3 | 168 |  67 |\n",
       "| 10 | 174 | 161 | emakumezkoa | 1 | 167 |  69 |\n",
       "| 11 | 175 | 162 | emakumezkoa | 3 | 168 |  66 |\n",
       "| 12 | 176 | 161 | gizonezkoa  | 2 | 170 |  81 |\n",
       "| 13 | 180 | 156 | gizonezkoa  | 2 | 170 |  92 |\n",
       "| 14 | 172 | 171 | emakumezkoa | 3 | 170 |  85 |\n",
       "| 15 | 171 | 158 | emakumezkoa | 1 | 164 |  58 |\n",
       "| 16 | 172 | 160 | emakumezkoa | 3 | 165 |  65 |\n",
       "| 17 | 172 | 157 | gizonezkoa  | 2 | 166 |  72 |\n",
       "| 18 | 175 | 158 | emakumezkoa | 2 | 166 |  62 |\n",
       "| 19 | 173 | 160 | gizonezkoa  | 2 | 168 |  86 |\n",
       "| 20 | 173 | 164 | emakumezkoa | 1 | 165 |  65 |\n",
       "| 21 | 171 | 167 | emakumezkoa | 2 | 167 |  69 |\n",
       "| 22 | 177 | 160 | emakumezkoa | 2 | 168 |  74 |\n",
       "| 23 | 172 | 161 | emakumezkoa | 3 | 166 |  62 |\n",
       "| 24 | 180 | 164 | gizonezkoa  | 1 | 174 | 108 |\n",
       "| 25 | 174 | 159 | gizonezkoa  | 3 | 168 |  75 |\n",
       "| 26 | 169 | 167 | gizonezkoa  | 2 | 168 |  77 |\n",
       "| 27 | 174 | 166 | emakumezkoa | 2 | 169 |  63 |\n",
       "| 28 | 166 | 160 | gizonezkoa  | 2 | 164 |  68 |\n",
       "| 29 | 168 | 159 | emakumezkoa | 3 | 162 |  44 |\n",
       "| 30 | 172 | 163 | emakumezkoa | 2 | 166 |  72 |\n",
       "| ⋮ | ⋮ | ⋮ | ⋮ | ⋮ | ⋮ | ⋮ |\n",
       "| 142 | 174 | 159 | gizonezkoa  | 2 | 168 | 66 |\n",
       "| 143 | 177 | 161 | gizonezkoa  | 3 | 171 | 87 |\n",
       "| 144 | 180 | 160 | emakumezkoa | 1 | 170 | 80 |\n",
       "| 145 | 168 | 163 | gizonezkoa  | 3 | 166 | 77 |\n",
       "| 146 | 168 | 164 | emakumezkoa | 3 | 164 | 58 |\n",
       "| 147 | 171 | 160 | gizonezkoa  | 1 | 167 | 69 |\n",
       "| 148 | 170 | 162 | emakumezkoa | 3 | 165 | 65 |\n",
       "| 149 | 157 | 162 | gizonezkoa  | 3 | 159 | 33 |\n",
       "| 150 | 163 | 162 | gizonezkoa  | 2 | 163 | 61 |\n",
       "| 151 | 166 | 165 | emakumezkoa | 2 | 164 | 58 |\n",
       "| 152 | 166 | 163 | emakumezkoa | 2 | 163 | 51 |\n",
       "| 153 | 169 | 166 | gizonezkoa  | 2 | 168 | 69 |\n",
       "| 154 | 175 | 158 | gizonezkoa  | 1 | 168 | 67 |\n",
       "| 155 | 172 | 157 | emakumezkoa | 2 | 164 | 58 |\n",
       "| 156 | 170 | 161 | gizonezkoa  | 3 | 166 | 82 |\n",
       "| 157 | 177 | 158 | emakumezkoa | 2 | 167 | 79 |\n",
       "| 158 | 175 | 155 | gizonezkoa  | 2 | 167 | 79 |\n",
       "| 159 | 174 | 158 | gizonezkoa  | 2 | 168 | 68 |\n",
       "| 160 | 173 | 166 | emakumezkoa | 3 | 168 | 86 |\n",
       "| 161 | 176 | 157 | emakumezkoa | 2 | 166 | 72 |\n",
       "| 162 | 162 | 161 | gizonezkoa  | 2 | 162 | 54 |\n",
       "| 163 | 174 | 158 | gizonezkoa  | 2 | 168 | 66 |\n",
       "| 164 | 169 | 161 | emakumezkoa | 3 | 164 | 58 |\n",
       "| 165 | 174 | 156 | emakumezkoa | 1 | 165 | 65 |\n",
       "| 166 | 165 | 170 | emakumezkoa | 2 | 165 | 65 |\n",
       "| 167 | 169 | 164 | gizonezkoa  | 3 | 167 | 79 |\n",
       "| 168 | 166 | 157 | emakumezkoa | 3 | 160 | 30 |\n",
       "| 169 | 173 | 159 | emakumezkoa | 2 | 165 | 65 |\n",
       "| 170 | 176 | 158 | gizonezkoa  | 1 | 169 | 82 |\n",
       "| 171 | 180 | 161 | gizonezkoa  | 3 | 172 | 84 |\n",
       "\n"
      ],
      "text/plain": [
       "    AITARENA AMARENA SEXUA       JAIOTERRIA ALTUERA PISUA\n",
       "1   174      156     emakumezkoa 2          165      65  \n",
       "2   177      159     gizonezkoa  2          170      67  \n",
       "3   173      161     gizonezkoa  1          168      51  \n",
       "4   174      156     gizonezkoa  2          167      69  \n",
       "5   160      165     gizonezkoa  1          162      54  \n",
       "6   167      157     gizonezkoa  3          163      61  \n",
       "7   171      162     emakumezkoa 1          165      65  \n",
       "8   174      158     gizonezkoa  3          168      76  \n",
       "9   175      162     emakumezkoa 3          168      67  \n",
       "10  174      161     emakumezkoa 1          167      69  \n",
       "11  175      162     emakumezkoa 3          168      66  \n",
       "12  176      161     gizonezkoa  2          170      81  \n",
       "13  180      156     gizonezkoa  2          170      92  \n",
       "14  172      171     emakumezkoa 3          170      85  \n",
       "15  171      158     emakumezkoa 1          164      58  \n",
       "16  172      160     emakumezkoa 3          165      65  \n",
       "17  172      157     gizonezkoa  2          166      72  \n",
       "18  175      158     emakumezkoa 2          166      62  \n",
       "19  173      160     gizonezkoa  2          168      86  \n",
       "20  173      164     emakumezkoa 1          165      65  \n",
       "21  171      167     emakumezkoa 2          167      69  \n",
       "22  177      160     emakumezkoa 2          168      74  \n",
       "23  172      161     emakumezkoa 3          166      62  \n",
       "24  180      164     gizonezkoa  1          174     108  \n",
       "25  174      159     gizonezkoa  3          168      75  \n",
       "26  169      167     gizonezkoa  2          168      77  \n",
       "27  174      166     emakumezkoa 2          169      63  \n",
       "28  166      160     gizonezkoa  2          164      68  \n",
       "29  168      159     emakumezkoa 3          162      44  \n",
       "30  172      163     emakumezkoa 2          166      72  \n",
       "⋮   ⋮        ⋮       ⋮           ⋮          ⋮       ⋮    \n",
       "142 174      159     gizonezkoa  2          168     66   \n",
       "143 177      161     gizonezkoa  3          171     87   \n",
       "144 180      160     emakumezkoa 1          170     80   \n",
       "145 168      163     gizonezkoa  3          166     77   \n",
       "146 168      164     emakumezkoa 3          164     58   \n",
       "147 171      160     gizonezkoa  1          167     69   \n",
       "148 170      162     emakumezkoa 3          165     65   \n",
       "149 157      162     gizonezkoa  3          159     33   \n",
       "150 163      162     gizonezkoa  2          163     61   \n",
       "151 166      165     emakumezkoa 2          164     58   \n",
       "152 166      163     emakumezkoa 2          163     51   \n",
       "153 169      166     gizonezkoa  2          168     69   \n",
       "154 175      158     gizonezkoa  1          168     67   \n",
       "155 172      157     emakumezkoa 2          164     58   \n",
       "156 170      161     gizonezkoa  3          166     82   \n",
       "157 177      158     emakumezkoa 2          167     79   \n",
       "158 175      155     gizonezkoa  2          167     79   \n",
       "159 174      158     gizonezkoa  2          168     68   \n",
       "160 173      166     emakumezkoa 3          168     86   \n",
       "161 176      157     emakumezkoa 2          166     72   \n",
       "162 162      161     gizonezkoa  2          162     54   \n",
       "163 174      158     gizonezkoa  2          168     66   \n",
       "164 169      161     emakumezkoa 3          164     58   \n",
       "165 174      156     emakumezkoa 1          165     65   \n",
       "166 165      170     emakumezkoa 2          165     65   \n",
       "167 169      164     gizonezkoa  3          167     79   \n",
       "168 166      157     emakumezkoa 3          160     30   \n",
       "169 173      159     emakumezkoa 2          165     65   \n",
       "170 176      158     gizonezkoa  1          169     82   \n",
       "171 180      161     gizonezkoa  3          172     84   "
      ]
     },
     "metadata": {},
     "output_type": "display_data"
    }
   ],
   "source": [
    "Datuak"
   ]
  },
  {
   "cell_type": "code",
   "execution_count": 5,
   "metadata": {},
   "outputs": [
    {
     "data": {
      "text/html": [
       "<table>\n",
       "<caption>A data.frame: 6 × 6</caption>\n",
       "<thead>\n",
       "\t<tr><th></th><th scope=col>AITARENA</th><th scope=col>AMARENA</th><th scope=col>SEXUA</th><th scope=col>JAIOTERRIA</th><th scope=col>ALTUERA</th><th scope=col>PISUA</th></tr>\n",
       "\t<tr><th></th><th scope=col>&lt;int&gt;</th><th scope=col>&lt;int&gt;</th><th scope=col>&lt;fct&gt;</th><th scope=col>&lt;int&gt;</th><th scope=col>&lt;int&gt;</th><th scope=col>&lt;int&gt;</th></tr>\n",
       "</thead>\n",
       "<tbody>\n",
       "\t<tr><th scope=row>1</th><td>174</td><td>156</td><td>emakumezkoa</td><td>2</td><td>165</td><td>65</td></tr>\n",
       "\t<tr><th scope=row>2</th><td>177</td><td>159</td><td>gizonezkoa </td><td>2</td><td>170</td><td>67</td></tr>\n",
       "\t<tr><th scope=row>3</th><td>173</td><td>161</td><td>gizonezkoa </td><td>1</td><td>168</td><td>51</td></tr>\n",
       "\t<tr><th scope=row>4</th><td>174</td><td>156</td><td>gizonezkoa </td><td>2</td><td>167</td><td>69</td></tr>\n",
       "\t<tr><th scope=row>5</th><td>160</td><td>165</td><td>gizonezkoa </td><td>1</td><td>162</td><td>54</td></tr>\n",
       "\t<tr><th scope=row>6</th><td>167</td><td>157</td><td>gizonezkoa </td><td>3</td><td>163</td><td>61</td></tr>\n",
       "</tbody>\n",
       "</table>\n"
      ],
      "text/latex": [
       "A data.frame: 6 × 6\n",
       "\\begin{tabular}{r|llllll}\n",
       "  & AITARENA & AMARENA & SEXUA & JAIOTERRIA & ALTUERA & PISUA\\\\\n",
       "  & <int> & <int> & <fct> & <int> & <int> & <int>\\\\\n",
       "\\hline\n",
       "\t1 & 174 & 156 & emakumezkoa & 2 & 165 & 65\\\\\n",
       "\t2 & 177 & 159 & gizonezkoa  & 2 & 170 & 67\\\\\n",
       "\t3 & 173 & 161 & gizonezkoa  & 1 & 168 & 51\\\\\n",
       "\t4 & 174 & 156 & gizonezkoa  & 2 & 167 & 69\\\\\n",
       "\t5 & 160 & 165 & gizonezkoa  & 1 & 162 & 54\\\\\n",
       "\t6 & 167 & 157 & gizonezkoa  & 3 & 163 & 61\\\\\n",
       "\\end{tabular}\n"
      ],
      "text/markdown": [
       "\n",
       "A data.frame: 6 × 6\n",
       "\n",
       "| <!--/--> | AITARENA &lt;int&gt; | AMARENA &lt;int&gt; | SEXUA &lt;fct&gt; | JAIOTERRIA &lt;int&gt; | ALTUERA &lt;int&gt; | PISUA &lt;int&gt; |\n",
       "|---|---|---|---|---|---|---|\n",
       "| 1 | 174 | 156 | emakumezkoa | 2 | 165 | 65 |\n",
       "| 2 | 177 | 159 | gizonezkoa  | 2 | 170 | 67 |\n",
       "| 3 | 173 | 161 | gizonezkoa  | 1 | 168 | 51 |\n",
       "| 4 | 174 | 156 | gizonezkoa  | 2 | 167 | 69 |\n",
       "| 5 | 160 | 165 | gizonezkoa  | 1 | 162 | 54 |\n",
       "| 6 | 167 | 157 | gizonezkoa  | 3 | 163 | 61 |\n",
       "\n"
      ],
      "text/plain": [
       "  AITARENA AMARENA SEXUA       JAIOTERRIA ALTUERA PISUA\n",
       "1 174      156     emakumezkoa 2          165     65   \n",
       "2 177      159     gizonezkoa  2          170     67   \n",
       "3 173      161     gizonezkoa  1          168     51   \n",
       "4 174      156     gizonezkoa  2          167     69   \n",
       "5 160      165     gizonezkoa  1          162     54   \n",
       "6 167      157     gizonezkoa  3          163     61   "
      ]
     },
     "metadata": {},
     "output_type": "display_data"
    }
   ],
   "source": [
    "head(Datuak)"
   ]
  },
  {
   "cell_type": "code",
   "execution_count": 6,
   "metadata": {},
   "outputs": [
    {
     "name": "stdout",
     "output_type": "stream",
     "text": [
      "'data.frame':\t171 obs. of  6 variables:\n",
      " $ AITARENA  : int  174 177 173 174 160 167 171 174 175 174 ...\n",
      " $ AMARENA   : int  156 159 161 156 165 157 162 158 162 161 ...\n",
      " $ SEXUA     : Factor w/ 2 levels \"emakumezkoa\",..: 1 2 2 2 2 2 1 2 1 1 ...\n",
      " $ JAIOTERRIA: int  2 2 1 2 1 3 1 3 3 1 ...\n",
      " $ ALTUERA   : int  165 170 168 167 162 163 165 168 168 167 ...\n",
      " $ PISUA     : int  65 67 51 69 54 61 65 76 67 69 ...\n"
     ]
    }
   ],
   "source": [
    "str(Datuak)"
   ]
  },
  {
   "cell_type": "markdown",
   "metadata": {},
   "source": [
    "### Aldagai berriak sortu"
   ]
  },
  {
   "cell_type": "code",
   "execution_count": 7,
   "metadata": {},
   "outputs": [],
   "source": [
    "# JAIOTERRIA (numerikoa) FAKTORE BIHURTU: (1,2,3) -> (Araba, Bizkaia, Gipuzkoa)\n",
    "\n",
    "Datuak$jaioterria.f <- factor(Datuak$JAIOTERRIA, levels=c(1,2,3), \n",
    "                              labels=c(\"Araba\", \"Bizkaia\", \"Gipuzkoa\"))"
   ]
  },
  {
   "cell_type": "markdown",
   "metadata": {},
   "source": [
    "### Eragiketak egiten aldagaiekin."
   ]
  },
  {
   "cell_type": "code",
   "execution_count": 8,
   "metadata": {},
   "outputs": [],
   "source": [
    "# Lehenengo adibidea: aitaren eta amaren ateko altueren diferentzia\n",
    "\n",
    "Datuak$diferentzia <- Datuak$AITARENA - Datuak$AMARENA\n",
    "\n",
    "# Bigarren adibidea: imc kalkulatu\n",
    "\n",
    "Datuak$imc <- Datuak$PISUA/(Datuak$ALTUERA/100)^2\n",
    "\n",
    "# Hirugarren adibidea: imc>25 baino handiagoa bada, obesitate=1, bestela obesitate=0\n",
    "\n",
    "Datuak$obesitate <-as.factor(ifelse(Datuak$imc>25, 1,0))\n",
    "\n",
    "# Laugarren adibidea: aldagaiak tartekatu\n",
    "\n",
    "Datuak$altuerakTarteak <- cut(Datuak$imc, breaks = c(0,18.49,19.99,24.99,100), \n",
    "                              labels=c(\"Gutxiegi\", \"Normal\",\"Gehiegi\",\"Obesitate\"), right=T)\n"
   ]
  },
  {
   "cell_type": "markdown",
   "metadata": {},
   "source": [
    "### Datu-multzo berriak sortzen"
   ]
  },
  {
   "cell_type": "code",
   "execution_count": 9,
   "metadata": {},
   "outputs": [],
   "source": [
    "# 1etik 12ra arteko indibiduoak aukeratu\n",
    "\n",
    "Datuak2 <- Datuak[1:12,]\n",
    "\n",
    "# Indibiduo guztiak aukeratu, baino 3, 5 eta 6 zutabetan dauden aldagaietan\n",
    "\n",
    "Datuak3 <- Datuak[,c(3,5,6)]\n",
    "\n",
    "# Aldagaia ezberdin 1 dutenak (guztiak Arabakoak izan ezik)\n",
    "\n",
    "Datuak4 <- subset(Datuak,JAIOTERRIA!=1)\n",
    "\n",
    "# Altuera jaioterria berdin 2 dutenak ( Bizkaikoak baino ez)\n",
    "\n",
    "altuerakBizkaia <- Datuak$ALTUERA[Datuak$JAIOTERRIA==2]\n",
    "# edo \n",
    "altuerakBizkaia2 <- Datuak$ALTUERA[Datuak$jaioterria.f==\"Bizkaia\"]"
   ]
  },
  {
   "cell_type": "markdown",
   "metadata": {},
   "source": [
    "### Gorde eta kargatu datuak"
   ]
  },
  {
   "cell_type": "code",
   "execution_count": 10,
   "metadata": {},
   "outputs": [],
   "source": [
    "# gorde\n",
    "save(\"Datuak\", file=\"DatuPolitak.rda\")\n",
    "# kargatu (beste saio batean)\n",
    "load(\"DatuPolitak.rda\")"
   ]
  },
  {
   "cell_type": "markdown",
   "metadata": {},
   "source": [
    "# Estatistika deskribatzailea"
   ]
  },
  {
   "cell_type": "code",
   "execution_count": 11,
   "metadata": {},
   "outputs": [
    {
     "data": {
      "text/html": [
       "166.812865497076"
      ],
      "text/latex": [
       "166.812865497076"
      ],
      "text/markdown": [
       "166.812865497076"
      ],
      "text/plain": [
       "[1] 166.8129"
      ]
     },
     "metadata": {},
     "output_type": "display_data"
    },
    {
     "data": {
      "text/html": [
       "3.72563521525363"
      ],
      "text/latex": [
       "3.72563521525363"
      ],
      "text/markdown": [
       "3.72563521525363"
      ],
      "text/plain": [
       "[1] 3.725635"
      ]
     },
     "metadata": {},
     "output_type": "display_data"
    },
    {
     "data": {
      "text/html": [
       "2.86461142528142"
      ],
      "text/latex": [
       "2.86461142528142"
      ],
      "text/markdown": [
       "2.86461142528142"
      ],
      "text/plain": [
       "[1] 2.864611"
      ]
     },
     "metadata": {},
     "output_type": "display_data"
    },
    {
     "data": {
      "text/plain": [
       "\n",
       "emakumezkoa  gizonezkoa \n",
       "         82          89 "
      ]
     },
     "metadata": {},
     "output_type": "display_data"
    },
    {
     "data": {
      "text/plain": [
       "\n",
       "   Araba  Bizkaia Gipuzkoa \n",
       "      39       82       50 "
      ]
     },
     "metadata": {},
     "output_type": "display_data"
    },
    {
     "data": {
      "text/plain": [
       "\n",
       " 1  2  3 \n",
       "39 82 50 "
      ]
     },
     "metadata": {},
     "output_type": "display_data"
    }
   ],
   "source": [
    "# estatistiko batzuk\n",
    "\n",
    "mean(Datuak$ALTUERA)\n",
    "sd(Datuak$AMARENA)\n",
    "100*sd(Datuak$AITARENA)/mean(Datuak$AITARENA)\n",
    "\n",
    "\n",
    "# aldagai kategorikoaen maiztasunak\n",
    "table(Datuak$SEXUA)\n",
    "table(Datuak$jaioterria.f)\n",
    "# Kontuz honekin!\n",
    "table(Datuak$JAIOTERRIA)"
   ]
  },
  {
   "cell_type": "markdown",
   "metadata": {},
   "source": [
    "### Irudiak egiten"
   ]
  },
  {
   "cell_type": "code",
   "execution_count": 12,
   "metadata": {},
   "outputs": [
    {
     "data": {
      "image/png": "[encoded data removed]",
      "text/plain": [
       "plot without title"
      ]
     },
     "metadata": {
      "image/png": {
       "height": 420,
       "width": 420
      }
     },
     "output_type": "display_data"
    }
   ],
   "source": [
    "# barra diagrama\n",
    "barplot(table(Datuak$SEXUA))"
   ]
  },
  {
   "cell_type": "code",
   "execution_count": 13,
   "metadata": {},
   "outputs": [
    {
     "data": {
      "image/png": "[encoded data removed]",
      "text/plain": [
       "Plot with title “Histogram of Datuak$imc”"
      ]
     },
     "metadata": {
      "image/png": {
       "height": 420,
       "width": 420
      }
     },
     "output_type": "display_data"
    }
   ],
   "source": [
    "# histograma\n",
    "hist(Datuak$imc)"
   ]
  },
  {
   "cell_type": "code",
   "execution_count": 14,
   "metadata": {},
   "outputs": [
    {
     "name": "stdout",
     "output_type": "stream",
     "text": [
      "\n",
      "  The decimal point is at the |\n",
      "\n",
      "  10 | 777777\n",
      "  12 | 1\n",
      "  14 | 33\n",
      "  16 | 8888\n",
      "  18 | 111222\n",
      "  20 | 666666666666666\n",
      "  22 | 115590002444477999999999999999\n",
      "  24 | 13447777777733333689\n",
      "  26 | 11111112333669999991335555577779\n",
      "  28 | 00033333344471488888\n",
      "  30 | 4555555558589\n",
      "  32 | 466224\n",
      "  34 | 00368927\n",
      "  36 | 11116\n",
      "  38 | \n",
      "  40 | 009\n",
      "\n"
     ]
    }
   ],
   "source": [
    "# hosto-diagrama\n",
    "stem(Datuak$imc)"
   ]
  },
  {
   "cell_type": "code",
   "execution_count": 15,
   "metadata": {},
   "outputs": [
    {
     "data": {
      "image/png": "[encoded data removed]",
      "text/plain": [
       "plot without title"
      ]
     },
     "metadata": {
      "image/png": {
       "height": 420,
       "width": 420
      }
     },
     "output_type": "display_data"
    }
   ],
   "source": [
    "# kutxa diagrama\n",
    "boxplot(Datuak$imc)"
   ]
  },
  {
   "cell_type": "markdown",
   "metadata": {},
   "source": [
    "### Bi aldagaiko estatistika deskribatzailea"
   ]
  },
  {
   "cell_type": "code",
   "execution_count": 16,
   "metadata": {},
   "outputs": [
    {
     "data": {
      "text/html": [
       "165.780487804878"
      ],
      "text/latex": [
       "165.780487804878"
      ],
      "text/markdown": [
       "165.780487804878"
      ],
      "text/plain": [
       "[1] 165.7805"
      ]
     },
     "metadata": {},
     "output_type": "display_data"
    },
    {
     "data": {
      "text/html": [
       "16.2965683798818"
      ],
      "text/latex": [
       "16.2965683798818"
      ],
      "text/markdown": [
       "16.2965683798818"
      ],
      "text/plain": [
       "[1] 16.29657"
      ]
     },
     "metadata": {},
     "output_type": "display_data"
    },
    {
     "data": {
      "text/plain": [
       "   Min. 1st Qu.  Median    Mean 3rd Qu.    Max. \n",
       "  30.00   61.25   75.50   72.92   86.00  124.00 "
      ]
     },
     "metadata": {},
     "output_type": "display_data"
    }
   ],
   "source": [
    "# emakumezkoen batezbesteko altuera\n",
    "mean(Datuak$ALTUERA[Datuak$SEXUA==\"emakumezkoa\"])\n",
    "# gizonen pisuen desbideratze estandarra\n",
    "sd(Datuak$PISUA[Datuak$SEXUA==\"gizonezkoa\"])\n",
    "# Gipuzkoakoen pisuen estatistiko batzuk\n",
    "summary(Datuak$PISUA[Datuak$JAIOTERRIA==3])"
   ]
  },
  {
   "cell_type": "code",
   "execution_count": 17,
   "metadata": {
    "scrolled": true
   },
   "outputs": [
    {
     "data": {
      "text/plain": [
       "          \n",
       "           emakumezkoa gizonezkoa\n",
       "  Araba             21         18\n",
       "  Bizkaia           38         44\n",
       "  Gipuzkoa          23         27"
      ]
     },
     "metadata": {},
     "output_type": "display_data"
    },
    {
     "data": {
      "text/plain": [
       "          \n",
       "           emakumezkoa gizonezkoa\n",
       "  Araba      0.1228070  0.1052632\n",
       "  Bizkaia    0.2222222  0.2573099\n",
       "  Gipuzkoa   0.1345029  0.1578947"
      ]
     },
     "metadata": {},
     "output_type": "display_data"
    }
   ],
   "source": [
    "# taulak: balio absolutuak eta portzentaiak\n",
    "table(Datuak$jaioterria.f,Datuak$SEXUA)\n",
    "prop.table(table(Datuak$jaioterria.f,Datuak$SEXUA))"
   ]
  },
  {
   "cell_type": "code",
   "execution_count": 18,
   "metadata": {
    "scrolled": true
   },
   "outputs": [
    {
     "data": {
      "text/plain": [
       "                   Datuak$SEXUA\n",
       "Datuak$jaioterria.f emakumezkoa gizonezkoa\n",
       "           Araba             21         18\n",
       "           Bizkaia           38         44\n",
       "           Gipuzkoa          23         27"
      ]
     },
     "metadata": {},
     "output_type": "display_data"
    }
   ],
   "source": [
    "#beste modu bat taulak egiteko\n",
    "taula1<-xtabs(~Datuak$jaioterria.f +Datuak$SEXUA )\n",
    "taula1"
   ]
  },
  {
   "cell_type": "code",
   "execution_count": 19,
   "metadata": {},
   "outputs": [
    {
     "data": {
      "image/png": "[encoded data removed]",
      "text/plain": [
       "plot without title"
      ]
     },
     "metadata": {
      "image/png": {
       "height": 420,
       "width": 420
      }
     },
     "output_type": "display_data"
    }
   ],
   "source": [
    "# barra diagramak\n",
    "taula <- table(Datuak$SEXUA,Datuak$jaioterria.f)\n",
    "barplot(taula)"
   ]
  },
  {
   "cell_type": "code",
   "execution_count": 20,
   "metadata": {},
   "outputs": [
    {
     "data": {
      "image/png": "[encoded data removed]",
      "text/plain": [
       "plot without title"
      ]
     },
     "metadata": {
      "image/png": {
       "height": 420,
       "width": 420
      }
     },
     "output_type": "display_data"
    }
   ],
   "source": [
    "# kutxa diagrama\n",
    "boxplot(Datuak$imc~Datuak$SEXUA)"
   ]
  },
  {
   "cell_type": "markdown",
   "metadata": {},
   "source": [
    "### Erregresio Lineala"
   ]
  },
  {
   "cell_type": "code",
   "execution_count": 21,
   "metadata": {},
   "outputs": [
    {
     "data": {
      "text/plain": [
       "\n",
       "Call:\n",
       "lm(formula = Datuak$PISUA ~ Datuak$ALTUERA)\n",
       "\n",
       "Residuals:\n",
       "     Min       1Q   Median       3Q      Max \n",
       "-29.4483  -6.8493  -0.4331   5.6431  28.0745 \n",
       "\n",
       "Coefficients:\n",
       "                Estimate Std. Error t value Pr(>|t|)    \n",
       "(Intercept)    -679.3847    37.7158  -18.01   <2e-16 ***\n",
       "Datuak$ALTUERA    4.5076     0.2261   19.94   <2e-16 ***\n",
       "---\n",
       "Signif. codes:  0 ‘***’ 0.001 ‘**’ 0.01 ‘*’ 0.05 ‘.’ 0.1 ‘ ’ 1\n",
       "\n",
       "Residual standard error: 9.812 on 169 degrees of freedom\n",
       "Multiple R-squared:  0.7017,\tAdjusted R-squared:    0.7 \n",
       "F-statistic: 397.6 on 1 and 169 DF,  p-value: < 2.2e-16\n"
      ]
     },
     "metadata": {},
     "output_type": "display_data"
    }
   ],
   "source": [
    "# Pisua altueraren menpeko erregresioa egin\n",
    "erregresio <- lm(Datuak$PISUA ~ Datuak$ALTUERA)\n",
    "summary(erregresio)\n",
    "\n",
    "\n"
   ]
  },
  {
   "cell_type": "code",
   "execution_count": 22,
   "metadata": {},
   "outputs": [
    {
     "data": {
      "text/html": [
       "0.837702420409697"
      ],
      "text/latex": [
       "0.837702420409697"
      ],
      "text/markdown": [
       "0.837702420409697"
      ],
      "text/plain": [
       "[1] 0.8377024"
      ]
     },
     "metadata": {},
     "output_type": "display_data"
    }
   ],
   "source": [
    "# pearsonen koerlazio linealaren koefizientea\n",
    "\n",
    "cor(Datuak$PISUA , Datuak$ALTUERA)"
   ]
  },
  {
   "cell_type": "code",
   "execution_count": null,
   "metadata": {},
   "outputs": [],
   "source": []
  }
 ],
 "metadata": {
  "kernelspec": {
   "display_name": "R",
   "language": "R",
   "name": "ir"
  },
  "language_info": {
   "codemirror_mode": "r",
   "file_extension": ".r",
   "mimetype": "text/x-r-source",
   "name": "R",
   "pygments_lexer": "r",
   "version": "3.4.4"
  }
 },
 "nbformat": 4,
 "nbformat_minor": 2
}
