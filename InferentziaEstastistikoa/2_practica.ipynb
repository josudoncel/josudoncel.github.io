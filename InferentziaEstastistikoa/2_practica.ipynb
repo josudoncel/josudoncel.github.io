{
 "cells": [
  {
   "cell_type": "markdown",
   "metadata": {},
   "source": [
    "# INFERENCIA ESTADISTICA: Segunda Práctica\n",
    "\n",
    "## Estimaciones e Intervalos de Confianza\n",
    "\n",
    "En esta practica vamos a ver con qué comandos de R se calculan intervalos de confianza para una y dos poblaciones. Usaremos el fichero alturas.txt que usamos en la primera sesion para aprender \n",
    "estos comandos"
   ]
  },
  {
   "cell_type": "code",
   "execution_count": 29,
   "metadata": {
    "scrolled": true
   },
   "outputs": [],
   "source": [
    "Datos <-read.table(file=\"alturas.txt\", header=TRUE, dec=\",\", sep=\"\\t\")\n",
    "\n",
    "\n"
   ]
  },
  {
   "cell_type": "markdown",
   "metadata": {},
   "source": [
    "### Peso medio de la poblacion: estimacion puntual e Intervalo de Confianza"
   ]
  },
  {
   "cell_type": "code",
   "execution_count": 8,
   "metadata": {},
   "outputs": [
    {
     "data": {
      "text/plain": [
       "\n",
       "\tOne Sample t-test\n",
       "\n",
       "data:  Datos$PESO\n",
       "t = 52.957, df = 170, p-value < 2.2e-16\n",
       "alternative hypothesis: true mean is not equal to 0\n",
       "95 percent confidence interval:\n",
       " 69.83973 75.24799\n",
       "sample estimates:\n",
       "mean of x \n",
       " 72.54386 \n"
      ]
     },
     "metadata": {},
     "output_type": "display_data"
    }
   ],
   "source": [
    "t.test(Datos$PESO,alternative='two.sided',conf.level=.95)"
   ]
  },
  {
   "cell_type": "markdown",
   "metadata": {},
   "source": [
    "#### Explicacion\n",
    "El valor de la estimacion puntual es 72.54386 y el intervalo de confianza con nivel del confianza del 95% es (69.83973,75.24799)\n",
    "\n",
    "#### Nota: Otro nivel de confianza\n",
    "Para considerar otro nivel del confianza, hay que cambiar conf.level por el valor a considerar. Por ejemplo, el intervalo de confianza del 99% hay que cambiar conf.level=.95 por conf.level=.99\n",
    "\n",
    "#### Nota: Otra variable\n",
    "Para considerar otra variable, hay que cambiar el primer parámetro del comando. Por ejemplo, el intervalo de confianza del 95% de la altura media seria \n",
    "\n",
    "t.test(Datos$ALTURA,alternative='two.sided',conf.level=.95)\n"
   ]
  },
  {
   "cell_type": "markdown",
   "metadata": {},
   "source": [
    "### Varianza de la altura de la población: estimacion puntual e Intervalo de Confianza del 95%"
   ]
  },
  {
   "cell_type": "code",
   "execution_count": 14,
   "metadata": {},
   "outputs": [
    {
     "data": {
      "text/plain": [
       "\n",
       "\tChi-Squared Test on Variance\n",
       "\n",
       "data:  Datos$ALTURA\n",
       "Chi-Squared = 1884, df = 170, p-value < 2.2e-16\n",
       "alternative hypothesis: true variance is not equal to 1\n",
       "95 percent confidence interval:\n",
       "  9.057947 13.874455\n",
       "sample estimates:\n",
       "variance \n",
       "11.08242 \n"
      ]
     },
     "metadata": {},
     "output_type": "display_data"
    }
   ],
   "source": [
    "# Quizas, hay que instalar y cargar el siguiente paquete  \n",
    "# install.packages(\"EnvStats\")\n",
    " library(EnvStats)\n",
    "varTest(Datos$ALTURA,alternative  = \"two.sided\",conf.level=0.95)"
   ]
  },
  {
   "cell_type": "markdown",
   "metadata": {},
   "source": [
    "#### Explicacion:\n",
    "El valor de la estimacion puntual de la varianza de la poblacion es de 11.08242 y el intervalo de confianza del 95% es (0.353491, 13.376088)\n",
    "\n",
    "#### Nota: Intervalo de Confianza de la desviación estandar de la poblacion\n",
    "Si en vez de la varianza, queremos considerar la desviación estandar, se usa la funcion sqrt. Para nuestro ejemplo, seria lo siguiente"
   ]
  },
  {
   "cell_type": "code",
   "execution_count": 15,
   "metadata": {},
   "outputs": [
    {
     "data": {
      "text/html": [
       "3.32902688484188"
      ],
      "text/latex": [
       "3.32902688484188"
      ],
      "text/markdown": [
       "3.32902688484188"
      ],
      "text/plain": [
       "[1] 3.329027"
      ]
     },
     "metadata": {},
     "output_type": "display_data"
    },
    {
     "data": {
      "text/html": [
       "3.05834775655091"
      ],
      "text/latex": [
       "3.05834775655091"
      ],
      "text/markdown": [
       "3.05834775655091"
      ],
      "text/plain": [
       "[1] 3.058348"
      ]
     },
     "metadata": {},
     "output_type": "display_data"
    },
    {
     "data": {
      "text/html": [
       "3.65733345485478"
      ],
      "text/latex": [
       "3.65733345485478"
      ],
      "text/markdown": [
       "3.65733345485478"
      ],
      "text/plain": [
       "[1] 3.657333"
      ]
     },
     "metadata": {},
     "output_type": "display_data"
    }
   ],
   "source": [
    "# Estimacion puntual de la desviacion estandar.\n",
    "sqrt(11.08242)\n",
    "# Valor inferior del intervalo de confianza \n",
    "sqrt(9.353491)\n",
    "# Valor superior del intervalo de confianza\n",
    "sqrt(13.376088)"
   ]
  },
  {
   "cell_type": "markdown",
   "metadata": {},
   "source": [
    "## Cociente de Varianzas de dos poblaciones independientes\n",
    "\n",
    "### Estimacion del cociente de varianzas de alturas de hombres y mujeres"
   ]
  },
  {
   "cell_type": "code",
   "execution_count": 16,
   "metadata": {},
   "outputs": [
    {
     "data": {
      "text/plain": [
       "\n",
       "\tF test to compare two variances\n",
       "\n",
       "data:  mujeres and hombres\n",
       "F = 0.88431, num df = 81, denom df = 88, p-value = 0.576\n",
       "alternative hypothesis: true ratio of variances is not equal to 1\n",
       "90 percent confidence interval:\n",
       " 0.6177924 1.2697464\n",
       "sample estimates:\n",
       "ratio of variances \n",
       "         0.8843092 \n"
      ]
     },
     "metadata": {},
     "output_type": "display_data"
    }
   ],
   "source": [
    "mujeres <-Datos$ALTURA[Datos$SEXO==\"mujer\"]       \n",
    "hombres <-Datos$ALTURA[Datos$SEXO==\"hombre\"]\n",
    "var.test(mujeres,hombres,conf.level=0.95)"
   ]
  },
  {
   "cell_type": "markdown",
   "metadata": {},
   "source": [
    "#### Explicacion:\n",
    "El valor estimado para el cociente de las varianzas de las alturas entre hombres y mujeres es 0.8843092 y el intervalo de confianza del %95eko es(0.6177924, 1.2697464). Por tanto, no podemos concluir que las varianzas sean distintas (ya que el 1 está dentro del intervalo).\n",
    "\n",
    "#### Nota: Desviación estandar\n",
    "Si en vez de la varianza, queremos considerar la desviación estandar, se usa la funcion sqrt de la misma forma que se ha explicado arriba."
   ]
  },
  {
   "cell_type": "markdown",
   "metadata": {},
   "source": [
    "## Diferencia de medias de dos poblaciones independientes\n",
    "\n",
    "### Intervalo de Confianza del 90% de la diferencia de la altura media entre hombres y mujeres"
   ]
  },
  {
   "cell_type": "code",
   "execution_count": 18,
   "metadata": {},
   "outputs": [
    {
     "data": {
      "text/plain": [
       "\n",
       "\tTwo Sample t-test\n",
       "\n",
       "data:  mujeres and hombres\n",
       "t = -4.0665, df = 169, p-value = 7.304e-05\n",
       "alternative hypothesis: true difference in means is not equal to 0\n",
       "90 percent confidence interval:\n",
       " -2.790305 -1.176809\n",
       "sample estimates:\n",
       "mean of x mean of y \n",
       " 165.7805  167.7640 \n"
      ]
     },
     "metadata": {},
     "output_type": "display_data"
    }
   ],
   "source": [
    "# En el anterior apartado, hemos visto que no podemos rechazar la igualdad de varianzas, \n",
    "# Por eso, ponemos var.equal=TRUE en el comando de abajo (si las varianzas fuese distintas\n",
    "#   entonces  var.equal=FALSE es lo que hay que poner)\n",
    "t.test(mujeres,hombres,conf.level=0.9,var.equal=TRUE)"
   ]
  },
  {
   "cell_type": "markdown",
   "metadata": {},
   "source": [
    "#### Explicacion:\n",
    "Estimacion puntual de la altura de las mujeres: 165.7805\n",
    "\n",
    "Estimacion puntual de la altura de los hombres: 167.7640\n",
    "\n",
    "Intervalo de Confianza del 90% de la diferencia de la altura media de hombres y mujeres: (-2.790305,-1.176809)\n",
    "\n",
    "#### Conclusion:\n",
    "Los valores obtenidos en el intervalo de confianza son negativos, por tanto concluimos con un nivel de confianza del 90% que mu1-mu2 (es decir, la altura media de las mujeres menos la altura media de los hombres) es negativo y, por consiguiente, concluismo que la altura media de las mujeres es menor que la de los hombres.\n",
    "\n",
    "#### Nota: \n",
    "Si en vez de t.test(mujeres,hombres,....) hubiesemos escrito t.test(hombres,mujeres,...) los valores de las estimaciones puntuales no variarian, pero el intervalo de confianza tendría valores positivos. Por tanto, obtendriamos las mismas conclusiones."
   ]
  },
  {
   "cell_type": "markdown",
   "metadata": {},
   "source": [
    "## Datos Pareados\n",
    "\n",
    "### Intervalo de Confianza del 98% de la diferencia entre la altura del padre y la madre"
   ]
  },
  {
   "cell_type": "code",
   "execution_count": 19,
   "metadata": {},
   "outputs": [
    {
     "data": {
      "text/plain": [
       "\n",
       "\tWelch Two Sample t-test\n",
       "\n",
       "data:  Datos$PADRE and Datos$MADRE\n",
       "t = 23.914, df = 316.34, p-value < 2.2e-16\n",
       "alternative hypothesis: true difference in means is not equal to 0\n",
       "98 percent confidence interval:\n",
       " 10.19882 12.40937\n",
       "sample estimates:\n",
       "mean of x mean of y \n",
       " 172.1871  160.8830 \n"
      ]
     },
     "metadata": {},
     "output_type": "display_data"
    }
   ],
   "source": [
    "t.test(Datos$PADRE,Datos$MADRE, conf.level=0.98)"
   ]
  },
  {
   "cell_type": "markdown",
   "metadata": {},
   "source": [
    "#### Explicacion:\n",
    "Estimacion puntual de la altura de las madres: 172.1871\n",
    "\n",
    "Estimacion puntual de la altura de los padres: 160.8830\n",
    "\n",
    "Intervalo de Confianza del 98% de la diferencia de alturas de los padres y las madres (10.19882,12.40937)\n",
    "\n",
    "#### Conclusion:\n",
    "Los valores obtenidos en el intervalo de confianza son positivos, por tanto concluimos con un nivel de confianza del 98% que muD (es decir, la altura media de los padres menos la altura media de las madres) es positivo y, por consiguiente, concluismo que la altura media de las madres es menor que la de los padres.\n",
    "\n"
   ]
  },
  {
   "cell_type": "markdown",
   "metadata": {},
   "source": [
    "## Parámetro p de una poblacion Bin(1,p)\n",
    "\n",
    "### Intervalo de Confianza del 95% de los que son de Alava"
   ]
  },
  {
   "cell_type": "code",
   "execution_count": 24,
   "metadata": {},
   "outputs": [
    {
     "data": {
      "text/plain": [
       "\n",
       "\t1-sample proportions test with continuity correction\n",
       "\n",
       "data:  cuantos.alava out of cuantos.total, null probability 0.5\n",
       "X-squared = 49.497, df = 1, p-value = 1.987e-12\n",
       "alternative hypothesis: true p is not equal to 0.5\n",
       "95 percent confidence interval:\n",
       " 0.1689802 0.2996563\n",
       "sample estimates:\n",
       "        p \n",
       "0.2280702 \n"
      ]
     },
     "metadata": {},
     "output_type": "display_data"
    }
   ],
   "source": [
    "# contamos cuantos son de Alava\n",
    "Datos.alava <- subset(Datos,PROVINCIA==1)\n",
    "cuantos.alava <- length(Datos.alava$ALTURA)\n",
    "# ahora contamos cuantos hay en total\n",
    "cuantos.total <- length(Datos$ALTURA)\n",
    "\n",
    "prop.test(cuantos.alava,cuantos.total,conf.level=0.95)"
   ]
  },
  {
   "cell_type": "markdown",
   "metadata": {},
   "source": [
    "#### Explicacion:\n",
    "Estimacion puntual de la proporcion de los que son de Alava: 0.2280702\n",
    "\n",
    "Intervalo de Confianza del 95%: (0.1689802,0.2996563)\n",
    "\n"
   ]
  },
  {
   "cell_type": "markdown",
   "metadata": {},
   "source": [
    "## Dos poblaciones Bin(1,p1) y Bin(1,p2)\n",
    "\n",
    "### Diferencia de proporcion de los que son de Alava entre hombres y mujeres"
   ]
  },
  {
   "cell_type": "code",
   "execution_count": 33,
   "metadata": {},
   "outputs": [
    {
     "data": {
      "text/plain": [
       "\n",
       "\t2-sample test for equality of proportions with continuity correction\n",
       "\n",
       "data:  c(n_mujer_alava, n_hombre_alava) out of c(n_mujeres, n_hombres)\n",
       "X-squared = 0.43037, df = 1, p-value = 0.5118\n",
       "alternative hypothesis: two.sided\n",
       "95 percent confidence interval:\n",
       " -0.08391627  0.19161701\n",
       "sample estimates:\n",
       "   prop 1    prop 2 \n",
       "0.2560976 0.2022472 \n"
      ]
     },
     "metadata": {},
     "output_type": "display_data"
    }
   ],
   "source": [
    "# contamos cuantas mujeres son de Alava y cuantos hombres son de Alava\n",
    "Datos.alava <- subset(Datos,PROVINCIA==1)\n",
    "mujer.alava <- subset(Datos.alava,SEXO==\"mujer\")\n",
    "hombre.alava <- subset(Datos.alava,SEXO==\"hombre\")\n",
    "n_mujer_alava <- length(mujer.alava$ALTURA)\n",
    "n_hombre_alava <- length(hombre.alava$ALTURA)\n",
    "# contamos cuantos hombres y mujeres hay en total\n",
    "Datos.mujeres <- subset(Datos,SEXO==\"mujer\")\n",
    "n_mujeres <- length(Datos.mujeres$ALTURA)\n",
    "Datos.hombres <- subset(Datos,SEXO==\"hombre\")\n",
    "n_hombres <- length(Datos.hombres$ALTURA)\n",
    "# hacemos el test\n",
    "prop.test(c(n_mujer_alava,n_hombre_alava),c(n_mujeres,n_hombres),conf.level=0.95)\n"
   ]
  },
  {
   "cell_type": "markdown",
   "metadata": {},
   "source": [
    "#### Explicacion:\n",
    "La estimacion puntual de mujeres que son de Alava: 0.2560976\n",
    "\n",
    "La estimacion puntual de mujeres que son de Alava: 0.2022472\n",
    "\n",
    "Intervalo de Confianza del 95% de la diferencia de la proporcion de mujeres de Alava y hombres de Alava: (-0.08391627,0.19161701)\n",
    "\n",
    "#### Conclusion:\n",
    "Como el zero está dentro del intervalo, no podemos concluir que haya una desigualdad en la proporcion de los que son de Alava entre mujeres y hombres.\n"
   ]
  },
  {
   "cell_type": "code",
   "execution_count": null,
   "metadata": {},
   "outputs": [],
   "source": []
  }
 ],
 "metadata": {
  "kernelspec": {
   "display_name": "R",
   "language": "R",
   "name": "ir"
  },
  "language_info": {
   "codemirror_mode": "r",
   "file_extension": ".r",
   "mimetype": "text/x-r-source",
   "name": "R",
   "pygments_lexer": "r",
   "version": "3.6.3"
  }
 },
 "nbformat": 4,
 "nbformat_minor": 2
}
