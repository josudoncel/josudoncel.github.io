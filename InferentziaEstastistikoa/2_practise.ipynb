{
 "cells": [
  {
   "cell_type": "markdown",
   "metadata": {},
   "source": [
    "# STATISTICAL INFERENCE: Second Computer Practise\n",
    "\n",
    "## Estimations and Confidence Intervals\n",
    "\n",
    "In this practice we are going to see with which R commands confidence intervals are calculated for one and two populations. We will use the file heights.txt that we used in the first session to learn\n",
    "these commands"
   ]
  },
  {
   "cell_type": "code",
   "execution_count": 9,
   "metadata": {
    "scrolled": true
   },
   "outputs": [
    {
     "name": "stdout",
     "output_type": "stream",
     "text": [
      "'data.frame':\t171 obs. of  6 variables:\n",
      " $ FATHER    : int  174 177 173 174 160 167 171 174 175 174 ...\n",
      " $ MOTHER    : int  156 159 161 156 165 157 162 158 162 161 ...\n",
      " $ SEX       : chr  \"female\" \"male\" \"male\" \"male\" ...\n",
      " $ BIRTHPLACE: int  2 2 1 2 1 3 1 3 3 1 ...\n",
      " $ HEIGHT    : int  165 170 168 167 162 163 165 168 168 167 ...\n",
      " $ WEIGHT    : int  65 67 51 69 54 61 65 76 67 69 ...\n"
     ]
    }
   ],
   "source": [
    "Data <-read.table(file=\"heights.txt\", header=TRUE, dec=\",\", sep=\"\\t\")\n",
    "str(Data)"
   ]
  },
  {
   "cell_type": "markdown",
   "metadata": {},
   "source": [
    "### Population mean weight: point estimation and Confidence Interval"
   ]
  },
  {
   "cell_type": "code",
   "execution_count": 10,
   "metadata": {},
   "outputs": [
    {
     "data": {
      "text/plain": [
       "\n",
       "\tOne Sample t-test\n",
       "\n",
       "data:  Data$WEIGHT\n",
       "t = 52.957, df = 170, p-value < 2.2e-16\n",
       "alternative hypothesis: true mean is not equal to 0\n",
       "95 percent confidence interval:\n",
       " 69.83973 75.24799\n",
       "sample estimates:\n",
       "mean of x \n",
       " 72.54386 \n"
      ]
     },
     "metadata": {},
     "output_type": "display_data"
    }
   ],
   "source": [
    "t.test(Data$WEIGHT,alternative='two.sided',conf.level=.95)"
   ]
  },
  {
   "cell_type": "markdown",
   "metadata": {},
   "source": [
    "#### Explanation\n",
    "\n",
    "The value of the point estimation is 72.54386 and the confidence interval with a confidence level of 95% is (69.83973,75.24799)\n",
    "\n",
    "#### Note: Difference confidence level\n",
    "\n",
    "To consider another confidence level, we must change conf.level by the value under consideration. For instance, for the 99% confidence interval, we must change conf.level=.95 by conf.level=.99\n",
    "\n",
    "#### Note: Another variable\n",
    "\n",
    "To consider another variable, we must change the first parameter of the command. For instance, of the 95% confidence interval of the mean height, we would need to execute the following command\n",
    "\n",
    "t.test(Data$HEIGHT,alternative='two.sided',conf.level=.95)\n"
   ]
  },
  {
   "cell_type": "markdown",
   "metadata": {},
   "source": [
    "### Variance of the population height: point estimation and 95% Confidence Interval"
   ]
  },
  {
   "cell_type": "code",
   "execution_count": 13,
   "metadata": {},
   "outputs": [
    {
     "data": {
      "text/plain": [
       "\n",
       "Results of Hypothesis Test\n",
       "--------------------------\n",
       "\n",
       "Null Hypothesis:                 variance = 1\n",
       "\n",
       "Alternative Hypothesis:          True variance is not equal to 1\n",
       "\n",
       "Test Name:                       Chi-Squared Test on Variance\n",
       "\n",
       "Estimated Parameter(s):          variance = 11.08242\n",
       "\n",
       "Data:                            Data$HEIGHT\n",
       "\n",
       "Test Statistic:                  Chi-Squared = 1884.012\n",
       "\n",
       "Test Statistic Parameter:        df = 170\n",
       "\n",
       "P-value:                         0\n",
       "\n",
       "95% Confidence Interval:         LCL =  9.057947\n",
       "                                 UCL = 13.874455\n"
      ]
     },
     "metadata": {},
     "output_type": "display_data"
    }
   ],
   "source": [
    "# Perhaps, you will need to install and load the following package:  \n",
    "# install.packages(\"EnvStats\")\n",
    " library(EnvStats)\n",
    "varTest(Data$HEIGHT,alternative  = \"two.sided\",conf.level=0.95)"
   ]
  },
  {
   "cell_type": "markdown",
   "metadata": {},
   "source": [
    "#### Explanation:\n",
    "\n",
    "The value of the point estimation of the population variance is 11.08242 and the confidence interval with a confidence level of 95% is (9.057947, 13.874455)\n",
    "\n",
    "#### Note: Confidence Interval for the standard deviation of the population\n",
    "\n",
    "    If instead of the variance, we are interested in the standard deviation, we use the command sqrt to get the square root. In our example: "
   ]
  },
  {
   "cell_type": "code",
   "execution_count": 14,
   "metadata": {},
   "outputs": [
    {
     "data": {
      "text/html": [
       "3.32902688484188"
      ],
      "text/latex": [
       "3.32902688484188"
      ],
      "text/markdown": [
       "3.32902688484188"
      ],
      "text/plain": [
       "[1] 3.329027"
      ]
     },
     "metadata": {},
     "output_type": "display_data"
    },
    {
     "data": {
      "text/html": [
       "3.05834775655091"
      ],
      "text/latex": [
       "3.05834775655091"
      ],
      "text/markdown": [
       "3.05834775655091"
      ],
      "text/plain": [
       "[1] 3.058348"
      ]
     },
     "metadata": {},
     "output_type": "display_data"
    },
    {
     "data": {
      "text/html": [
       "3.65733345485478"
      ],
      "text/latex": [
       "3.65733345485478"
      ],
      "text/markdown": [
       "3.65733345485478"
      ],
      "text/plain": [
       "[1] 3.657333"
      ]
     },
     "metadata": {},
     "output_type": "display_data"
    }
   ],
   "source": [
    "# Point estimation of the standard deviation\n",
    "sqrt(11.08242)\n",
    "# Confidence interval Lower-bound \n",
    "sqrt(9.353491)\n",
    "# Confidence Interval Upper-bound\n",
    "sqrt(13.376088)"
   ]
  },
  {
   "cell_type": "markdown",
   "metadata": {},
   "source": [
    "## Ratio of variances of two independent populations\n",
    "\n",
    "### Estimation between the ratio of variances of heights of men and women"
   ]
  },
  {
   "cell_type": "code",
   "execution_count": 15,
   "metadata": {},
   "outputs": [
    {
     "data": {
      "text/plain": [
       "\n",
       "\tF test to compare two variances\n",
       "\n",
       "data:  women and men\n",
       "F = 0.88431, num df = 81, denom df = 88, p-value = 0.576\n",
       "alternative hypothesis: true ratio of variances is not equal to 1\n",
       "95 percent confidence interval:\n",
       " 0.5765382 1.3616341\n",
       "sample estimates:\n",
       "ratio of variances \n",
       "         0.8843092 \n"
      ]
     },
     "metadata": {},
     "output_type": "display_data"
    }
   ],
   "source": [
    "women <-Data$HEIGHT[Data$SEX==\"female\"]       \n",
    "men <-Data$HEIGHT[Data$SEX==\"male\"]\n",
    "var.test(women,men,conf.level=0.95)"
   ]
  },
  {
   "cell_type": "markdown",
   "metadata": {},
   "source": [
    "#### Explanation:\n",
    "\n",
    "The point estimation for the ration of variance of women's and men's height is 0.8843092 and the confidence interval of the %95 confidence level is (0.6177924, 1.2697464). Therefore, we cannot conclude that the variances are unequal (since 1 is inside the interval).\n",
    "\n",
    "#### Note: Standard Deviation\n",
    "\n",
    "If instead of the variance, we would like to consider the standard deviation, we will use the sqrt function as before. "
   ]
  },
  {
   "cell_type": "markdown",
   "metadata": {},
   "source": [
    "## Difference of the mean of two independent populations\n",
    "\n",
    "### 90% Confidence Interval of the mean height between men and women"
   ]
  },
  {
   "cell_type": "code",
   "execution_count": 16,
   "metadata": {},
   "outputs": [
    {
     "data": {
      "text/plain": [
       "\n",
       "\tTwo Sample t-test\n",
       "\n",
       "data:  women and men\n",
       "t = -4.0665, df = 169, p-value = 7.304e-05\n",
       "alternative hypothesis: true difference in means is not equal to 0\n",
       "90 percent confidence interval:\n",
       " -2.790305 -1.176809\n",
       "sample estimates:\n",
       "mean of x mean of y \n",
       " 165.7805  167.7640 \n"
      ]
     },
     "metadata": {},
     "output_type": "display_data"
    }
   ],
   "source": [
    "# In the previous example, we have seen that we could not reject the equality of variances of the heights of women and men\n",
    "# That's why, we put var.equal=TRUE in the below command (if the variances were unequal, we will need to put\n",
    "#   var.equal=FALSE)\n",
    "t.test(women,men,conf.level=0.9,var.equal=TRUE)"
   ]
  },
  {
   "cell_type": "markdown",
   "metadata": {},
   "source": [
    "#### Explanation:\n",
    "\n",
    "Point estimation of women's height: 165.7805\n",
    "\n",
    "Point estimation of men's height: 167.7640\n",
    "\n",
    "Confidence Interval with a confidence level of 90% of the difference of the mean heights of women and men: (-2.790305,-1.176809)\n",
    "\n",
    "#### Conclussion:\n",
    "\n",
    "The obtained values are negative, therefore we conclude with a confidence level of 90% that mu1-mu2 (that is, the mean height of women minus the mean height of men) is negative and, as a result, we conclude that the mean height of women is smaller than the mean height of men.\n",
    "\n",
    "#### Note:\n",
    "\n",
    "If instead of t.test(mujeres,hombres,....) we would put t.test(hombres,mujeres,...) the point estimations would be the same, but of the confidence intervals would be positive, getting the same conclusions. Do you understand why?"
   ]
  },
  {
   "cell_type": "markdown",
   "metadata": {},
   "source": [
    "## Paired Data\n",
    "\n",
    "### 98% Confidence interval of the difference of the height of father and mather"
   ]
  },
  {
   "cell_type": "code",
   "execution_count": 17,
   "metadata": {},
   "outputs": [
    {
     "data": {
      "text/plain": [
       "\n",
       "\tWelch Two Sample t-test\n",
       "\n",
       "data:  Data$FATHER and Data$MOTHER\n",
       "t = 23.914, df = 316.34, p-value < 2.2e-16\n",
       "alternative hypothesis: true difference in means is not equal to 0\n",
       "98 percent confidence interval:\n",
       " 10.19882 12.40937\n",
       "sample estimates:\n",
       "mean of x mean of y \n",
       " 172.1871  160.8830 \n"
      ]
     },
     "metadata": {},
     "output_type": "display_data"
    }
   ],
   "source": [
    "t.test(Data$FATHER,Data$MOTHER, conf.level=0.98)"
   ]
  },
  {
   "cell_type": "markdown",
   "metadata": {},
   "source": [
    "#### Explanation:\n",
    "\n",
    "Point estimation of father's height: 172.1871\n",
    "\n",
    "Point estimation of mother's height: 160.8830\n",
    "\n",
    "The 98% confidence interval of the difference of the mean of the height of the fathers and of the height of the mothers is (10.19882,12.40937)\n",
    "\n",
    "#### Conclussion:\n",
    "\n",
    "The obtained values in the confidence interval are positive, therefore we conclude with a confidence level of 98% that muD (that is, the mean height of the fathers minus the mean height of the mothers) is positive and, as a result, we conclude that the mean height of the father is larger than the mean height of the mothers. \n",
    "\n"
   ]
  },
  {
   "cell_type": "markdown",
   "metadata": {},
   "source": [
    "## The parameter p of a population Bin(1,p)\n",
    "\n",
    "### The 95% confidence interval of those that are from Alava"
   ]
  },
  {
   "cell_type": "code",
   "execution_count": 18,
   "metadata": {},
   "outputs": [
    {
     "data": {
      "text/plain": [
       "\n",
       "\t1-sample proportions test with continuity correction\n",
       "\n",
       "data:  amount.alava out of amount.total, null probability 0.5\n",
       "X-squared = 49.497, df = 1, p-value = 1.987e-12\n",
       "alternative hypothesis: true p is not equal to 0.5\n",
       "95 percent confidence interval:\n",
       " 0.1689802 0.2996563\n",
       "sample estimates:\n",
       "        p \n",
       "0.2280702 \n"
      ]
     },
     "metadata": {},
     "output_type": "display_data"
    }
   ],
   "source": [
    "# we count how many are from Alava \n",
    "Data.alava <- subset(Data,BIRTHPLACE==1)\n",
    "amount.alava <- length(Data.alava$HEIGHT)\n",
    "# we now count how many are in total\n",
    "amount.total <- length(Data$HEIGHT)\n",
    "\n",
    "prop.test(amount.alava,amount.total,conf.level=0.95)"
   ]
  },
  {
   "cell_type": "markdown",
   "metadata": {},
   "source": [
    "#### Explanation:\n",
    "\n",
    "The point estimation of the proportion of population of Alava: 0.2280702\n",
    "\n",
    "The 95% confidence interval: (0.1689802,0.2996563)\n"
   ]
  },
  {
   "cell_type": "markdown",
   "metadata": {},
   "source": [
    "## Two populations Bin(1,p1) and Bin(1,p2)\n",
    "\n",
    "### Difference of the proportion of being from Alava between men and women"
   ]
  },
  {
   "cell_type": "code",
   "execution_count": 19,
   "metadata": {},
   "outputs": [
    {
     "data": {
      "text/plain": [
       "\n",
       "\t2-sample test for equality of proportions with continuity correction\n",
       "\n",
       "data:  c(n_women_alava, n_men_alava) out of c(n_women, n_men)\n",
       "X-squared = 0.43037, df = 1, p-value = 0.5118\n",
       "alternative hypothesis: two.sided\n",
       "95 percent confidence interval:\n",
       " -0.08391627  0.19161701\n",
       "sample estimates:\n",
       "   prop 1    prop 2 \n",
       "0.2560976 0.2022472 \n"
      ]
     },
     "metadata": {},
     "output_type": "display_data"
    }
   ],
   "source": [
    "# we count how many women and men are from Alava\n",
    "Data.alava <- subset(Data,BIRTHPLACE==1)\n",
    "women.alava <- subset(Data.alava,SEX==\"female\")\n",
    "men.alava <- subset(Data.alava,SEX==\"male\")\n",
    "n_women_alava <- length(women.alava$HEIGHT)\n",
    "n_men_alava <- length(men.alava$HEIGHT)\n",
    "# we count the number of women and men\n",
    "Data.women <- subset(Data,SEX==\"female\")\n",
    "n_women <- length(Data.women$HEIGHT)\n",
    "Data.men <- subset(Data,SEX==\"male\")\n",
    "n_men <- length(Data.men$HEIGHT)\n",
    "# we perform the test\n",
    "prop.test(c(n_women_alava,n_men_alava),c(n_women,n_men),conf.level=0.95)\n"
   ]
  },
  {
   "cell_type": "markdown",
   "metadata": {},
   "source": [
    "#### Explanation:\n",
    "\n",
    "The point estimation of the proportion of women that are from Alava: 0.2560976\n",
    "\n",
    "The point estimation of the proportion of men that are from Alava:  0.2022472\n",
    "\n",
    "The 95% confidence interval of the difference of the proportion of women from Alava and of men from Alava: (-0.08391627,0.19161701)\n",
    "\n",
    "#### Conclusion:\n",
    "\n",
    "As zero is inside the interval, we cannot conclude that there is a significance difference on the difference of the proportion of women from Alava and men from Alava with a confidence level of 95%.\n"
   ]
  },
  {
   "cell_type": "code",
   "execution_count": null,
   "metadata": {},
   "outputs": [],
   "source": []
  }
 ],
 "metadata": {
  "kernelspec": {
   "display_name": "R",
   "language": "R",
   "name": "ir"
  },
  "language_info": {
   "codemirror_mode": "r",
   "file_extension": ".r",
   "mimetype": "text/x-r-source",
   "name": "R",
   "pygments_lexer": "r",
   "version": "4.1.2"
  }
 },
 "nbformat": 4,
 "nbformat_minor": 2
}
