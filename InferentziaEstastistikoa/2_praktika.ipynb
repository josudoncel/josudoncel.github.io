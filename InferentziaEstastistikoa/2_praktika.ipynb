{
 "cells": [
  {
   "cell_type": "markdown",
   "metadata": {},
   "source": [
    "# INFERENTZIA ESTATISTIKOA: Bigarren praktika\n",
    "\n",
    "## Estimazioak eta konfiantza-tarteak (KTak)\n"
   ]
  },
  {
   "cell_type": "code",
   "execution_count": 1,
   "metadata": {
    "scrolled": true
   },
   "outputs": [],
   "source": [
    "# txt datuak irakurri\n",
    "\n",
    "Datuak <-read.table(file=\"altuerak.txt\", header=TRUE, dec=\",\", sep=\"\\t\")\n",
    "\n",
    "# Hurrengo paketea instalatu eta kargatu behar duzue \n",
    "# install.packages(\"EnvStats\")\n",
    "# library(EnvStats)\n",
    "\n"
   ]
  },
  {
   "cell_type": "markdown",
   "metadata": {},
   "source": [
    "### Populazioaren pisuaren batezbestekoa: estimazioa eta %95eko KTa"
   ]
  },
  {
   "cell_type": "code",
   "execution_count": 6,
   "metadata": {},
   "outputs": [
    {
     "data": {
      "text/plain": [
       "\n",
       "Results of Hypothesis Test\n",
       "--------------------------\n",
       "\n",
       "Null Hypothesis:                 mean = 0\n",
       "\n",
       "Alternative Hypothesis:          True mean is not equal to 0\n",
       "\n",
       "Test Name:                       One Sample t-test\n",
       "\n",
       "Estimated Parameter(s):          mean of x = 72.54386\n",
       "\n",
       "Data:                            Datuak$PISUA\n",
       "\n",
       "Test Statistic:                  t = 52.95709\n",
       "\n",
       "Test Statistic Parameter:        df = 170\n",
       "\n",
       "P-value:                         1.403626e-107\n",
       "\n",
       "95% Confidence Interval:         LCL = 69.83973\n",
       "                                 UCL = 75.24799\n"
      ]
     },
     "metadata": {},
     "output_type": "display_data"
    }
   ],
   "source": [
    "t.test(Datuak$PISUA,alternative='two.sided',conf.level=.95)"
   ]
  },
  {
   "cell_type": "markdown",
   "metadata": {},
   "source": [
    "#### Azalpena:\n",
    "Populazioaren bateztebesteko pisuaren estimatutako balioa 72.54386 da eta %95eko KTa (69.83973,75.24799) da\n",
    "\n",
    "#### Oharra: Beste konfiantza-mailak egiteko\n",
    "Adibidez %99ko KTa egiteko, conf.level=.95 jarri ordez, conf.level=.99"
   ]
  },
  {
   "cell_type": "markdown",
   "metadata": {},
   "source": [
    "### Populazioaren altueraren bariantza/desbideratze estandarra: estimazioa eta %95eko KTa"
   ]
  },
  {
   "cell_type": "code",
   "execution_count": 7,
   "metadata": {},
   "outputs": [
    {
     "data": {
      "text/plain": [
       "\n",
       "Results of Hypothesis Test\n",
       "--------------------------\n",
       "\n",
       "Null Hypothesis:                 variance = 1\n",
       "\n",
       "Alternative Hypothesis:          True variance is not equal to 1\n",
       "\n",
       "Test Name:                       Chi-Squared Test on Variance\n",
       "\n",
       "Estimated Parameter(s):          variance = 11.08242\n",
       "\n",
       "Data:                            Datuak$ALTUERA\n",
       "\n",
       "Test Statistic:                  Chi-Squared = 1884.012\n",
       "\n",
       "Test Statistic Parameter:        df = 170\n",
       "\n",
       "P-value:                         0\n",
       "\n",
       "95% Confidence Interval:         LCL =  9.057947\n",
       "                                 UCL = 13.874455\n"
      ]
     },
     "metadata": {},
     "output_type": "display_data"
    }
   ],
   "source": [
    "\n",
    "varTest(Datuak$ALTUERA,alternative  = \"two.sided\",conf.level=0.95)"
   ]
  },
  {
   "cell_type": "markdown",
   "metadata": {},
   "source": [
    "#### Azalpena:\n",
    "Populazioaren altueraren bariantzarako estimatutako balioa 11.08242 da eta %95eko KTa (9.353491, 13.376088) da\n",
    "\n",
    "#### Oharra: Desbideratze estandarraren konfiantza-mailak egiteko\n",
    "Bariantzaren ordez, desbideratze estandarraren balioak lortzeko sqrt funtzioa erabili ahal da."
   ]
  },
  {
   "cell_type": "code",
   "execution_count": 8,
   "metadata": {},
   "outputs": [
    {
     "data": {
      "text/html": [
       "3.32902688484188"
      ],
      "text/latex": [
       "3.32902688484188"
      ],
      "text/markdown": [
       "3.32902688484188"
      ],
      "text/plain": [
       "[1] 3.329027"
      ]
     },
     "metadata": {},
     "output_type": "display_data"
    },
    {
     "data": {
      "text/html": [
       "3.05834775655091"
      ],
      "text/latex": [
       "3.05834775655091"
      ],
      "text/markdown": [
       "3.05834775655091"
      ],
      "text/plain": [
       "[1] 3.058348"
      ]
     },
     "metadata": {},
     "output_type": "display_data"
    },
    {
     "data": {
      "text/html": [
       "3.65733345485478"
      ],
      "text/latex": [
       "3.65733345485478"
      ],
      "text/markdown": [
       "3.65733345485478"
      ],
      "text/plain": [
       "[1] 3.657333"
      ]
     },
     "metadata": {},
     "output_type": "display_data"
    }
   ],
   "source": [
    "# Populazioaren altueraren desbideratze estandarraren estimatutako balioa \n",
    "sqrt(11.08242)\n",
    "# KTaren behe muga \n",
    "sqrt(9.353491)\n",
    "# KTaren goi mugu\n",
    "sqrt(13.376088)"
   ]
  },
  {
   "cell_type": "markdown",
   "metadata": {},
   "source": [
    "## Bi populazio askeren bariantzen zatidura\n",
    "\n",
    "### Gizonezkoen eta emakumezkoen altueren bariantzen zatiduraren KTa"
   ]
  },
  {
   "cell_type": "code",
   "execution_count": 9,
   "metadata": {},
   "outputs": [
    {
     "data": {
      "text/plain": [
       "\n",
       "Results of Hypothesis Test\n",
       "--------------------------\n",
       "\n",
       "Null Hypothesis:                 ratio of variances = 1\n",
       "\n",
       "Alternative Hypothesis:          True ratio of variances is not equal to 1\n",
       "\n",
       "Test Name:                       F test to compare two variances\n",
       "\n",
       "Estimated Parameter(s):          ratio of variances = 0.8843092\n",
       "\n",
       "Data:                            emakumezkoa and gizonezkoa\n",
       "\n",
       "Test Statistic:                  F = 0.8843092\n",
       "\n",
       "Test Statistic Parameters:       num df   = 81\n",
       "                                 denom df = 88\n",
       "\n",
       "P-value:                         0.5759727\n",
       "\n",
       "90% Confidence Interval:         LCL = 0.6177924\n",
       "                                 UCL = 1.2697464\n"
      ]
     },
     "metadata": {},
     "output_type": "display_data"
    }
   ],
   "source": [
    "emakumezkoa <-Datuak$ALTUERA[Datuak$SEXUA==\"emakumezkoa\"]#c(103,94,110,87,98)       \n",
    "gizonezkoa  <-Datuak$ALTUERA[Datuak$SEXUA==\"gizonezkoa\"]#c(97, 82,123,92,175,88,118)\n",
    "var.test(emakumezkoa,gizonezkoa,conf.level=0.9)"
   ]
  },
  {
   "cell_type": "markdown",
   "metadata": {},
   "source": [
    "#### Azalpena:\n",
    "Populazioaren emakumeen ta gizonezkoen altueren bariantzen zatidurarako estimatutako balioa 0.8843092 da eta %95eko KTa (0.6177924, 1.2697464) da. Hortaz, ezin dugu ondorioztatu emakumezkoen eta gizonezkoen altueren bariantzak ezberdinak direnik.\n",
    "\n",
    "#### Oharra: Desbideratze estandarraren konfiantza-mailak egiteko\n",
    "Bariantzaren ordez, desbideratze estandarraren balioak lortzeko sqrt funtzioa erabili ahal da."
   ]
  },
  {
   "cell_type": "markdown",
   "metadata": {},
   "source": [
    "## Bi populazio askeren batezbestekoen diferentzia\n",
    "\n",
    "### Gizonezkoen eta emakumezkoen altueren batezbestekoaren diferentziaren KTa"
   ]
  },
  {
   "cell_type": "code",
   "execution_count": 10,
   "metadata": {},
   "outputs": [
    {
     "data": {
      "text/plain": [
       "\n",
       "Results of Hypothesis Test\n",
       "--------------------------\n",
       "\n",
       "Null Hypothesis:                 difference in means = 0\n",
       "\n",
       "Alternative Hypothesis:          True difference in means is not equal to 0\n",
       "\n",
       "Test Name:                        Two Sample t-test\n",
       "\n",
       "Estimated Parameter(s):          mean of x = 165.7805\n",
       "                                 mean of y = 167.7640\n",
       "\n",
       "Data:                            emakumezkoa and gizonezkoa\n",
       "\n",
       "Test Statistic:                  t = -4.066506\n",
       "\n",
       "Test Statistic Parameter:        df = 169\n",
       "\n",
       "P-value:                         7.304184e-05\n",
       "\n",
       "90% Confidence Interval:         LCL = -2.790305\n",
       "                                 UCL = -1.176809\n"
      ]
     },
     "metadata": {},
     "output_type": "display_data"
    }
   ],
   "source": [
    "# aurreko atalean ikusi dugu bariantzak ezberdinak ez direla ezin dugula ondorioztatu. \n",
    "# Horregatik, var.equal=TRUE jartzen dugu. Aurreko ataleko ondorioa kontrakoa balitz\n",
    "#   (bariantzak ezberdinak izatea), orduan var.equal=FALSE\n",
    "t.test(emakumezkoa,gizonezkoa,conf.level=0.9,var.equal=TRUE)"
   ]
  },
  {
   "cell_type": "markdown",
   "metadata": {},
   "source": [
    "#### Azalpena:\n",
    "Emakumezkoen batezbesteko altueraren estimazioa: 165.7805\n",
    "\n",
    "Gizonezkoen batezbesteko altueraren estimazioa: 165.7805\n",
    "\n",
    "Kenketaren KTa: (-2.790305,-1.176809)\n",
    "\n",
    "#### Ondorioa:\n",
    "Lortutako KTaren balioak negatiboak dira, orduan %90eko konfiantza-mailaz mu1-mu2 (hau da, \n",
    "emakumezkoen batezbesteko altuera ken gizonezkoen bateztebesteko altuera)\n",
    "negatiboa dela baieztatzen dugu eta, orduan, emakumezkoen batezbesteko altuera gizonezkoen bateztebesteko altuera baino txikiagoa dela ondorioztatzen dugu."
   ]
  },
  {
   "cell_type": "markdown",
   "metadata": {},
   "source": [
    "## Binakako datuen KTa\n",
    "\n",
    "### Aitaren eta amaren altueren arteko diferentzia"
   ]
  },
  {
   "cell_type": "code",
   "execution_count": 11,
   "metadata": {},
   "outputs": [
    {
     "data": {
      "text/plain": [
       "\n",
       "Results of Hypothesis Test\n",
       "--------------------------\n",
       "\n",
       "Null Hypothesis:                 difference in means = 0\n",
       "\n",
       "Alternative Hypothesis:          True difference in means is not equal to 0\n",
       "\n",
       "Test Name:                       Welch Two Sample t-test\n",
       "\n",
       "Estimated Parameter(s):          mean of x = 172.1871\n",
       "                                 mean of y = 160.8830\n",
       "\n",
       "Data:                            Datuak$AITARENA and Datuak$AMARENA\n",
       "\n",
       "Test Statistic:                  t = 23.91367\n",
       "\n",
       "Test Statistic Parameter:        df = 316.3426\n",
       "\n",
       "P-value:                         6.750131e-73\n",
       "\n",
       "98% Confidence Interval:         LCL = 10.19882\n",
       "                                 UCL = 12.40937\n"
      ]
     },
     "metadata": {},
     "output_type": "display_data"
    }
   ],
   "source": [
    "t.test(Datuak$AITARENA,Datuak$AMARENA, conf.level=0.98, var.equal=FALSE)"
   ]
  },
  {
   "cell_type": "markdown",
   "metadata": {},
   "source": [
    "#### Azalpena:\n",
    "Emakumezkoen batezbesteko altueraren estimazioa: 172.1871\n",
    "\n",
    "Gizonezkoen batezbesteko altueraren estimazioa: 160.8830\n",
    "\n",
    "Kenketaren KTa: (10.19882,12.40937)\n",
    "\n",
    "#### Ondorioa:\n",
    "Lortutako KTaren balioak positiboak dira, orduan %98eko konfiantza-mailaz muD (hau da, \n",
    "aiten batezbesteko altuera ken amen bateztebesteko altuera)\n",
    "positiboa dela baieztatzen dugu eta, orduan, aiten batezbesteko altuera amen bateztebesteko altuera baino handiagoa dela ondorioztatzen dugu."
   ]
  },
  {
   "cell_type": "markdown",
   "metadata": {},
   "source": [
    "## Populazio binomial baten proportzioa\n",
    "\n",
    "### Bizkaikoen proportzioaren KTa"
   ]
  },
  {
   "cell_type": "code",
   "execution_count": 12,
   "metadata": {},
   "outputs": [
    {
     "data": {
      "text/plain": [
       "\n",
       "Results of Hypothesis Test\n",
       "--------------------------\n",
       "\n",
       "Null Hypothesis:                 p = 0.5\n",
       "\n",
       "Alternative Hypothesis:          True p is not equal to 0.5\n",
       "\n",
       "Test Name:                       1-sample proportions test with continuity correction\n",
       "\n",
       "Estimated Parameter(s):          p = 0.2280702\n",
       "\n",
       "Data:                            kopuru.bizkaia out of guztiak, null probability 0.5\n",
       "\n",
       "Test Statistic:                  X-squared = 49.49708\n",
       "\n",
       "Test Statistic Parameter:        df = 1\n",
       "\n",
       "P-value:                         1.986676e-12\n",
       "\n",
       "95% Confidence Interval:         LCL = 0.1689802\n",
       "                                 UCL = 0.2996563\n"
      ]
     },
     "metadata": {},
     "output_type": "display_data"
    }
   ],
   "source": [
    "# zenbat bizkaitar dauden zenbatzen dugu\n",
    "Datuak.bizkaia <- subset(Datuak,JAIOTERRIA==1)\n",
    "kopuru.bizkaia <- length(Datuak.bizkaia$ALTUERA)\n",
    "#prop.bizkaia\n",
    "guztiak <- length(Datuak$ALTUERA)\n",
    "#guztiak\n",
    "prop.test(kopuru.bizkaia,guztiak,conf.level=0.95)"
   ]
  },
  {
   "cell_type": "markdown",
   "metadata": {},
   "source": [
    "#### Azalpena:\n",
    "Bizkaikoen proportzioaren estimazioa: 0.2280702\n",
    "\n",
    "Proportzioaren KTa: (0.1689802,0.2996563)\n",
    "\n"
   ]
  },
  {
   "cell_type": "markdown",
   "metadata": {},
   "source": [
    "## Bi populazio binomialen proportzioen konparaketa\n",
    "\n",
    "### Emakumeen eta gizonen bizkaitarren proportzioen diferentziaren KTa"
   ]
  },
  {
   "cell_type": "code",
   "execution_count": 13,
   "metadata": {},
   "outputs": [
    {
     "data": {
      "text/plain": [
       "\n",
       "Results of Hypothesis Test\n",
       "--------------------------\n",
       "\n",
       "Alternative Hypothesis:          two.sided\n",
       "\n",
       "Test Name:                       2-sample test for equality of proportions with continuity correction\n",
       "\n",
       "Estimated Parameter(s):          prop 1 = 0.2560976\n",
       "                                 prop 2 = 0.2022472\n",
       "\n",
       "Data:                            c(n_emaku_biz, n_gizon_biz) out of c(n_emaku, n_gizon)\n",
       "\n",
       "Test Statistic:                  X-squared = 0.4303719\n",
       "\n",
       "Test Statistic Parameter:        df = 1\n",
       "\n",
       "P-value:                         0.5118065\n",
       "\n",
       "95% Confidence Interval:         LCL = -0.08391627\n",
       "                                 UCL =  0.19161701\n"
      ]
     },
     "metadata": {},
     "output_type": "display_data"
    }
   ],
   "source": [
    "# zenbat bizkaitar diren emakume eta gizon zenbatzen dugu\n",
    "Datuak.bizkaia <- subset(Datuak,JAIOTERRIA==1)\n",
    "emakume.bizkaia <- subset(Datuak.bizkaia,SEXUA==\"emakumezkoa\")\n",
    "gizona.bizkaia <- subset(Datuak.bizkaia,SEXUA==\"gizonezkoa\")\n",
    "n_emaku_biz <- length(emakume.bizkaia$ALTUERA)\n",
    "n_gizon_biz <- length(gizona.bizkaia$ALTUERA)\n",
    "# zenbat emakume eta gizon zenbatzen dugu\n",
    "Datuak.emaku <- subset(Datuak,SEXUA==\"emakumezkoa\")\n",
    "n_emaku <- length(Datuak.emaku$ALTUERA)\n",
    "Datuak.gizon <- subset(Datuak,SEXUA==\"gizonezkoa\")\n",
    "n_gizon <- length(Datuak.gizon$ALTUERA)\n",
    "# testa egiten dugu\n",
    "prop.test(c(n_emaku_biz,n_gizon_biz),c(n_emaku,n_gizon),conf.level=0.95)\n",
    "#guztiak\n",
    "#binom.test(kopuru.bizkaia,guztiak,conf.level=0.95)"
   ]
  },
  {
   "cell_type": "markdown",
   "metadata": {},
   "source": [
    "#### Azalpena:\n",
    "Emakumeen artean bizkaikoen proportzioaren estimazioa: 0.2560976\n",
    "\n",
    "Gizonen artean bizkaikoen proportzioaren estimazioa: 0.2022472\n",
    "\n",
    "Proportzioen diferentziaren KTa: (-0.08391627,0.19161701)\n",
    "\n",
    "#### Ondorioa:\n",
    "Zero KTaren barruan dagoenez, ezin dugu ondorioztatu bizkaitarren proportzioa ezberdina den gizonezkoen eta emakumeen artean\n"
   ]
  },
  {
   "cell_type": "code",
   "execution_count": null,
   "metadata": {},
   "outputs": [],
   "source": []
  }
 ],
 "metadata": {
  "kernelspec": {
   "display_name": "R",
   "language": "R",
   "name": "ir"
  },
  "language_info": {
   "codemirror_mode": "r",
   "file_extension": ".r",
   "mimetype": "text/x-r-source",
   "name": "R",
   "pygments_lexer": "r",
   "version": "3.4.4"
  }
 },
 "nbformat": 4,
 "nbformat_minor": 2
}
