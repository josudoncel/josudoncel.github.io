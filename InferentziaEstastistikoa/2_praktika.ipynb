{
 "cells": [
  {
   "cell_type": "markdown",
   "metadata": {},
   "source": [
    "# INFERENTZIA ESTATISTIKOA: Bigarren praktika\n",
    "\n",
    "## Estimazioak eta konfiantza-tarteak (KTak)\n"
   ]
  },
  {
   "cell_type": "code",
   "execution_count": 128,
   "metadata": {
    "scrolled": true
   },
   "outputs": [
    {
     "data": {
      "text/html": [
       "<table>\n",
       "<caption>A data.frame: 171 × 6</caption>\n",
       "<thead>\n",
       "\t<tr><th></th><th scope=col>AITARENA</th><th scope=col>AMARENA</th><th scope=col>SEXUA</th><th scope=col>JAIOTERRIA</th><th scope=col>ALTUERA</th><th scope=col>PISUA</th></tr>\n",
       "\t<tr><th></th><th scope=col>&lt;int&gt;</th><th scope=col>&lt;int&gt;</th><th scope=col>&lt;fct&gt;</th><th scope=col>&lt;int&gt;</th><th scope=col>&lt;int&gt;</th><th scope=col>&lt;int&gt;</th></tr>\n",
       "</thead>\n",
       "<tbody>\n",
       "\t<tr><th scope=row>1</th><td>174</td><td>156</td><td>emakumezkoa</td><td>2</td><td>165</td><td> 65</td></tr>\n",
       "\t<tr><th scope=row>2</th><td>177</td><td>159</td><td>gizonezkoa </td><td>2</td><td>170</td><td> 67</td></tr>\n",
       "\t<tr><th scope=row>3</th><td>173</td><td>161</td><td>gizonezkoa </td><td>1</td><td>168</td><td> 51</td></tr>\n",
       "\t<tr><th scope=row>4</th><td>174</td><td>156</td><td>gizonezkoa </td><td>2</td><td>167</td><td> 69</td></tr>\n",
       "\t<tr><th scope=row>5</th><td>160</td><td>165</td><td>gizonezkoa </td><td>1</td><td>162</td><td> 54</td></tr>\n",
       "\t<tr><th scope=row>6</th><td>167</td><td>157</td><td>gizonezkoa </td><td>3</td><td>163</td><td> 61</td></tr>\n",
       "\t<tr><th scope=row>7</th><td>171</td><td>162</td><td>emakumezkoa</td><td>1</td><td>165</td><td> 65</td></tr>\n",
       "\t<tr><th scope=row>8</th><td>174</td><td>158</td><td>gizonezkoa </td><td>3</td><td>168</td><td> 76</td></tr>\n",
       "\t<tr><th scope=row>9</th><td>175</td><td>162</td><td>emakumezkoa</td><td>3</td><td>168</td><td> 67</td></tr>\n",
       "\t<tr><th scope=row>10</th><td>174</td><td>161</td><td>emakumezkoa</td><td>1</td><td>167</td><td> 69</td></tr>\n",
       "\t<tr><th scope=row>11</th><td>175</td><td>162</td><td>emakumezkoa</td><td>3</td><td>168</td><td> 66</td></tr>\n",
       "\t<tr><th scope=row>12</th><td>176</td><td>161</td><td>gizonezkoa </td><td>2</td><td>170</td><td> 81</td></tr>\n",
       "\t<tr><th scope=row>13</th><td>180</td><td>156</td><td>gizonezkoa </td><td>2</td><td>170</td><td> 92</td></tr>\n",
       "\t<tr><th scope=row>14</th><td>172</td><td>171</td><td>emakumezkoa</td><td>3</td><td>170</td><td> 85</td></tr>\n",
       "\t<tr><th scope=row>15</th><td>171</td><td>158</td><td>emakumezkoa</td><td>1</td><td>164</td><td> 58</td></tr>\n",
       "\t<tr><th scope=row>16</th><td>172</td><td>160</td><td>emakumezkoa</td><td>3</td><td>165</td><td> 65</td></tr>\n",
       "\t<tr><th scope=row>17</th><td>172</td><td>157</td><td>gizonezkoa </td><td>2</td><td>166</td><td> 72</td></tr>\n",
       "\t<tr><th scope=row>18</th><td>175</td><td>158</td><td>emakumezkoa</td><td>2</td><td>166</td><td> 62</td></tr>\n",
       "\t<tr><th scope=row>19</th><td>173</td><td>160</td><td>gizonezkoa </td><td>2</td><td>168</td><td> 86</td></tr>\n",
       "\t<tr><th scope=row>20</th><td>173</td><td>164</td><td>emakumezkoa</td><td>1</td><td>165</td><td> 65</td></tr>\n",
       "\t<tr><th scope=row>21</th><td>171</td><td>167</td><td>emakumezkoa</td><td>2</td><td>167</td><td> 69</td></tr>\n",
       "\t<tr><th scope=row>22</th><td>177</td><td>160</td><td>emakumezkoa</td><td>2</td><td>168</td><td> 74</td></tr>\n",
       "\t<tr><th scope=row>23</th><td>172</td><td>161</td><td>emakumezkoa</td><td>3</td><td>166</td><td> 62</td></tr>\n",
       "\t<tr><th scope=row>24</th><td>180</td><td>164</td><td>gizonezkoa </td><td>1</td><td>174</td><td>108</td></tr>\n",
       "\t<tr><th scope=row>25</th><td>174</td><td>159</td><td>gizonezkoa </td><td>3</td><td>168</td><td> 75</td></tr>\n",
       "\t<tr><th scope=row>26</th><td>169</td><td>167</td><td>gizonezkoa </td><td>2</td><td>168</td><td> 77</td></tr>\n",
       "\t<tr><th scope=row>27</th><td>174</td><td>166</td><td>emakumezkoa</td><td>2</td><td>169</td><td> 63</td></tr>\n",
       "\t<tr><th scope=row>28</th><td>166</td><td>160</td><td>gizonezkoa </td><td>2</td><td>164</td><td> 68</td></tr>\n",
       "\t<tr><th scope=row>29</th><td>168</td><td>159</td><td>emakumezkoa</td><td>3</td><td>162</td><td> 44</td></tr>\n",
       "\t<tr><th scope=row>30</th><td>172</td><td>163</td><td>emakumezkoa</td><td>2</td><td>166</td><td> 72</td></tr>\n",
       "\t<tr><th scope=row>⋮</th><td>⋮</td><td>⋮</td><td>⋮</td><td>⋮</td><td>⋮</td><td>⋮</td></tr>\n",
       "\t<tr><th scope=row>142</th><td>174</td><td>159</td><td>gizonezkoa </td><td>2</td><td>168</td><td>66</td></tr>\n",
       "\t<tr><th scope=row>143</th><td>177</td><td>161</td><td>gizonezkoa </td><td>3</td><td>171</td><td>87</td></tr>\n",
       "\t<tr><th scope=row>144</th><td>180</td><td>160</td><td>emakumezkoa</td><td>1</td><td>170</td><td>80</td></tr>\n",
       "\t<tr><th scope=row>145</th><td>168</td><td>163</td><td>gizonezkoa </td><td>3</td><td>166</td><td>77</td></tr>\n",
       "\t<tr><th scope=row>146</th><td>168</td><td>164</td><td>emakumezkoa</td><td>3</td><td>164</td><td>58</td></tr>\n",
       "\t<tr><th scope=row>147</th><td>171</td><td>160</td><td>gizonezkoa </td><td>1</td><td>167</td><td>69</td></tr>\n",
       "\t<tr><th scope=row>148</th><td>170</td><td>162</td><td>emakumezkoa</td><td>3</td><td>165</td><td>65</td></tr>\n",
       "\t<tr><th scope=row>149</th><td>157</td><td>162</td><td>gizonezkoa </td><td>3</td><td>159</td><td>33</td></tr>\n",
       "\t<tr><th scope=row>150</th><td>163</td><td>162</td><td>gizonezkoa </td><td>2</td><td>163</td><td>61</td></tr>\n",
       "\t<tr><th scope=row>151</th><td>166</td><td>165</td><td>emakumezkoa</td><td>2</td><td>164</td><td>58</td></tr>\n",
       "\t<tr><th scope=row>152</th><td>166</td><td>163</td><td>emakumezkoa</td><td>2</td><td>163</td><td>51</td></tr>\n",
       "\t<tr><th scope=row>153</th><td>169</td><td>166</td><td>gizonezkoa </td><td>2</td><td>168</td><td>69</td></tr>\n",
       "\t<tr><th scope=row>154</th><td>175</td><td>158</td><td>gizonezkoa </td><td>1</td><td>168</td><td>67</td></tr>\n",
       "\t<tr><th scope=row>155</th><td>172</td><td>157</td><td>emakumezkoa</td><td>2</td><td>164</td><td>58</td></tr>\n",
       "\t<tr><th scope=row>156</th><td>170</td><td>161</td><td>gizonezkoa </td><td>3</td><td>166</td><td>82</td></tr>\n",
       "\t<tr><th scope=row>157</th><td>177</td><td>158</td><td>emakumezkoa</td><td>2</td><td>167</td><td>79</td></tr>\n",
       "\t<tr><th scope=row>158</th><td>175</td><td>155</td><td>gizonezkoa </td><td>2</td><td>167</td><td>79</td></tr>\n",
       "\t<tr><th scope=row>159</th><td>174</td><td>158</td><td>gizonezkoa </td><td>2</td><td>168</td><td>68</td></tr>\n",
       "\t<tr><th scope=row>160</th><td>173</td><td>166</td><td>emakumezkoa</td><td>3</td><td>168</td><td>86</td></tr>\n",
       "\t<tr><th scope=row>161</th><td>176</td><td>157</td><td>emakumezkoa</td><td>2</td><td>166</td><td>72</td></tr>\n",
       "\t<tr><th scope=row>162</th><td>162</td><td>161</td><td>gizonezkoa </td><td>2</td><td>162</td><td>54</td></tr>\n",
       "\t<tr><th scope=row>163</th><td>174</td><td>158</td><td>gizonezkoa </td><td>2</td><td>168</td><td>66</td></tr>\n",
       "\t<tr><th scope=row>164</th><td>169</td><td>161</td><td>emakumezkoa</td><td>3</td><td>164</td><td>58</td></tr>\n",
       "\t<tr><th scope=row>165</th><td>174</td><td>156</td><td>emakumezkoa</td><td>1</td><td>165</td><td>65</td></tr>\n",
       "\t<tr><th scope=row>166</th><td>165</td><td>170</td><td>emakumezkoa</td><td>2</td><td>165</td><td>65</td></tr>\n",
       "\t<tr><th scope=row>167</th><td>169</td><td>164</td><td>gizonezkoa </td><td>3</td><td>167</td><td>79</td></tr>\n",
       "\t<tr><th scope=row>168</th><td>166</td><td>157</td><td>emakumezkoa</td><td>3</td><td>160</td><td>30</td></tr>\n",
       "\t<tr><th scope=row>169</th><td>173</td><td>159</td><td>emakumezkoa</td><td>2</td><td>165</td><td>65</td></tr>\n",
       "\t<tr><th scope=row>170</th><td>176</td><td>158</td><td>gizonezkoa </td><td>1</td><td>169</td><td>82</td></tr>\n",
       "\t<tr><th scope=row>171</th><td>180</td><td>161</td><td>gizonezkoa </td><td>3</td><td>172</td><td>84</td></tr>\n",
       "</tbody>\n",
       "</table>\n"
      ],
      "text/latex": [
       "A data.frame: 171 × 6\n",
       "\\begin{tabular}{r|llllll}\n",
       "  & AITARENA & AMARENA & SEXUA & JAIOTERRIA & ALTUERA & PISUA\\\\\n",
       "  & <int> & <int> & <fct> & <int> & <int> & <int>\\\\\n",
       "\\hline\n",
       "\t1 & 174 & 156 & emakumezkoa & 2 & 165 &  65\\\\\n",
       "\t2 & 177 & 159 & gizonezkoa  & 2 & 170 &  67\\\\\n",
       "\t3 & 173 & 161 & gizonezkoa  & 1 & 168 &  51\\\\\n",
       "\t4 & 174 & 156 & gizonezkoa  & 2 & 167 &  69\\\\\n",
       "\t5 & 160 & 165 & gizonezkoa  & 1 & 162 &  54\\\\\n",
       "\t6 & 167 & 157 & gizonezkoa  & 3 & 163 &  61\\\\\n",
       "\t7 & 171 & 162 & emakumezkoa & 1 & 165 &  65\\\\\n",
       "\t8 & 174 & 158 & gizonezkoa  & 3 & 168 &  76\\\\\n",
       "\t9 & 175 & 162 & emakumezkoa & 3 & 168 &  67\\\\\n",
       "\t10 & 174 & 161 & emakumezkoa & 1 & 167 &  69\\\\\n",
       "\t11 & 175 & 162 & emakumezkoa & 3 & 168 &  66\\\\\n",
       "\t12 & 176 & 161 & gizonezkoa  & 2 & 170 &  81\\\\\n",
       "\t13 & 180 & 156 & gizonezkoa  & 2 & 170 &  92\\\\\n",
       "\t14 & 172 & 171 & emakumezkoa & 3 & 170 &  85\\\\\n",
       "\t15 & 171 & 158 & emakumezkoa & 1 & 164 &  58\\\\\n",
       "\t16 & 172 & 160 & emakumezkoa & 3 & 165 &  65\\\\\n",
       "\t17 & 172 & 157 & gizonezkoa  & 2 & 166 &  72\\\\\n",
       "\t18 & 175 & 158 & emakumezkoa & 2 & 166 &  62\\\\\n",
       "\t19 & 173 & 160 & gizonezkoa  & 2 & 168 &  86\\\\\n",
       "\t20 & 173 & 164 & emakumezkoa & 1 & 165 &  65\\\\\n",
       "\t21 & 171 & 167 & emakumezkoa & 2 & 167 &  69\\\\\n",
       "\t22 & 177 & 160 & emakumezkoa & 2 & 168 &  74\\\\\n",
       "\t23 & 172 & 161 & emakumezkoa & 3 & 166 &  62\\\\\n",
       "\t24 & 180 & 164 & gizonezkoa  & 1 & 174 & 108\\\\\n",
       "\t25 & 174 & 159 & gizonezkoa  & 3 & 168 &  75\\\\\n",
       "\t26 & 169 & 167 & gizonezkoa  & 2 & 168 &  77\\\\\n",
       "\t27 & 174 & 166 & emakumezkoa & 2 & 169 &  63\\\\\n",
       "\t28 & 166 & 160 & gizonezkoa  & 2 & 164 &  68\\\\\n",
       "\t29 & 168 & 159 & emakumezkoa & 3 & 162 &  44\\\\\n",
       "\t30 & 172 & 163 & emakumezkoa & 2 & 166 &  72\\\\\n",
       "\t⋮ & ⋮ & ⋮ & ⋮ & ⋮ & ⋮ & ⋮\\\\\n",
       "\t142 & 174 & 159 & gizonezkoa  & 2 & 168 & 66\\\\\n",
       "\t143 & 177 & 161 & gizonezkoa  & 3 & 171 & 87\\\\\n",
       "\t144 & 180 & 160 & emakumezkoa & 1 & 170 & 80\\\\\n",
       "\t145 & 168 & 163 & gizonezkoa  & 3 & 166 & 77\\\\\n",
       "\t146 & 168 & 164 & emakumezkoa & 3 & 164 & 58\\\\\n",
       "\t147 & 171 & 160 & gizonezkoa  & 1 & 167 & 69\\\\\n",
       "\t148 & 170 & 162 & emakumezkoa & 3 & 165 & 65\\\\\n",
       "\t149 & 157 & 162 & gizonezkoa  & 3 & 159 & 33\\\\\n",
       "\t150 & 163 & 162 & gizonezkoa  & 2 & 163 & 61\\\\\n",
       "\t151 & 166 & 165 & emakumezkoa & 2 & 164 & 58\\\\\n",
       "\t152 & 166 & 163 & emakumezkoa & 2 & 163 & 51\\\\\n",
       "\t153 & 169 & 166 & gizonezkoa  & 2 & 168 & 69\\\\\n",
       "\t154 & 175 & 158 & gizonezkoa  & 1 & 168 & 67\\\\\n",
       "\t155 & 172 & 157 & emakumezkoa & 2 & 164 & 58\\\\\n",
       "\t156 & 170 & 161 & gizonezkoa  & 3 & 166 & 82\\\\\n",
       "\t157 & 177 & 158 & emakumezkoa & 2 & 167 & 79\\\\\n",
       "\t158 & 175 & 155 & gizonezkoa  & 2 & 167 & 79\\\\\n",
       "\t159 & 174 & 158 & gizonezkoa  & 2 & 168 & 68\\\\\n",
       "\t160 & 173 & 166 & emakumezkoa & 3 & 168 & 86\\\\\n",
       "\t161 & 176 & 157 & emakumezkoa & 2 & 166 & 72\\\\\n",
       "\t162 & 162 & 161 & gizonezkoa  & 2 & 162 & 54\\\\\n",
       "\t163 & 174 & 158 & gizonezkoa  & 2 & 168 & 66\\\\\n",
       "\t164 & 169 & 161 & emakumezkoa & 3 & 164 & 58\\\\\n",
       "\t165 & 174 & 156 & emakumezkoa & 1 & 165 & 65\\\\\n",
       "\t166 & 165 & 170 & emakumezkoa & 2 & 165 & 65\\\\\n",
       "\t167 & 169 & 164 & gizonezkoa  & 3 & 167 & 79\\\\\n",
       "\t168 & 166 & 157 & emakumezkoa & 3 & 160 & 30\\\\\n",
       "\t169 & 173 & 159 & emakumezkoa & 2 & 165 & 65\\\\\n",
       "\t170 & 176 & 158 & gizonezkoa  & 1 & 169 & 82\\\\\n",
       "\t171 & 180 & 161 & gizonezkoa  & 3 & 172 & 84\\\\\n",
       "\\end{tabular}\n"
      ],
      "text/markdown": [
       "\n",
       "A data.frame: 171 × 6\n",
       "\n",
       "| <!--/--> | AITARENA &lt;int&gt; | AMARENA &lt;int&gt; | SEXUA &lt;fct&gt; | JAIOTERRIA &lt;int&gt; | ALTUERA &lt;int&gt; | PISUA &lt;int&gt; |\n",
       "|---|---|---|---|---|---|---|\n",
       "| 1 | 174 | 156 | emakumezkoa | 2 | 165 |  65 |\n",
       "| 2 | 177 | 159 | gizonezkoa  | 2 | 170 |  67 |\n",
       "| 3 | 173 | 161 | gizonezkoa  | 1 | 168 |  51 |\n",
       "| 4 | 174 | 156 | gizonezkoa  | 2 | 167 |  69 |\n",
       "| 5 | 160 | 165 | gizonezkoa  | 1 | 162 |  54 |\n",
       "| 6 | 167 | 157 | gizonezkoa  | 3 | 163 |  61 |\n",
       "| 7 | 171 | 162 | emakumezkoa | 1 | 165 |  65 |\n",
       "| 8 | 174 | 158 | gizonezkoa  | 3 | 168 |  76 |\n",
       "| 9 | 175 | 162 | emakumezkoa | 3 | 168 |  67 |\n",
       "| 10 | 174 | 161 | emakumezkoa | 1 | 167 |  69 |\n",
       "| 11 | 175 | 162 | emakumezkoa | 3 | 168 |  66 |\n",
       "| 12 | 176 | 161 | gizonezkoa  | 2 | 170 |  81 |\n",
       "| 13 | 180 | 156 | gizonezkoa  | 2 | 170 |  92 |\n",
       "| 14 | 172 | 171 | emakumezkoa | 3 | 170 |  85 |\n",
       "| 15 | 171 | 158 | emakumezkoa | 1 | 164 |  58 |\n",
       "| 16 | 172 | 160 | emakumezkoa | 3 | 165 |  65 |\n",
       "| 17 | 172 | 157 | gizonezkoa  | 2 | 166 |  72 |\n",
       "| 18 | 175 | 158 | emakumezkoa | 2 | 166 |  62 |\n",
       "| 19 | 173 | 160 | gizonezkoa  | 2 | 168 |  86 |\n",
       "| 20 | 173 | 164 | emakumezkoa | 1 | 165 |  65 |\n",
       "| 21 | 171 | 167 | emakumezkoa | 2 | 167 |  69 |\n",
       "| 22 | 177 | 160 | emakumezkoa | 2 | 168 |  74 |\n",
       "| 23 | 172 | 161 | emakumezkoa | 3 | 166 |  62 |\n",
       "| 24 | 180 | 164 | gizonezkoa  | 1 | 174 | 108 |\n",
       "| 25 | 174 | 159 | gizonezkoa  | 3 | 168 |  75 |\n",
       "| 26 | 169 | 167 | gizonezkoa  | 2 | 168 |  77 |\n",
       "| 27 | 174 | 166 | emakumezkoa | 2 | 169 |  63 |\n",
       "| 28 | 166 | 160 | gizonezkoa  | 2 | 164 |  68 |\n",
       "| 29 | 168 | 159 | emakumezkoa | 3 | 162 |  44 |\n",
       "| 30 | 172 | 163 | emakumezkoa | 2 | 166 |  72 |\n",
       "| ⋮ | ⋮ | ⋮ | ⋮ | ⋮ | ⋮ | ⋮ |\n",
       "| 142 | 174 | 159 | gizonezkoa  | 2 | 168 | 66 |\n",
       "| 143 | 177 | 161 | gizonezkoa  | 3 | 171 | 87 |\n",
       "| 144 | 180 | 160 | emakumezkoa | 1 | 170 | 80 |\n",
       "| 145 | 168 | 163 | gizonezkoa  | 3 | 166 | 77 |\n",
       "| 146 | 168 | 164 | emakumezkoa | 3 | 164 | 58 |\n",
       "| 147 | 171 | 160 | gizonezkoa  | 1 | 167 | 69 |\n",
       "| 148 | 170 | 162 | emakumezkoa | 3 | 165 | 65 |\n",
       "| 149 | 157 | 162 | gizonezkoa  | 3 | 159 | 33 |\n",
       "| 150 | 163 | 162 | gizonezkoa  | 2 | 163 | 61 |\n",
       "| 151 | 166 | 165 | emakumezkoa | 2 | 164 | 58 |\n",
       "| 152 | 166 | 163 | emakumezkoa | 2 | 163 | 51 |\n",
       "| 153 | 169 | 166 | gizonezkoa  | 2 | 168 | 69 |\n",
       "| 154 | 175 | 158 | gizonezkoa  | 1 | 168 | 67 |\n",
       "| 155 | 172 | 157 | emakumezkoa | 2 | 164 | 58 |\n",
       "| 156 | 170 | 161 | gizonezkoa  | 3 | 166 | 82 |\n",
       "| 157 | 177 | 158 | emakumezkoa | 2 | 167 | 79 |\n",
       "| 158 | 175 | 155 | gizonezkoa  | 2 | 167 | 79 |\n",
       "| 159 | 174 | 158 | gizonezkoa  | 2 | 168 | 68 |\n",
       "| 160 | 173 | 166 | emakumezkoa | 3 | 168 | 86 |\n",
       "| 161 | 176 | 157 | emakumezkoa | 2 | 166 | 72 |\n",
       "| 162 | 162 | 161 | gizonezkoa  | 2 | 162 | 54 |\n",
       "| 163 | 174 | 158 | gizonezkoa  | 2 | 168 | 66 |\n",
       "| 164 | 169 | 161 | emakumezkoa | 3 | 164 | 58 |\n",
       "| 165 | 174 | 156 | emakumezkoa | 1 | 165 | 65 |\n",
       "| 166 | 165 | 170 | emakumezkoa | 2 | 165 | 65 |\n",
       "| 167 | 169 | 164 | gizonezkoa  | 3 | 167 | 79 |\n",
       "| 168 | 166 | 157 | emakumezkoa | 3 | 160 | 30 |\n",
       "| 169 | 173 | 159 | emakumezkoa | 2 | 165 | 65 |\n",
       "| 170 | 176 | 158 | gizonezkoa  | 1 | 169 | 82 |\n",
       "| 171 | 180 | 161 | gizonezkoa  | 3 | 172 | 84 |\n",
       "\n"
      ],
      "text/plain": [
       "    AITARENA AMARENA SEXUA       JAIOTERRIA ALTUERA PISUA\n",
       "1   174      156     emakumezkoa 2          165      65  \n",
       "2   177      159     gizonezkoa  2          170      67  \n",
       "3   173      161     gizonezkoa  1          168      51  \n",
       "4   174      156     gizonezkoa  2          167      69  \n",
       "5   160      165     gizonezkoa  1          162      54  \n",
       "6   167      157     gizonezkoa  3          163      61  \n",
       "7   171      162     emakumezkoa 1          165      65  \n",
       "8   174      158     gizonezkoa  3          168      76  \n",
       "9   175      162     emakumezkoa 3          168      67  \n",
       "10  174      161     emakumezkoa 1          167      69  \n",
       "11  175      162     emakumezkoa 3          168      66  \n",
       "12  176      161     gizonezkoa  2          170      81  \n",
       "13  180      156     gizonezkoa  2          170      92  \n",
       "14  172      171     emakumezkoa 3          170      85  \n",
       "15  171      158     emakumezkoa 1          164      58  \n",
       "16  172      160     emakumezkoa 3          165      65  \n",
       "17  172      157     gizonezkoa  2          166      72  \n",
       "18  175      158     emakumezkoa 2          166      62  \n",
       "19  173      160     gizonezkoa  2          168      86  \n",
       "20  173      164     emakumezkoa 1          165      65  \n",
       "21  171      167     emakumezkoa 2          167      69  \n",
       "22  177      160     emakumezkoa 2          168      74  \n",
       "23  172      161     emakumezkoa 3          166      62  \n",
       "24  180      164     gizonezkoa  1          174     108  \n",
       "25  174      159     gizonezkoa  3          168      75  \n",
       "26  169      167     gizonezkoa  2          168      77  \n",
       "27  174      166     emakumezkoa 2          169      63  \n",
       "28  166      160     gizonezkoa  2          164      68  \n",
       "29  168      159     emakumezkoa 3          162      44  \n",
       "30  172      163     emakumezkoa 2          166      72  \n",
       "⋮   ⋮        ⋮       ⋮           ⋮          ⋮       ⋮    \n",
       "142 174      159     gizonezkoa  2          168     66   \n",
       "143 177      161     gizonezkoa  3          171     87   \n",
       "144 180      160     emakumezkoa 1          170     80   \n",
       "145 168      163     gizonezkoa  3          166     77   \n",
       "146 168      164     emakumezkoa 3          164     58   \n",
       "147 171      160     gizonezkoa  1          167     69   \n",
       "148 170      162     emakumezkoa 3          165     65   \n",
       "149 157      162     gizonezkoa  3          159     33   \n",
       "150 163      162     gizonezkoa  2          163     61   \n",
       "151 166      165     emakumezkoa 2          164     58   \n",
       "152 166      163     emakumezkoa 2          163     51   \n",
       "153 169      166     gizonezkoa  2          168     69   \n",
       "154 175      158     gizonezkoa  1          168     67   \n",
       "155 172      157     emakumezkoa 2          164     58   \n",
       "156 170      161     gizonezkoa  3          166     82   \n",
       "157 177      158     emakumezkoa 2          167     79   \n",
       "158 175      155     gizonezkoa  2          167     79   \n",
       "159 174      158     gizonezkoa  2          168     68   \n",
       "160 173      166     emakumezkoa 3          168     86   \n",
       "161 176      157     emakumezkoa 2          166     72   \n",
       "162 162      161     gizonezkoa  2          162     54   \n",
       "163 174      158     gizonezkoa  2          168     66   \n",
       "164 169      161     emakumezkoa 3          164     58   \n",
       "165 174      156     emakumezkoa 1          165     65   \n",
       "166 165      170     emakumezkoa 2          165     65   \n",
       "167 169      164     gizonezkoa  3          167     79   \n",
       "168 166      157     emakumezkoa 3          160     30   \n",
       "169 173      159     emakumezkoa 2          165     65   \n",
       "170 176      158     gizonezkoa  1          169     82   \n",
       "171 180      161     gizonezkoa  3          172     84   "
      ]
     },
     "metadata": {},
     "output_type": "display_data"
    }
   ],
   "source": [
    "# txt datuak irakurri\n",
    "\n",
    "Datuak <-read.table(file=\"altuerak.txt\", header=TRUE, dec=\",\", sep=\"\\t\")\n",
    "Datuak"
   ]
  },
  {
   "cell_type": "markdown",
   "metadata": {},
   "source": [
    "### Populazioaren pisuaren batezbestekoa: estimazioa eta %95eko KTa"
   ]
  },
  {
   "cell_type": "code",
   "execution_count": 129,
   "metadata": {},
   "outputs": [
    {
     "data": {
      "text/plain": [
       "\n",
       "Results of Hypothesis Test\n",
       "--------------------------\n",
       "\n",
       "Null Hypothesis:                 mean = 0\n",
       "\n",
       "Alternative Hypothesis:          True mean is not equal to 0\n",
       "\n",
       "Test Name:                       One Sample t-test\n",
       "\n",
       "Estimated Parameter(s):          mean of x = 72.54386\n",
       "\n",
       "Data:                            Datuak$PISUA\n",
       "\n",
       "Test Statistic:                  t = 52.95709\n",
       "\n",
       "Test Statistic Parameter:        df = 170\n",
       "\n",
       "P-value:                         1.403626e-107\n",
       "\n",
       "95% Confidence Interval:         LCL = 69.83973\n",
       "                                 UCL = 75.24799\n"
      ]
     },
     "metadata": {},
     "output_type": "display_data"
    }
   ],
   "source": [
    "t.test(Datuak$PISUA,alternative='two.sided',conf.level=.95)"
   ]
  },
  {
   "cell_type": "markdown",
   "metadata": {},
   "source": [
    "#### Azalpena:\n",
    "Populazioaren bateztebesteko pisuaren estimatutako balioa 72.54386 da eta %95eko KTa (69.83973,75.24799) da\n",
    "\n",
    "#### Oharra: Beste konfiantza-mailak egiteko\n",
    "Adibidez %99ko KTa egiteko, conf.level=.95 jarri ordez, conf.level=.99"
   ]
  },
  {
   "cell_type": "markdown",
   "metadata": {},
   "source": [
    "### Populazioaren altueraren bariantza/desbideratze estandarra: estimazioa eta %95eko KTa"
   ]
  },
  {
   "cell_type": "code",
   "execution_count": 130,
   "metadata": {},
   "outputs": [
    {
     "data": {
      "text/plain": [
       "\n",
       "Results of Hypothesis Test\n",
       "--------------------------\n",
       "\n",
       "Null Hypothesis:                 variance = 1\n",
       "\n",
       "Alternative Hypothesis:          True variance is not equal to 1\n",
       "\n",
       "Test Name:                       Chi-Squared Test on Variance\n",
       "\n",
       "Estimated Parameter(s):          variance = 11.08242\n",
       "\n",
       "Data:                            Datuak$ALTUERA\n",
       "\n",
       "Test Statistic:                  Chi-Squared = 1884.012\n",
       "\n",
       "Test Statistic Parameter:        df = 170\n",
       "\n",
       "P-value:                         0\n",
       "\n",
       "95% Confidence Interval:         LCL =  9.057947\n",
       "                                 UCL = 13.874455\n"
      ]
     },
     "metadata": {},
     "output_type": "display_data"
    }
   ],
   "source": [
    "# agian hurrengo paketea instalatu eta kargatu behar duzue \n",
    "#install.packages(\"EnvStats\")\n",
    "#library(EnvStats)\n",
    "varTest(Datuak$ALTUERA,alternative  = \"two.sided\",conf.level=0.95)"
   ]
  },
  {
   "cell_type": "markdown",
   "metadata": {},
   "source": [
    "#### Azalpena:\n",
    "Populazioaren altueraren bariantzarako estimatutako balioa 11.08242 da eta %95eko KTa (9.353491, 13.376088) da\n",
    "\n",
    "#### Oharra: Desbideratze estandarraren konfiantza-mailak egiteko\n",
    "Bariantzaren ordez, desbideratze estandarraren balioak lortzeko sqrt funtzioa erabili ahal da."
   ]
  },
  {
   "cell_type": "code",
   "execution_count": 131,
   "metadata": {},
   "outputs": [
    {
     "data": {
      "text/html": [
       "3.32902688484188"
      ],
      "text/latex": [
       "3.32902688484188"
      ],
      "text/markdown": [
       "3.32902688484188"
      ],
      "text/plain": [
       "[1] 3.329027"
      ]
     },
     "metadata": {},
     "output_type": "display_data"
    },
    {
     "data": {
      "text/html": [
       "3.05834775655091"
      ],
      "text/latex": [
       "3.05834775655091"
      ],
      "text/markdown": [
       "3.05834775655091"
      ],
      "text/plain": [
       "[1] 3.058348"
      ]
     },
     "metadata": {},
     "output_type": "display_data"
    },
    {
     "data": {
      "text/html": [
       "3.65733345485478"
      ],
      "text/latex": [
       "3.65733345485478"
      ],
      "text/markdown": [
       "3.65733345485478"
      ],
      "text/plain": [
       "[1] 3.657333"
      ]
     },
     "metadata": {},
     "output_type": "display_data"
    }
   ],
   "source": [
    "# Populazioaren altueraren desbideratze estandarraren estimatutako balioa \n",
    "sqrt(11.08242)\n",
    "# KTaren behe muga \n",
    "sqrt(9.353491)\n",
    "# KTaren goi mugu\n",
    "sqrt(13.376088)"
   ]
  },
  {
   "cell_type": "markdown",
   "metadata": {},
   "source": [
    "## Bi populazio askeren bariantzen zatidura\n",
    "\n",
    "### Gizonezkoen eta emakumezkoen altueren bariantzen zatiduraren KTa"
   ]
  },
  {
   "cell_type": "code",
   "execution_count": 132,
   "metadata": {},
   "outputs": [
    {
     "data": {
      "text/plain": [
       "\n",
       "Results of Hypothesis Test\n",
       "--------------------------\n",
       "\n",
       "Null Hypothesis:                 ratio of variances = 1\n",
       "\n",
       "Alternative Hypothesis:          True ratio of variances is not equal to 1\n",
       "\n",
       "Test Name:                       F test to compare two variances\n",
       "\n",
       "Estimated Parameter(s):          ratio of variances = 0.8843092\n",
       "\n",
       "Data:                            emakumezkoa and gizonezkoa\n",
       "\n",
       "Test Statistic:                  F = 0.8843092\n",
       "\n",
       "Test Statistic Parameters:       num df   = 81\n",
       "                                 denom df = 88\n",
       "\n",
       "P-value:                         0.5759727\n",
       "\n",
       "90% Confidence Interval:         LCL = 0.6177924\n",
       "                                 UCL = 1.2697464\n"
      ]
     },
     "metadata": {},
     "output_type": "display_data"
    }
   ],
   "source": [
    "emakumezkoa <-Datuak$ALTUERA[Datuak$SEXUA==\"emakumezkoa\"]#c(103,94,110,87,98)       \n",
    "gizonezkoa  <-Datuak$ALTUERA[Datuak$SEXUA==\"gizonezkoa\"]#c(97, 82,123,92,175,88,118)\n",
    "var.test(emakumezkoa,gizonezkoa,conf.level=0.9)"
   ]
  },
  {
   "cell_type": "markdown",
   "metadata": {},
   "source": [
    "#### Azalpena:\n",
    "Populazioaren emakumeen ta gizonezkoen altueren bariantzen zatidurarako estimatutako balioa 0.8843092 da eta %95eko KTa (0.6177924, 1.2697464) da. Hortaz, ezin dugu ondorioztatu emakumezkoen eta gizonezkoen altueren bariantzak ezberdinak direnik.\n",
    "\n",
    "#### Oharra: Desbideratze estandarraren konfiantza-mailak egiteko\n",
    "Bariantzaren ordez, desbideratze estandarraren balioak lortzeko sqrt funtzioa erabili ahal da."
   ]
  },
  {
   "cell_type": "markdown",
   "metadata": {},
   "source": [
    "## Bi populazio askeren batezbestekoen diferentzia\n",
    "\n",
    "### Gizonezkoen eta emakumezkoen altueren batezbestekoaren diferentziaren KTa"
   ]
  },
  {
   "cell_type": "code",
   "execution_count": 133,
   "metadata": {},
   "outputs": [
    {
     "data": {
      "text/plain": [
       "\n",
       "Results of Hypothesis Test\n",
       "--------------------------\n",
       "\n",
       "Null Hypothesis:                 difference in means = 0\n",
       "\n",
       "Alternative Hypothesis:          True difference in means is not equal to 0\n",
       "\n",
       "Test Name:                       Welch Two Sample t-test\n",
       "\n",
       "Estimated Parameter(s):          mean of x = 165.7805\n",
       "                                 mean of y = 167.7640\n",
       "\n",
       "Data:                            emakumezkoa and gizonezkoa\n",
       "\n",
       "Test Statistic:                  t = -4.0768\n",
       "\n",
       "Test Statistic Parameter:        df = 168.926\n",
       "\n",
       "P-value:                         7.01739e-05\n",
       "\n",
       "90% Confidence Interval:         LCL = -2.788270\n",
       "                                 UCL = -1.178844\n"
      ]
     },
     "metadata": {},
     "output_type": "display_data"
    }
   ],
   "source": [
    "# aurreko atalean ikusi dugu bariantzak ezberdinak ez direla ezin dugula ondorioztatu. \n",
    "# Horregatik, var.equal=FALSE jartzen dugu. Aurreko ataleko ondorioa kontrakoa balitz\n",
    "#   (bariantzak ezberdinak izatea), orduan var.equal=TRUE\n",
    "t.test(emakumezkoa,gizonezkoa,conf.level=0.9,var.equal=FALSE)"
   ]
  },
  {
   "cell_type": "markdown",
   "metadata": {},
   "source": [
    "#### Azalpena:\n",
    "Emakumezkoen batezbesteko altueraren estimazioa: 165.7805\n",
    "\n",
    "Gizonezkoen batezbesteko altueraren estimazioa: 165.7805\n",
    "\n",
    "Kenketaren KTa: (-2.788270,-1.178844)\n",
    "\n",
    "#### Ondorioa:\n",
    "Lortutako KTaren balioak negatiboak dira, orduan %90eko konfiantza-mailaz mu1-mu2 (hau da, \n",
    "emakumezkoen batezbesteko altuera ken gizonezkoen bateztebesteko altuera)\n",
    "negatiboa dela baieztatzen dugu eta, orduan, emakumezkoen batezbesteko altuera gizonezkoen bateztebesteko altuera baino txikiagoa dela ondorioztatzen dugu."
   ]
  },
  {
   "cell_type": "markdown",
   "metadata": {},
   "source": [
    "## Binakako datuen KTa\n",
    "\n",
    "### Aitaren eta amaren altueren arteko diferentzia"
   ]
  },
  {
   "cell_type": "code",
   "execution_count": 134,
   "metadata": {},
   "outputs": [
    {
     "data": {
      "text/plain": [
       "\n",
       "Results of Hypothesis Test\n",
       "--------------------------\n",
       "\n",
       "Null Hypothesis:                 difference in means = 0\n",
       "\n",
       "Alternative Hypothesis:          True difference in means is not equal to 0\n",
       "\n",
       "Test Name:                       Welch Two Sample t-test\n",
       "\n",
       "Estimated Parameter(s):          mean of x = 172.1871\n",
       "                                 mean of y = 160.8830\n",
       "\n",
       "Data:                            Datuak$AITARENA and Datuak$AMARENA\n",
       "\n",
       "Test Statistic:                  t = 23.91367\n",
       "\n",
       "Test Statistic Parameter:        df = 316.3426\n",
       "\n",
       "P-value:                         6.750131e-73\n",
       "\n",
       "98% Confidence Interval:         LCL = 10.19882\n",
       "                                 UCL = 12.40937\n"
      ]
     },
     "metadata": {},
     "output_type": "display_data"
    }
   ],
   "source": [
    "t.test(Datuak$AITARENA,Datuak$AMARENA, conf.level=0.98, var.equal=FALSE)"
   ]
  },
  {
   "cell_type": "markdown",
   "metadata": {},
   "source": [
    "#### Azalpena:\n",
    "Emakumezkoen batezbesteko altueraren estimazioa: 172.1871\n",
    "\n",
    "Gizonezkoen batezbesteko altueraren estimazioa: 160.8830\n",
    "\n",
    "Kenketaren KTa: (10.19882,12.40937)\n",
    "\n",
    "#### Ondorioa:\n",
    "Lortutako KTaren balioak positiboak dira, orduan %98eko konfiantza-mailaz muD (hau da, \n",
    "aiten batezbesteko altuera ken amen bateztebesteko altuera)\n",
    "positiboa dela baieztatzen dugu eta, orduan, aiten batezbesteko altuera amen bateztebesteko altuera baino handiagoa dela ondorioztatzen dugu."
   ]
  },
  {
   "cell_type": "markdown",
   "metadata": {},
   "source": [
    "## Populazio binomial baten proportzioa\n",
    "\n",
    "### Bizkaikoen proportzioaren KTa"
   ]
  },
  {
   "cell_type": "code",
   "execution_count": 135,
   "metadata": {},
   "outputs": [
    {
     "data": {
      "text/plain": [
       "\n",
       "Results of Hypothesis Test\n",
       "--------------------------\n",
       "\n",
       "Null Hypothesis:                 p = 0.5\n",
       "\n",
       "Alternative Hypothesis:          True p is not equal to 0.5\n",
       "\n",
       "Test Name:                       1-sample proportions test with continuity correction\n",
       "\n",
       "Estimated Parameter(s):          p = 0.2280702\n",
       "\n",
       "Data:                            kopuru.bizkaia out of guztiak, null probability 0.5\n",
       "\n",
       "Test Statistic:                  X-squared = 49.49708\n",
       "\n",
       "Test Statistic Parameter:        df = 1\n",
       "\n",
       "P-value:                         1.986676e-12\n",
       "\n",
       "95% Confidence Interval:         LCL = 0.1689802\n",
       "                                 UCL = 0.2996563\n"
      ]
     },
     "metadata": {},
     "output_type": "display_data"
    }
   ],
   "source": [
    "# zenbat bizkaitar dauden zenbatzen dugu\n",
    "Datuak.bizkaia <- subset(Datuak,JAIOTERRIA==1)\n",
    "kopuru.bizkaia <- length(Datuak.bizkaia$ALTUERA)\n",
    "#prop.bizkaia\n",
    "guztiak <- length(Datuak$ALTUERA)\n",
    "#guztiak\n",
    "prop.test(kopuru.bizkaia,guztiak,conf.level=0.95)"
   ]
  },
  {
   "cell_type": "markdown",
   "metadata": {},
   "source": [
    "#### Azalpena:\n",
    "Bizkaikoen proportzioaren estimazioa: 0.2280702\n",
    "\n",
    "Proportzioaren KTa: (0.1689802,0.2996563)\n",
    "\n"
   ]
  },
  {
   "cell_type": "markdown",
   "metadata": {},
   "source": [
    "## Bi populazio binomialen proportzioen konparaketa\n",
    "\n",
    "### Emakumeen eta gizonen bizkaitarren proportzioen diferentziaren KTa"
   ]
  },
  {
   "cell_type": "code",
   "execution_count": 136,
   "metadata": {},
   "outputs": [
    {
     "data": {
      "text/plain": [
       "\n",
       "Results of Hypothesis Test\n",
       "--------------------------\n",
       "\n",
       "Alternative Hypothesis:          two.sided\n",
       "\n",
       "Test Name:                       2-sample test for equality of proportions with continuity correction\n",
       "\n",
       "Estimated Parameter(s):          prop 1 = 0.2560976\n",
       "                                 prop 2 = 0.2022472\n",
       "\n",
       "Data:                            c(n_emaku_biz, n_gizon_biz) out of c(n_emaku, n_gizon)\n",
       "\n",
       "Test Statistic:                  X-squared = 0.4303719\n",
       "\n",
       "Test Statistic Parameter:        df = 1\n",
       "\n",
       "P-value:                         0.5118065\n",
       "\n",
       "95% Confidence Interval:         LCL = -0.08391627\n",
       "                                 UCL =  0.19161701\n"
      ]
     },
     "metadata": {},
     "output_type": "display_data"
    }
   ],
   "source": [
    "# zenbat bizkaitar diren emakume eta gizon zenbatzen dugu\n",
    "Datuak.bizkaia <- subset(Datuak,JAIOTERRIA==1)\n",
    "emakume.bizkaia <- subset(Datuak.bizkaia,SEXUA==\"emakumezkoa\")\n",
    "gizona.bizkaia <- subset(Datuak.bizkaia,SEXUA==\"gizonezkoa\")\n",
    "n_emaku_biz <- length(emakume.bizkaia$ALTUERA)\n",
    "n_gizon_biz <- length(gizona.bizkaia$ALTUERA)\n",
    "# zenbat emakume eta gizon zenbatzen dugu\n",
    "Datuak.emaku <- subset(Datuak,SEXUA==\"emakumezkoa\")\n",
    "n_emaku <- length(Datuak.emaku$ALTUERA)\n",
    "Datuak.gizon <- subset(Datuak,SEXUA==\"gizonezkoa\")\n",
    "n_gizon <- length(Datuak.gizon$ALTUERA)\n",
    "# testa egiten dugu\n",
    "prop.test(c(n_emaku_biz,n_gizon_biz),c(n_emaku,n_gizon),conf.level=0.95)\n",
    "#guztiak\n",
    "#binom.test(kopuru.bizkaia,guztiak,conf.level=0.95)"
   ]
  },
  {
   "cell_type": "markdown",
   "metadata": {},
   "source": [
    "#### Azalpena:\n",
    "Emakumeen artean bizkaikoen proportzioaren estimazioa: 0.2560976\n",
    "\n",
    "Gizonen artean bizkaikoen proportzioaren estimazioa: 0.2022472\n",
    "\n",
    "Proportzioen diferentziaren KTa: (-0.08391627,0.19161701)\n",
    "\n",
    "#### Ondorioa:\n",
    "Zero KTaren barruan dagoenez, ezin dugu ondorioztatu bizkaitarren proportzioa ezberdina den gizonezkoen eta emakumeen artean\n"
   ]
  },
  {
   "cell_type": "code",
   "execution_count": null,
   "metadata": {},
   "outputs": [],
   "source": []
  }
 ],
 "metadata": {
  "kernelspec": {
   "display_name": "R",
   "language": "R",
   "name": "ir"
  },
  "language_info": {
   "codemirror_mode": "r",
   "file_extension": ".r",
   "mimetype": "text/x-r-source",
   "name": "R",
   "pygments_lexer": "r",
   "version": "3.4.4"
  }
 },
 "nbformat": 4,
 "nbformat_minor": 2
}
