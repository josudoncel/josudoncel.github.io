{
 "cells": [
  {
   "cell_type": "markdown",
   "metadata": {},
   "source": [
    "# INFERENCIA ESTADISTICA: Tercera practica\n",
    "\n",
    "## Contrastes de hipótesis: Una población\n",
    "\n",
    "Esta práctica está relacionada con la práctica anterior (en la que calculamos Intervalos de Confianza y estimaciones). Precisamente, usaremos los mismos comandos y veremos como los tenemos que modificar para realizar contrastes de hipótesis."
   ]
  },
  {
   "cell_type": "code",
   "execution_count": 3,
   "metadata": {
    "scrolled": true
   },
   "outputs": [],
   "source": [
    "# leemos el fichero alturas.txt\n",
    "\n",
    "Datos <-read.table(file=\"alturas.txt\", header=TRUE, dec=\",\", sep=\"\\t\")\n",
    "\n",
    "# Para hacer el contraste de varianzas (que haremos en esta práctica), necesitamos instalar y cargar un paquete \n",
    "# install.packages(\"EnvStats\")\n",
    "# library(EnvStats)\n"
   ]
  },
  {
   "cell_type": "markdown",
   "metadata": {},
   "source": [
    "### Peso medio de la población \n",
    "\n",
    "#### Planteamos el siguiente contraste de hipotesis bilateral \n",
    " $$H_0:\\ \\mu = 80$$\n",
    "\n",
    " $$H_1:\\ \\mu \\neq 80$$\n",
    "\n",
    "Consideramos un nivel de significación del 1%"
   ]
  },
  {
   "cell_type": "code",
   "execution_count": 5,
   "metadata": {},
   "outputs": [
    {
     "data": {
      "text/plain": [
       "\n",
       "\tOne Sample t-test\n",
       "\n",
       "data:  Datos$PESO\n",
       "t = -5.443, df = 170, p-value = 1.805e-07\n",
       "alternative hypothesis: true mean is not equal to 80\n",
       "99 percent confidence interval:\n",
       " 68.97529 76.11243\n",
       "sample estimates:\n",
       "mean of x \n",
       " 72.54386 \n"
      ]
     },
     "metadata": {},
     "output_type": "display_data"
    }
   ],
   "source": [
    "t.test(Datos$PESO,alternative='two.sided',mu=80)"
   ]
  },
  {
   "cell_type": "markdown",
   "metadata": {},
   "source": [
    "#### Explicación:\n",
    "El estadístico obtenido es -5.44299, los grados de libertad 170 y el p-valor 1.805397e-07 (es decir, 1.8 por 10 elevado a -7. Con un nivel de significacion del 1%, concluimos que el peso medio de la poblacion no es 80 (ya que el p-valor es menor que 0.01).\n",
    "\n",
    "#### Observaciones: \n",
    "* Si en vez de contrastar el valor 80, se quiere contrastar el valor 60, en vez de mu=80 se debe poner mu=60.\n",
    "* Para hacer el contraste unilateral a derecha, hay que poner alternative=\"greater\" \n",
    "* Para hacer el contraste unilateral a izquierda, hay que poner alternative=\"less\" \n",
    "* Observese que, a diferencia de la práctica anterior, no aparece el argumento conf.level en el comando. ¿Por que?"
   ]
  },
  {
   "cell_type": "markdown",
   "metadata": {},
   "source": [
    "### Contraste de hipotesis de la varianza de las alturas de la poblacion\n",
    " $$H_0:\\ \\sigma^2=16$$\n",
    "\n",
    "  $$H_1: \\ \\sigma^2\\neq 16$$\n",
    "  \n",
    "Consideramos un nivel de significación del 5%"
   ]
  },
  {
   "cell_type": "code",
   "execution_count": 4,
   "metadata": {},
   "outputs": [
    {
     "data": {
      "text/plain": [
       "\n",
       "\tChi-Squared Test on Variance\n",
       "\n",
       "data:  Datos$ALTURA\n",
       "Chi-Squared = 117.75, df = 170, p-value = 0.001614\n",
       "alternative hypothesis: true variance is not equal to 16\n",
       "95 percent confidence interval:\n",
       "  9.057947 13.874455\n",
       "sample estimates:\n",
       "variance \n",
       "11.08242 \n"
      ]
     },
     "metadata": {},
     "output_type": "display_data"
    }
   ],
   "source": [
    "varTest(Datos$ALTURA,alternative  = \"two.sided\",sigma=16)"
   ]
  },
  {
   "cell_type": "markdown",
   "metadata": {},
   "source": [
    "#### Explicacion:\n",
    "El valor del estadistico obtenido es 117.7507, los grados de libertad de la $\\chi^2$ es 170 y el p-valor 0.001614 da. Con un nivel de significación del 5%, se concluye que la varianza de las altueras de la poblacion no es 16 (ya que el p-valor es menor que 0.05). \n",
    "\n",
    "#### Observaciones: \n",
    "* Si en vez del valor 16, se quiere contrastar el valor 9, en vez de sigma=16 hay que poner sigma=9.\n",
    "* Para hacer el contraste unilateral a derecha, hay que poner alternative=\"greater\" \n",
    "* Para hacer el contraste unilateral a izquierda, hay que poner alternative=\"less\" \n",
    "* Observese que, a diferencia de la práctica anterior, no aparece el argumento conf.level en el comando. ¿Por que?\n"
   ]
  },
  {
   "cell_type": "markdown",
   "metadata": {},
   "source": [
    "## Contraste de hipotesis de la proporción de los de Alava\n",
    "$$H_0:\\ p\\leq 0.15$$\n",
    "\n",
    "$$H_1:\\ p>0.15$$\n",
    "\n",
    "Consideramos un nivel de significación del 5%."
   ]
  },
  {
   "cell_type": "code",
   "execution_count": 5,
   "metadata": {},
   "outputs": [
    {
     "data": {
      "text/plain": [
       "\n",
       "\t1-sample proportions test with continuity correction\n",
       "\n",
       "data:  cuantos.alava out of total, null probability 0.15\n",
       "X-squared = 7.5736, df = 1, p-value = 0.002962\n",
       "alternative hypothesis: true p is greater than 0.15\n",
       "95 percent confidence interval:\n",
       " 0.1771247 1.0000000\n",
       "sample estimates:\n",
       "        p \n",
       "0.2280702 \n"
      ]
     },
     "metadata": {},
     "output_type": "display_data"
    }
   ],
   "source": [
    "# contamos cuantos hay de Alava\n",
    "Datos.alava <- subset(Datos,PROVINCIA==1)\n",
    "cuantos.alava <- length(Datos.alava$ALTURA)\n",
    "#cuantos.alava\n",
    "total <- length(Datos$ALTURA)\n",
    "#total\n",
    "prop.test(cuantos.alava,total,p=0.15,alternative=\"greater\")"
   ]
  },
  {
   "cell_type": "markdown",
   "metadata": {},
   "source": [
    "#### Explicacion:\n",
    "El valor del estadistico de contraste es 7.573558 y el p-valor 0.002961537. La conclusion es que, con un nivel de significación del 1%, la proporción de alaveses es superior al 0.15 (ya que el p-valor es menor que 0.05).\n",
    " \n",
    "#### Observaciones: \n",
    "* Si en vez del valor 0.15, se quiere contrastar el valor 0.4, en vez de p=0.15 hay que poner p=0.4.\n",
    "* Para hacer el contraste unilateral a izquierda, hay que poner alternative=\"less\" \n",
    "* Para hacer el contraste bilateral, hay que poner alternative=\"two.sided\" \n",
    "* Observese que, a diferencia de la práctica anterior, no aparece el argumento conf.level en el comando. ¿Por que?"
   ]
  },
  {
   "cell_type": "code",
   "execution_count": null,
   "metadata": {},
   "outputs": [],
   "source": []
  }
 ],
 "metadata": {
  "kernelspec": {
   "display_name": "R",
   "language": "R",
   "name": "ir"
  },
  "language_info": {
   "codemirror_mode": "r",
   "file_extension": ".r",
   "mimetype": "text/x-r-source",
   "name": "R",
   "pygments_lexer": "r",
   "version": "3.6.3"
  }
 },
 "nbformat": 4,
 "nbformat_minor": 2
}
