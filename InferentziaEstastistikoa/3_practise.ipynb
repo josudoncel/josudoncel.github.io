{
 "cells": [
  {
   "cell_type": "markdown",
   "metadata": {},
   "source": [
    "# STATISTICAL INFERENCE: THIRD SESSION\n",
    "\n",
    "## Hypothesis Testing: One population\n",
    "\n",
    "This computer practise is related to the previous one, in which we saw estimations and Confidence Intervals. Precisely, we will use the same commands and see how we modify them so as to perform hypothesis testing."
   ]
  },
  {
   "cell_type": "code",
   "execution_count": 8,
   "metadata": {
    "scrolled": true
   },
   "outputs": [],
   "source": [
    "# read heights.txt\n",
    "\n",
    "Data <-read.table(file=\"heights.txt\", header=TRUE, dec=\",\", sep=\"\\t\")\n",
    "\n",
    "# For the test of the variances of this session, we will need to install and load the following packet:\n",
    "# install.packages(\"EnvStats\")\n",
    "# library(EnvStats)\n"
   ]
  },
  {
   "cell_type": "markdown",
   "metadata": {},
   "source": [
    "### Population mean weight \n",
    "\n",
    "#### We formulate the following hypothesis test:\n",
    "\n",
    " $$H_0:\\ \\mu = 80$$\n",
    "\n",
    " $$H_1:\\ \\mu \\neq 80$$\n",
    "\n",
    "With a significance level of 1%"
   ]
  },
  {
   "cell_type": "code",
   "execution_count": 2,
   "metadata": {},
   "outputs": [
    {
     "data": {
      "text/plain": [
       "\n",
       "\tOne Sample t-test\n",
       "\n",
       "data:  Data$WEIGHT\n",
       "t = -5.443, df = 170, p-value = 1.805e-07\n",
       "alternative hypothesis: true mean is not equal to 80\n",
       "95 percent confidence interval:\n",
       " 69.83973 75.24799\n",
       "sample estimates:\n",
       "mean of x \n",
       " 72.54386 \n"
      ]
     },
     "metadata": {},
     "output_type": "display_data"
    }
   ],
   "source": [
    "t.test(Data$WEIGHT,alternative='two.sided',mu=80)"
   ]
  },
  {
   "cell_type": "markdown",
   "metadata": {},
   "source": [
    "#### Explanation:\n",
    "\n",
    "The obtained statistic is -5.44299, the degrees of freedom is 170 and the p-valu 1.805397e-07 (that is, 1.8 times 10 to the power of -7. With a significance level of 1%, we conclude that the mean weight is not 80 (since the p-value is smaller than 0.01).\n",
    "\n",
    "#### Observations: \n",
    "\n",
    "* If instead of 80, we aim to check the value 60, we must modify mu=80 by mu=60.\n",
    "* For the unilateral right test, we must put alternative=\"greater\" \n",
    "* For the unilateral left test, we must put alternative=\"less\" \n",
    "* Remark that, unlike in the previous session, the argument conf.level does not appear. Why?"
   ]
  },
  {
   "cell_type": "markdown",
   "metadata": {},
   "source": [
    "### Hypothesis test of the variance of the heights\n",
    "\n",
    " $$H_0:\\ \\sigma^2=16$$\n",
    "\n",
    "  $$H_1: \\ \\sigma^2\\neq 16$$\n",
    "  \n",
    "We consider a significance level of 5%"
   ]
  },
  {
   "cell_type": "code",
   "execution_count": 7,
   "metadata": {},
   "outputs": [
    {
     "data": {
      "text/plain": [
       "\n",
       "Results of Hypothesis Test\n",
       "--------------------------\n",
       "\n",
       "Null Hypothesis:                 variance = 16\n",
       "\n",
       "Alternative Hypothesis:          True variance is not equal to 16\n",
       "\n",
       "Test Name:                       Chi-Squared Test on Variance\n",
       "\n",
       "Estimated Parameter(s):          variance = 11.08242\n",
       "\n",
       "Data:                            Data$HEIGHT\n",
       "\n",
       "Test Statistic:                  Chi-Squared = 117.7507\n",
       "\n",
       "Test Statistic Parameter:        df = 170\n",
       "\n",
       "P-value:                         0.001614072\n",
       "\n",
       "95% Confidence Interval:         LCL =  9.057947\n",
       "                                 UCL = 13.874455\n"
      ]
     },
     "metadata": {},
     "output_type": "display_data"
    }
   ],
   "source": [
    "varTest(Data$HEIGHT,alternative  = \"two.sided\",sigma=16)"
   ]
  },
  {
   "cell_type": "markdown",
   "metadata": {},
   "source": [
    "#### Explanation:\n",
    "\n",
    "The obtained statistic is 117.7507, the degrees of freedom of the $\\chi^2$ is 170 and the p-value is 0.001614. With a significance level of 5%, we conclude that the variance of the heights is not 16 (since the p-value is smaller than 0.05). \n",
    "\n",
    "#### Observations:\n",
    "\n",
    "* If instead of 16, we aim to test the value 9, we must replace sigma=16 by sigma=9.\n",
    "* For the unilateral right test, we must put alternative=\"greater\" \n",
    "* For the unilateral left test, we must put alternative=\"less\" \n",
    "* Remark that, unlike in the previous session, the argument conf.level does not appear. Why?"
   ]
  },
  {
   "cell_type": "markdown",
   "metadata": {},
   "source": [
    "## Hypothesis test of the proportion of those from Alava\n",
    "\n",
    "$$H_0:\\ p\\leq 0.15$$\n",
    "\n",
    "$$H_1:\\ p>0.15$$\n",
    "\n",
    "We consider a significance level of 5%."
   ]
  },
  {
   "cell_type": "code",
   "execution_count": 9,
   "metadata": {},
   "outputs": [
    {
     "data": {
      "text/plain": [
       "\n",
       "\t1-sample proportions test with continuity correction\n",
       "\n",
       "data:  amount.alava out of total, null probability 0.15\n",
       "X-squared = 7.5736, df = 1, p-value = 0.002962\n",
       "alternative hypothesis: true p is greater than 0.15\n",
       "95 percent confidence interval:\n",
       " 0.1771247 1.0000000\n",
       "sample estimates:\n",
       "        p \n",
       "0.2280702 \n"
      ]
     },
     "metadata": {},
     "output_type": "display_data"
    }
   ],
   "source": [
    "# we count how many are from Alava\n",
    "Data.alava <- subset(Data,BIRTHPLACE==1)\n",
    "amount.alava <- length(Data.alava$HEIGHT)\n",
    "#amount.alava\n",
    "total <- length(Data$HEIGHT)\n",
    "#total\n",
    "prop.test(amount.alava,total,p=0.15,alternative=\"greater\")"
   ]
  },
  {
   "cell_type": "markdown",
   "metadata": {},
   "source": [
    "#### Explanation:\n",
    "\n",
    "The value of the estatistic is 7.573558 and of the p-value 0.002961537. The conclusions is that, with a significance level of 5%, the proportion of population from Alava is larger than 0.15 (since the p-value is smaller than 0.05).\n",
    " \n",
    "#### Observations:\n",
    "\n",
    "* If instead of the value 0.15, we aim to test the value 0.4, we replace p=0.15 by p=0.4.\n",
    "* For the bilateral test, we must put alternative=\"two.sided\"\n",
    "* For the unilateral left test, we must put alternative=\"less\" \n",
    "* Remark that, unlike in the previous session, the argument conf.level does not appear. Why?"
   ]
  },
  {
   "cell_type": "code",
   "execution_count": null,
   "metadata": {},
   "outputs": [],
   "source": []
  }
 ],
 "metadata": {
  "kernelspec": {
   "display_name": "R",
   "language": "R",
   "name": "ir"
  },
  "language_info": {
   "codemirror_mode": "r",
   "file_extension": ".r",
   "mimetype": "text/x-r-source",
   "name": "R",
   "pygments_lexer": "r",
   "version": "4.1.2"
  }
 },
 "nbformat": 4,
 "nbformat_minor": 2
}
