{
 "cells": [
  {
   "cell_type": "markdown",
   "metadata": {},
   "source": [
    "# INFERENTZIA ESTATISTIKOA: Hirugarren praktika\n",
    "\n",
    "## Hipotesi kontrasteak: Populazioa bakarra\n",
    "\n",
    "Aurreko praktikarekin (estimazioa eta KTak) harreman handiko praktika da hau. Izan ere, praktika horretan erabili genituen komandoak erabiliko ditugu eta ikusiko dugu nola aldatu behar diren hipotesi kontrasteak burutzeko.\n"
   ]
  },
  {
   "cell_type": "code",
   "execution_count": 5,
   "metadata": {
    "scrolled": true
   },
   "outputs": [],
   "source": [
    "# txt datuak irakurri\n",
    "\n",
    "Datuak <-read.table(file=\"altuerak.txt\", header=TRUE, dec=\",\", sep=\"\\t\")\n",
    "\n",
    "# Hurrengo paketea instalatu eta kargatu behar duzue \n",
    "# install.packages(\"EnvStats\")\n",
    "# library(EnvStats)\n"
   ]
  },
  {
   "cell_type": "markdown",
   "metadata": {},
   "source": [
    "## Populazioaren pisuaren batezbestekoa. \n",
    "\n",
    "### Hurrengo aldebakarreko HK planteatzen dugu\n",
    "* $H_0:\\ \\mu = 80$\n",
    "\n",
    "  $H_1:\\ \\mu \\neq 80$"
   ]
  },
  {
   "cell_type": "code",
   "execution_count": 6,
   "metadata": {},
   "outputs": [
    {
     "data": {
      "text/plain": [
       "\n",
       "\tOne Sample t-test\n",
       "\n",
       "data:  Datuak$PISUA\n",
       "t = -5.443, df = 170, p-value = 1.805e-07\n",
       "alternative hypothesis: true mean is not equal to 80\n",
       "95 percent confidence interval:\n",
       " 69.83973 75.24799\n",
       "sample estimates:\n",
       "mean of x \n",
       " 72.54386 \n"
      ]
     },
     "metadata": {},
     "output_type": "display_data"
    }
   ],
   "source": [
    "t.test(Datuak$PISUA,alternative='two.sided',mu=80,conf.level=.95)"
   ]
  },
  {
   "cell_type": "markdown",
   "metadata": {},
   "source": [
    "#### Azalpena:\n",
    "Lortutako estatistikoa -5.44299 da, askatasun graduak 170 eta p-balioa 1.805397e-07 (hau da, $1.8\\cdot 10^{-7}$). %1eko adierazgarritasun mailaz, populazioaren batezbesteko pisua ez dela 80 ondorioztatzen dugu.\n",
    "\n",
    "#### Oharrak: \n",
    "* 80 balioarekin kontrastatu ordez, 60 balioarekin kontrastatzeko, mu=80 jarri ordez mu=60 jarri behar da.\n",
    "* Aldebateko eskuinetiko kontrastea egiteko, alternative=\"greater\" jarri behar da ($\\mu>80$ delako $H_1$)\n",
    "* Aldebateko ezkerretiko kontrastea egiteko, alternative=\"less\" jarri behar da ($\\mu<80$ delako $H_1$)\n",
    "* Beste adierazgarritasun mailarekin HK egiteko, conf.level aldatu behar da."
   ]
  },
  {
   "cell_type": "markdown",
   "metadata": {},
   "source": [
    "### Populazioaren altueraren bariantzaren HK \n",
    "* $H_0:\\ \\sigma^2=16$\n",
    "\n",
    "  $H_1: \\ \\sigma^2\\neq 16$"
   ]
  },
  {
   "cell_type": "code",
   "execution_count": 7,
   "metadata": {},
   "outputs": [
    {
     "ename": "ERROR",
     "evalue": "Error in varTest(Datuak$ALTUERA, alternative = \"two.sided\", sigma = 16, : could not find function \"varTest\"\n",
     "output_type": "error",
     "traceback": [
      "Error in varTest(Datuak$ALTUERA, alternative = \"two.sided\", sigma = 16, : could not find function \"varTest\"\nTraceback:\n"
     ]
    }
   ],
   "source": [
    "varTest(Datuak$ALTUERA,alternative  = \"two.sided\",sigma=16,conf.level=0.95)"
   ]
  },
  {
   "cell_type": "markdown",
   "metadata": {},
   "source": [
    "#### Azalpena:\n",
    "Lortutako estatistikoaren balioa 117.7507 da, Khi karratuaren askatatasun graduak 170 eta p-balioa 0.001614 da. %5eko adierazgarritasun mailaz, altueraren bariantza ez dela 16 ondorioztatzen dugu. \n",
    "\n",
    "#### Oharrak: \n",
    "* 16 balioarekin kontrastatu ordez, 9 balioarekin kontrastatzeko, sigma=16 jarri ordez sigma=9 jarri behar da.\n",
    "* Aldebateko eskuinetiko kontrastea egiteko, alternative=\"greater\" jarri behar da ($\\sigma>16$ delako $H_1$)\n",
    "* Aldebateko ezkerretiko kontrastea egiteko, alternative=\"less\" jarri behar da ($\\sigma<16$ delako $H_1$)\n",
    "* Beste adierazgarritasun mailarekin HK egiteko, conf.level aldatu behar da."
   ]
  },
  {
   "cell_type": "markdown",
   "metadata": {},
   "source": [
    "## Bizkaikoen proportzioaren HK\n",
    "* $H_0:\\ p\\leq 0.15$\n",
    "\n",
    "  $H_1:\\ p>0.15$"
   ]
  },
  {
   "cell_type": "code",
   "execution_count": 8,
   "metadata": {},
   "outputs": [
    {
     "data": {
      "text/plain": [
       "\n",
       "\t1-sample proportions test with continuity correction\n",
       "\n",
       "data:  kopuru.bizkaia out of guztiak, null probability 0.15\n",
       "X-squared = 7.5736, df = 1, p-value = 0.002962\n",
       "alternative hypothesis: true p is greater than 0.15\n",
       "95 percent confidence interval:\n",
       " 0.1771247 1.0000000\n",
       "sample estimates:\n",
       "        p \n",
       "0.2280702 \n"
      ]
     },
     "metadata": {},
     "output_type": "display_data"
    }
   ],
   "source": [
    "# zenbat bizkaitar dauden zenbatzen dugu\n",
    "Datuak.bizkaia <- subset(Datuak,JAIOTERRIA==1)\n",
    "kopuru.bizkaia <- length(Datuak.bizkaia$ALTUERA)\n",
    "#kopuru.bizkaia\n",
    "guztiak <- length(Datuak$ALTUERA)\n",
    "#guztiak\n",
    "prop.test(kopuru.bizkaia,guztiak,p=0.15,alternative=\"greater\",conf.level=0.95)"
   ]
  },
  {
   "cell_type": "markdown",
   "metadata": {},
   "source": [
    "#### Azalpena:\n",
    "Lortutako estatistikoaren balioa 7.573558 da eta p-balioa 0.002961537. Ondorioa hauxe da: %5eko adierazgarritasun mailaz, bizkaikoen proportzioa 0.15 baino handiagoa da.\n",
    " \n",
    "#### Oharrak: \n",
    "* 0.15 balioarekin kontrastatu ordez, 0.4 balioarekin kontrastatzeko, p=0.15 jarri ordez p=0.4 jarri behar da.\n",
    "* Aldebiko ezkerretiko kontrastea egiteko, alternative=\"less\" jarri behar da ($p<16$ delako $H_1$).\n",
    "* Aldebakarreko kontrastea egiteko, alternative=\"two.sided\" jarri behar da \n",
    "* Beste adierazgarritasun mailarekin HK egiteko, conf.level aldatu behar da."
   ]
  },
  {
   "cell_type": "code",
   "execution_count": null,
   "metadata": {},
   "outputs": [],
   "source": []
  }
 ],
 "metadata": {
  "kernelspec": {
   "display_name": "R",
   "language": "R",
   "name": "ir"
  },
  "language_info": {
   "codemirror_mode": "r",
   "file_extension": ".r",
   "mimetype": "text/x-r-source",
   "name": "R",
   "pygments_lexer": "r",
   "version": "3.4.4"
  }
 },
 "nbformat": 4,
 "nbformat_minor": 2
}
