{
 "cells": [
  {
   "cell_type": "markdown",
   "metadata": {},
   "source": [
    "# INFERENTZIA ESTATISTIKOA: Hirugarren praktika\n",
    "\n",
    "## Hipotesi kontrasteak: Populazioa bakarra\n",
    "\n",
    "Aurreko praktikarekin (estimazioa eta KTak) harreman handiko praktika da hau. Izan ere, praktika horretan erabili genituen komandoak erabiliko ditugu eta ikusiko dugu nola aldatu behar diren hipotesi kontrasteak burutzeko.\n"
   ]
  },
  {
   "cell_type": "code",
   "execution_count": 2,
   "metadata": {
    "scrolled": true
   },
   "outputs": [],
   "source": [
    "# txt datuak irakurri\n",
    "\n",
    "Datuak <-read.table(file=\"altuerak.txt\", header=TRUE, dec=\",\", sep=\"\\t\")\n",
    "\n",
    "# Hurrengo paketea instalatu eta kargatu behar duzue \n",
    "# install.packages(\"EnvStats\")\n",
    "# library(EnvStats)\n"
   ]
  },
  {
   "cell_type": "markdown",
   "metadata": {},
   "source": [
    "### Populazioaren pisuaren batezbestekoa. \n",
    "\n",
    "### Hurrengo aldebakarreko HK planteatzen dugu\n",
    "* $H_0:\\ \\mu = 80$\n",
    "\n",
    "  $H_1:\\ \\mu \\neq 80$"
   ]
  },
  {
   "cell_type": "code",
   "execution_count": 3,
   "metadata": {},
   "outputs": [
    {
     "data": {
      "text/plain": [
       "\n",
       "Results of Hypothesis Test\n",
       "--------------------------\n",
       "\n",
       "Null Hypothesis:                 mean = 80\n",
       "\n",
       "Alternative Hypothesis:          True mean is not equal to 80\n",
       "\n",
       "Test Name:                       One Sample t-test\n",
       "\n",
       "Estimated Parameter(s):          mean of x = 72.54386\n",
       "\n",
       "Data:                            Datuak$PISUA\n",
       "\n",
       "Test Statistic:                  t = -5.44299\n",
       "\n",
       "Test Statistic Parameter:        df = 170\n",
       "\n",
       "P-value:                         1.805397e-07\n",
       "\n",
       "99% Confidence Interval:         LCL = 68.97529\n",
       "                                 UCL = 76.11243\n"
      ]
     },
     "metadata": {},
     "output_type": "display_data"
    }
   ],
   "source": [
    "t.test(Datuak$PISUA,alternative='two.sided',mu=80,conf.level=.99)"
   ]
  },
  {
   "cell_type": "markdown",
   "metadata": {},
   "source": [
    "#### Azalpena:\n",
    "Lortutako estatistikoa -5.44299 da, askatasun graduak 170 eta p-balioa 1.805397e-07 (hau da, $1.8\\cdot 10^{-7}$). %1eko adierazgarritasun mailaz, populazioaren batezbesteko pisua ez dela 80 ondorioztatzen dugu.\n",
    "\n",
    "#### Oharrak: \n",
    "* 80 balioarekin kontrastatu ordez, 60 balioarekin kontrastatzeko, mu=80 jarri ordez mu=60 jarri behar da.\n",
    "* Aldebateko eskuinetiko kontrastea egiteko, alternative=\"greater\" jarri behar da ($\\mu>80$ delako $H_1$)\n",
    "* Aldebateko ezkerretiko kontrastea egiteko, alternative=\"less\" jarri behar da ($\\mu<80$ delako $H_1$)\n",
    "* Beste adierazgarritasun mailarekin HK egiteko, conf.level aldatu behar da."
   ]
  },
  {
   "cell_type": "markdown",
   "metadata": {},
   "source": [
    "### Populazioaren altueraren bariantzaren HK \n",
    "* $H_0:\\ \\sigma^2=16$\n",
    "\n",
    "  $H_1: \\ \\sigma^2\\neq 16$"
   ]
  },
  {
   "cell_type": "code",
   "execution_count": 4,
   "metadata": {},
   "outputs": [
    {
     "data": {
      "text/plain": [
       "\n",
       "Results of Hypothesis Test\n",
       "--------------------------\n",
       "\n",
       "Null Hypothesis:                 variance = 16\n",
       "\n",
       "Alternative Hypothesis:          True variance is not equal to 16\n",
       "\n",
       "Test Name:                       Chi-Squared Test on Variance\n",
       "\n",
       "Estimated Parameter(s):          variance = 11.08242\n",
       "\n",
       "Data:                            Datuak$ALTUERA\n",
       "\n",
       "Test Statistic:                  Chi-Squared = 117.7507\n",
       "\n",
       "Test Statistic Parameter:        df = 170\n",
       "\n",
       "P-value:                         0.001614072\n",
       "\n",
       "95% Confidence Interval:         LCL =  9.057947\n",
       "                                 UCL = 13.874455\n"
      ]
     },
     "metadata": {},
     "output_type": "display_data"
    }
   ],
   "source": [
    "varTest(Datuak$ALTUERA,alternative  = \"two.sided\",sigma=16,conf.level=0.95)"
   ]
  },
  {
   "cell_type": "markdown",
   "metadata": {},
   "source": [
    "#### Azalpena:\n",
    "Lortutako estatistikoaren balioa 117.7507 da, Khi karratuaren askatatasun graduak 170 eta p-balioa 0.001614 da. %5eko adierazgarritasun mailaz, altueraren bariantza ez dela 16 ondorioztatzen dugu. \n",
    "\n",
    "#### Oharrak: \n",
    "* 16 balioarekin kontrastatu ordez, 9 balioarekin kontrastatzeko, sigma=16 jarri ordez sigma=9 jarri behar da.\n",
    "* Aldebateko eskuinetiko kontrastea egiteko, alternative=\"greater\" jarri behar da ($\\sigma>16$ delako $H_1$)\n",
    "* Aldebateko ezkerretiko kontrastea egiteko, alternative=\"less\" jarri behar da ($\\sigma<16$ delako $H_1$)\n",
    "* Beste adierazgarritasun mailarekin HK egiteko, conf.level aldatu behar da."
   ]
  },
  {
   "cell_type": "markdown",
   "metadata": {},
   "source": [
    "## Bizkaikoen proportzioaren HK\n",
    "* $H_0:\\ p\\leq 0.15$\n",
    "\n",
    "  $H_1:\\ p>0.15$"
   ]
  },
  {
   "cell_type": "code",
   "execution_count": 8,
   "metadata": {},
   "outputs": [
    {
     "data": {
      "text/plain": [
       "\n",
       "\t1-sample proportions test with continuity correction\n",
       "\n",
       "data:  kopuru.bizkaia out of guztiak, null probability 0.15\n",
       "X-squared = 7.5736, df = 1, p-value = 0.002962\n",
       "alternative hypothesis: true p is greater than 0.15\n",
       "95 percent confidence interval:\n",
       " 0.1771247 1.0000000\n",
       "sample estimates:\n",
       "        p \n",
       "0.2280702 \n"
      ]
     },
     "metadata": {},
     "output_type": "display_data"
    }
   ],
   "source": [
    "# zenbat bizkaitar dauden zenbatzen dugu\n",
    "Datuak.bizkaia <- subset(Datuak,JAIOTERRIA==1)\n",
    "kopuru.bizkaia <- length(Datuak.bizkaia$ALTUERA)\n",
    "#kopuru.bizkaia\n",
    "guztiak <- length(Datuak$ALTUERA)\n",
    "#guztiak\n",
    "prop.test(kopuru.bizkaia,guztiak,p=0.15,alternative=\"greater\",conf.level=0.95)"
   ]
  },
  {
   "cell_type": "markdown",
   "metadata": {},
   "source": [
    "#### Azalpena:\n",
    "Lortutako estatistikoaren balioa 7.573558 da eta p-balioa 0.002961537. Ondorioa hauxe da: %5eko adierazgarritasun mailaz, bizkaikoen proportzioa 0.15 baino handiagoa da.\n",
    " \n",
    "#### Oharrak: \n",
    "* 0.15 balioarekin kontrastatu ordez, 0.4 balioarekin kontrastatzeko, p=0.15 jarri ordez p=0.4 jarri behar da.\n",
    "* Aldebiko ezkerretiko kontrastea egiteko, alternative=\"less\" jarri behar da ($p<16$ delako $H_1$).\n",
    "* Aldebakarreko kontrastea egiteko, alternative=\"two.sided\" jarri behar da \n",
    "* Beste adierazgarritasun mailarekin HK egiteko, conf.level aldatu behar da."
   ]
  },
  {
   "cell_type": "code",
   "execution_count": null,
   "metadata": {},
   "outputs": [],
   "source": []
  }
 ],
 "metadata": {
  "kernelspec": {
   "display_name": "R",
   "language": "R",
   "name": "ir"
  },
  "language_info": {
   "codemirror_mode": "r",
   "file_extension": ".r",
   "mimetype": "text/x-r-source",
   "name": "R",
   "pygments_lexer": "r",
   "version": "3.4.4"
  }
 },
 "nbformat": 4,
 "nbformat_minor": 2
}
