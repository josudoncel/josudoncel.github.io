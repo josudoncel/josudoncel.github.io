{
 "cells": [
  {
   "cell_type": "markdown",
   "metadata": {},
   "source": [
    "# INFERENCIA ESTADISTICA: Cuarta practica\n",
    "\n",
    "## Contrastes de Hipótesis: Comparación de dos poblaciones\n",
    "\n",
    "En la tercera práctica, hemos estudiado los contrastes de hipotesis de una sola población. En esta sesión, vamos a usar los mismos comandos y veremos como se tienen que modificar para realizar contrastes de hipotesis de dos poblaciones.\n"
   ]
  },
  {
   "cell_type": "code",
   "execution_count": 2,
   "metadata": {
    "scrolled": true
   },
   "outputs": [],
   "source": [
    "# leer fichero txt\n",
    "\n",
    "Datos <-read.table(file=\"alturas.txt\", header=TRUE, dec=\",\", sep=\"\\t\")\n",
    "\n",
    "# Hay que cargar (e instalar si no está instalado ya) el siguiente paquete\n",
    "# install.packages(\"EnvStats\")\n",
    "# library(EnvStats)\n"
   ]
  },
  {
   "cell_type": "markdown",
   "metadata": {},
   "source": [
    "## Cociente de varianzas de dos poblaciones independientes\n",
    "\n",
    "### Contraste de hipotesis del cociente de varianzas de las alturas de las mujeres y de los hombres\n",
    "\n",
    "Vamos a contrastar la igualdad de varianzas de las alturas de las mujeres y los hombres:\n",
    "\n",
    "$H_O:\\ \\sigma_1^2 \\geq \\sigma_2^2$\n",
    "\n",
    "$H_1:\\ \\sigma_1^2 < \\sigma_2^2$\n",
    "\n",
    "Vamos a considerar un nivel de significacion del 10%"
   ]
  },
  {
   "cell_type": "code",
   "execution_count": 9,
   "metadata": {},
   "outputs": [
    {
     "data": {
      "text/plain": [
       "\n",
       "\tF test to compare two variances\n",
       "\n",
       "data:  mujeres and hombres\n",
       "F = 0.88431, num df = 81, denom df = 88, p-value = 0.288\n",
       "alternative hypothesis: true ratio of variances is less than 1\n",
       "95 percent confidence interval:\n",
       " 0.000000 1.269746\n",
       "sample estimates:\n",
       "ratio of variances \n",
       "         0.8843092 \n"
      ]
     },
     "metadata": {},
     "output_type": "display_data"
    }
   ],
   "source": [
    "mujeres <-Datos$ALTURA[Datos$SEXO==\"mujer\"]       \n",
    "hombres  <-Datos$ALTURA[Datos$SEXO==\"hombre\"]\n",
    "var.test(mujeres,hombres,ratio=1, alternative=\"less\")"
   ]
  },
  {
   "cell_type": "markdown",
   "metadata": {},
   "source": [
    "#### Explicación:\n",
    "El estadístico del contraste de hipótesis planteado es 0.88431, el número de grados de libertad es 81 y 88 y el p-valor 0.288. Por consiguiente, no podemos rechazar que las varianzas de las alturas de los hombres y las mujeres sean distintas con un nivel de significación del $\\%5$ (ya que el p-valor es mayor que 0.1).\n",
    "\n",
    "#### Oharrak: \n",
    "* Para realizar el siguiente contraste de hipótesis \n",
    "\n",
    "$H_O:\\ \\sigma_1^2 \\geq 2 \\sigma_2^2$,\n",
    "\n",
    "$H_1:\\ \\sigma_1^2 < 2 \\sigma_2^2$\n",
    "\n",
    "en lugar de ratio=1 hay que poner ratio=2.\n",
    "* Para hacer el contraste unilateral a derecha hay que poner alternative=\"greater\"\n",
    "* Para hacer el contraste bilateral hay que poner alternative=\"two.sided\"\n",
    "* Observese que, como en la práctica anterior, no hemos usado el argumento conf.level. El motivo es el mismo."
   ]
  },
  {
   "cell_type": "code",
   "execution_count": 10,
   "metadata": {},
   "outputs": [
    {
     "data": {
      "text/plain": [
       "\n",
       "\tF test to compare two variances\n",
       "\n",
       "data:  hombres and mujeres\n",
       "F = 1.1308, num df = 88, denom df = 81, p-value = 0.288\n",
       "alternative hypothesis: true ratio of variances is greater than 1\n",
       "95 percent confidence interval:\n",
       " 0.7875588       Inf\n",
       "sample estimates:\n",
       "ratio of variances \n",
       "          1.130826 \n"
      ]
     },
     "metadata": {},
     "output_type": "display_data"
    }
   ],
   "source": [
    "# El siguiente contraste de hipótesis es el mismo que el anterior. ¿Veis el motivo?\n",
    "var.test(hombres,mujeres,ratio=1, alternative=\"greater\")"
   ]
  },
  {
   "cell_type": "markdown",
   "metadata": {},
   "source": [
    "## Comparación de medias de dos poblaciones independientes\n",
    "\n",
    "### Contraste de hipotesis de la diferencia de la altura de los hombres y las mujeres\n",
    "\n",
    "Vamos a contrastar que la media de la altura de las mujeres ($\\mu_1$) sea mayor que la media de la altura de los hombres ($\\mu_2$).\n",
    "\n",
    "$H_O:\\ \\mu_1 \\leq \\mu_2$\n",
    "\n",
    "$H_1:\\ \\mu_1 > \\mu_2^2$\n",
    "\n",
    "Vamos a considerar un nivel de confianza del 5%"
   ]
  },
  {
   "cell_type": "code",
   "execution_count": 12,
   "metadata": {},
   "outputs": [
    {
     "data": {
      "text/plain": [
       "\n",
       "\tTwo Sample t-test\n",
       "\n",
       "data:  mujeres and hombres\n",
       "t = -4.0665, df = 169, p-value = 1\n",
       "alternative hypothesis: true difference in means is greater than 0\n",
       "95 percent confidence interval:\n",
       " -2.790305       Inf\n",
       "sample estimates:\n",
       "mean of x mean of y \n",
       " 165.7805  167.7640 \n"
      ]
     },
     "metadata": {},
     "output_type": "display_data"
    }
   ],
   "source": [
    "t.test(mujeres,hombres,mu=0,alternative=\"greater\",var.equal=TRUE)"
   ]
  },
  {
   "cell_type": "markdown",
   "metadata": {},
   "source": [
    "#### Explicacion:\n",
    "\n",
    "Estimación puntual de la media de la altura de las mujeres: 165.7805\n",
    "\n",
    "Estimación puntual de la media de la altura de los hombres: 167.7640\n",
    "\n",
    "Contraste de hipótesis de la diferencia de medias: el valor del estadístico de contraste es -4.0665, los grados de libertad son 169 y el p-valor es 1. Por tanto, como el valor del p-valor es mayor que 0.05, no podemos rechazar que la media altura de las mujeres sea menor o igual que la media de la altura de los hombres.\n",
    "\n",
    "\n",
    "#### Observaciones:\n",
    "\n",
    "* Si queremos realizar el siguiente contraste\n",
    "\n",
    "$H_O:\\ \\mu_1 - \\mu_2 \\leq 40$,\n",
    "\n",
    "$H_1:\\ \\mu_1 - \\mu_2 > 40 $ \n",
    "\n",
    "en lugar de mu=0 hay que poner mu=40.\n",
    "\n",
    "* Para hacer el contraste unilateral a izquierda, hay que poner alternative=\"less\"\n",
    "* Para hacer el contraste bilateral, hay que poner alternative=\"two.sided\" \n",
    "* Observese que hemos puesto var.equal=TRUE (ya que en el apartado anterior no hemos rechazado la igualdad de medias). Hay que poner var.equal=FALSE si sabemos que las varianzas son distintas.\n",
    "* Observese que, como en la práctica anterior, no hemos usado el argumento conf.level. El motivo es el mismo."
   ]
  },
  {
   "cell_type": "code",
   "execution_count": 13,
   "metadata": {},
   "outputs": [
    {
     "data": {
      "text/plain": [
       "\n",
       "\tTwo Sample t-test\n",
       "\n",
       "data:  mujeres and hombres\n",
       "t = -4.0665, df = 169, p-value = 3.652e-05\n",
       "alternative hypothesis: true difference in means is less than 0\n",
       "95 percent confidence interval:\n",
       "      -Inf -1.176809\n",
       "sample estimates:\n",
       "mean of x mean of y \n",
       " 165.7805  167.7640 \n"
      ]
     },
     "metadata": {},
     "output_type": "display_data"
    }
   ],
   "source": [
    "# El siguiente contraste de hipótesis es el mismo que el anterior. ¿Veis el motivo?\n",
    "t.test(mujeres,hombres,mu=0,alternative=\"less\",var.equal=TRUE)"
   ]
  },
  {
   "cell_type": "markdown",
   "metadata": {},
   "source": [
    "## Contraste de hipótesis de datos pareados\n",
    "\n",
    "### Diferencia de la altura media de los padres y madres\n",
    "\n",
    "Sea D=PADRE-MADRE (es decir, la diferencia entre la altura del padre y de la madre). Vamos a contrastar que la media de la variable aleatoria D es positiva (es decir, que la media de la altura del padre sea mayor que la de la madre):\n",
    "\n",
    "$H_0:\\ \\mu_D \\leq 0 $\n",
    "\n",
    "$H_1:\\ \\mu_D > 0$\n",
    "\n",
    "Vamos a considerar un nivel del significación del 1%"
   ]
  },
  {
   "cell_type": "code",
   "execution_count": 29,
   "metadata": {},
   "outputs": [
    {
     "data": {
      "text/plain": [
       "\n",
       "\tTwo Sample t-test\n",
       "\n",
       "data:  Datos$PADRE and Datos$MADRE\n",
       "t = 23.914, df = 340, p-value < 2.2e-16\n",
       "alternative hypothesis: true difference in means is greater than 0\n",
       "95 percent confidence interval:\n",
       " 10.52444      Inf\n",
       "sample estimates:\n",
       "mean of x mean of y \n",
       " 172.1871  160.8830 \n"
      ]
     },
     "metadata": {},
     "output_type": "display_data"
    }
   ],
   "source": [
    "t.test(Datos$PADRE,Datos$MADRE, mu=0, alternative=\"greater\")"
   ]
  },
  {
   "cell_type": "markdown",
   "metadata": {},
   "source": [
    "#### Explicación:\n",
    "El valor de estadístico de contraste es 23.914, los grados de libertad 316.34 y el p-valor es inferior a 0.0001. Por tanto, como el valor del p-valor es inferior a 0.01, podemos concluir que la altura media de los padres es superior a la de las madres.\n",
    "\n",
    "\n",
    "#### Observaciones: \n",
    "* Para realizar el siguiente contraste de hipotesis:\n",
    "\n",
    "$H_O:\\ \\mu_D  \\leq 10$,\n",
    "\n",
    "$H_1:\\ \\mu_D > 10 $ \n",
    "\n",
    "en vez de poner mu=0 hay que poner mu=10.\n",
    "\n",
    "* Para hacer el contraste unilateral a izquierda, hay que poner alternative=\"less\"\n",
    "* Para hacer el contraste bilateral, hay que poner alternative=\"two.sided\" \n",
    "* Observese que, como en la práctica anterior, no hemos usado el argumento conf.level. El motivo es el mismo.\n",
    "* Observese que, a diferencia del apartado anterior, no hemos usado el argumento var.equal"
   ]
  },
  {
   "cell_type": "markdown",
   "metadata": {},
   "source": [
    "## Comparación de proporciones de poblaciones independientes\n",
    "\n",
    "### Contraste de hipótesis para la comparación de la proporción de las mujeres que son de Alava y de la proporcion de los hombres de Alava\n",
    "\n",
    "Vamos a contrastar que la proporción de mujeres de Alava ($p_1$) es mayor que la proporción de hombres de Alava ($p_2$).\n",
    "\n",
    "$H_0:\\ p_1 \\leq p_2 $\n",
    "\n",
    "$H_1:\\ p_1 > p_2$\n",
    "\n",
    "Vamos a considerar un nivel de significación del 2%"
   ]
  },
  {
   "cell_type": "code",
   "execution_count": 26,
   "metadata": {},
   "outputs": [
    {
     "data": {
      "text/plain": [
       "\n",
       "\t2-sample test for equality of proportions with continuity correction\n",
       "\n",
       "data:  c(n_mujeres_alava, n_hombres_alava) out of c(n_mujeres, n_hombres)\n",
       "X-squared = 0.43037, df = 1, p-value = 0.2559\n",
       "alternative hypothesis: greater\n",
       "95 percent confidence interval:\n",
       " -0.06365059  1.00000000\n",
       "sample estimates:\n",
       "   prop 1    prop 2 \n",
       "0.2560976 0.2022472 \n"
      ]
     },
     "metadata": {},
     "output_type": "display_data"
    }
   ],
   "source": [
    "# contamos el numero de mujeres de alava y hombres de alava\n",
    "Datos.alava <- subset(Datos,PROVINCIA==1)\n",
    "mujeres.alava <- subset(Datos.alava,SEXO==\"mujer\")\n",
    "hombres.alava <- subset(Datos.alava,SEXO==\"hombre\")\n",
    "n_mujeres_alava <- length(mujeres.alava$ALTURA)\n",
    "n_hombres_alava <- length(hombres.alava$ALTURA)\n",
    "# contamos cuantos hombres y mujeres hay en total\n",
    "Datos.mujeres <- subset(Datos,SEXO==\"mujer\")\n",
    "n_mujeres <- length(Datos.mujeres$ALTURA)\n",
    "Datos.hombres <- subset(Datos,SEXO==\"hombre\")\n",
    "n_hombres <- length(Datos.hombres$ALTURA)\n",
    "# hacemos el test\n",
    "prop.test(c(n_mujeres_alava,n_hombres_alava),c(n_mujeres,n_hombres),alternative=\"greater\")"
   ]
  },
  {
   "cell_type": "markdown",
   "metadata": {},
   "source": [
    "#### Explicación:\n",
    "El valor del estadístico de contraste es 0.43037 y el p-valor 0.2559. estatistikoaren balioa 0.43037 da eta p-balioa 0.2559 da. Como el valor del p-valor es mayor que 0.02, entonces no podemos rechazar la igualdad entre la proporcion de mujeres que son de alava y la proporcion de hombres que son de alava.\n",
    "\n",
    "\n",
    "#### Observaciones: \n",
    "* Para hacer el contraste unilateral a izquierda, hay que poner alternative=\"less\"\n",
    "* Para hacer el contraste bilateral, hay que poner alternative=\"two.sided\"\n",
    "* Observese que, como en la práctica anterior, no hemos usado el argumento conf.level. El motivo es el mismo."
   ]
  },
  {
   "cell_type": "code",
   "execution_count": null,
   "metadata": {},
   "outputs": [],
   "source": []
  }
 ],
 "metadata": {
  "kernelspec": {
   "display_name": "R",
   "language": "R",
   "name": "ir"
  },
  "language_info": {
   "codemirror_mode": "r",
   "file_extension": ".r",
   "mimetype": "text/x-r-source",
   "name": "R",
   "pygments_lexer": "r",
   "version": "3.6.3"
  }
 },
 "nbformat": 4,
 "nbformat_minor": 2
}
