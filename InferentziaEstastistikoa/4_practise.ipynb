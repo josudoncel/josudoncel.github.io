{
 "cells": [
  {
   "cell_type": "markdown",
   "metadata": {},
   "source": [
    "# STATISTICAL INFERENCE: FOURTH SESSION\n",
    "\n",
    "## Hypothesis Testing: Two populations\n",
    "\n",
    "In the previous session, we studied the hypotesis tests for one population. In this session, we will use the same commands and see how they must be modified so as to perform hypotesis tests with two populations.\n"
   ]
  },
  {
   "cell_type": "code",
   "execution_count": 2,
   "metadata": {
    "scrolled": true
   },
   "outputs": [],
   "source": [
    "# read txt file\n",
    "\n",
    "Data <-read.table(file=\"heights.txt\", header=TRUE, dec=\",\", sep=\"\\t\")\n",
    "\n",
    "# For the test of the variances of this session, we will need to install and load the following packet:\n",
    "# install.packages(\"EnvStats\")\n",
    "# library(EnvStats)\n",
    "\n"
   ]
  },
  {
   "cell_type": "markdown",
   "metadata": {},
   "source": [
    "## Ratio of variances with two independent populations\n",
    "\n",
    "### Hypothesis test of the ratio of variances of the height of women and men\n",
    "\n",
    "We will perform the following test:\n",
    "\n",
    "$$H_0:\\ \\sigma_1^2 \\geq \\sigma_2^2$$\n",
    "$$H_1:\\ \\sigma_1^2 < \\sigma_2^2$$\n",
    "\n",
    "We consider a significance level of 10%"
   ]
  },
  {
   "cell_type": "code",
   "execution_count": 3,
   "metadata": {},
   "outputs": [
    {
     "data": {
      "text/plain": [
       "\n",
       "\tF test to compare two variances\n",
       "\n",
       "data:  women and men\n",
       "F = 0.88431, num df = 81, denom df = 88, p-value = 0.288\n",
       "alternative hypothesis: true ratio of variances is less than 1\n",
       "95 percent confidence interval:\n",
       " 0.000000 1.269746\n",
       "sample estimates:\n",
       "ratio of variances \n",
       "         0.8843092 \n"
      ]
     },
     "metadata": {},
     "output_type": "display_data"
    }
   ],
   "source": [
    "\n",
    "select_women<-Data$SEX==\"female\"\n",
    "#\n",
    "women <-Data$HEIGHT[select_women]       \n",
    "#\n",
    "select_men<-Data$SEX==\"male\"\n",
    "#\n",
    "men <-Data$HEIGHT[select_men]\n",
    "#\n",
    "var.test(women,men,ratio=1,alternative=\"less\")"
   ]
  },
  {
   "cell_type": "markdown",
   "metadata": {},
   "source": [
    "#### Explanation:\n",
    "\n",
    "The statistic of the hypothesis testing is 0.88431, the number of degrees of freedom is 81 and 88 and the p-value 0.288. As a consequence, we cannot reject that the variances of the heights of the women and men are the same (since the p-value is larger than 0.1).\n",
    "\n",
    "#### Observations:\n",
    "\n",
    "* To the perform the following test \n",
    "\n",
    "$$H_O:\\ \\sigma_1^2 \\geq 2 \\sigma_2^2$$\n",
    "$$H_1:\\ \\sigma_1^2 < 2 \\sigma_2^2$$\n",
    "\n",
    "instead of ratio=1 we must put ratio=2.\n",
    "\n",
    "* For the bilateral test, we must put alternative=\"two.sided\"\n",
    "* For the unilateral right test, we must put alternative=\"greater\" \n",
    "* Remark that, as in the previous session, the argument conf.level does not appear. The reason is the same."
   ]
  },
  {
   "cell_type": "code",
   "execution_count": 5,
   "metadata": {},
   "outputs": [
    {
     "data": {
      "text/plain": [
       "\n",
       "\tF test to compare two variances\n",
       "\n",
       "data:  men and women\n",
       "F = 1.1308, num df = 88, denom df = 81, p-value = 0.288\n",
       "alternative hypothesis: true ratio of variances is greater than 1\n",
       "95 percent confidence interval:\n",
       " 0.7875588       Inf\n",
       "sample estimates:\n",
       "ratio of variances \n",
       "          1.130826 \n"
      ]
     },
     "metadata": {},
     "output_type": "display_data"
    }
   ],
   "source": [
    "# The following test is the same as the previos one. Do you see why?\n",
    "var.test(men,women,ratio=1, alternative=\"greater\")"
   ]
  },
  {
   "cell_type": "markdown",
   "metadata": {},
   "source": [
    "## Comparison of the mean of two independent populations\n",
    "\n",
    "### Hypothesis test of the difference of the height of women and men\n",
    "\n",
    "We consider the following problem: \n",
    "\n",
    "$$H_O:\\ \\mu_{WOMEN} \\leq \\mu_{MEN}$$\n",
    "$$H_1:\\ \\mu_{WOMEN} > \\mu_{MEN}$$\n",
    "\n",
    "We consider a significance level of 5%"
   ]
  },
  {
   "cell_type": "code",
   "execution_count": 6,
   "metadata": {},
   "outputs": [
    {
     "data": {
      "text/plain": [
       "\n",
       "\tTwo Sample t-test\n",
       "\n",
       "data:  women and men\n",
       "t = -4.0665, df = 169, p-value = 1\n",
       "alternative hypothesis: true difference in means is greater than 0\n",
       "95 percent confidence interval:\n",
       " -2.790305       Inf\n",
       "sample estimates:\n",
       "mean of x mean of y \n",
       " 165.7805  167.7640 \n"
      ]
     },
     "metadata": {},
     "output_type": "display_data"
    }
   ],
   "source": [
    "t.test(women,men,mu=0,alternative=\"greater\",var.equal=TRUE)"
   ]
  },
  {
   "cell_type": "markdown",
   "metadata": {},
   "source": [
    "#### Explanation:\n",
    "\n",
    "The point estimation of the mean height of the women: 165.7805\n",
    "\n",
    "The point estimation of the mean height of men: 167.7640\n",
    "\n",
    "The value of the statistical pivot is -4.0665, the degrees of freedom 169 and the p-value is 1. Therefore, as the p-value is larger than 0.05, we cannot reject that the mean of the heights of women is smaller or equal than the mean height of the men.\n",
    "\n",
    "\n",
    "#### Observations:\n",
    "\n",
    "* If we want to perform the following test:\n",
    "\n",
    "$$H_O:\\ \\mu_{WOMEN} - \\mu_{MEN} \\leq 40$$\n",
    "$$H_1:\\ \\mu_{WOMEN} - \\mu_{MEN} > 40 $$\n",
    "\n",
    "we must mu=40 instead of mu=0.\n",
    "\n",
    "* For the unilateral left test, we must put  alternative=\"less\"\n",
    "* For the bilateral test, we must put alternative=\"two.sided\" \n",
    "* Note that we have put var.equal=TRUE (the reason for this is that we did not reject the equality of variances). We put var.equal=FALSE if we know that $\\sigma_1$ and $\\sigma_2$ are unequal.\n",
    "* Remark that, as in the previous session, we are not using the argument conf.level. The reason is the same."
   ]
  },
  {
   "cell_type": "code",
   "execution_count": 7,
   "metadata": {},
   "outputs": [
    {
     "data": {
      "text/plain": [
       "\n",
       "\tTwo Sample t-test\n",
       "\n",
       "data:  men and women\n",
       "t = 4.0665, df = 169, p-value = 1\n",
       "alternative hypothesis: true difference in means is less than 0\n",
       "95 percent confidence interval:\n",
       "     -Inf 2.790305\n",
       "sample estimates:\n",
       "mean of x mean of y \n",
       " 167.7640  165.7805 \n"
      ]
     },
     "metadata": {},
     "output_type": "display_data"
    }
   ],
   "source": [
    "# The following test is the same as the previous one. Do you see why?\n",
    "t.test(men,women,mu=0,alternative=\"less\",var.equal=TRUE)"
   ]
  },
  {
   "cell_type": "markdown",
   "metadata": {},
   "source": [
    "## Hypothesis Test of Paired Data\n",
    "\n",
    "### Difference of the mean height of fathers and mothers\n",
    "\n",
    "Let D=FATHER-MOTHER (that is, the difference between the height of the father minus that of the mother). We will perform a test to check that the mean of D is positive, i.e., that the mean of the height of the fathers minus the mean height of the mothers is positive. :\n",
    "\n",
    "$$H_0:\\ \\mu_D \\leq 0 $$\n",
    "$$H_1:\\ \\mu_D > 0$$\n",
    "\n",
    "We consider a significance level of 1%"
   ]
  },
  {
   "cell_type": "code",
   "execution_count": 8,
   "metadata": {},
   "outputs": [
    {
     "data": {
      "text/plain": [
       "\n",
       "\tWelch Two Sample t-test\n",
       "\n",
       "data:  father and mother\n",
       "t = 23.914, df = 316.34, p-value < 2.2e-16\n",
       "alternative hypothesis: true difference in means is greater than 0\n",
       "95 percent confidence interval:\n",
       " 10.52428      Inf\n",
       "sample estimates:\n",
       "mean of x mean of y \n",
       " 172.1871  160.8830 \n"
      ]
     },
     "metadata": {},
     "output_type": "display_data"
    }
   ],
   "source": [
    "father<-Data$FATHER\n",
    "#\n",
    "mother<-Data$MOTHER\n",
    "#\n",
    "t.test(father,mother, alternative=\"greater\")"
   ]
  },
  {
   "cell_type": "markdown",
   "metadata": {},
   "source": [
    "#### Explanation:\n",
    "\n",
    "The value of the statistic is 23.914, the degrees of freedom 316.34 and the p-value is smaller than 0.0001. As a result, since the value of the p-value is smaller than 0.01, we conclude that the mean height of the fathers is larger than that of the mothers with a significance level of 1%.\n",
    "\n",
    "\n",
    "#### Observations: \n",
    "* To perform the following test:\n",
    "\n",
    "$$H_O:\\ \\mu_D  \\leq 10$$\n",
    "$$H_1:\\ \\mu_D > 10 $$ \n",
    "\n",
    "we must put mu=10 instead of mu=0.\n",
    "\n",
    "* For the unilateral left test, we must put  alternative=\"less\"\n",
    "* For the bilateral test, we must put alternative=\"two.sided\" \n",
    "* Remark that, as in the previous session, we are not using the argument conf.level. The reason is the same.\n",
    "* Remark that, unlike in the previous session, we are not using the argument var.equal."
   ]
  },
  {
   "cell_type": "markdown",
   "metadata": {},
   "source": [
    "## Comparison of proportions (success probability) of two independent populations\n",
    "\n",
    "### Hypothesis testing of the difference of the proportion of being from Alava between men and women\n",
    "\n",
    "We will check that the proportion of men from Alava ($p_1$) is larger than the proportion of men from Alava ($p_2$).\n",
    "\n",
    "$$H_0:\\ p_1 \\leq p_2 $$\n",
    "$$H_1:\\ p_1 > p_2$$\n",
    "\n",
    "We consider a significance level of 2%"
   ]
  },
  {
   "cell_type": "code",
   "execution_count": 10,
   "metadata": {},
   "outputs": [
    {
     "data": {
      "text/plain": [
       "\n",
       "\t2-sample test for equality of proportions with continuity correction\n",
       "\n",
       "data:  c(n_women_alava, n_men_alava) out of c(n_women, n_men)\n",
       "X-squared = 0.43037, df = 1, p-value = 0.2559\n",
       "alternative hypothesis: greater\n",
       "95 percent confidence interval:\n",
       " -0.06365059  1.00000000\n",
       "sample estimates:\n",
       "   prop 1    prop 2 \n",
       "0.2560976 0.2022472 \n"
      ]
     },
     "metadata": {},
     "output_type": "display_data"
    }
   ],
   "source": [
    "# we count how many women and men are from Alava\n",
    "Data.alava <- subset(Data,BIRTHPLACE==1)\n",
    "women.alava <- subset(Data.alava,SEX==\"female\")\n",
    "men.alava <- subset(Data.alava,SEX==\"male\")\n",
    "n_women_alava <- length(women.alava$HEIGHT)\n",
    "# \n",
    "n_men_alava <- length(men.alava$HEIGHT)\n",
    "# we count the number of women and men\n",
    "Data.women <- subset(Data,SEX==\"female\")\n",
    "n_women <- length(Data.women$HEIGHT)\n",
    "Data.men <- subset(Data,SEX==\"male\")\n",
    "n_men <- length(Data.men$HEIGHT)\n",
    "# we perform the test\n",
    "prop.test(c(n_women_alava,n_men_alava),c(n_women,n_men),alternative=\"greater\")\n"
   ]
  },
  {
   "cell_type": "markdown",
   "metadata": {},
   "source": [
    "#### Explanation:\n",
    "\n",
    "The value of the statistical pivot is 0.43037 and of the p-value 0.2559. Since the p-value is smaller than Como el valor del p-valor es mayor que 0.02, entonces no podemos rechazar la igualdad entre la proporcion de mujeres que son de alava y la proporcion de hombres que son de alava.\n",
    "\n",
    "\n",
    "#### Observaciones: \n",
    "* Para hacer el contraste unilateral a izquierda, hay que poner alternative=\"less\"\n",
    "* Para hacer el contraste bilateral, hay que poner alternative=\"two.sided\"\n",
    "* Observese que, como en la práctica anterior, no hemos usado el argumento conf.level. El motivo es el mismo."
   ]
  },
  {
   "cell_type": "code",
   "execution_count": null,
   "metadata": {},
   "outputs": [],
   "source": []
  }
 ],
 "metadata": {
  "kernelspec": {
   "display_name": "R",
   "language": "R",
   "name": "ir"
  },
  "language_info": {
   "codemirror_mode": "r",
   "file_extension": ".r",
   "mimetype": "text/x-r-source",
   "name": "R",
   "pygments_lexer": "r",
   "version": "4.1.2"
  }
 },
 "nbformat": 4,
 "nbformat_minor": 2
}
