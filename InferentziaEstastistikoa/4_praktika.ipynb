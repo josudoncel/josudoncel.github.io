{
 "cells": [
  {
   "cell_type": "markdown",
   "metadata": {},
   "source": [
    "# INFERENTZIA ESTATISTIKOA: Laugarren praktika\n",
    "\n",
    "## Hipotesi kontrasteak: Bi populazioen konparaketak\n",
    "\n",
    "Bigarren praktikarekin (estimazioa eta KTak) harreman handiko praktika da hau. Izan ere, praktika horretan erabili genituen komandoak erabiliko ditugu eta ikusiko dugu nola aldatu behar diren hipotesi kontrasteak burutzeko.\n"
   ]
  },
  {
   "cell_type": "code",
   "execution_count": 10,
   "metadata": {
    "scrolled": true
   },
   "outputs": [],
   "source": [
    "# txt datuak irakurri\n",
    "\n",
    "Datuak <-read.table(file=\"altuerak.txt\", header=TRUE, dec=\",\", sep=\"\\t\")\n",
    "\n",
    "# Hurrengo paketea instalatu eta kargatu behar duzue \n",
    "# install.packages(\"EnvStats\")\n",
    "# library(EnvStats)\n"
   ]
  },
  {
   "cell_type": "markdown",
   "metadata": {},
   "source": [
    "## Bi populazio askeren bariantzen zatidura\n",
    "\n",
    "### Gizonezkoen eta emakumezkoen altueren bariantzen zatiduraren HK\n",
    "\n",
    "Emakumezkoen altueren bariantza gizonezkoena izatearen hipotesia kontrastatuko dugu:\n",
    "\n",
    "$H_O:\\ \\sigma_1^2 \\geq \\sigma_2^2$\n",
    "\n",
    "$H_1:\\ \\sigma_1^2 < \\sigma_2^2$"
   ]
  },
  {
   "cell_type": "code",
   "execution_count": 11,
   "metadata": {},
   "outputs": [
    {
     "data": {
      "text/plain": [
       "\n",
       "\tF test to compare two variances\n",
       "\n",
       "data:  emakumezkoa and gizonezkoa\n",
       "F = 0.88431, num df = 81, denom df = 88, p-value = 0.288\n",
       "alternative hypothesis: true ratio of variances is less than 1\n",
       "95 percent confidence interval:\n",
       " 0.000000 1.269746\n",
       "sample estimates:\n",
       "ratio of variances \n",
       "         0.8843092 \n"
      ]
     },
     "metadata": {},
     "output_type": "display_data"
    }
   ],
   "source": [
    "emakumezkoa <-Datuak$ALTUERA[Datuak$SEXUA==\"emakumezkoa\"]#c(103,94,110,87,98)       \n",
    "gizonezkoa  <-Datuak$ALTUERA[Datuak$SEXUA==\"gizonezkoa\"]#c(97, 82,123,92,175,88,118)\n",
    "var.test(emakumezkoa,gizonezkoa,ratio=1, alternative=\"less\")"
   ]
  },
  {
   "cell_type": "markdown",
   "metadata": {},
   "source": [
    "#### Azalpena:\n",
    "Planteatutako HKaren estatistikoa 0.88431 da, askatasun graduak 81 eta 88 eta p-balioa 0.288. Hortaz, ezin dugu ondorioztatu emakumezkoen barintza gizonezkoena baino handiagoa denik $\\%5$eko adierazgarritasun mailaz.\n",
    "\n",
    "#### Oharrak: \n",
    "* $H_O:\\ \\sigma_1^2 \\geq 2 \\sigma_2^2$,\n",
    "$H_1:\\ \\sigma_1^2 < 2 \\sigma_2^2$ kontrastatzeko, ratio=1 jarri ordez ratio=2 jarri behar da.\n",
    "* Aldebiko eskuinetiko kontrastea egiteko, alternative=\"greater\" jarri behar da\n",
    "* Aldebateko kontrastea egiteko, alternative=\"two.sides\" jarri behar da "
   ]
  },
  {
   "cell_type": "code",
   "execution_count": 12,
   "metadata": {},
   "outputs": [
    {
     "data": {
      "text/plain": [
       "\n",
       "\tF test to compare two variances\n",
       "\n",
       "data:  gizonezkoa and emakumezkoa\n",
       "F = 1.1308, num df = 88, denom df = 81, p-value = 0.288\n",
       "alternative hypothesis: true ratio of variances is greater than 1\n",
       "95 percent confidence interval:\n",
       " 0.7875588       Inf\n",
       "sample estimates:\n",
       "ratio of variances \n",
       "          1.130826 \n"
      ]
     },
     "metadata": {},
     "output_type": "display_data"
    }
   ],
   "source": [
    "# ondoko HKa aurrekoaren berdina da. Ikusten duzu arrazoia?\n",
    "var.test(gizonezkoa,emakumezkoa,ratio=1, alternative=\"greater\")"
   ]
  },
  {
   "cell_type": "markdown",
   "metadata": {},
   "source": [
    "## Bi populazio askeren batezbestekoen konparaketa\n",
    "\n",
    "### Gizonezkoen eta emakumezkoen altueren batezbestekoaren diferentziaren\n",
    "\n",
    "Emakumezkoen altueren batezbestekoa gizonezkoena baino handiagoa izatearen hipotesia kontrastatuko dugu:\n",
    "\n",
    "$H_O:\\ \\mu_1 \\leq \\mu_2$\n",
    "\n",
    "$H_1:\\ \\mu_1 > \\mu_2^2$"
   ]
  },
  {
   "cell_type": "code",
   "execution_count": 13,
   "metadata": {},
   "outputs": [
    {
     "data": {
      "text/plain": [
       "\n",
       "\tTwo Sample t-test\n",
       "\n",
       "data:  emakumezkoa and gizonezkoa\n",
       "t = -4.0665, df = 169, p-value = 1\n",
       "alternative hypothesis: true difference in means is greater than 0\n",
       "95 percent confidence interval:\n",
       " -2.790305       Inf\n",
       "sample estimates:\n",
       "mean of x mean of y \n",
       " 165.7805  167.7640 \n"
      ]
     },
     "metadata": {},
     "output_type": "display_data"
    }
   ],
   "source": [
    "t.test(emakumezkoa,gizonezkoa,mu=0,alternative=\"greater\",var.equal=TRUE)"
   ]
  },
  {
   "cell_type": "markdown",
   "metadata": {},
   "source": [
    "#### Azalpena:\n",
    "Emakumezkoen batezbesteko altueraren estimazioa: 165.7805\n",
    "\n",
    "Gizonezkoen batezbesteko altueraren estimazioa: 165.7805\n",
    "\n",
    "Kenketaren HKa: estatistikoaren balioa -4.0665 da, askatasun graduak 169 eta p-balioa 1 da. Hortaz, ezin dugu errefusatu emakumeen batezbestekoa gizonezkoena baino txikiagoa edo berdin dela.\n",
    "\n",
    "\n",
    "#### Oharrak: \n",
    "* $H_O:\\ \\mu_1 - \\mu_2 \\leq 40$,\n",
    "$H_1:\\ \\mu_1 - \\mu_2 > 40 $ kontrastatzeko, mu=0 jarri ordez mu=40 jarri behar da.\n",
    "* Aldebiko ezkerretiko kontrastea egiteko, alternative=\"less\" jarri behar da\n",
    "* Aldebateko kontrastea egiteko, alternative=\"two.sides\" jarri behar da \n",
    "* Gogoratu var.equal=TRUE jarri dugula aurreko adibidean lortu duguna kontuan hartu dugulako."
   ]
  },
  {
   "cell_type": "code",
   "execution_count": 14,
   "metadata": {},
   "outputs": [
    {
     "data": {
      "text/plain": [
       "\n",
       "\tTwo Sample t-test\n",
       "\n",
       "data:  gizonezkoa and emakumezkoa\n",
       "t = 4.0665, df = 169, p-value = 1\n",
       "alternative hypothesis: true difference in means is less than 0\n",
       "95 percent confidence interval:\n",
       "     -Inf 2.790305\n",
       "sample estimates:\n",
       "mean of x mean of y \n",
       " 167.7640  165.7805 \n"
      ]
     },
     "metadata": {},
     "output_type": "display_data"
    }
   ],
   "source": [
    "# Ondoko HKa berdina da. Ikusten duzu zergatik?\n",
    "t.test(gizonezkoa,emakumezkoa,mu=0,alternative=\"less\",var.equal=TRUE)"
   ]
  },
  {
   "cell_type": "markdown",
   "metadata": {},
   "source": [
    "## Binakako datuen KTa\n",
    "\n",
    "### Aitaren eta amaren altueren arteko diferentzia\n",
    "\n",
    "Izan bedi D=Aitarena-Amarena (alegia, aitaren altuera ken amaren altuera). D aldagaiaren batezbestekoa positiboa izatearen hipotesia (alegia, aitaren altuera amarena baino handiagoa izatearen hipotesia ) kontrastatuko dugu:\n",
    "\n",
    "$H_0:\\ \\mu_D \\leq 0 $\n",
    "\n",
    "$H_1:\\ \\mu_D > 0$"
   ]
  },
  {
   "cell_type": "code",
   "execution_count": 15,
   "metadata": {},
   "outputs": [
    {
     "data": {
      "text/plain": [
       "\n",
       "\tWelch Two Sample t-test\n",
       "\n",
       "data:  Datuak$AITARENA and Datuak$AMARENA\n",
       "t = 23.914, df = 316.34, p-value < 2.2e-16\n",
       "alternative hypothesis: true difference in means is greater than 0\n",
       "95 percent confidence interval:\n",
       " 10.52428      Inf\n",
       "sample estimates:\n",
       "mean of x mean of y \n",
       " 172.1871  160.8830 \n"
      ]
     },
     "metadata": {},
     "output_type": "display_data"
    }
   ],
   "source": [
    "t.test(Datuak$AITARENA,Datuak$AMARENA, mu=0, alternative=\"greater\")"
   ]
  },
  {
   "cell_type": "markdown",
   "metadata": {},
   "source": [
    "Binakako datuen HKa: estatistikoaren balioa 23.914 da, askatasun graduak 316.34 eta p-balioa 0.0001 baino txikiagoa da. Hortaz, aitaren altuera amarena baino handiagoa dela ondorioztatzen dugu.\n",
    "\n",
    "\n",
    "#### Oharrak: \n",
    "* $H_O:\\ \\mu_D  \\leq 10$,\n",
    "$H_1:\\ \\mu_D > 10 $ kontrastatzeko, mu=0 jarri ordez mu=10 jarri behar da.\n",
    "* Aldebiko ezkerretiko kontrastea egiteko, alternative=\"less\" jarri behar da\n",
    "* Aldebateko kontrastea egiteko, alternative=\"two.sides\" jarri behar da "
   ]
  },
  {
   "cell_type": "markdown",
   "metadata": {},
   "source": [
    "## Bi populazio binomialen proportzioen konparaketa\n",
    "\n",
    "### Emakumeen eta gizonen bizkaitarren proportzioen diferentziaren HKa\n",
    "\n",
    "Emakume bizkaitarren proportzioa gizonezkoena baino handiagoa izatearen hipotesia kontrastatuko dugu:\n",
    "\n",
    "$H_0:\\ p_1 \\leq p_2 $\n",
    "\n",
    "$H_1:\\ p_1 > p_2$\n",
    "\n",
    "non $p_1$  den eta $p_2$ emakumezkoen artean bizkaitarren proportzioa"
   ]
  },
  {
   "cell_type": "code",
   "execution_count": 27,
   "metadata": {},
   "outputs": [
    {
     "data": {
      "text/plain": [
       "\n",
       "\t2-sample test for equality of proportions with continuity correction\n",
       "\n",
       "data:  c(n_emaku_biz, n_gizon_biz) out of c(n_emaku, n_gizon)\n",
       "X-squared = 0.43037, df = 1, p-value = 0.2559\n",
       "alternative hypothesis: greater\n",
       "95 percent confidence interval:\n",
       " -0.06365059  1.00000000\n",
       "sample estimates:\n",
       "   prop 1    prop 2 \n",
       "0.2560976 0.2022472 \n"
      ]
     },
     "metadata": {},
     "output_type": "display_data"
    }
   ],
   "source": [
    "# zenbat bizkaitar diren emakume eta gizon zenbatzen dugu\n",
    "Datuak.bizkaia <- subset(Datuak,JAIOTERRIA==1)\n",
    "emakume.bizkaia <- subset(Datuak.bizkaia,SEXUA==\"emakumezkoa\")\n",
    "gizona.bizkaia <- subset(Datuak.bizkaia,SEXUA==\"gizonezkoa\")\n",
    "n_emaku_biz <- length(emakume.bizkaia$ALTUERA)\n",
    "n_gizon_biz <- length(gizona.bizkaia$ALTUERA)\n",
    "# zenbat emakume eta gizon zenbatzen dugu\n",
    "Datuak.emaku <- subset(Datuak,SEXUA==\"emakumezkoa\")\n",
    "n_emaku <- length(Datuak.emaku$ALTUERA)\n",
    "Datuak.gizon <- subset(Datuak,SEXUA==\"gizonezkoa\")\n",
    "n_gizon <- length(Datuak.gizon$ALTUERA)\n",
    "# testa egiten dugu\n",
    "prop.test(c(n_emaku_biz,n_gizon_biz),c(n_emaku,n_gizon),alternative=\"greater\",conf.level=0.95)\n",
    "#guztiak\n",
    "#binom.test(kopuru.bizkaia,guztiak,conf.level=0.95)"
   ]
  },
  {
   "cell_type": "markdown",
   "metadata": {},
   "source": [
    "Bi populazio binomial askeen arrakasta proportzioen alderaketaren ondorioa: estatistikoaren balioa 0.43037 da eta p-balioa 0.2559 da. Hortaz, ezin dugu ondorioztatu gizonezkoen artean bizkaitarren proportzioa emakumezkoen artekoa baino handiagoa denik.\n",
    "\n",
    "\n",
    "#### Oharrak: \n",
    "* Aldebiko ezkerretiko kontrastea egiteko, alternative=\"less\" jarri behar da\n",
    "* Aldebateko kontrastea egiteko, alternative=\"two.sides\" jarri behar da "
   ]
  },
  {
   "cell_type": "code",
   "execution_count": null,
   "metadata": {},
   "outputs": [],
   "source": []
  }
 ],
 "metadata": {
  "kernelspec": {
   "display_name": "R",
   "language": "R",
   "name": "ir"
  },
  "language_info": {
   "codemirror_mode": "r",
   "file_extension": ".r",
   "mimetype": "text/x-r-source",
   "name": "R",
   "pygments_lexer": "r",
   "version": "3.4.4"
  }
 },
 "nbformat": 4,
 "nbformat_minor": 2
}
