{
 "cells": [
  {
   "cell_type": "markdown",
   "metadata": {},
   "source": [
    "# INFERENCIA ESTADISTICA: Quinta practica\n",
    "\n",
    "## Analisis de la varianza\n",
    "\n",
    "Vamos a considerar la base de datos del fichero excel alturas_AOV.xlsx (es la misma base de datos que en las anteriores practicas, pero con una variable adicional con las alturas de los hijos. Esa variable se llamará HIJO)\n",
    "\n",
    "Nuestro objetivo es comparar si hay diferencia entre las medias de la altura de los hijos entre los que son de Alava, Vizcaya y Guipuzcoa usando el analisis de la varianza."
   ]
  },
  {
   "cell_type": "code",
   "execution_count": 92,
   "metadata": {},
   "outputs": [
    {
     "name": "stdout",
     "output_type": "stream",
     "text": [
      "tibble [171 × 8] (S3: tbl_df/tbl/data.frame)\n",
      " $ ID       : num [1:171] 1 2 3 4 5 6 7 8 9 10 ...\n",
      " $ PADRE    : num [1:171] 174 177 173 174 160 167 171 174 175 174 ...\n",
      " $ MADRE    : num [1:171] 156 159 161 156 165 157 162 158 162 161 ...\n",
      " $ SEXO     : chr [1:171] \"mujer\" \"hombre\" \"hombre\" \"hombre\" ...\n",
      " $ PROVINCIA: num [1:171] 2 2 1 2 1 3 1 3 3 1 ...\n",
      " $ ALTURA   : num [1:171] 165 170 168 167 162 163 165 168 168 167 ...\n",
      " $ PESO     : num [1:171] 65 67 51 69 54 61 65 76 67 69 ...\n",
      " $ HIJO     : num [1:171] 165 170 153 167 147 163 150 168 168 152 ...\n"
     ]
    }
   ],
   "source": [
    "# leer fichero xls\n",
    "library(\"readxl\")\n",
    "\n",
    "Datos <-read_excel(\"alturas_AOV.xlsx\")\n",
    "\n",
    "str(Datos)\n",
    "\n",
    "# vemos que PROVINCIA es una variable entera. Como para el analisis de la varianza, necesitamos que esa variable\n",
    "# sea cualitativa (factor), creamos PROVINCIA.F como lo hicimos en la primera practica\n",
    "\n",
    "Datos$PROVINCIA.F <- factor(Datos$PROVINCIA, levels=c(1,2,3), \n",
    "                              labels=c(\"Alava\", \"Vizcaya\", \"Guipuzcoa\"))\n"
   ]
  },
  {
   "cell_type": "code",
   "execution_count": 93,
   "metadata": {},
   "outputs": [
    {
     "name": "stdout",
     "output_type": "stream",
     "text": [
      "tibble [171 × 9] (S3: tbl_df/tbl/data.frame)\n",
      " $ ID         : num [1:171] 1 2 3 4 5 6 7 8 9 10 ...\n",
      " $ PADRE      : num [1:171] 174 177 173 174 160 167 171 174 175 174 ...\n",
      " $ MADRE      : num [1:171] 156 159 161 156 165 157 162 158 162 161 ...\n",
      " $ SEXO       : chr [1:171] \"mujer\" \"hombre\" \"hombre\" \"hombre\" ...\n",
      " $ PROVINCIA  : num [1:171] 2 2 1 2 1 3 1 3 3 1 ...\n",
      " $ ALTURA     : num [1:171] 165 170 168 167 162 163 165 168 168 167 ...\n",
      " $ PESO       : num [1:171] 65 67 51 69 54 61 65 76 67 69 ...\n",
      " $ HIJO       : num [1:171] 165 170 153 167 147 163 150 168 168 152 ...\n",
      " $ PROVINCIA.F: Factor w/ 3 levels \"Alava\",\"Vizcaya\",..: 2 2 1 2 1 3 1 3 3 1 ...\n"
     ]
    }
   ],
   "source": [
    "# vemos que PROVINCIA.F es tipo factor\n",
    "str(Datos)"
   ]
  },
  {
   "cell_type": "markdown",
   "metadata": {},
   "source": [
    "### Contrastamos la normalidad de las alturas de Alava, Vizcaya y Guipuzcoa\n",
    "\n",
    "Consideramos un nivel de confianza del 5%"
   ]
  },
  {
   "cell_type": "code",
   "execution_count": 94,
   "metadata": {},
   "outputs": [
    {
     "data": {
      "text/plain": [
       "\n",
       "\tShapiro-Wilk normality test\n",
       "\n",
       "data:  Datos$HIJO[Datos$PROVINCIA.F == \"Alava\"]\n",
       "W = 0.95762, p-value = 0.1485\n"
      ]
     },
     "metadata": {},
     "output_type": "display_data"
    }
   ],
   "source": [
    "# Contrastamos la normalidad de las alturas de los hijos de los de Alava con nivel de significación 5%\n",
    "shapiro.test(Datos$HIJO[Datos$PROVINCIA.F==\"Alava\"])\n",
    "# el p-valor es mayor que 0.05, no podemos rechazar la normalidad de las alturas s de los hijos de los de Alava"
   ]
  },
  {
   "cell_type": "code",
   "execution_count": 95,
   "metadata": {},
   "outputs": [
    {
     "data": {
      "text/plain": [
       "\n",
       "\tShapiro-Wilk normality test\n",
       "\n",
       "data:  Datos$HIJO[Datos$PROVINCIA.F == \"Vizcaya\"]\n",
       "W = 0.98345, p-value = 0.373\n"
      ]
     },
     "metadata": {},
     "output_type": "display_data"
    }
   ],
   "source": [
    "# Contrastamos la normalidad de las alturas de los hijos de los de Vizcaya con nivel de significación 5%\n",
    "shapiro.test(Datos$HIJO[Datos$PROVINCIA.F==\"Vizcaya\"])\n",
    "# el p-valor es mayor que 0.05 => no podemos rechazar la normalidad de las alturas de los hijos de los de Vizcaya"
   ]
  },
  {
   "cell_type": "code",
   "execution_count": 96,
   "metadata": {},
   "outputs": [
    {
     "data": {
      "text/plain": [
       "\n",
       "\tShapiro-Wilk normality test\n",
       "\n",
       "data:  Datos$HIJO[Datos$PROVINCIA.F == \"Guipuzcoa\"]\n",
       "W = 0.98188, p-value = 0.6335\n"
      ]
     },
     "metadata": {},
     "output_type": "display_data"
    }
   ],
   "source": [
    "# Contrastamos la normalidad de las alturas de los hijos de los de Guipuzcoa con nivel de significación 5%\n",
    "shapiro.test(Datos$HIJO[Datos$PROVINCIA.F==\"Guipuzcoa\"])\n",
    "# el p-valor es mayor que 0.05 => no podemos rechazar la normalidad de los hijos de las alturas de los de Guipuzcoa"
   ]
  },
  {
   "cell_type": "markdown",
   "metadata": {},
   "source": [
    "### Contrastamos la igualdad de la varianza de las alturas de Alava, Vizcaya y Guipuzcoa\n",
    "\n",
    "Consideramos un nivel del confianza del 2%"
   ]
  },
  {
   "cell_type": "code",
   "execution_count": 97,
   "metadata": {},
   "outputs": [
    {
     "data": {
      "text/html": [
       "<table>\n",
       "<caption>A anova: 2 × 3</caption>\n",
       "<thead>\n",
       "\t<tr><th></th><th scope=col>Df</th><th scope=col>F value</th><th scope=col>Pr(&gt;F)</th></tr>\n",
       "\t<tr><th></th><th scope=col>&lt;int&gt;</th><th scope=col>&lt;dbl&gt;</th><th scope=col>&lt;dbl&gt;</th></tr>\n",
       "</thead>\n",
       "<tbody>\n",
       "\t<tr><th scope=row>group</th><td>  2</td><td>1.005729</td><td>0.3679694</td></tr>\n",
       "\t<tr><th scope=row> </th><td>168</td><td>      NA</td><td>       NA</td></tr>\n",
       "</tbody>\n",
       "</table>\n"
      ],
      "text/latex": [
       "A anova: 2 × 3\n",
       "\\begin{tabular}{r|lll}\n",
       "  & Df & F value & Pr(>F)\\\\\n",
       "  & <int> & <dbl> & <dbl>\\\\\n",
       "\\hline\n",
       "\tgroup &   2 & 1.005729 & 0.3679694\\\\\n",
       "\t  & 168 &       NA &        NA\\\\\n",
       "\\end{tabular}\n"
      ],
      "text/markdown": [
       "\n",
       "A anova: 2 × 3\n",
       "\n",
       "| <!--/--> | Df &lt;int&gt; | F value &lt;dbl&gt; | Pr(&gt;F) &lt;dbl&gt; |\n",
       "|---|---|---|---|\n",
       "| group |   2 | 1.005729 | 0.3679694 |\n",
       "| <!----> | 168 |       NA |        NA |\n",
       "\n"
      ],
      "text/plain": [
       "      Df  F value  Pr(>F)   \n",
       "group   2 1.005729 0.3679694\n",
       "      168       NA        NA"
      ]
     },
     "metadata": {},
     "output_type": "display_data"
    }
   ],
   "source": [
    "# Usaremos el comando leveneTest. Hay que cargar (e instalarlo si no lo habeis usado antes) el paquete car\n",
    "#install.packages(\"car\")\n",
    "#library(\"car\")\n",
    "leveneTest(Datos$HIJO, Datos$PROVINCIA.F, center=mean) "
   ]
  },
  {
   "cell_type": "markdown",
   "metadata": {},
   "source": [
    "#### Explicación:\n",
    "El valor del estadistico del test de Levene es 1.005729, los grados de libertad 2 y el p-valor es 0.3679694\n",
    "\n",
    "#### Conclusión:\n",
    "Como el p-valor es mayor que 0.02, no podemos rechazar la igualdad de varianzas de las alturas de los de Alava, Vizcaya y Guipuzcoa"
   ]
  },
  {
   "cell_type": "markdown",
   "metadata": {},
   "source": [
    "### Analisis de la varianza\n",
    "\n",
    "Ninguno de los test anteriores, nos ha afirmado que no se cumple alguna de las hipotesis para realizar el analisi de la varianza. Por tanto, todo parece indicar que estamos bajo las hipotesis para hacer este analisis.\n",
    "\n",
    "Consideramos un nivel de confianza del 5%."
   ]
  },
  {
   "cell_type": "code",
   "execution_count": 102,
   "metadata": {},
   "outputs": [
    {
     "data": {
      "text/plain": [
       "             Df Sum Sq Mean Sq F value Pr(>F)    \n",
       "PROVINCIA.F   2   6705    3353     299 <2e-16 ***\n",
       "Residuals   168   1884      11                   \n",
       "---\n",
       "Signif. codes:  0 ‘***’ 0.001 ‘**’ 0.01 ‘*’ 0.05 ‘.’ 0.1 ‘ ’ 1"
      ]
     },
     "metadata": {},
     "output_type": "display_data"
    }
   ],
   "source": [
    "Anova <-  aov(HIJO ~ PROVINCIA.F,data=Datos)\n",
    "summary(Anova)"
   ]
  },
  {
   "cell_type": "markdown",
   "metadata": {},
   "source": [
    "#### Explicacion:\n",
    "El valor del estadistico de contraste es 299 y el p-valor es menor a 0.0001. Por tanto, como el p-valor es inferior a 0.05, concluismo que hay diferencia en las alturas de los hijos segun la provincia de donde son."
   ]
  },
  {
   "cell_type": "markdown",
   "metadata": {},
   "source": [
    "### Comparaciones multiples\n",
    "\n",
    "Sabemos que no son iguales la media de las alturas de los hijos de los de Alava, Vizcaya y Guipuzcoa. Ahora, queremos ir más allá y saber más sobre esta diferencia. Usaremos comparaciones multiples. Hay distintos metodos para hacer estas comparaciones multiples, pero los más usados son el de Scheffe y el de Tukey. Para el de Scheffe, se require que el numero de muestras en cada grupo sea el mismo. Por eso, usaremos el de Tukey en general. \n",
    "\n",
    "Vamos a considerar un nivel de significación del 2%."
   ]
  },
  {
   "cell_type": "code",
   "execution_count": 108,
   "metadata": {},
   "outputs": [
    {
     "data": {
      "text/plain": [
       "\n",
       "\t Simultaneous Tests for General Linear Hypotheses\n",
       "\n",
       "Multiple Comparisons of Means: Tukey Contrasts\n",
       "\n",
       "\n",
       "Fit: aov(formula = HIJO ~ PROVINCIA.F, data = Datos)\n",
       "\n",
       "Linear Hypotheses:\n",
       "                         Estimate Std. Error t value Pr(>|t|)    \n",
       "Vizcaya - Alava == 0     14.94528    0.65134  22.945   <1e-06 ***\n",
       "Guipuzcoa - Alava == 0   14.88821    0.71537  20.812   <1e-06 ***\n",
       "Guipuzcoa - Vizcaya == 0 -0.05707    0.60083  -0.095    0.995    \n",
       "---\n",
       "Signif. codes:  0 ‘***’ 0.001 ‘**’ 0.01 ‘*’ 0.05 ‘.’ 0.1 ‘ ’ 1\n",
       "(Adjusted p values reported -- single-step method)\n"
      ]
     },
     "metadata": {},
     "output_type": "display_data"
    }
   ],
   "source": [
    "# cargar el siguiente paquete (e instalarlo si lo vais a usar por primera vez)\n",
    "library(multcomp)\n",
    "comp_Tukey <- glht(Anova, linfct = mcp(PROVINCIA.F = \"Tukey\"))\n",
    "summary(comp_Tukey)"
   ]
  },
  {
   "cell_type": "markdown",
   "metadata": {},
   "source": [
    "#### Explicación:\n",
    "Hay tres contrastes de hipotesis:\n",
    "* El primer contraste de hipotesis contrasta la diferencia entre la media de las alturas de Vizcaya ($\\mu_V$) y de Alava ($\\mu_A$), es decir, \n",
    "\n",
    "$$H_0: \\mu_{V}  =  \\mu_{A}$$\n",
    "$$H_1: \\mu_{V}\\neq \\mu_{A}$$\n",
    "\n",
    "Para este contraste, se ve que el valor del estadistico es 22.945 y el p-valor es inferior a 0.0001. Por tanto, como el p-valor es inferior a 0.02, concluimos que la media de la altura de los hijos de los de Alava y los Vizcaya es distinta.\n",
    "\n",
    "* El segundo contraste de hipotesis contrasta la diferencia entre la media de las alturas de Guipuzcoa ($\\mu_G$) y de Alava, es decir, \n",
    "\n",
    "$$H_0: \\mu_{G}  =  \\mu_{A}$$\n",
    "$$H_1: \\mu_{G}\\neq \\mu_{A}$$\n",
    "\n",
    "Para este contraste, se ve que el valor del estadistico es 20.812 y el p-valor es inferior a 0.0001. Por tanto, como el p-valor es inferior a 0.02, concluimos que la media de la altura de los hijos de los de Alava y los Guipuzcoa es distinta.\n",
    "\n",
    "* El tercer contraste de hipotesis contrasta la diferencia entre la media de las alturas de Guipuzcoa y los de Vizcaya, es decir, \n",
    "\n",
    "$$H_0: \\mu_{G}  =  \\mu_{V}$$\n",
    "$$H_1: \\mu_{G}\\neq \\mu_{V}$$\n",
    "\n",
    "Para este contraste, se ve que el valor del estadistico es -0.095 y el p-valor es inferior a  0.995. Por tanto, como el p-valor es superior a 0.02, no podemos rechazar la igualdad de medias de la altura de los hijos de los de Guipuzcoa y los Vizcaya.\n",
    "\n",
    "#### Conclusion:\n",
    "\n",
    "La media de la altura de los hijos de Alava es distinta a la media de la altura de los hijos de los de Guipuzcoa y de los de Vizcaya. Sin embargo, no podemos concluir que haya diferencia entre la altura media de los hijos de los de Vizcaya y Guipuzcoa.\n"
   ]
  },
  {
   "cell_type": "markdown",
   "metadata": {},
   "source": [
    "## Intervalos de confianza\n",
    "\n",
    "Sabemos que la altura media de los hijos de Alava es distinta a la altura media de los hijos de los de Guipuzcoa y de los de Vizcaya. Para saber si es mayor o menor, usamos intervalos de confianza.\n"
   ]
  },
  {
   "cell_type": "code",
   "execution_count": 109,
   "metadata": {},
   "outputs": [
    {
     "data": {
      "text/plain": [
       "\n",
       "\t Simultaneous Confidence Intervals\n",
       "\n",
       "Multiple Comparisons of Means: Tukey Contrasts\n",
       "\n",
       "\n",
       "Fit: aov(formula = HIJO ~ PROVINCIA.F, data = Datos)\n",
       "\n",
       "Quantile = 2.3611\n",
       "95% family-wise confidence level\n",
       " \n",
       "\n",
       "Linear Hypotheses:\n",
       "                         Estimate lwr      upr     \n",
       "Vizcaya - Alava == 0     14.94528 13.40743 16.48313\n",
       "Guipuzcoa - Alava == 0   14.88821 13.19917 16.57724\n",
       "Guipuzcoa - Vizcaya == 0 -0.05707 -1.47566  1.36151\n"
      ]
     },
     "metadata": {},
     "output_type": "display_data"
    }
   ],
   "source": [
    "confint(comp_Tukey)"
   ]
  },
  {
   "cell_type": "markdown",
   "metadata": {},
   "source": [
    "#### Explicación:\n",
    "\n",
    "Hemos calculado tres intervalos de confianza:\n",
    "$$I_{\\mu_V-\\mu_A}^{0.95}=(13.40743,16.48313)$$\n",
    "$$I_{\\mu_G-\\mu_A}^{0.95}=(13.19917,16.57724)$$\n",
    "$$I_{\\mu_G-\\mu_A}^{0.95}=(-1.47566,1.36151)$$\n",
    "\n",
    "Del primer intervalo de confianza concluimos que $$\\mu_A<\\mu_V$$ y del segundo que $$\\mu_A<\\mu_G.$$ Por tanto, la altura media de los hijos de los de Alava es inferior a la altura media de los hijos de los de Vizcaya y de los hijos de los de Guipuzcoa."
   ]
  },
  {
   "cell_type": "code",
   "execution_count": null,
   "metadata": {},
   "outputs": [],
   "source": []
  }
 ],
 "metadata": {
  "kernelspec": {
   "display_name": "R",
   "language": "R",
   "name": "ir"
  },
  "language_info": {
   "codemirror_mode": "r",
   "file_extension": ".r",
   "mimetype": "text/x-r-source",
   "name": "R",
   "pygments_lexer": "r",
   "version": "3.6.3"
  }
 },
 "nbformat": 4,
 "nbformat_minor": 2
}
