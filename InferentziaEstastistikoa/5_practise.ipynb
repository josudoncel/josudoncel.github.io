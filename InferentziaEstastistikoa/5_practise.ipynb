{
 "cells": [
  {
   "cell_type": "markdown",
   "metadata": {},
   "source": [
    "# STATISTICAL INFERENCE: FIFTH SESSION\n",
    "\n",
    "## Analysis of Variance\n",
    "\n",
    "Let's consider the database of the file heights_AOV.xlsx (which available at eGela and and is the same as the database of the previous sessions, but it contains a new variable with the height of the sons or daughters. This variable is called CHILD)\n",
    "\n",
    "Our goal is to know where there exists a significance difference in the mean height of the children between Alava, Vizcaya and Guipuzcoa, by means of the Analysis of Variance."
   ]
  },
  {
   "cell_type": "code",
   "execution_count": 1,
   "metadata": {},
   "outputs": [
    {
     "name": "stdout",
     "output_type": "stream",
     "text": [
      "tibble [171 × 8] (S3: tbl_df/tbl/data.frame)\n",
      " $ ID        : num [1:171] 1 2 3 4 5 6 7 8 9 10 ...\n",
      " $ FATHER    : num [1:171] 174 177 173 174 160 167 171 174 175 174 ...\n",
      " $ MOTHER    : num [1:171] 156 159 161 156 165 157 162 158 162 161 ...\n",
      " $ SEX       : chr [1:171] \"mujer\" \"hombre\" \"hombre\" \"hombre\" ...\n",
      " $ BIRTHPLACE: num [1:171] 2 2 1 2 1 3 1 3 3 1 ...\n",
      " $ HEIGHTS   : num [1:171] 165 170 168 167 162 163 165 168 168 167 ...\n",
      " $ WEIGHTS   : num [1:171] 65 67 51 69 54 61 65 76 67 69 ...\n",
      " $ CHILD     : num [1:171] 165 170 153 167 147 163 150 168 168 152 ...\n"
     ]
    }
   ],
   "source": [
    "# read xls file\n",
    "library(\"readxl\")\n",
    "\n",
    "Data <-read_excel(\"heights_AOV.xlsx\")\n",
    "\n",
    "str(Data)\n",
    "\n",
    "# we see that BIRTHPLACE is an integer variable. We will need this variable to be cualitative (factor). Therefore\n",
    "# we create the variable BIRTHPLACE.F\n",
    "\n",
    "data.birthplace<-Data$BIRTHPLACE\n",
    "#\n",
    "Data$BIRTHPLACE.F <- factor(data.birthplace, levels=c(1,2,3), \n",
    "                              labels=c(\"Alava\", \"Vizcaya\", \"Guipuzcoa\"))\n"
   ]
  },
  {
   "cell_type": "code",
   "execution_count": 2,
   "metadata": {},
   "outputs": [
    {
     "name": "stdout",
     "output_type": "stream",
     "text": [
      "tibble [171 × 9] (S3: tbl_df/tbl/data.frame)\n",
      " $ ID          : num [1:171] 1 2 3 4 5 6 7 8 9 10 ...\n",
      " $ FATHER      : num [1:171] 174 177 173 174 160 167 171 174 175 174 ...\n",
      " $ MOTHER      : num [1:171] 156 159 161 156 165 157 162 158 162 161 ...\n",
      " $ SEX         : chr [1:171] \"mujer\" \"hombre\" \"hombre\" \"hombre\" ...\n",
      " $ BIRTHPLACE  : num [1:171] 2 2 1 2 1 3 1 3 3 1 ...\n",
      " $ HEIGHTS     : num [1:171] 165 170 168 167 162 163 165 168 168 167 ...\n",
      " $ WEIGHTS     : num [1:171] 65 67 51 69 54 61 65 76 67 69 ...\n",
      " $ CHILD       : num [1:171] 165 170 153 167 147 163 150 168 168 152 ...\n",
      " $ BIRTHPLACE.F: Factor w/ 3 levels \"Alava\",\"Vizcaya\",..: 2 2 1 2 1 3 1 3 3 1 ...\n"
     ]
    }
   ],
   "source": [
    "# we observe that PROVINCIA.F is a variable of type factor\n",
    "str(Data)"
   ]
  },
  {
   "cell_type": "markdown",
   "metadata": {},
   "source": [
    "### Test the normality of the heights of the kids of Alava, Vizcaya and Guipuzcoa\n",
    "\n",
    "Consider a significance level of 5%"
   ]
  },
  {
   "cell_type": "code",
   "execution_count": 5,
   "metadata": {},
   "outputs": [
    {
     "data": {
      "text/plain": [
       "\n",
       "\tShapiro-Wilk normality test\n",
       "\n",
       "data:  Data$CHILD[data.alava]\n",
       "W = 0.95762, p-value = 0.1485\n"
      ]
     },
     "metadata": {},
     "output_type": "display_data"
    }
   ],
   "source": [
    "# We start with those of Alava\n",
    "data.alava<-Data$BIRTHPLACE.F==\"Alava\"\n",
    "#\n",
    "shapiro.test(Data$CHILD[data.alava])\n",
    "# the p-value is larger than 0.05, therefore we cannot reject normality"
   ]
  },
  {
   "cell_type": "code",
   "execution_count": 6,
   "metadata": {},
   "outputs": [
    {
     "data": {
      "text/plain": [
       "\n",
       "\tShapiro-Wilk normality test\n",
       "\n",
       "data:  Data$CHILD[data.vizcaya]\n",
       "W = 0.98345, p-value = 0.373\n"
      ]
     },
     "metadata": {},
     "output_type": "display_data"
    }
   ],
   "source": [
    "# We focus on Vizcaya\n",
    "data.vizcaya<-Data$BIRTHPLACE.F==\"Vizcaya\"\n",
    "#\n",
    "shapiro.test(Data$CHILD[data.vizcaya])\n",
    "# the p-value is larger than 0.05, therefore we cannot reject normality"
   ]
  },
  {
   "cell_type": "code",
   "execution_count": 9,
   "metadata": {},
   "outputs": [
    {
     "data": {
      "text/plain": [
       "\n",
       "\tShapiro-Wilk normality test\n",
       "\n",
       "data:  Data$CHILD[data.guipuzkoa]\n",
       "W = 0.98188, p-value = 0.6335\n"
      ]
     },
     "metadata": {},
     "output_type": "display_data"
    }
   ],
   "source": [
    "# We finally focus on Guipuzcoa\n",
    "data.guipuzkoa<-Data$BIRTHPLACE.F==\"Guipuzcoa\"\n",
    "#\n",
    "shapiro.test(Data$CHILD[data.guipuzkoa])\n",
    "# the p-value is larger than 0.05, therefore we cannot reject normality"
   ]
  },
  {
   "cell_type": "markdown",
   "metadata": {},
   "source": [
    "#### Explanation\n",
    "\n",
    "In all the cases, we have seen that the p-value is larger than the significance level\n",
    "\n",
    "This means that normality is not an issue to perform the Analysis of Variance"
   ]
  },
  {
   "cell_type": "markdown",
   "metadata": {},
   "source": [
    "### Test the homogeneity of the variances of the heights of the kids of Alava, Vizcaya and Guipuzcoa\n",
    "\n",
    "Consider a significance level of 2%"
   ]
  },
  {
   "cell_type": "code",
   "execution_count": 13,
   "metadata": {},
   "outputs": [
    {
     "data": {
      "text/html": [
       "<table class=\"dataframe\">\n",
       "<caption>A anova: 2 × 3</caption>\n",
       "<thead>\n",
       "\t<tr><th></th><th scope=col>Df</th><th scope=col>F value</th><th scope=col>Pr(&gt;F)</th></tr>\n",
       "\t<tr><th></th><th scope=col>&lt;int&gt;</th><th scope=col>&lt;dbl&gt;</th><th scope=col>&lt;dbl&gt;</th></tr>\n",
       "</thead>\n",
       "<tbody>\n",
       "\t<tr><th scope=row>group</th><td>  2</td><td>1.005729</td><td>0.3679694</td></tr>\n",
       "\t<tr><th scope=row> </th><td>168</td><td>      NA</td><td>       NA</td></tr>\n",
       "</tbody>\n",
       "</table>\n"
      ],
      "text/latex": [
       "A anova: 2 × 3\n",
       "\\begin{tabular}{r|lll}\n",
       "  & Df & F value & Pr(>F)\\\\\n",
       "  & <int> & <dbl> & <dbl>\\\\\n",
       "\\hline\n",
       "\tgroup &   2 & 1.005729 & 0.3679694\\\\\n",
       "\t  & 168 &       NA &        NA\\\\\n",
       "\\end{tabular}\n"
      ],
      "text/markdown": [
       "\n",
       "A anova: 2 × 3\n",
       "\n",
       "| <!--/--> | Df &lt;int&gt; | F value &lt;dbl&gt; | Pr(&gt;F) &lt;dbl&gt; |\n",
       "|---|---|---|---|\n",
       "| group |   2 | 1.005729 | 0.3679694 |\n",
       "| <!----> | 168 |       NA |        NA |\n",
       "\n"
      ],
      "text/plain": [
       "      Df  F value  Pr(>F)   \n",
       "group   2 1.005729 0.3679694\n",
       "      168       NA        NA"
      ]
     },
     "metadata": {},
     "output_type": "display_data"
    }
   ],
   "source": [
    "# We will use the command leveneTest. We must load (and install the first time) the car package\n",
    "#install.packages(\"car\")\n",
    "#library(\"car\")\n",
    "\n",
    "data.birthplaceF<-Data$BIRTHPLACE.F\n",
    "#\n",
    "leveneTest(Data$CHILD, data.birthplaceF, center=mean) "
   ]
  },
  {
   "cell_type": "markdown",
   "metadata": {},
   "source": [
    "#### Explanation:\n",
    "\n",
    "The value of the statictical pivot of the test of Levene is 1.005729, the degrees of freedom 2 and the p-value 0.3679694\n",
    "\n",
    "#### Conclusion:\n",
    "\n",
    "As the p-value is larger than 0.02, we cannot reject the homogeneity of variances between the heights of the kids of Alava, Vizcaya and Guipuzcoa\n",
    "\n",
    "As a result, the inequality of variances is not an issue to perform the test of Analysis of Variance."
   ]
  },
  {
   "cell_type": "markdown",
   "metadata": {},
   "source": [
    "### Analysis of Variance\n",
    "\n",
    "According to the previous tests, the hypothesis required to perform the Analysis of Variance test seem to hold. \n",
    "\n",
    "We consider a significance level of 5%."
   ]
  },
  {
   "cell_type": "code",
   "execution_count": 12,
   "metadata": {},
   "outputs": [
    {
     "data": {
      "text/plain": [
       "              Df Sum Sq Mean Sq F value Pr(>F)    \n",
       "BIRTHPLACE.F   2   6705    3353     299 <2e-16 ***\n",
       "Residuals    168   1884      11                   \n",
       "---\n",
       "Signif. codes:  0 ‘***’ 0.001 ‘**’ 0.01 ‘*’ 0.05 ‘.’ 0.1 ‘ ’ 1"
      ]
     },
     "metadata": {},
     "output_type": "display_data"
    }
   ],
   "source": [
    "Anova <-  aov(CHILD ~ BIRTHPLACE.F,data=Data)\n",
    "summary(Anova)"
   ]
  },
  {
   "cell_type": "markdown",
   "metadata": {},
   "source": [
    "#### Explanation:\n",
    "\n",
    "The value of the statistical pivot of the test is 299 and the p-value is smaller than 0.0001. Therefore, since the p-value is smaller than the significance level (in this case 0.05), we conclude that there are differences on the mean height depending on the birthplace. "
   ]
  },
  {
   "cell_type": "markdown",
   "metadata": {},
   "source": [
    "### Multiple Comparisons\n",
    "\n",
    "We know that the mean of the heights of the kids is not the same in the different birthplaces under consideration. Now, we go beyond this result and aim to known which are different. To this purpose, we use the analysis of multiple comparisons. There are different methods, but the most used ones are Scheffe and Tukey. We will use the Tukey method. \n",
    "\n",
    "Let us consider a significance level of 2%."
   ]
  },
  {
   "cell_type": "code",
   "execution_count": 15,
   "metadata": {},
   "outputs": [
    {
     "data": {
      "text/plain": [
       "\n",
       "\t Simultaneous Tests for General Linear Hypotheses\n",
       "\n",
       "Multiple Comparisons of Means: Tukey Contrasts\n",
       "\n",
       "\n",
       "Fit: aov(formula = CHILD ~ BIRTHPLACE.F, data = Data)\n",
       "\n",
       "Linear Hypotheses:\n",
       "                         Estimate Std. Error t value Pr(>|t|)    \n",
       "Vizcaya - Alava == 0     14.94528    0.65134  22.945   <1e-06 ***\n",
       "Guipuzcoa - Alava == 0   14.88821    0.71537  20.812   <1e-06 ***\n",
       "Guipuzcoa - Vizcaya == 0 -0.05707    0.60083  -0.095    0.995    \n",
       "---\n",
       "Signif. codes:  0 ‘***’ 0.001 ‘**’ 0.01 ‘*’ 0.05 ‘.’ 0.1 ‘ ’ 1\n",
       "(Adjusted p values reported -- single-step method)\n"
      ]
     },
     "metadata": {},
     "output_type": "display_data"
    }
   ],
   "source": [
    "# load the following package (and install it if you are using it for the first time\n",
    "library(multcomp)\n",
    "comp_Tukey <- glht(Anova, linfct = mcp(BIRTHPLACE.F = \"Tukey\"))\n",
    "summary(comp_Tukey)"
   ]
  },
  {
   "cell_type": "markdown",
   "metadata": {},
   "source": [
    "#### Explanation:\n",
    "\n",
    "There are three different tests:\n",
    "\n",
    "* The first hypothesis test contrasts the difference between the mean heights of the kids of Vizcaya ($\\mu_V$) and of Alava ($\\mu_A$), that is, \n",
    "\n",
    "$$H_0: \\mu_{V}  =  \\mu_{A}$$\n",
    "$$H_1: \\mu_{V}\\neq \\mu_{A}$$\n",
    "\n",
    "For this test, we see that the value of the statistic is 22.945 and of the p-value is smaller than 0.0001. Therefore, Por tanto, $\\mu_{V}\\neq \\mu_{A}$ with a significance level of 5%.\n",
    "\n",
    "* The second test contrasts the difference on the mean of the height of the kids of Guipuzcoa ($\\mu_G$) and of Alava, that is, \n",
    "\n",
    "$$H_0: \\mu_{G}  =  \\mu_{A}$$\n",
    "$$H_1: \\mu_{G}\\neq \\mu_{A}$$\n",
    "\n",
    "For this test, we see that the value of the statistic is 20.812 and of the p-value is 0.0001. Therefore, $\\mu_{G}\\neq \\mu_{A}$ with a significance level of 5%\n",
    "\n",
    "* The third test constrast the difference between the mean height of the kids in Guipuzkoa and of Vizcaya, that is, \n",
    "\n",
    "$$H_0: \\mu_{G}  =  \\mu_{V}$$\n",
    "$$H_1: \\mu_{G}\\neq \\mu_{V}$$\n",
    "\n",
    "For this test, the value of the statistic is -0.095 and of the p-value is 0.995. Therefore, we cannot conclude that $\\mu_{G}\\neq \\mu_{V}$ with a significance level of 5%. \n",
    "\n",
    "#### Conclusion:\n",
    "\n",
    "The mean height of the kids of Alava is different to the mean height of the kids of Guipuzkoa of and ot the mean height of the kids of Vizcaya. However, we cannot conclude that there exists a significance different between the mean height of kid in Vizcaya and Guipuzcoa.\n"
   ]
  },
  {
   "cell_type": "markdown",
   "metadata": {},
   "source": [
    "## Confidence Intervals\n",
    "\n",
    "We know more about the differences between the three populations. To know which of the means is larger, we use the confidence intervals. "
   ]
  },
  {
   "cell_type": "code",
   "execution_count": 16,
   "metadata": {},
   "outputs": [
    {
     "data": {
      "text/plain": [
       "\n",
       "\t Simultaneous Confidence Intervals\n",
       "\n",
       "Multiple Comparisons of Means: Tukey Contrasts\n",
       "\n",
       "\n",
       "Fit: aov(formula = CHILD ~ BIRTHPLACE.F, data = Data)\n",
       "\n",
       "Quantile = 2.3617\n",
       "95% family-wise confidence level\n",
       " \n",
       "\n",
       "Linear Hypotheses:\n",
       "                         Estimate lwr      upr     \n",
       "Vizcaya - Alava == 0     14.94528 13.40701 16.48355\n",
       "Guipuzcoa - Alava == 0   14.88821 13.19871 16.57770\n",
       "Guipuzcoa - Vizcaya == 0 -0.05707 -1.47604  1.36190\n"
      ]
     },
     "metadata": {},
     "output_type": "display_data"
    }
   ],
   "source": [
    "confint(comp_Tukey)"
   ]
  },
  {
   "cell_type": "markdown",
   "metadata": {},
   "source": [
    "#### Explanation:\n",
    "\n",
    "We have computed the following three confidence intervals:\n",
    "$$I_{\\mu_V-\\mu_A}^{0.95}=(13.40743,16.48313)$$\n",
    "$$I_{\\mu_G-\\mu_A}^{0.95}=(13.19917,16.57724)$$\n",
    "$$I_{\\mu_G-\\mu_A}^{0.95}=(-1.47566,1.36151)$$\n",
    "\n",
    "From the first CI, we conclude that $$\\mu_A<\\mu_V$$ and from the second one that$$\\mu_A<\\mu_G.$$ \n",
    "\n",
    "Therefore, we conclude that the mean height of the kids of Alava is smaller than the mean height of the kids of Vizcaya and Guipuzcoa."
   ]
  },
  {
   "cell_type": "code",
   "execution_count": null,
   "metadata": {},
   "outputs": [],
   "source": []
  }
 ],
 "metadata": {
  "kernelspec": {
   "display_name": "R",
   "language": "R",
   "name": "ir"
  },
  "language_info": {
   "codemirror_mode": "r",
   "file_extension": ".r",
   "mimetype": "text/x-r-source",
   "name": "R",
   "pygments_lexer": "r",
   "version": "4.1.2"
  }
 },
 "nbformat": 4,
 "nbformat_minor": 2
}
