{
 "cells": [
  {
   "cell_type": "markdown",
   "metadata": {},
   "source": [
    "# Analisis de la Varianza: Ejemplo de Fertilizante\n",
    "\n",
    "Se quieren comparar la calidad de la tierra para 4 fertilizantes. Para ello, se han tomado 16 trozos de tierra de las mismas características al azar, se han dividido en cuatro grupos de igual tamaño y a cada uno de ellos se les ha usado un tipo de fertilizante distinto. Los resultados se dan en quintales/HA. Considerar un nivel de significación del $5\\%$.\n",
    "\n"
   ]
  },
  {
   "cell_type": "code",
   "execution_count": 6,
   "metadata": {},
   "outputs": [
    {
     "name": "stdout",
     "output_type": "stream",
     "text": [
      "tibble [16 × 2] (S3: tbl_df/tbl/data.frame)\n",
      " $ Mejora: num [1:16] 218 198 215 174 263 201 219 226 274 248 ...\n",
      " $ Tipo  : chr [1:16] \"A\" \"A\" \"A\" \"A\" ...\n"
     ]
    }
   ],
   "source": [
    "# leer datos\n",
    "Datos <-read_excel(\"AOV_Fertilizante.xls\")\n",
    "# ver tipo de variables de los datos\n",
    "str(Datos)\n",
    "# Pasar la variable Tipo a factor (necesario para después)\n",
    "Datos$Tipo.f <-as.factor(Datos$Tipo)"
   ]
  },
  {
   "cell_type": "markdown",
   "metadata": {},
   "source": [
    "Comenzamos por dar presentar cosas vistas en estadística descriptiva."
   ]
  },
  {
   "cell_type": "code",
   "execution_count": 10,
   "metadata": {},
   "outputs": [
    {
     "data": {
      "text/plain": [
       "    mean       sd  0%    25%   50%    75% 100% Mejora:n\n",
       "A 201.25 20.18869 174 192.00 206.5 215.75  218        4\n",
       "B 227.25 26.05603 201 214.50 222.5 235.25  263        4\n",
       "C 272.50 37.54553 243 246.75 261.0 286.75  325        4\n",
       "D 222.00 65.13064 180 182.25 195.0 234.75  318        4"
      ]
     },
     "metadata": {},
     "output_type": "display_data"
    }
   ],
   "source": [
    "#install.packages(\"RcmdrMisc\")\n",
    "library(\"RcmdrMisc\")\n",
    "numSummary(Datos[,\"Mejora\"], groups=Datos$Tipo.f,  statistics=c(\"mean\", \"sd\", \"quantiles\"), quantiles=c(0,.25,.5,.75,1))"
   ]
  },
  {
   "cell_type": "markdown",
   "metadata": {},
   "source": [
    "Vemos que las medias obtenidas en la muestra son bastante distintas. ¿Qué podemos decir sobre las medias poblacionales?"
   ]
  },
  {
   "cell_type": "markdown",
   "metadata": {},
   "source": [
    "### Verificamos normalidad"
   ]
  },
  {
   "cell_type": "code",
   "execution_count": 11,
   "metadata": {},
   "outputs": [
    {
     "data": {
      "text/plain": [
       "\n",
       "\tShapiro-Wilk normality test\n",
       "\n",
       "data:  Datos$Mejora[Datos$Tipo == \"A\"]\n",
       "W = 0.89425, p-value = 0.4031\n"
      ]
     },
     "metadata": {},
     "output_type": "display_data"
    }
   ],
   "source": [
    "shapiro.test(Datos$Mejora[Datos$Tipo==\"A\"])"
   ]
  },
  {
   "cell_type": "markdown",
   "metadata": {},
   "source": [
    "El test de Shapiro-wilk realizar un contraste en el que $H_0$ es que los datos siguen una distribución normal. En este caso, hemos tenido en cuenta solo los datos del fertilizante A. El valor del estadístico es 0.89425  y el p-valor 0.4301. Por tanto, con nivel de significación del $5\\%$, no se rechaza la normalidad de los datos del fertilizante A.\n",
    "\n",
    "#### Nota: \n",
    "* Con los fertilizantes B, C y D debemos de proceder de la misma forma.\n",
    "* Si el tamaño muestral es superior a $30$, es preferible usar el test de Kolmogorov-Smirnoff (ks.test)\n",
    "\n",
    "### Varianzas Iguales"
   ]
  },
  {
   "cell_type": "code",
   "execution_count": 12,
   "metadata": {},
   "outputs": [
    {
     "data": {
      "text/html": [
       "<table>\n",
       "<caption>A anova: 2 × 3</caption>\n",
       "<thead>\n",
       "\t<tr><th></th><th scope=col>Df</th><th scope=col>F value</th><th scope=col>Pr(&gt;F)</th></tr>\n",
       "\t<tr><th></th><th scope=col>&lt;int&gt;</th><th scope=col>&lt;dbl&gt;</th><th scope=col>&lt;dbl&gt;</th></tr>\n",
       "</thead>\n",
       "<tbody>\n",
       "\t<tr><th scope=row>group</th><td> 3</td><td>1.804026</td><td>0.2000296</td></tr>\n",
       "\t<tr><th scope=row> </th><td>12</td><td>      NA</td><td>       NA</td></tr>\n",
       "</tbody>\n",
       "</table>\n"
      ],
      "text/latex": [
       "A anova: 2 × 3\n",
       "\\begin{tabular}{r|lll}\n",
       "  & Df & F value & Pr(>F)\\\\\n",
       "  & <int> & <dbl> & <dbl>\\\\\n",
       "\\hline\n",
       "\tgroup &  3 & 1.804026 & 0.2000296\\\\\n",
       "\t  & 12 &       NA &        NA\\\\\n",
       "\\end{tabular}\n"
      ],
      "text/markdown": [
       "\n",
       "A anova: 2 × 3\n",
       "\n",
       "| <!--/--> | Df &lt;int&gt; | F value &lt;dbl&gt; | Pr(&gt;F) &lt;dbl&gt; |\n",
       "|---|---|---|---|\n",
       "| group |  3 | 1.804026 | 0.2000296 |\n",
       "| <!----> | 12 |       NA |        NA |\n",
       "\n"
      ],
      "text/plain": [
       "      Df F value  Pr(>F)   \n",
       "group  3 1.804026 0.2000296\n",
       "      12       NA        NA"
      ]
     },
     "metadata": {},
     "output_type": "display_data"
    }
   ],
   "source": [
    "leveneTest(Datos$Mejora, Datos$Tipo.f, center=mean) "
   ]
  },
  {
   "cell_type": "markdown",
   "metadata": {},
   "source": [
    "El test de Levene realiza un contraste en el que $H_0$ es que las varianzas son iguales. En este caso, el valor del estadístico es 1.804026, los grados de libertad 3 y el p-valor 0.2000296. Por consiguiente, a un nivel de significación del $5\\%$, no se rechaza la igualdad de varianzas.\n",
    "\n",
    "Por tanto, todo indica que estamos en las condiciones para realizar el Analisis de la Varianza. Hemos de realizar el siguiente contraste de hipótesis: \n",
    "\n",
    "$H_0:\\ \\mu_A=\\mu_B=\\mu_C=\\mu_D$\n",
    "\n",
    "$H_1: \\exists i,j$ donde $\\mu_j\\neq \\mu_i$\n",
    "\n"
   ]
  },
  {
   "cell_type": "code",
   "execution_count": 13,
   "metadata": {},
   "outputs": [
    {
     "data": {
      "text/plain": [
       "            Df Sum Sq Mean Sq F value Pr(>F)\n",
       "Tipo.f       3  10808    3603   2.139  0.149\n",
       "Residuals   12  20214    1685               "
      ]
     },
     "metadata": {},
     "output_type": "display_data"
    }
   ],
   "source": [
    "Anova <-  aov(Mejora ~ Tipo.f, data=Datos)\n",
    "summary(Anova)"
   ]
  },
  {
   "cell_type": "markdown",
   "metadata": {},
   "source": [
    "Hemos obtenido un p-valor de 0.1486, que es superior a 0.05. Por consiguiente, no rechazamos $H_0$ y, por tanto, no hay diferencia significativa en las medias poblaciones con un nivel de significación del $5\\%$. Entonces, con un nivel de significación del $5\\%$, no hay diferencia en la mejora de la calidad de la tierra entre los distintos tipos de fertilizante considerado."
   ]
  },
  {
   "cell_type": "code",
   "execution_count": null,
   "metadata": {},
   "outputs": [],
   "source": []
  }
 ],
 "metadata": {
  "kernelspec": {
   "display_name": "R",
   "language": "R",
   "name": "ir"
  },
  "language_info": {
   "codemirror_mode": "r",
   "file_extension": ".r",
   "mimetype": "text/x-r-source",
   "name": "R",
   "pygments_lexer": "r",
   "version": "3.6.3"
  }
 },
 "nbformat": 4,
 "nbformat_minor": 2
}
