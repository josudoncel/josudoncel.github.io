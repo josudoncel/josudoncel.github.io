{
 "cells": [
  {
   "cell_type": "markdown",
   "metadata": {},
   "source": [
    "# Bariantza Analisia: Tratamenduen hobekuntzaren adibidea\n",
    "\n",
    "Hiru tratamendu ezberdin erabili ondoren, lorturiko hobekuntza portzentajeak aztertu nahi dugu (datuak 3. gaiko teoriaren 2. adibidean daude).Hobekuntza   portzentajearen   banaketa   normala   da.   Hiru   taldeen   batezbesteko   hobekuntza portzentaien arteko diferentzia adierazgarririk al dago? \n",
    "\n"
   ]
  },
  {
   "cell_type": "code",
   "execution_count": 25,
   "metadata": {},
   "outputs": [
    {
     "name": "stdout",
     "output_type": "stream",
     "text": [
      "Classes ‘tbl_df’, ‘tbl’ and 'data.frame':\t35 obs. of  3 variables:\n",
      " $ Hobekuntza   : num  48.6 49.4 50.1 49.8 50.6 50.8 47.1 52.5 49 46.7 ...\n",
      " $ Tratamendua  : chr  \"I\" \"I\" \"I\" \"I\" ...\n",
      " $ Tratamendua.f: Factor w/ 3 levels \"I\",\"II\",\"III\": 1 1 1 1 1 1 1 1 1 1 ...\n"
     ]
    }
   ],
   "source": [
    "# excel datuak irakurri\n",
    " library(\"readxl\")\n",
    "Hobekuntza <-read_excel(\"Hobekuntza.xls\")\n",
    "\n",
    "\n",
    "# tratamendua aldagaia faktorera aldatuko dugu eta hobekuntza numerikora\n",
    "Hobekuntza$Tratamendua.f <-factor(hobekuntza$Tratamendua)\n",
    "Hobekuntza$Hobekuntza <-as.numeric(hobekuntza$Hobekuntza)\n",
    "str(Hobekuntza)\n",
    "#Hobekuntza"
   ]
  },
  {
   "cell_type": "markdown",
   "metadata": {},
   "source": [
    "Hasteko, etekinaren deskribapena egin dezakegu, ongarri motaren arabera: "
   ]
  },
  {
   "cell_type": "code",
   "execution_count": 28,
   "metadata": {},
   "outputs": [
    {
     "data": {
      "text/plain": [
       "        mean       sd   0%   25%  50%    75% 100% Hobekuntza:n\n",
       "I   49.46000 1.732179 46.7 48.70 49.6 50.475 52.5           10\n",
       "II  68.73333 2.000606 64.5 67.95 68.6 69.950 71.9           12\n",
       "III 63.60000 2.222236 60.5 62.30 63.2 64.800 67.5           13"
      ]
     },
     "metadata": {},
     "output_type": "display_data"
    }
   ],
   "source": [
    "#install.packages(\"RcmdrMisc\")\n",
    "library(\"RcmdrMisc\")\n",
    "numSummary(Hobekuntza[,\"Hobekuntza\"], groups=Hobekuntza$Tratamendua.f,    \n",
    "           statistics = c(\"mean\", \"sd\", \"quantiles\"), quantiles=c(0,.25,.5,.75,1))"
   ]
  },
  {
   "cell_type": "markdown",
   "metadata": {},
   "source": [
    "Datuen normalitatea enuntziatuan adierazten da, beraz ez dugu egiaztatzen\n",
    "\n",
    "### Bariantzen homogeneotasuna"
   ]
  },
  {
   "cell_type": "code",
   "execution_count": 31,
   "metadata": {},
   "outputs": [
    {
     "data": {
      "text/html": [
       "<table>\n",
       "<caption>A anova: 2 × 3</caption>\n",
       "<thead>\n",
       "\t<tr><th></th><th scope=col>Df</th><th scope=col>F value</th><th scope=col>Pr(&gt;F)</th></tr>\n",
       "\t<tr><th></th><th scope=col>&lt;int&gt;</th><th scope=col>&lt;dbl&gt;</th><th scope=col>&lt;dbl&gt;</th></tr>\n",
       "</thead>\n",
       "<tbody>\n",
       "\t<tr><th scope=row>group</th><td> 2</td><td>0.4913992</td><td>0.6163106</td></tr>\n",
       "\t<tr><th scope=row> </th><td>32</td><td>       NA</td><td>       NA</td></tr>\n",
       "</tbody>\n",
       "</table>\n"
      ],
      "text/latex": [
       "A anova: 2 × 3\n",
       "\\begin{tabular}{r|lll}\n",
       "  & Df & F value & Pr(>F)\\\\\n",
       "  & <int> & <dbl> & <dbl>\\\\\n",
       "\\hline\n",
       "\tgroup &  2 & 0.4913992 & 0.6163106\\\\\n",
       "\t  & 32 &        NA &        NA\\\\\n",
       "\\end{tabular}\n"
      ],
      "text/markdown": [
       "\n",
       "A anova: 2 × 3\n",
       "\n",
       "| <!--/--> | Df &lt;int&gt; | F value &lt;dbl&gt; | Pr(&gt;F) &lt;dbl&gt; |\n",
       "|---|---|---|---|\n",
       "| group |  2 | 0.4913992 | 0.6163106 |\n",
       "| <!----> | 32 |        NA |        NA |\n",
       "\n"
      ],
      "text/plain": [
       "      Df F value   Pr(>F)   \n",
       "group  2 0.4913992 0.6163106\n",
       "      32        NA        NA"
      ]
     },
     "metadata": {},
     "output_type": "display_data"
    }
   ],
   "source": [
    "leveneTest(Hobekuntza$Hobekuntza, Hobekuntza$Tratamendua.f, center=mean) "
   ]
  },
  {
   "cell_type": "markdown",
   "metadata": {},
   "source": [
    "Ez dugu bariantzen berdintasuna baztertzen.\n",
    "\n",
    "Beraz  bariantza-analisia  metodo  egokia  da  datu  horiek  aztertzeko.  Kontrastatu  behar  ditugun hipotesiak hauek dira: \n",
    "\n",
    "$H_0:\\ \\mu_I=\\mu_{II}=\\mu_{III}$\n",
    "\n",
    "$H_1: \\exists i,j$ non $\\mu_j\\neq \\mu_i$\n",
    "\n"
   ]
  },
  {
   "cell_type": "code",
   "execution_count": 33,
   "metadata": {},
   "outputs": [
    {
     "data": {
      "text/plain": [
       "              Df Sum Sq Mean Sq F value Pr(>F)    \n",
       "Tratamendua.f  2 2133.7  1066.8     262 <2e-16 ***\n",
       "Residuals     32  130.3     4.1                   \n",
       "---\n",
       "Signif. codes:  0 ‘***’ 0.001 ‘**’ 0.01 ‘*’ 0.05 ‘.’ 0.1 ‘ ’ 1"
      ]
     },
     "metadata": {},
     "output_type": "display_data"
    }
   ],
   "source": [
    "Anova2 <-  aov(Hobekuntza ~ Tratamendua.f, data=Hobekuntza)\n",
    "summary(Anova2)"
   ]
  },
  {
   "cell_type": "markdown",
   "metadata": {},
   "source": [
    "p-balioa < 0.0001 denez, batezbestekoen berdintasuna errefusatzen dugu. Ondorioz, acne-ren lesio-kopuruan  pazienteak  izan  duen  batez  besteko  hobekuntza  portzentajea  tratamenduaren  menpekoa dela esan dezakegu. \n",
    "\n",
    "\n",
    "Tratamendu  guztiak  ezberdinak  al  dira?  Galdera  honi  erantzuteko kontraste  anizkoitzak  erabili behar  ditugu.  Metodo  ezberdinak  daude,  baina  gehien  erabiltzen  direnak Scheffé  eta Tukey-ren metodoak  dira.  Azken  metodoa  ahaltsuena  da,  baina  taldeen  tamainak  berdinak  izan  behar  dira. Lehenengoa, aldiz, edozein kasutan erabil daiteke eta zabalduena da, baina metodo kontserbadorea da eta Tukey-ren metodoak baino p-balio handiagoak ematen ditu."
   ]
  },
  {
   "cell_type": "code",
   "execution_count": 34,
   "metadata": {},
   "outputs": [
    {
     "data": {
      "text/plain": [
       "        mean       sd data:n\n",
       "I   49.46000 1.732179     10\n",
       "II  68.73333 2.000606     12\n",
       "III 63.60000 2.222236     13"
      ]
     },
     "metadata": {},
     "output_type": "display_data"
    }
   ],
   "source": [
    "numSummary(Hobekuntza$Hobekuntza , groups=Hobekuntza$Tratamendua,    statistics=c(\"mean\", \"sd\")) "
   ]
  },
  {
   "cell_type": "code",
   "execution_count": 45,
   "metadata": {},
   "outputs": [
    {
     "data": {
      "text/plain": [
       "\n",
       "\t Simultaneous Tests for General Linear Hypotheses\n",
       "\n",
       "Multiple Comparisons of Means: Tukey Contrasts\n",
       "\n",
       "\n",
       "Fit: aov(formula = Hobekuntza ~ Tratamendua.f, data = Hobekuntza)\n",
       "\n",
       "Linear Hypotheses:\n",
       "              Estimate Std. Error t value Pr(>|t|)    \n",
       "II - I == 0    19.2733     0.8640  22.308   <1e-06 ***\n",
       "III - I == 0   14.1400     0.8487  16.660   <1e-06 ***\n",
       "III - II == 0  -5.1333     0.8078  -6.355   <1e-06 ***\n",
       "---\n",
       "Signif. codes:  0 ‘***’ 0.001 ‘**’ 0.01 ‘*’ 0.05 ‘.’ 0.1 ‘ ’ 1\n",
       "(Adjusted p values reported -- single-step method)\n"
      ]
     },
     "metadata": {},
     "output_type": "display_data"
    },
    {
     "data": {
      "text/plain": [
       "\n",
       "\t Simultaneous Confidence Intervals\n",
       "\n",
       "Multiple Comparisons of Means: Tukey Contrasts\n",
       "\n",
       "\n",
       "Fit: aov(formula = Hobekuntza ~ Tratamendua.f, data = Hobekuntza)\n",
       "\n",
       "Quantile = 2.4574\n",
       "95% family-wise confidence level\n",
       " \n",
       "\n",
       "Linear Hypotheses:\n",
       "              Estimate lwr     upr    \n",
       "II - I == 0   19.2733  17.1502 21.3965\n",
       "III - I == 0  14.1400  12.0543 16.2257\n",
       "III - II == 0 -5.1333  -7.1184 -3.1483\n"
      ]
     },
     "metadata": {},
     "output_type": "display_data"
    }
   ],
   "source": [
    "library(multcomp)\n",
    "# aurreko paketea kargatu behar da glht komandoa erabiltzeko\n",
    "binakakoTukey <- glht(Anova2, linfct = mcp(Tratamendua.f = \"Tukey\"))\n",
    "summary(binakakoTukey)\n",
    "confint(binakakoTukey)"
   ]
  },
  {
   "cell_type": "markdown",
   "metadata": {},
   "source": [
    "Orain, p-balioak begiratuz,  ikusten  da  binakako  konparazio  guztiak  adierazgarriak  direla,  hau  da,  tratamendu  guztiak ezberdinak direla.\n",
    "\n",
    "Konfiantza-tarteak begiratuz, berriz, ondokoa ondorioztatzen dugu:  II  -  I  diferentziarako  konfidantza-tartearen  muga  biak  positiboak  direnez, ondorioztatzen dugu $\\mu_2>\\mu_1$ dela. III  –  I  diferentziarako  konfidantza-tartearen  muga biak  positiboak  direnez, ondorioztatzen dugu $\\mu_3 > \\mu_1$ dela. III  –  II  diferentziarako  konfidantza-tartearen  muga  biak  negatiboak  direnez, ondorioztatzen dugu $\\mu_3 < \\mu_2$ dela. Beraz, $\\mu_2 > \\mu_3 > \\mu_1$ betetzen da. Tratamendurik hoberena II da, gero III eta txarrena I. \n",
    "\n",
    "Konfidantza-tarte horien irudia ere lor dezakegu: "
   ]
  },
  {
   "cell_type": "code",
   "execution_count": 46,
   "metadata": {},
   "outputs": [
    {
     "data": {
      "image/png": "[encoded data removed]",
      "text/plain": [
       "Plot with title “95% family-wise confidence level\n",
       "”"
      ]
     },
     "metadata": {
      "image/png": {
       "height": 420,
       "width": 420
      }
     },
     "output_type": "display_data"
    }
   ],
   "source": [
    "plot(confint(binakakoTukey))"
   ]
  },
  {
   "cell_type": "code",
   "execution_count": null,
   "metadata": {},
   "outputs": [],
   "source": []
  }
 ],
 "metadata": {
  "kernelspec": {
   "display_name": "R",
   "language": "R",
   "name": "ir"
  },
  "language_info": {
   "codemirror_mode": "r",
   "file_extension": ".r",
   "mimetype": "text/x-r-source",
   "name": "R",
   "pygments_lexer": "r",
   "version": "3.4.4"
  }
 },
 "nbformat": 4,
 "nbformat_minor": 2
}
