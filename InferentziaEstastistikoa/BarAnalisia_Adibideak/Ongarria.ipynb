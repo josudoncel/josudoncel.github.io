{
 "cells": [
  {
   "cell_type": "markdown",
   "metadata": {},
   "source": [
    "# Bariantza Analisia: Ongarriaren adibidea\n",
    "\n",
    "Galsoroen batez besteko etekinerako ongarri motaren eragin posiblea aztertu nahi da. Honetarako, 16 lur-zati homogeneo aukeratu, banaka banatu zoriz eta talde bakoitzekoak ongarri mota berdinaz erein dira. Lorturiko emaitzak  kintale/Ha-kotan izan dira (begiratu 3. gaiko teoriaren 1. adibidea). \n",
    "\n"
   ]
  },
  {
   "cell_type": "code",
   "execution_count": 2,
   "metadata": {},
   "outputs": [
    {
     "name": "stderr",
     "output_type": "stream",
     "text": [
      "readxl works best with a newer version of the tibble package.\n",
      "You currently have tibble v1.4.1.\n",
      "Falling back to column name repair from tibble <= v1.4.2.\n",
      "Message displays once per session.\n",
      "\n"
     ]
    },
    {
     "name": "stdout",
     "output_type": "stream",
     "text": [
      "Classes ‘tbl_df’, ‘tbl’ and 'data.frame':\t16 obs. of  2 variables:\n",
      " $ Etekina    : num  218 198 215 174 263 201 219 226 274 248 ...\n",
      " $ Ongarrimota: chr  \"A\" \"A\" \"A\" \"A\" ...\n"
     ]
    }
   ],
   "source": [
    "# excel datuak irakurri\n",
    " library(\"readxl\")\n",
    "ongarria <-read_excel(\"Ongarria.xls\")\n",
    "str(ongarria)\n",
    "#Ongarrimota aldagaia faktorera aldatuko dugu\n",
    "ongarria$Ongarrimota.f <-as.factor(ongarria$Ongarrimota)"
   ]
  },
  {
   "cell_type": "markdown",
   "metadata": {},
   "source": [
    "Hasteko, etekinaren deskribapena egin dezakegu, ongarri motaren arabera: "
   ]
  },
  {
   "cell_type": "code",
   "execution_count": 30,
   "metadata": {},
   "outputs": [
    {
     "data": {
      "text/plain": [
       "    mean       sd  0%    25%   50%    75% 100% Etekina:n\n",
       "A 201.25 20.18869 174 192.00 206.5 215.75  218         4\n",
       "B 227.25 26.05603 201 214.50 222.5 235.25  263         4\n",
       "C 272.50 37.54553 243 246.75 261.0 286.75  325         4\n",
       "D 222.00 65.13064 180 182.25 195.0 234.75  318         4"
      ]
     },
     "metadata": {},
     "output_type": "display_data"
    }
   ],
   "source": [
    "#install.packages(\"RcmdrMisc\")\n",
    "#library(\"RcmdrMisc\")\n",
    "numSummary(ongarria[,\"Etekina\"], groups=ongarria$Ongarrimota.f,  statistics=c(\"mean\", \"sd\", \"quantiles\"), quantiles=c(0,.25,.5,.75,1))"
   ]
  },
  {
   "cell_type": "markdown",
   "metadata": {},
   "source": [
    "### Normalitatea egiaztatu"
   ]
  },
  {
   "cell_type": "code",
   "execution_count": 9,
   "metadata": {},
   "outputs": [
    {
     "data": {
      "text/plain": [
       "\n",
       "\tShapiro-Wilk normality test\n",
       "\n",
       "data:  ongarria$Etekina[ongarria$Ongarrimota == \"A\"]\n",
       "W = 0.89425, p-value = 0.4031\n"
      ]
     },
     "metadata": {},
     "output_type": "display_data"
    },
    {
     "ename": "ERROR",
     "evalue": "Error in ks.test(ongarria$Etekina[ongarria$Ongarrimota == \"A\"]): argument \"y\" is missing, with no default\n",
     "output_type": "error",
     "traceback": [
      "Error in ks.test(ongarria$Etekina[ongarria$Ongarrimota == \"A\"]): argument \"y\" is missing, with no default\nTraceback:\n",
      "1. ks.test(ongarria$Etekina[ongarria$Ongarrimota == \"A\"])"
     ]
    }
   ],
   "source": [
    "shapiro.test(ongarria$Etekina[ongarria$Ongarrimota==\"A\"])\n",
    "ks.test(ongarria$Etekina[ongarria$Ongarrimota==\"A\"],pnor)"
   ]
  },
  {
   "cell_type": "markdown",
   "metadata": {},
   "source": [
    "A ongarri motaren etekinaren normaltasuna aztertzean, Shapiro-wilken testaren estatistikoaren balioa 0.89415 da eta p-balioa 0.4301. Hortaz, $\\%5$eko adierazgarritasun mailaz, ez dugu A ongarri motaren etekinaren normaltasuna baztertzen.\n",
    "\n",
    "#### Oharrak: \n",
    "* B, C eta D ongarri moten etekinaren normaltasuna, modu berdinean egiaztatzen da.\n",
    "* Normaltasuna egiaztatu nahi den laginaren tamaina $30$ baino handiagoa bada, Kolmogorov-Smirnoff erabili behar da (ks.test erabiliz)\n",
    "\n",
    "### Bariantzen homogeneotasuna"
   ]
  },
  {
   "cell_type": "code",
   "execution_count": 32,
   "metadata": {},
   "outputs": [
    {
     "data": {
      "text/html": [
       "<table>\n",
       "<caption>A anova: 2 × 3</caption>\n",
       "<thead>\n",
       "\t<tr><th></th><th scope=col>Df</th><th scope=col>F value</th><th scope=col>Pr(&gt;F)</th></tr>\n",
       "\t<tr><th></th><th scope=col>&lt;int&gt;</th><th scope=col>&lt;dbl&gt;</th><th scope=col>&lt;dbl&gt;</th></tr>\n",
       "</thead>\n",
       "<tbody>\n",
       "\t<tr><th scope=row>group</th><td> 3</td><td>1.804026</td><td>0.2000296</td></tr>\n",
       "\t<tr><th scope=row> </th><td>12</td><td>      NA</td><td>       NA</td></tr>\n",
       "</tbody>\n",
       "</table>\n"
      ],
      "text/latex": [
       "A anova: 2 × 3\n",
       "\\begin{tabular}{r|lll}\n",
       "  & Df & F value & Pr(>F)\\\\\n",
       "  & <int> & <dbl> & <dbl>\\\\\n",
       "\\hline\n",
       "\tgroup &  3 & 1.804026 & 0.2000296\\\\\n",
       "\t  & 12 &       NA &        NA\\\\\n",
       "\\end{tabular}\n"
      ],
      "text/markdown": [
       "\n",
       "A anova: 2 × 3\n",
       "\n",
       "| <!--/--> | Df &lt;int&gt; | F value &lt;dbl&gt; | Pr(&gt;F) &lt;dbl&gt; |\n",
       "|---|---|---|---|\n",
       "| group |  3 | 1.804026 | 0.2000296 |\n",
       "| <!----> | 12 |       NA |        NA |\n",
       "\n"
      ],
      "text/plain": [
       "      Df F value  Pr(>F)   \n",
       "group  3 1.804026 0.2000296\n",
       "      12       NA        NA"
      ]
     },
     "metadata": {},
     "output_type": "display_data"
    }
   ],
   "source": [
    "leveneTest(ongarria$Etekina, ongarria$Ongarrimota.f, center=mean) "
   ]
  },
  {
   "cell_type": "markdown",
   "metadata": {},
   "source": [
    "Leveneren testaren estatistikoaren balioa 1.804026 da, askatasun graduak 3 eta p-balioa 0.2000296. Hortaz, $\\%5$eko adierazgarritasun mailaz, ez dugu bariantzen berdintasuna baztertzen.\n",
    "\n",
    "Beraz  bariantza-analisia  metodo  egokia  da  datu  horiek  aztertzeko.  Kontrastatu  behar  ditugun hipotesiak hauek dira: \n",
    "\n",
    "$H_0:\\ \\mu_A=\\mu_B=\\mu_C=\\mu_D$\n",
    "\n",
    "$H_1: \\exists i,j$ non $\\mu_j\\neq \\mu_i$\n",
    "\n"
   ]
  },
  {
   "cell_type": "code",
   "execution_count": 33,
   "metadata": {},
   "outputs": [
    {
     "data": {
      "text/plain": [
       "              Df Sum Sq Mean Sq F value Pr(>F)\n",
       "Ongarrimota.f  3  10808    3603   2.139  0.149\n",
       "Residuals     12  20214    1685               "
      ]
     },
     "metadata": {},
     "output_type": "display_data"
    }
   ],
   "source": [
    "Anova <-  aov(Etekina ~ Ongarrimota.f, data=ongarria)\n",
    "summary(Anova)"
   ]
  },
  {
   "cell_type": "markdown",
   "metadata": {},
   "source": [
    "p-balioa = 0.1486 > 0.05 denez, ez dugu $H_0$ errefusatzen eta, beraz, lau populazioen batez besteko etekinen arteko desberdintasun adierazgarririk ez dago. Orduan, datu hauen arabera, ongarri motak batez besteko etekinean eraginik ez duela esango dugu. "
   ]
  },
  {
   "cell_type": "code",
   "execution_count": null,
   "metadata": {},
   "outputs": [],
   "source": []
  }
 ],
 "metadata": {
  "kernelspec": {
   "display_name": "R",
   "language": "R",
   "name": "ir"
  },
  "language_info": {
   "codemirror_mode": "r",
   "file_extension": ".r",
   "mimetype": "text/x-r-source",
   "name": "R",
   "pygments_lexer": "r",
   "version": "3.4.4"
  }
 },
 "nbformat": 4,
 "nbformat_minor": 2
}
