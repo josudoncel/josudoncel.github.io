{
 "cells": [
  {
   "cell_type": "markdown",
   "metadata": {},
   "source": [
    "# Analysis of Variance: Example of Fertilizers \n",
    "\n",
    "You want to compare the quality of the soil for 4 fertilizers. To do this, 16 pieces of land with the same characteristics have been taken at random, divided into four groups of equal size and each of them has used a different type of fertilizer. The results are given in quintals/HA. Consider a level of significance of $5\\%$.\n",
    "\n"
   ]
  },
  {
   "cell_type": "code",
   "execution_count": 6,
   "metadata": {},
   "outputs": [
    {
     "name": "stdout",
     "output_type": "stream",
     "text": [
      "tibble [16 × 2] (S3: tbl_df/tbl/data.frame)\n",
      " $ Profit: num [1:16] 218 198 215 174 263 201 219 226 274 248 ...\n",
      " $ Type  : chr [1:16] \"A\" \"A\" \"A\" \"A\" ...\n"
     ]
    }
   ],
   "source": [
    "# read excel data\n",
    " library(\"readxl\")\n",
    "fertilizer <-read_excel(\"Fertilizer.xls\")\n",
    "str(fertilizer)\n",
    "#We change the variable type to factor\n",
    "fertilizer$Type.f <-as.factor(fertilizer$Type)"
   ]
  },
  {
   "cell_type": "markdown",
   "metadata": {},
   "source": [
    "First, we get some statistics of the profit in terms of the type of type of fertilizer:"
   ]
  },
  {
   "cell_type": "code",
   "execution_count": 10,
   "metadata": {},
   "outputs": [
    {
     "data": {
      "text/plain": [
       "    mean       sd  0%    25%   50%    75% 100% Profit:n\n",
       "A 201.25 20.18869 174 192.00 206.5 215.75  218        4\n",
       "B 227.25 26.05603 201 214.50 222.5 235.25  263        4\n",
       "C 272.50 37.54553 243 246.75 261.0 286.75  325        4\n",
       "D 222.00 65.13064 180 182.25 195.0 234.75  318        4"
      ]
     },
     "metadata": {},
     "output_type": "display_data"
    }
   ],
   "source": [
    "#install.packages(\"RcmdrMisc\")\n",
    "#library(\"RcmdrMisc\")\n",
    "numSummary(fertilizer[,\"Profit\"], groups=fertilizer$Type.f,  statistics=c(\"mean\", \"sd\", \"quantiles\"), quantiles=c(0,.25,.5,.75,1))"
   ]
  },
  {
   "cell_type": "markdown",
   "metadata": {},
   "source": [
    "### Check normality "
   ]
  },
  {
   "cell_type": "code",
   "execution_count": 11,
   "metadata": {},
   "outputs": [
    {
     "data": {
      "text/plain": [
       "\n",
       "\tShapiro-Wilk normality test\n",
       "\n",
       "data:  fertilizer$Profit[fertilizer$Type == \"A\"]\n",
       "W = 0.89425, p-value = 0.4031\n"
      ]
     },
     "metadata": {},
     "output_type": "display_data"
    }
   ],
   "source": [
    "shapiro.test(fertilizer(DOLAR)Profit[fertilizer$Type==\"A\"])"
   ]
  },
  {
   "cell_type": "markdown",
   "metadata": {},
   "source": [
    "When we analyze the normality of the profit of type-A fertilizer, the value of the statistic of the Shapiro-wilk is 0.89415 and of the p-value 0.4301. Therefore, with a significance level of  $5\\%$, we cannot reject the normality of type-A fertilizer profit.\n",
    "\n",
    "#### Note: \n",
    "* For the normality of type B, C and D, we proceed in the same way.\n",
    "* When the size of the sample is larger than $30$, we use the Kolmogorov-Smirnoff test (with the command ks.test)\n",
    "\n",
    "### Homogeneity of Variances"
   ]
  },
  {
   "cell_type": "code",
   "execution_count": 12,
   "metadata": {},
   "outputs": [
    {
     "data": {
      "text/html": [
       "<table class=\"dataframe\">\n",
       "<caption>A anova: 2 × 3</caption>\n",
       "<thead>\n",
       "\t<tr><th></th><th scope=col>Df</th><th scope=col>F value</th><th scope=col>Pr(&gt;F)</th></tr>\n",
       "\t<tr><th></th><th scope=col>&lt;int&gt;</th><th scope=col>&lt;dbl&gt;</th><th scope=col>&lt;dbl&gt;</th></tr>\n",
       "</thead>\n",
       "<tbody>\n",
       "\t<tr><th scope=row>group</th><td> 3</td><td>1.804026</td><td>0.2000296</td></tr>\n",
       "\t<tr><th scope=row> </th><td>12</td><td>      NA</td><td>       NA</td></tr>\n",
       "</tbody>\n",
       "</table>\n"
      ],
      "text/latex": [
       "A anova: 2 × 3\n",
       "\\begin{tabular}{r|lll}\n",
       "  & Df & F value & Pr(>F)\\\\\n",
       "  & <int> & <dbl> & <dbl>\\\\\n",
       "\\hline\n",
       "\tgroup &  3 & 1.804026 & 0.2000296\\\\\n",
       "\t  & 12 &       NA &        NA\\\\\n",
       "\\end{tabular}\n"
      ],
      "text/markdown": [
       "\n",
       "A anova: 2 × 3\n",
       "\n",
       "| <!--/--> | Df &lt;int&gt; | F value &lt;dbl&gt; | Pr(&gt;F) &lt;dbl&gt; |\n",
       "|---|---|---|---|\n",
       "| group |  3 | 1.804026 | 0.2000296 |\n",
       "| <!----> | 12 |       NA |        NA |\n",
       "\n"
      ],
      "text/plain": [
       "      Df F value  Pr(>F)   \n",
       "group  3 1.804026 0.2000296\n",
       "      12       NA        NA"
      ]
     },
     "metadata": {},
     "output_type": "display_data"
    }
   ],
   "source": [
    "leveneTest(fertilizer(DOLAR)Profit, fertilizer$Type.f, center=mean) "
   ]
  },
  {
   "cell_type": "markdown",
   "metadata": {},
   "source": [
    "In the Levene's test, $H_0$ is that the variance of all the populations is equal. Thus, the value of the statistic we obtained is 1.804026, the degrees of freedom 3 and the p-value 0.2000296. Therefore, with a significance level of $5\\%$, we cannot reject the equality of variance.\n",
    "\n",
    "As a result, we conclude that we are in the conditions to apply the Analysis of Variance test. The hypothesis testing in this case is the following: \n",
    "\n",
    "$H_0:\\ \\mu_A=\\mu_B=\\mu_C=\\mu_D$\n",
    "\n",
    "$H_1: \\exists i,j$ where $\\mu_j\\neq \\mu_i$\n",
    "\n"
   ]
  },
  {
   "cell_type": "code",
   "execution_count": 13,
   "metadata": {},
   "outputs": [
    {
     "data": {
      "text/plain": [
       "            Df Sum Sq Mean Sq F value Pr(>F)\n",
       "Type.f       3  10808    3603   2.139  0.149\n",
       "Residuals   12  20214    1685               "
      ]
     },
     "metadata": {},
     "output_type": "display_data"
    }
   ],
   "source": [
    "Anova <-  aov(Profit ~ Type.f, data=fertilizer)\n",
    "summary(Anova)"
   ]
  },
  {
   "cell_type": "markdown",
   "metadata": {},
   "source": [
    "Since p-value = 0.1486 > 0.05, we cannot reject $H_0$ and therefore, we conclude that, with a significance level of $5\\%$m, there is no difference on the mean of the four populations. This means that the type of fertilizer does not influece on the profit of the lands.  "
   ]
  },
  {
   "cell_type": "code",
   "execution_count": null,
   "metadata": {},
   "outputs": [],
   "source": []
  }
 ],
 "metadata": {
  "kernelspec": {
   "display_name": "R",
   "language": "R",
   "name": "ir"
  },
  "language_info": {
   "codemirror_mode": "r",
   "file_extension": ".r",
   "mimetype": "text/x-r-source",
   "name": "R",
   "pygments_lexer": "r",
   "version": "4.1.2"
  }
 },
 "nbformat": 4,
 "nbformat_minor": 2
}
