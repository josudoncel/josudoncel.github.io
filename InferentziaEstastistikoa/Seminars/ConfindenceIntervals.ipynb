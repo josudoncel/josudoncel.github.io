{
 "cells": [
  {
   "cell_type": "markdown",
   "id": "2a17cfd8",
   "metadata": {},
   "source": [
    "# Seminar 2: Confidence Intervals\n",
    "\n",
    "The objective of this seminar is to study the Confidence Intervals as a method to estimate an unknown parameter.\n",
    "\n"
   ]
  },
  {
   "cell_type": "markdown",
   "id": "17e23d8e",
   "metadata": {},
   "source": [
    "### Example: Poisson Distribution of parameter 1\n",
    "\n",
    "We consider a population whose characteristic under study follows a Poisson distribution with parameter 1. We know that, for this case, $\\mu$ coincides with the parameter of the distribution, that is, $\\mu=1$ for this case.\n",
    "\n",
    "As a result, if we take a random sample that follows this distribution and we obtain the 95% confidence interval of $\\mu$, we get that, with probability 0.95, $1$ will be inside the obtained Confidence interval and, with probability 0.05, $1$ will not be inside."
   ]
  },
  {
   "cell_type": "code",
   "execution_count": 5,
   "id": "e715ee3c",
   "metadata": {},
   "outputs": [
    {
     "data": {
      "text/html": [
       "<style>\n",
       ".list-inline {list-style: none; margin:0; padding: 0}\n",
       ".list-inline>li {display: inline-block}\n",
       ".list-inline>li:not(:last-child)::after {content: \"\\00b7\"; padding: 0 .5ex}\n",
       "</style>\n",
       "<ol class=list-inline><li>1</li><li>2</li><li>0</li><li>1</li><li>2</li><li>1</li><li>1</li><li>1</li><li>0</li><li>1</li><li>2</li><li>0</li><li>1</li><li>0</li><li>0</li></ol>\n"
      ],
      "text/latex": [
       "\\begin{enumerate*}\n",
       "\\item 1\n",
       "\\item 2\n",
       "\\item 0\n",
       "\\item 1\n",
       "\\item 2\n",
       "\\item 1\n",
       "\\item 1\n",
       "\\item 1\n",
       "\\item 0\n",
       "\\item 1\n",
       "\\item 2\n",
       "\\item 0\n",
       "\\item 1\n",
       "\\item 0\n",
       "\\item 0\n",
       "\\end{enumerate*}\n"
      ],
      "text/markdown": [
       "1. 1\n",
       "2. 2\n",
       "3. 0\n",
       "4. 1\n",
       "5. 2\n",
       "6. 1\n",
       "7. 1\n",
       "8. 1\n",
       "9. 0\n",
       "10. 1\n",
       "11. 2\n",
       "12. 0\n",
       "13. 1\n",
       "14. 0\n",
       "15. 0\n",
       "\n",
       "\n"
      ],
      "text/plain": [
       " [1] 1 2 0 1 2 1 1 1 0 1 2 0 1 0 0"
      ]
     },
     "metadata": {},
     "output_type": "display_data"
    }
   ],
   "source": [
    "# We take a sample of 15 numbers that follow a Pois(1) distribution. We print the sample values\n",
    "sample1<-rpois(15,1)\n",
    "sample1"
   ]
  },
  {
   "cell_type": "code",
   "execution_count": 14,
   "id": "ea006b29",
   "metadata": {},
   "outputs": [
    {
     "data": {
      "text/html": [
       "<style>\n",
       ".list-inline {list-style: none; margin:0; padding: 0}\n",
       ".list-inline>li {display: inline-block}\n",
       ".list-inline>li:not(:last-child)::after {content: \"\\00b7\"; padding: 0 .5ex}\n",
       "</style>\n",
       "<ol class=list-inline><li>0.455083292539015</li><li>1.27825004079432</li></ol>\n"
      ],
      "text/latex": [
       "\\begin{enumerate*}\n",
       "\\item 0.455083292539015\n",
       "\\item 1.27825004079432\n",
       "\\end{enumerate*}\n"
      ],
      "text/markdown": [
       "1. 0.455083292539015\n",
       "2. 1.27825004079432\n",
       "\n",
       "\n"
      ],
      "text/plain": [
       "[1] 0.4550833 1.2782500"
      ]
     },
     "metadata": {},
     "output_type": "display_data"
    }
   ],
   "source": [
    "# We use the t.test as in the computer practise part, but we only show the lower bound and uppper bound of the CI\n",
    "test1<-t.test(sample1,alternative='two.sided',conf.level=.95)\n",
    "c(test1$conf.int[1],test1$conf.int[2])"
   ]
  },
  {
   "cell_type": "markdown",
   "id": "63cdb666",
   "metadata": {},
   "source": [
    "### Explanation\n",
    "\n",
    "We observe that 1 is inside the Confidence Interval\n",
    "\n",
    "We will try with other 19 samples and let's see if we obtain a Confidence Interval that do not contain 1 (we know that this is difficult because it occurs with probability 0.05...). Since we are considering the 95% confidence level, we expect that, in one of the 20 samples, the CI contains 1.\n"
   ]
  },
  {
   "cell_type": "code",
   "execution_count": 25,
   "id": "0c1d93e2",
   "metadata": {},
   "outputs": [
    {
     "name": "stdout",
     "output_type": "stream",
     "text": [
      "[1] \"sample2\"\n"
     ]
    },
    {
     "data": {
      "text/html": [
       "<style>\n",
       ".list-inline {list-style: none; margin:0; padding: 0}\n",
       ".list-inline>li {display: inline-block}\n",
       ".list-inline>li:not(:last-child)::after {content: \"\\00b7\"; padding: 0 .5ex}\n",
       "</style>\n",
       "<ol class=list-inline><li>0.72270033700808</li><li>1.67729966299192</li></ol>\n"
      ],
      "text/latex": [
       "\\begin{enumerate*}\n",
       "\\item 0.72270033700808\n",
       "\\item 1.67729966299192\n",
       "\\end{enumerate*}\n"
      ],
      "text/markdown": [
       "1. 0.72270033700808\n",
       "2. 1.67729966299192\n",
       "\n",
       "\n"
      ],
      "text/plain": [
       "[1] 0.7227003 1.6772997"
      ]
     },
     "metadata": {},
     "output_type": "display_data"
    },
    {
     "name": "stdout",
     "output_type": "stream",
     "text": [
      "[1] \"sample3\"\n"
     ]
    },
    {
     "data": {
      "text/html": [
       "<style>\n",
       ".list-inline {list-style: none; margin:0; padding: 0}\n",
       ".list-inline>li {display: inline-block}\n",
       ".list-inline>li:not(:last-child)::after {content: \"\\00b7\"; padding: 0 .5ex}\n",
       "</style>\n",
       "<ol class=list-inline><li>0.565132099099433</li><li>1.83486790090057</li></ol>\n"
      ],
      "text/latex": [
       "\\begin{enumerate*}\n",
       "\\item 0.565132099099433\n",
       "\\item 1.83486790090057\n",
       "\\end{enumerate*}\n"
      ],
      "text/markdown": [
       "1. 0.565132099099433\n",
       "2. 1.83486790090057\n",
       "\n",
       "\n"
      ],
      "text/plain": [
       "[1] 0.5651321 1.8348679"
      ]
     },
     "metadata": {},
     "output_type": "display_data"
    },
    {
     "name": "stdout",
     "output_type": "stream",
     "text": [
      "[1] \"sample4\"\n"
     ]
    },
    {
     "data": {
      "text/html": [
       "<style>\n",
       ".list-inline {list-style: none; margin:0; padding: 0}\n",
       ".list-inline>li {display: inline-block}\n",
       ".list-inline>li:not(:last-child)::after {content: \"\\00b7\"; padding: 0 .5ex}\n",
       "</style>\n",
       "<ol class=list-inline><li>0.546270170496493</li><li>1.72039649617017</li></ol>\n"
      ],
      "text/latex": [
       "\\begin{enumerate*}\n",
       "\\item 0.546270170496493\n",
       "\\item 1.72039649617017\n",
       "\\end{enumerate*}\n"
      ],
      "text/markdown": [
       "1. 0.546270170496493\n",
       "2. 1.72039649617017\n",
       "\n",
       "\n"
      ],
      "text/plain": [
       "[1] 0.5462702 1.7203965"
      ]
     },
     "metadata": {},
     "output_type": "display_data"
    },
    {
     "name": "stdout",
     "output_type": "stream",
     "text": [
      "[1] \"sample5\"\n"
     ]
    },
    {
     "data": {
      "text/html": [
       "<style>\n",
       ".list-inline {list-style: none; margin:0; padding: 0}\n",
       ".list-inline>li {display: inline-block}\n",
       ".list-inline>li:not(:last-child)::after {content: \"\\00b7\"; padding: 0 .5ex}\n",
       "</style>\n",
       "<ol class=list-inline><li>0.278822929209637</li><li>1.32117707079036</li></ol>\n"
      ],
      "text/latex": [
       "\\begin{enumerate*}\n",
       "\\item 0.278822929209637\n",
       "\\item 1.32117707079036\n",
       "\\end{enumerate*}\n"
      ],
      "text/markdown": [
       "1. 0.278822929209637\n",
       "2. 1.32117707079036\n",
       "\n",
       "\n"
      ],
      "text/plain": [
       "[1] 0.2788229 1.3211771"
      ]
     },
     "metadata": {},
     "output_type": "display_data"
    },
    {
     "name": "stdout",
     "output_type": "stream",
     "text": [
      "[1] \"sample6\"\n"
     ]
    },
    {
     "data": {
      "text/html": [
       "<style>\n",
       ".list-inline {list-style: none; margin:0; padding: 0}\n",
       ".list-inline>li {display: inline-block}\n",
       ".list-inline>li:not(:last-child)::after {content: \"\\00b7\"; padding: 0 .5ex}\n",
       "</style>\n",
       "<ol class=list-inline><li>0.734399479997788</li><li>1.79893385333555</li></ol>\n"
      ],
      "text/latex": [
       "\\begin{enumerate*}\n",
       "\\item 0.734399479997788\n",
       "\\item 1.79893385333555\n",
       "\\end{enumerate*}\n"
      ],
      "text/markdown": [
       "1. 0.734399479997788\n",
       "2. 1.79893385333555\n",
       "\n",
       "\n"
      ],
      "text/plain": [
       "[1] 0.7343995 1.7989339"
      ]
     },
     "metadata": {},
     "output_type": "display_data"
    },
    {
     "name": "stdout",
     "output_type": "stream",
     "text": [
      "[1] \"sample7\"\n"
     ]
    },
    {
     "data": {
      "text/html": [
       "<style>\n",
       ".list-inline {list-style: none; margin:0; padding: 0}\n",
       ".list-inline>li {display: inline-block}\n",
       ".list-inline>li:not(:last-child)::after {content: \"\\00b7\"; padding: 0 .5ex}\n",
       "</style>\n",
       "<ol class=list-inline><li>0.737932618076153</li><li>1.39540071525718</li></ol>\n"
      ],
      "text/latex": [
       "\\begin{enumerate*}\n",
       "\\item 0.737932618076153\n",
       "\\item 1.39540071525718\n",
       "\\end{enumerate*}\n"
      ],
      "text/markdown": [
       "1. 0.737932618076153\n",
       "2. 1.39540071525718\n",
       "\n",
       "\n"
      ],
      "text/plain": [
       "[1] 0.7379326 1.3954007"
      ]
     },
     "metadata": {},
     "output_type": "display_data"
    },
    {
     "name": "stdout",
     "output_type": "stream",
     "text": [
      "[1] \"sample8\"\n"
     ]
    },
    {
     "data": {
      "text/html": [
       "<style>\n",
       ".list-inline {list-style: none; margin:0; padding: 0}\n",
       ".list-inline>li {display: inline-block}\n",
       ".list-inline>li:not(:last-child)::after {content: \"\\00b7\"; padding: 0 .5ex}\n",
       "</style>\n",
       "<ol class=list-inline><li>0.475865236152306</li><li>1.79080143051436</li></ol>\n"
      ],
      "text/latex": [
       "\\begin{enumerate*}\n",
       "\\item 0.475865236152306\n",
       "\\item 1.79080143051436\n",
       "\\end{enumerate*}\n"
      ],
      "text/markdown": [
       "1. 0.475865236152306\n",
       "2. 1.79080143051436\n",
       "\n",
       "\n"
      ],
      "text/plain": [
       "[1] 0.4758652 1.7908014"
      ]
     },
     "metadata": {},
     "output_type": "display_data"
    },
    {
     "name": "stdout",
     "output_type": "stream",
     "text": [
      "[1] \"sample9\"\n"
     ]
    },
    {
     "data": {
      "text/html": [
       "<style>\n",
       ".list-inline {list-style: none; margin:0; padding: 0}\n",
       ".list-inline>li {display: inline-block}\n",
       ".list-inline>li:not(:last-child)::after {content: \"\\00b7\"; padding: 0 .5ex}\n",
       "</style>\n",
       "<ol class=list-inline><li>0.443948222016101</li><li>1.42271844465057</li></ol>\n"
      ],
      "text/latex": [
       "\\begin{enumerate*}\n",
       "\\item 0.443948222016101\n",
       "\\item 1.42271844465057\n",
       "\\end{enumerate*}\n"
      ],
      "text/markdown": [
       "1. 0.443948222016101\n",
       "2. 1.42271844465057\n",
       "\n",
       "\n"
      ],
      "text/plain": [
       "[1] 0.4439482 1.4227184"
      ]
     },
     "metadata": {},
     "output_type": "display_data"
    },
    {
     "name": "stdout",
     "output_type": "stream",
     "text": [
      "[1] \"sample10\"\n"
     ]
    },
    {
     "data": {
      "text/html": [
       "<style>\n",
       ".list-inline {list-style: none; margin:0; padding: 0}\n",
       ".list-inline>li {display: inline-block}\n",
       ".list-inline>li:not(:last-child)::after {content: \"\\00b7\"; padding: 0 .5ex}\n",
       "</style>\n",
       "<ol class=list-inline><li>0.176684877315481</li><li>1.55664845601785</li></ol>\n"
      ],
      "text/latex": [
       "\\begin{enumerate*}\n",
       "\\item 0.176684877315481\n",
       "\\item 1.55664845601785\n",
       "\\end{enumerate*}\n"
      ],
      "text/markdown": [
       "1. 0.176684877315481\n",
       "2. 1.55664845601785\n",
       "\n",
       "\n"
      ],
      "text/plain": [
       "[1] 0.1766849 1.5566485"
      ]
     },
     "metadata": {},
     "output_type": "display_data"
    },
    {
     "name": "stdout",
     "output_type": "stream",
     "text": [
      "[1] \"sample11\"\n"
     ]
    },
    {
     "data": {
      "text/html": [
       "<style>\n",
       ".list-inline {list-style: none; margin:0; padding: 0}\n",
       ".list-inline>li {display: inline-block}\n",
       ".list-inline>li:not(:last-child)::after {content: \"\\00b7\"; padding: 0 .5ex}\n",
       "</style>\n",
       "<ol class=list-inline><li>0.42266350636334</li><li>1.71066982696999</li></ol>\n"
      ],
      "text/latex": [
       "\\begin{enumerate*}\n",
       "\\item 0.42266350636334\n",
       "\\item 1.71066982696999\n",
       "\\end{enumerate*}\n"
      ],
      "text/markdown": [
       "1. 0.42266350636334\n",
       "2. 1.71066982696999\n",
       "\n",
       "\n"
      ],
      "text/plain": [
       "[1] 0.4226635 1.7106698"
      ]
     },
     "metadata": {},
     "output_type": "display_data"
    },
    {
     "name": "stdout",
     "output_type": "stream",
     "text": [
      "[1] \"sample12\"\n"
     ]
    },
    {
     "data": {
      "text/html": [
       "<style>\n",
       ".list-inline {list-style: none; margin:0; padding: 0}\n",
       ".list-inline>li {display: inline-block}\n",
       ".list-inline>li:not(:last-child)::after {content: \"\\00b7\"; padding: 0 .5ex}\n",
       "</style>\n",
       "<ol class=list-inline><li>0.249757800499162</li><li>0.950242199500838</li></ol>\n"
      ],
      "text/latex": [
       "\\begin{enumerate*}\n",
       "\\item 0.249757800499162\n",
       "\\item 0.950242199500838\n",
       "\\end{enumerate*}\n"
      ],
      "text/markdown": [
       "1. 0.249757800499162\n",
       "2. 0.950242199500838\n",
       "\n",
       "\n"
      ],
      "text/plain": [
       "[1] 0.2497578 0.9502422"
      ]
     },
     "metadata": {},
     "output_type": "display_data"
    },
    {
     "name": "stdout",
     "output_type": "stream",
     "text": [
      "[1] \"sample13\"\n"
     ]
    },
    {
     "data": {
      "text/html": [
       "<style>\n",
       ".list-inline {list-style: none; margin:0; padding: 0}\n",
       ".list-inline>li {display: inline-block}\n",
       ".list-inline>li:not(:last-child)::after {content: \"\\00b7\"; padding: 0 .5ex}\n",
       "</style>\n",
       "<ol class=list-inline><li>0.361390216555252</li><li>1.50527645011141</li></ol>\n"
      ],
      "text/latex": [
       "\\begin{enumerate*}\n",
       "\\item 0.361390216555252\n",
       "\\item 1.50527645011141\n",
       "\\end{enumerate*}\n"
      ],
      "text/markdown": [
       "1. 0.361390216555252\n",
       "2. 1.50527645011141\n",
       "\n",
       "\n"
      ],
      "text/plain": [
       "[1] 0.3613902 1.5052765"
      ]
     },
     "metadata": {},
     "output_type": "display_data"
    },
    {
     "name": "stdout",
     "output_type": "stream",
     "text": [
      "[1] \"sample14\"\n"
     ]
    },
    {
     "data": {
      "text/html": [
       "<style>\n",
       ".list-inline {list-style: none; margin:0; padding: 0}\n",
       ".list-inline>li {display: inline-block}\n",
       ".list-inline>li:not(:last-child)::after {content: \"\\00b7\"; padding: 0 .5ex}\n",
       "</style>\n",
       "<ol class=list-inline><li>0.256169659391726</li><li>1.61049700727494</li></ol>\n"
      ],
      "text/latex": [
       "\\begin{enumerate*}\n",
       "\\item 0.256169659391726\n",
       "\\item 1.61049700727494\n",
       "\\end{enumerate*}\n"
      ],
      "text/markdown": [
       "1. 0.256169659391726\n",
       "2. 1.61049700727494\n",
       "\n",
       "\n"
      ],
      "text/plain": [
       "[1] 0.2561697 1.6104970"
      ]
     },
     "metadata": {},
     "output_type": "display_data"
    },
    {
     "name": "stdout",
     "output_type": "stream",
     "text": [
      "[1] \"sample15\"\n"
     ]
    },
    {
     "data": {
      "text/html": [
       "<style>\n",
       ".list-inline {list-style: none; margin:0; padding: 0}\n",
       ".list-inline>li {display: inline-block}\n",
       ".list-inline>li:not(:last-child)::after {content: \"\\00b7\"; padding: 0 .5ex}\n",
       "</style>\n",
       "<ol class=list-inline><li>0.243948222016101</li><li>1.22271844465057</li></ol>\n"
      ],
      "text/latex": [
       "\\begin{enumerate*}\n",
       "\\item 0.243948222016101\n",
       "\\item 1.22271844465057\n",
       "\\end{enumerate*}\n"
      ],
      "text/markdown": [
       "1. 0.243948222016101\n",
       "2. 1.22271844465057\n",
       "\n",
       "\n"
      ],
      "text/plain": [
       "[1] 0.2439482 1.2227184"
      ]
     },
     "metadata": {},
     "output_type": "display_data"
    },
    {
     "name": "stdout",
     "output_type": "stream",
     "text": [
      "[1] \"sample16\"\n"
     ]
    },
    {
     "data": {
      "text/html": [
       "<style>\n",
       ".list-inline {list-style: none; margin:0; padding: 0}\n",
       ".list-inline>li {display: inline-block}\n",
       ".list-inline>li:not(:last-child)::after {content: \"\\00b7\"; padding: 0 .5ex}\n",
       "</style>\n",
       "<ol class=list-inline><li>0.401066146664455</li><li>1.46560052000221</li></ol>\n"
      ],
      "text/latex": [
       "\\begin{enumerate*}\n",
       "\\item 0.401066146664455\n",
       "\\item 1.46560052000221\n",
       "\\end{enumerate*}\n"
      ],
      "text/markdown": [
       "1. 0.401066146664455\n",
       "2. 1.46560052000221\n",
       "\n",
       "\n"
      ],
      "text/plain": [
       "[1] 0.4010661 1.4656005"
      ]
     },
     "metadata": {},
     "output_type": "display_data"
    },
    {
     "name": "stdout",
     "output_type": "stream",
     "text": [
      "[1] \"sample17\"\n"
     ]
    },
    {
     "data": {
      "text/html": [
       "<style>\n",
       ".list-inline {list-style: none; margin:0; padding: 0}\n",
       ".list-inline>li {display: inline-block}\n",
       ".list-inline>li:not(:last-child)::after {content: \"\\00b7\"; padding: 0 .5ex}\n",
       "</style>\n",
       "<ol class=list-inline><li>0.737932618076153</li><li>1.39540071525718</li></ol>\n"
      ],
      "text/latex": [
       "\\begin{enumerate*}\n",
       "\\item 0.737932618076153\n",
       "\\item 1.39540071525718\n",
       "\\end{enumerate*}\n"
      ],
      "text/markdown": [
       "1. 0.737932618076153\n",
       "2. 1.39540071525718\n",
       "\n",
       "\n"
      ],
      "text/plain": [
       "[1] 0.7379326 1.3954007"
      ]
     },
     "metadata": {},
     "output_type": "display_data"
    },
    {
     "name": "stdout",
     "output_type": "stream",
     "text": [
      "[1] \"sample18\"\n"
     ]
    },
    {
     "data": {
      "text/html": [
       "<style>\n",
       ".list-inline {list-style: none; margin:0; padding: 0}\n",
       ".list-inline>li {display: inline-block}\n",
       ".list-inline>li:not(:last-child)::after {content: \"\\00b7\"; padding: 0 .5ex}\n",
       "</style>\n",
       "<ol class=list-inline><li>0.584851258571932</li><li>1.68181540809474</li></ol>\n"
      ],
      "text/latex": [
       "\\begin{enumerate*}\n",
       "\\item 0.584851258571932\n",
       "\\item 1.68181540809474\n",
       "\\end{enumerate*}\n"
      ],
      "text/markdown": [
       "1. 0.584851258571932\n",
       "2. 1.68181540809474\n",
       "\n",
       "\n"
      ],
      "text/plain": [
       "[1] 0.5848513 1.6818154"
      ]
     },
     "metadata": {},
     "output_type": "display_data"
    },
    {
     "name": "stdout",
     "output_type": "stream",
     "text": [
      "[1] \"sample19\"\n"
     ]
    },
    {
     "data": {
      "text/html": [
       "<style>\n",
       ".list-inline {list-style: none; margin:0; padding: 0}\n",
       ".list-inline>li {display: inline-block}\n",
       ".list-inline>li:not(:last-child)::after {content: \"\\00b7\"; padding: 0 .5ex}\n",
       "</style>\n",
       "<ol class=list-inline><li>0.510072771460999</li><li>1.75659389520567</li></ol>\n"
      ],
      "text/latex": [
       "\\begin{enumerate*}\n",
       "\\item 0.510072771460999\n",
       "\\item 1.75659389520567\n",
       "\\end{enumerate*}\n"
      ],
      "text/markdown": [
       "1. 0.510072771460999\n",
       "2. 1.75659389520567\n",
       "\n",
       "\n"
      ],
      "text/plain": [
       "[1] 0.5100728 1.7565939"
      ]
     },
     "metadata": {},
     "output_type": "display_data"
    },
    {
     "name": "stdout",
     "output_type": "stream",
     "text": [
      "[1] \"sample20\"\n"
     ]
    },
    {
     "data": {
      "text/html": [
       "<style>\n",
       ".list-inline {list-style: none; margin:0; padding: 0}\n",
       ".list-inline>li {display: inline-block}\n",
       ".list-inline>li:not(:last-child)::after {content: \"\\00b7\"; padding: 0 .5ex}\n",
       "</style>\n",
       "<ol class=list-inline><li>0.41730569142785</li><li>2.11602764190548</li></ol>\n"
      ],
      "text/latex": [
       "\\begin{enumerate*}\n",
       "\\item 0.41730569142785\n",
       "\\item 2.11602764190548\n",
       "\\end{enumerate*}\n"
      ],
      "text/markdown": [
       "1. 0.41730569142785\n",
       "2. 2.11602764190548\n",
       "\n",
       "\n"
      ],
      "text/plain": [
       "[1] 0.4173057 2.1160276"
      ]
     },
     "metadata": {},
     "output_type": "display_data"
    }
   ],
   "source": [
    "print('sample2')\n",
    "sample2<-rpois(15,1)\n",
    "test2<-t.test(sample2,alternative='two.sided',conf.level=.95)\n",
    "c(test2$conf.int[1],test2$conf.int[2])\n",
    "\n",
    "print('sample3')\n",
    "sample3<-rpois(15,1)\n",
    "test3<-t.test(sample3,alternative='two.sided',conf.level=.95)\n",
    "c(test3$conf.int[1],test3$conf.int[2])\n",
    "\n",
    "print('sample4')\n",
    "sample4<-rpois(15,1)\n",
    "test4<-t.test(sample4,alternative='two.sided',conf.level=.95)\n",
    "c(test4$conf.int[1],test4$conf.int[2])\n",
    "\n",
    "print('sample5')\n",
    "sample5<-rpois(15,1)\n",
    "test5<-t.test(sample5,alternative='two.sided',conf.level=.95)\n",
    "c(test5$conf.int[1],test5$conf.int[2])\n",
    "\n",
    "print('sample6')\n",
    "sample6<-rpois(15,1)\n",
    "test6<-t.test(sample6,alternative='two.sided',conf.level=.95)\n",
    "c(test6$conf.int[1],test6$conf.int[2])\n",
    "\n",
    "print('sample7')\n",
    "sample7<-rpois(15,1)\n",
    "test7<-t.test(sample7,alternative='two.sided',conf.level=.95)\n",
    "c(test7$conf.int[1],test7$conf.int[2])\n",
    "\n",
    "print('sample8')\n",
    "sample8<-rpois(15,1)\n",
    "test8<-t.test(sample8,alternative='two.sided',conf.level=.95)\n",
    "c(test8$conf.int[1],test8$conf.int[2])\n",
    "\n",
    "print('sample9')\n",
    "sample9<-rpois(15,1)\n",
    "test9<-t.test(sample9,alternative='two.sided',conf.level=.95)\n",
    "c(test9$conf.int[1],test9$conf.int[2])\n",
    "\n",
    "print('sample10')\n",
    "sample10<-rpois(15,1)\n",
    "test10<-t.test(sample10,alternative='two.sided',conf.level=.95)\n",
    "c(test10$conf.int[1],test10$conf.int[2])\n",
    "\n",
    "print('sample11')\n",
    "sample11<-rpois(15,1)\n",
    "test11<-t.test(sample11,alternative='two.sided',conf.level=.95)\n",
    "c(test11$conf.int[1],test11$conf.int[2])\n",
    "\n",
    "print('sample12')\n",
    "sample12<-rpois(15,1)\n",
    "test12<-t.test(sample12,alternative='two.sided',conf.level=.95)\n",
    "c(test12$conf.int[1],test12$conf.int[2])\n",
    "\n",
    "print('sample13')\n",
    "sample13<-rpois(15,1)\n",
    "test13<-t.test(sample13,alternative='two.sided',conf.level=.95)\n",
    "c(test13$conf.int[1],test13$conf.int[2])\n",
    "\n",
    "print('sample14')\n",
    "sample14<-rpois(15,1)\n",
    "test14<-t.test(sample14,alternative='two.sided',conf.level=.95)\n",
    "c(test14$conf.int[1],test14$conf.int[2])\n",
    "\n",
    "print('sample15')\n",
    "sample15<-rpois(15,1)\n",
    "test15<-t.test(sample15,alternative='two.sided',conf.level=.95)\n",
    "c(test15$conf.int[1],test15$conf.int[2])\n",
    "\n",
    "print('sample16')\n",
    "sample16<-rpois(15,1)\n",
    "test16<-t.test(sample16,alternative='two.sided',conf.level=.95)\n",
    "c(test16$conf.int[1],test16$conf.int[2])\n",
    "\n",
    "print('sample17')\n",
    "sample17<-rpois(15,1)\n",
    "test17<-t.test(sample17,alternative='two.sided',conf.level=.95)\n",
    "c(test7$conf.int[1],test7$conf.int[2])\n",
    "\n",
    "print('sample18')\n",
    "sample18<-rpois(15,1)\n",
    "test18<-t.test(sample18,alternative='two.sided',conf.level=.95)\n",
    "c(test18$conf.int[1],test18$conf.int[2])\n",
    "\n",
    "print('sample19')\n",
    "sample19<-rpois(15,1)\n",
    "test19<-t.test(sample19,alternative='two.sided',conf.level=.95)\n",
    "c(test19$conf.int[1],test19$conf.int[2])\n",
    "\n",
    "print('sample20')\n",
    "sample20<-rpois(15,1)\n",
    "test20<-t.test(sample20,alternative='two.sided',conf.level=.95)\n",
    "c(test20$conf.int[1],test20$conf.int[2])"
   ]
  },
  {
   "cell_type": "markdown",
   "id": "7ec5b1f2",
   "metadata": {},
   "source": [
    "### Explanation\n",
    "\n",
    "The CI of sample12 is (0.249757800499162,0.950242199500838).  This is the unique CI that does not contain 1!"
   ]
  },
  {
   "cell_type": "markdown",
   "id": "75d27ece",
   "metadata": {},
   "source": [
    "## Another example\n",
    "\n",
    "In general, we are asked for analyzing data from a file and we don't know its distribution (as in the previous seminar).\n",
    "\n",
    "Imagine that you receive the data of data_example_sem2.txt and you are asked to reply to the following question:\n",
    "\n",
    "- Would you say that the expected value of the distribution of the data is equal to 3?\n",
    "\n",
    "In the language of this course, the above question is the same as studying whether $\\mu=3$."
   ]
  },
  {
   "cell_type": "code",
   "execution_count": 35,
   "id": "b73f0fa8",
   "metadata": {},
   "outputs": [
    {
     "data": {
      "text/html": [
       "<table class=\"dataframe\">\n",
       "<caption>A data.frame: 25 × 10</caption>\n",
       "<thead>\n",
       "\t<tr><th></th><th scope=col>sample1</th><th scope=col>sample2</th><th scope=col>sample3</th><th scope=col>sample4</th><th scope=col>sample5</th><th scope=col>sample6</th><th scope=col>sample7</th><th scope=col>sample8</th><th scope=col>sample9</th><th scope=col>sample10</th></tr>\n",
       "\t<tr><th></th><th scope=col>&lt;dbl&gt;</th><th scope=col>&lt;dbl&gt;</th><th scope=col>&lt;dbl&gt;</th><th scope=col>&lt;dbl&gt;</th><th scope=col>&lt;dbl&gt;</th><th scope=col>&lt;dbl&gt;</th><th scope=col>&lt;dbl&gt;</th><th scope=col>&lt;dbl&gt;</th><th scope=col>&lt;dbl&gt;</th><th scope=col>&lt;dbl&gt;</th></tr>\n",
       "</thead>\n",
       "<tbody>\n",
       "\t<tr><th scope=row>1</th><td>6.1745053</td><td>6.6933306</td><td>0.5025709</td><td>2.4052827</td><td>5.1305810</td><td>2.8691629</td><td>2.5074446</td><td>3.2031204</td><td>7.77626679</td><td>6.3538932</td></tr>\n",
       "\t<tr><th scope=row>2</th><td>3.4205596</td><td>5.1644137</td><td>0.9320004</td><td>6.7238067</td><td>0.9257736</td><td>9.1491638</td><td>0.9987768</td><td>7.7057854</td><td>1.40061652</td><td>4.2371958</td></tr>\n",
       "\t<tr><th scope=row>3</th><td>4.7160791</td><td>5.4609552</td><td>6.2847748</td><td>3.6602448</td><td>4.8358056</td><td>5.0934371</td><td>8.3115747</td><td>4.8875998</td><td>9.57895818</td><td>4.5418711</td></tr>\n",
       "\t<tr><th scope=row>4</th><td>3.6016125</td><td>3.2866891</td><td>0.9989713</td><td>0.4313792</td><td>0.3190792</td><td>1.0016656</td><td>6.6723878</td><td>3.8143086</td><td>0.07145368</td><td>5.2142200</td></tr>\n",
       "\t<tr><th scope=row>5</th><td>8.5377617</td><td>0.1685632</td><td>5.0552712</td><td>5.9949468</td><td>8.0255766</td><td>8.3864920</td><td>3.7126762</td><td>8.3796071</td><td>9.85457181</td><td>9.2531398</td></tr>\n",
       "\t<tr><th scope=row>6</th><td>6.1156901</td><td>6.9688900</td><td>0.4359873</td><td>4.3932977</td><td>7.3706954</td><td>6.7992116</td><td>3.9201905</td><td>7.3800735</td><td>0.76795440</td><td>7.1986514</td></tr>\n",
       "\t<tr><th scope=row>7</th><td>7.8037384</td><td>2.5167950</td><td>6.9768792</td><td>8.0379271</td><td>1.6383181</td><td>1.9485520</td><td>6.6508054</td><td>1.4006070</td><td>6.76674224</td><td>4.1119539</td></tr>\n",
       "\t<tr><th scope=row>8</th><td>7.2492433</td><td>2.8609031</td><td>5.5678854</td><td>6.1919118</td><td>7.7695035</td><td>8.1302976</td><td>1.5287084</td><td>2.5119822</td><td>4.86437843</td><td>9.7463755</td></tr>\n",
       "\t<tr><th scope=row>9</th><td>8.0918621</td><td>3.1606506</td><td>0.8340826</td><td>7.9154352</td><td>8.2146669</td><td>3.4903617</td><td>3.4980964</td><td>6.5861725</td><td>5.86331919</td><td>5.4042419</td></tr>\n",
       "\t<tr><th scope=row>10</th><td>0.4506911</td><td>5.7485282</td><td>2.6589285</td><td>3.9820555</td><td>6.2066770</td><td>3.0248977</td><td>5.5411890</td><td>1.0915489</td><td>1.74260124</td><td>5.9281628</td></tr>\n",
       "\t<tr><th scope=row>11</th><td>3.4352607</td><td>3.6269519</td><td>9.2278745</td><td>1.4350784</td><td>8.2956264</td><td>4.1327944</td><td>9.2363055</td><td>2.6104082</td><td>8.12718060</td><td>5.2101706</td></tr>\n",
       "\t<tr><th scope=row>12</th><td>7.0012048</td><td>6.4961494</td><td>2.5268669</td><td>9.3413936</td><td>8.1112958</td><td>8.9454413</td><td>7.5675453</td><td>9.3490021</td><td>3.05899620</td><td>8.6317892</td></tr>\n",
       "\t<tr><th scope=row>13</th><td>8.3691439</td><td>1.8764111</td><td>5.6034006</td><td>8.1166320</td><td>7.9923421</td><td>2.5207711</td><td>2.2204026</td><td>4.5911813</td><td>5.62906004</td><td>9.6191880</td></tr>\n",
       "\t<tr><th scope=row>14</th><td>3.3073943</td><td>7.3571733</td><td>2.8470363</td><td>7.4264391</td><td>4.3333340</td><td>5.8320098</td><td>7.3428183</td><td>0.5329242</td><td>2.54232574</td><td>3.1462400</td></tr>\n",
       "\t<tr><th scope=row>15</th><td>9.3716433</td><td>7.3041373</td><td>0.2106773</td><td>8.2484312</td><td>4.2793361</td><td>2.3821853</td><td>3.4023498</td><td>9.2337844</td><td>8.36657880</td><td>6.7829796</td></tr>\n",
       "\t<tr><th scope=row>16</th><td>4.3456899</td><td>2.4822980</td><td>5.2231977</td><td>1.0004140</td><td>8.2492316</td><td>0.7439474</td><td>5.4533966</td><td>4.0118964</td><td>2.38213042</td><td>4.7617092</td></tr>\n",
       "\t<tr><th scope=row>17</th><td>7.3302408</td><td>0.9554592</td><td>4.6913211</td><td>3.2410748</td><td>4.2743201</td><td>5.7699363</td><td>8.9181202</td><td>2.6891298</td><td>1.51034420</td><td>0.3535833</td></tr>\n",
       "\t<tr><th scope=row>18</th><td>1.1490201</td><td>8.0449796</td><td>6.1295871</td><td>2.6658005</td><td>5.3060035</td><td>6.4870640</td><td>8.7938489</td><td>3.9574738</td><td>1.56583544</td><td>9.3799363</td></tr>\n",
       "\t<tr><th scope=row>19</th><td>6.2356117</td><td>7.5661972</td><td>6.6785036</td><td>6.2198639</td><td>1.9276330</td><td>7.9000310</td><td>1.3438487</td><td>2.1564707</td><td>0.60282629</td><td>5.3703537</td></tr>\n",
       "\t<tr><th scope=row>20</th><td>6.3372909</td><td>0.6733779</td><td>3.6572141</td><td>5.3529768</td><td>2.4237050</td><td>9.6842903</td><td>2.7314132</td><td>8.8528937</td><td>2.96546634</td><td>5.5925856</td></tr>\n",
       "\t<tr><th scope=row>21</th><td>1.3007874</td><td>6.4152166</td><td>2.2909209</td><td>6.7225064</td><td>4.9794448</td><td>2.4235144</td><td>6.4413494</td><td>5.5383602</td><td>5.62680917</td><td>5.2236578</td></tr>\n",
       "\t<tr><th scope=row>22</th><td>8.1593302</td><td>2.5226278</td><td>8.2557158</td><td>3.3374422</td><td>7.0029372</td><td>7.3558951</td><td>1.9399716</td><td>0.1006625</td><td>3.28114587</td><td>4.2104631</td></tr>\n",
       "\t<tr><th scope=row>23</th><td>9.7710461</td><td>0.4029043</td><td>3.8719254</td><td>3.6524945</td><td>3.6480007</td><td>7.4319780</td><td>7.8395325</td><td>4.4204589</td><td>6.54107355</td><td>5.6098409</td></tr>\n",
       "\t<tr><th scope=row>24</th><td>9.5530283</td><td>6.6686023</td><td>1.3007062</td><td>2.6037708</td><td>2.2476042</td><td>8.7554651</td><td>9.1880731</td><td>8.3480350</td><td>0.57653572</td><td>8.9496065</td></tr>\n",
       "\t<tr><th scope=row>25</th><td>2.9258614</td><td>5.7886565</td><td>9.7293831</td><td>2.1412206</td><td>9.5514661</td><td>9.2907213</td><td>6.2478150</td><td>3.2437116</td><td>1.22574809</td><td>4.1961430</td></tr>\n",
       "</tbody>\n",
       "</table>\n"
      ],
      "text/latex": [
       "A data.frame: 25 × 10\n",
       "\\begin{tabular}{r|llllllllll}\n",
       "  & sample1 & sample2 & sample3 & sample4 & sample5 & sample6 & sample7 & sample8 & sample9 & sample10\\\\\n",
       "  & <dbl> & <dbl> & <dbl> & <dbl> & <dbl> & <dbl> & <dbl> & <dbl> & <dbl> & <dbl>\\\\\n",
       "\\hline\n",
       "\t1 & 6.1745053 & 6.6933306 & 0.5025709 & 2.4052827 & 5.1305810 & 2.8691629 & 2.5074446 & 3.2031204 & 7.77626679 & 6.3538932\\\\\n",
       "\t2 & 3.4205596 & 5.1644137 & 0.9320004 & 6.7238067 & 0.9257736 & 9.1491638 & 0.9987768 & 7.7057854 & 1.40061652 & 4.2371958\\\\\n",
       "\t3 & 4.7160791 & 5.4609552 & 6.2847748 & 3.6602448 & 4.8358056 & 5.0934371 & 8.3115747 & 4.8875998 & 9.57895818 & 4.5418711\\\\\n",
       "\t4 & 3.6016125 & 3.2866891 & 0.9989713 & 0.4313792 & 0.3190792 & 1.0016656 & 6.6723878 & 3.8143086 & 0.07145368 & 5.2142200\\\\\n",
       "\t5 & 8.5377617 & 0.1685632 & 5.0552712 & 5.9949468 & 8.0255766 & 8.3864920 & 3.7126762 & 8.3796071 & 9.85457181 & 9.2531398\\\\\n",
       "\t6 & 6.1156901 & 6.9688900 & 0.4359873 & 4.3932977 & 7.3706954 & 6.7992116 & 3.9201905 & 7.3800735 & 0.76795440 & 7.1986514\\\\\n",
       "\t7 & 7.8037384 & 2.5167950 & 6.9768792 & 8.0379271 & 1.6383181 & 1.9485520 & 6.6508054 & 1.4006070 & 6.76674224 & 4.1119539\\\\\n",
       "\t8 & 7.2492433 & 2.8609031 & 5.5678854 & 6.1919118 & 7.7695035 & 8.1302976 & 1.5287084 & 2.5119822 & 4.86437843 & 9.7463755\\\\\n",
       "\t9 & 8.0918621 & 3.1606506 & 0.8340826 & 7.9154352 & 8.2146669 & 3.4903617 & 3.4980964 & 6.5861725 & 5.86331919 & 5.4042419\\\\\n",
       "\t10 & 0.4506911 & 5.7485282 & 2.6589285 & 3.9820555 & 6.2066770 & 3.0248977 & 5.5411890 & 1.0915489 & 1.74260124 & 5.9281628\\\\\n",
       "\t11 & 3.4352607 & 3.6269519 & 9.2278745 & 1.4350784 & 8.2956264 & 4.1327944 & 9.2363055 & 2.6104082 & 8.12718060 & 5.2101706\\\\\n",
       "\t12 & 7.0012048 & 6.4961494 & 2.5268669 & 9.3413936 & 8.1112958 & 8.9454413 & 7.5675453 & 9.3490021 & 3.05899620 & 8.6317892\\\\\n",
       "\t13 & 8.3691439 & 1.8764111 & 5.6034006 & 8.1166320 & 7.9923421 & 2.5207711 & 2.2204026 & 4.5911813 & 5.62906004 & 9.6191880\\\\\n",
       "\t14 & 3.3073943 & 7.3571733 & 2.8470363 & 7.4264391 & 4.3333340 & 5.8320098 & 7.3428183 & 0.5329242 & 2.54232574 & 3.1462400\\\\\n",
       "\t15 & 9.3716433 & 7.3041373 & 0.2106773 & 8.2484312 & 4.2793361 & 2.3821853 & 3.4023498 & 9.2337844 & 8.36657880 & 6.7829796\\\\\n",
       "\t16 & 4.3456899 & 2.4822980 & 5.2231977 & 1.0004140 & 8.2492316 & 0.7439474 & 5.4533966 & 4.0118964 & 2.38213042 & 4.7617092\\\\\n",
       "\t17 & 7.3302408 & 0.9554592 & 4.6913211 & 3.2410748 & 4.2743201 & 5.7699363 & 8.9181202 & 2.6891298 & 1.51034420 & 0.3535833\\\\\n",
       "\t18 & 1.1490201 & 8.0449796 & 6.1295871 & 2.6658005 & 5.3060035 & 6.4870640 & 8.7938489 & 3.9574738 & 1.56583544 & 9.3799363\\\\\n",
       "\t19 & 6.2356117 & 7.5661972 & 6.6785036 & 6.2198639 & 1.9276330 & 7.9000310 & 1.3438487 & 2.1564707 & 0.60282629 & 5.3703537\\\\\n",
       "\t20 & 6.3372909 & 0.6733779 & 3.6572141 & 5.3529768 & 2.4237050 & 9.6842903 & 2.7314132 & 8.8528937 & 2.96546634 & 5.5925856\\\\\n",
       "\t21 & 1.3007874 & 6.4152166 & 2.2909209 & 6.7225064 & 4.9794448 & 2.4235144 & 6.4413494 & 5.5383602 & 5.62680917 & 5.2236578\\\\\n",
       "\t22 & 8.1593302 & 2.5226278 & 8.2557158 & 3.3374422 & 7.0029372 & 7.3558951 & 1.9399716 & 0.1006625 & 3.28114587 & 4.2104631\\\\\n",
       "\t23 & 9.7710461 & 0.4029043 & 3.8719254 & 3.6524945 & 3.6480007 & 7.4319780 & 7.8395325 & 4.4204589 & 6.54107355 & 5.6098409\\\\\n",
       "\t24 & 9.5530283 & 6.6686023 & 1.3007062 & 2.6037708 & 2.2476042 & 8.7554651 & 9.1880731 & 8.3480350 & 0.57653572 & 8.9496065\\\\\n",
       "\t25 & 2.9258614 & 5.7886565 & 9.7293831 & 2.1412206 & 9.5514661 & 9.2907213 & 6.2478150 & 3.2437116 & 1.22574809 & 4.1961430\\\\\n",
       "\\end{tabular}\n"
      ],
      "text/markdown": [
       "\n",
       "A data.frame: 25 × 10\n",
       "\n",
       "| <!--/--> | sample1 &lt;dbl&gt; | sample2 &lt;dbl&gt; | sample3 &lt;dbl&gt; | sample4 &lt;dbl&gt; | sample5 &lt;dbl&gt; | sample6 &lt;dbl&gt; | sample7 &lt;dbl&gt; | sample8 &lt;dbl&gt; | sample9 &lt;dbl&gt; | sample10 &lt;dbl&gt; |\n",
       "|---|---|---|---|---|---|---|---|---|---|---|\n",
       "| 1 | 6.1745053 | 6.6933306 | 0.5025709 | 2.4052827 | 5.1305810 | 2.8691629 | 2.5074446 | 3.2031204 | 7.77626679 | 6.3538932 |\n",
       "| 2 | 3.4205596 | 5.1644137 | 0.9320004 | 6.7238067 | 0.9257736 | 9.1491638 | 0.9987768 | 7.7057854 | 1.40061652 | 4.2371958 |\n",
       "| 3 | 4.7160791 | 5.4609552 | 6.2847748 | 3.6602448 | 4.8358056 | 5.0934371 | 8.3115747 | 4.8875998 | 9.57895818 | 4.5418711 |\n",
       "| 4 | 3.6016125 | 3.2866891 | 0.9989713 | 0.4313792 | 0.3190792 | 1.0016656 | 6.6723878 | 3.8143086 | 0.07145368 | 5.2142200 |\n",
       "| 5 | 8.5377617 | 0.1685632 | 5.0552712 | 5.9949468 | 8.0255766 | 8.3864920 | 3.7126762 | 8.3796071 | 9.85457181 | 9.2531398 |\n",
       "| 6 | 6.1156901 | 6.9688900 | 0.4359873 | 4.3932977 | 7.3706954 | 6.7992116 | 3.9201905 | 7.3800735 | 0.76795440 | 7.1986514 |\n",
       "| 7 | 7.8037384 | 2.5167950 | 6.9768792 | 8.0379271 | 1.6383181 | 1.9485520 | 6.6508054 | 1.4006070 | 6.76674224 | 4.1119539 |\n",
       "| 8 | 7.2492433 | 2.8609031 | 5.5678854 | 6.1919118 | 7.7695035 | 8.1302976 | 1.5287084 | 2.5119822 | 4.86437843 | 9.7463755 |\n",
       "| 9 | 8.0918621 | 3.1606506 | 0.8340826 | 7.9154352 | 8.2146669 | 3.4903617 | 3.4980964 | 6.5861725 | 5.86331919 | 5.4042419 |\n",
       "| 10 | 0.4506911 | 5.7485282 | 2.6589285 | 3.9820555 | 6.2066770 | 3.0248977 | 5.5411890 | 1.0915489 | 1.74260124 | 5.9281628 |\n",
       "| 11 | 3.4352607 | 3.6269519 | 9.2278745 | 1.4350784 | 8.2956264 | 4.1327944 | 9.2363055 | 2.6104082 | 8.12718060 | 5.2101706 |\n",
       "| 12 | 7.0012048 | 6.4961494 | 2.5268669 | 9.3413936 | 8.1112958 | 8.9454413 | 7.5675453 | 9.3490021 | 3.05899620 | 8.6317892 |\n",
       "| 13 | 8.3691439 | 1.8764111 | 5.6034006 | 8.1166320 | 7.9923421 | 2.5207711 | 2.2204026 | 4.5911813 | 5.62906004 | 9.6191880 |\n",
       "| 14 | 3.3073943 | 7.3571733 | 2.8470363 | 7.4264391 | 4.3333340 | 5.8320098 | 7.3428183 | 0.5329242 | 2.54232574 | 3.1462400 |\n",
       "| 15 | 9.3716433 | 7.3041373 | 0.2106773 | 8.2484312 | 4.2793361 | 2.3821853 | 3.4023498 | 9.2337844 | 8.36657880 | 6.7829796 |\n",
       "| 16 | 4.3456899 | 2.4822980 | 5.2231977 | 1.0004140 | 8.2492316 | 0.7439474 | 5.4533966 | 4.0118964 | 2.38213042 | 4.7617092 |\n",
       "| 17 | 7.3302408 | 0.9554592 | 4.6913211 | 3.2410748 | 4.2743201 | 5.7699363 | 8.9181202 | 2.6891298 | 1.51034420 | 0.3535833 |\n",
       "| 18 | 1.1490201 | 8.0449796 | 6.1295871 | 2.6658005 | 5.3060035 | 6.4870640 | 8.7938489 | 3.9574738 | 1.56583544 | 9.3799363 |\n",
       "| 19 | 6.2356117 | 7.5661972 | 6.6785036 | 6.2198639 | 1.9276330 | 7.9000310 | 1.3438487 | 2.1564707 | 0.60282629 | 5.3703537 |\n",
       "| 20 | 6.3372909 | 0.6733779 | 3.6572141 | 5.3529768 | 2.4237050 | 9.6842903 | 2.7314132 | 8.8528937 | 2.96546634 | 5.5925856 |\n",
       "| 21 | 1.3007874 | 6.4152166 | 2.2909209 | 6.7225064 | 4.9794448 | 2.4235144 | 6.4413494 | 5.5383602 | 5.62680917 | 5.2236578 |\n",
       "| 22 | 8.1593302 | 2.5226278 | 8.2557158 | 3.3374422 | 7.0029372 | 7.3558951 | 1.9399716 | 0.1006625 | 3.28114587 | 4.2104631 |\n",
       "| 23 | 9.7710461 | 0.4029043 | 3.8719254 | 3.6524945 | 3.6480007 | 7.4319780 | 7.8395325 | 4.4204589 | 6.54107355 | 5.6098409 |\n",
       "| 24 | 9.5530283 | 6.6686023 | 1.3007062 | 2.6037708 | 2.2476042 | 8.7554651 | 9.1880731 | 8.3480350 | 0.57653572 | 8.9496065 |\n",
       "| 25 | 2.9258614 | 5.7886565 | 9.7293831 | 2.1412206 | 9.5514661 | 9.2907213 | 6.2478150 | 3.2437116 | 1.22574809 | 4.1961430 |\n",
       "\n"
      ],
      "text/plain": [
       "   sample1   sample2   sample3   sample4   sample5   sample6   sample7  \n",
       "1  6.1745053 6.6933306 0.5025709 2.4052827 5.1305810 2.8691629 2.5074446\n",
       "2  3.4205596 5.1644137 0.9320004 6.7238067 0.9257736 9.1491638 0.9987768\n",
       "3  4.7160791 5.4609552 6.2847748 3.6602448 4.8358056 5.0934371 8.3115747\n",
       "4  3.6016125 3.2866891 0.9989713 0.4313792 0.3190792 1.0016656 6.6723878\n",
       "5  8.5377617 0.1685632 5.0552712 5.9949468 8.0255766 8.3864920 3.7126762\n",
       "6  6.1156901 6.9688900 0.4359873 4.3932977 7.3706954 6.7992116 3.9201905\n",
       "7  7.8037384 2.5167950 6.9768792 8.0379271 1.6383181 1.9485520 6.6508054\n",
       "8  7.2492433 2.8609031 5.5678854 6.1919118 7.7695035 8.1302976 1.5287084\n",
       "9  8.0918621 3.1606506 0.8340826 7.9154352 8.2146669 3.4903617 3.4980964\n",
       "10 0.4506911 5.7485282 2.6589285 3.9820555 6.2066770 3.0248977 5.5411890\n",
       "11 3.4352607 3.6269519 9.2278745 1.4350784 8.2956264 4.1327944 9.2363055\n",
       "12 7.0012048 6.4961494 2.5268669 9.3413936 8.1112958 8.9454413 7.5675453\n",
       "13 8.3691439 1.8764111 5.6034006 8.1166320 7.9923421 2.5207711 2.2204026\n",
       "14 3.3073943 7.3571733 2.8470363 7.4264391 4.3333340 5.8320098 7.3428183\n",
       "15 9.3716433 7.3041373 0.2106773 8.2484312 4.2793361 2.3821853 3.4023498\n",
       "16 4.3456899 2.4822980 5.2231977 1.0004140 8.2492316 0.7439474 5.4533966\n",
       "17 7.3302408 0.9554592 4.6913211 3.2410748 4.2743201 5.7699363 8.9181202\n",
       "18 1.1490201 8.0449796 6.1295871 2.6658005 5.3060035 6.4870640 8.7938489\n",
       "19 6.2356117 7.5661972 6.6785036 6.2198639 1.9276330 7.9000310 1.3438487\n",
       "20 6.3372909 0.6733779 3.6572141 5.3529768 2.4237050 9.6842903 2.7314132\n",
       "21 1.3007874 6.4152166 2.2909209 6.7225064 4.9794448 2.4235144 6.4413494\n",
       "22 8.1593302 2.5226278 8.2557158 3.3374422 7.0029372 7.3558951 1.9399716\n",
       "23 9.7710461 0.4029043 3.8719254 3.6524945 3.6480007 7.4319780 7.8395325\n",
       "24 9.5530283 6.6686023 1.3007062 2.6037708 2.2476042 8.7554651 9.1880731\n",
       "25 2.9258614 5.7886565 9.7293831 2.1412206 9.5514661 9.2907213 6.2478150\n",
       "   sample8   sample9    sample10 \n",
       "1  3.2031204 7.77626679 6.3538932\n",
       "2  7.7057854 1.40061652 4.2371958\n",
       "3  4.8875998 9.57895818 4.5418711\n",
       "4  3.8143086 0.07145368 5.2142200\n",
       "5  8.3796071 9.85457181 9.2531398\n",
       "6  7.3800735 0.76795440 7.1986514\n",
       "7  1.4006070 6.76674224 4.1119539\n",
       "8  2.5119822 4.86437843 9.7463755\n",
       "9  6.5861725 5.86331919 5.4042419\n",
       "10 1.0915489 1.74260124 5.9281628\n",
       "11 2.6104082 8.12718060 5.2101706\n",
       "12 9.3490021 3.05899620 8.6317892\n",
       "13 4.5911813 5.62906004 9.6191880\n",
       "14 0.5329242 2.54232574 3.1462400\n",
       "15 9.2337844 8.36657880 6.7829796\n",
       "16 4.0118964 2.38213042 4.7617092\n",
       "17 2.6891298 1.51034420 0.3535833\n",
       "18 3.9574738 1.56583544 9.3799363\n",
       "19 2.1564707 0.60282629 5.3703537\n",
       "20 8.8528937 2.96546634 5.5925856\n",
       "21 5.5383602 5.62680917 5.2236578\n",
       "22 0.1006625 3.28114587 4.2104631\n",
       "23 4.4204589 6.54107355 5.6098409\n",
       "24 8.3480350 0.57653572 8.9496065\n",
       "25 3.2437116 1.22574809 4.1961430"
      ]
     },
     "metadata": {},
     "output_type": "display_data"
    }
   ],
   "source": [
    "# we read the data of the file data_example_sem2.txt\n",
    "# In this data, we have each sample in a different row and the number of columns determines the size of the samples\n",
    "M<-read.table('data_example_sem2.txt')\n",
    "# we visualize the data\n",
    "M"
   ]
  },
  {
   "cell_type": "markdown",
   "id": "5fec9fd4",
   "metadata": {},
   "source": [
    "We observe that there are 10 samples and all of them are of size 25.\n",
    "\n",
    "We compute the CI of 95% of confidence level of the 10 samples."
   ]
  },
  {
   "cell_type": "code",
   "execution_count": 38,
   "id": "3d49b73c",
   "metadata": {},
   "outputs": [
    {
     "data": {
      "text/html": [
       "<style>\n",
       ".list-inline {list-style: none; margin:0; padding: 0}\n",
       ".list-inline>li {display: inline-block}\n",
       ".list-inline>li:not(:last-child)::after {content: \"\\00b7\"; padding: 0 .5ex}\n",
       "</style>\n",
       "<ol class=list-inline><li>4.65196208543525</li><li>6.92838166021361</li></ol>\n"
      ],
      "text/latex": [
       "\\begin{enumerate*}\n",
       "\\item 4.65196208543525\n",
       "\\item 6.92838166021361\n",
       "\\end{enumerate*}\n"
      ],
      "text/markdown": [
       "1. 4.65196208543525\n",
       "2. 6.92838166021361\n",
       "\n",
       "\n"
      ],
      "text/plain": [
       "[1] 4.651962 6.928382"
      ]
     },
     "metadata": {},
     "output_type": "display_data"
    },
    {
     "data": {
      "text/html": [
       "<style>\n",
       ".list-inline {list-style: none; margin:0; padding: 0}\n",
       ".list-inline>li {display: inline-block}\n",
       ".list-inline>li:not(:last-child)::after {content: \"\\00b7\"; padding: 0 .5ex}\n",
       "</style>\n",
       "<ol class=list-inline><li>3.36316255305125</li><li>5.45370632659481</li></ol>\n"
      ],
      "text/latex": [
       "\\begin{enumerate*}\n",
       "\\item 3.36316255305125\n",
       "\\item 5.45370632659481\n",
       "\\end{enumerate*}\n"
      ],
      "text/markdown": [
       "1. 3.36316255305125\n",
       "2. 5.45370632659481\n",
       "\n",
       "\n"
      ],
      "text/plain": [
       "[1] 3.363163 5.453706"
      ]
     },
     "metadata": {},
     "output_type": "display_data"
    },
    {
     "data": {
      "text/html": [
       "<style>\n",
       ".list-inline {list-style: none; margin:0; padding: 0}\n",
       ".list-inline>li {display: inline-block}\n",
       ".list-inline>li:not(:last-child)::after {content: \"\\00b7\"; padding: 0 .5ex}\n",
       "</style>\n",
       "<ol class=list-inline><li>2.92215435768227</li><li>5.27718022481788</li></ol>\n"
      ],
      "text/latex": [
       "\\begin{enumerate*}\n",
       "\\item 2.92215435768227\n",
       "\\item 5.27718022481788\n",
       "\\end{enumerate*}\n"
      ],
      "text/markdown": [
       "1. 2.92215435768227\n",
       "2. 5.27718022481788\n",
       "\n",
       "\n"
      ],
      "text/plain": [
       "[1] 2.922154 5.277180"
      ]
     },
     "metadata": {},
     "output_type": "display_data"
    },
    {
     "data": {
      "text/html": [
       "<style>\n",
       ".list-inline {list-style: none; margin:0; padding: 0}\n",
       ".list-inline>li {display: inline-block}\n",
       ".list-inline>li:not(:last-child)::after {content: \"\\00b7\"; padding: 0 .5ex}\n",
       "</style>\n",
       "<ol class=list-inline><li>3.78831017845441</li><li>5.91103592431973</li></ol>\n"
      ],
      "text/latex": [
       "\\begin{enumerate*}\n",
       "\\item 3.78831017845441\n",
       "\\item 5.91103592431973\n",
       "\\end{enumerate*}\n"
      ],
      "text/markdown": [
       "1. 3.78831017845441\n",
       "2. 5.91103592431973\n",
       "\n",
       "\n"
      ],
      "text/plain": [
       "[1] 3.788310 5.911036"
      ]
     },
     "metadata": {},
     "output_type": "display_data"
    },
    {
     "data": {
      "text/html": [
       "<style>\n",
       ".list-inline {list-style: none; margin:0; padding: 0}\n",
       ".list-inline>li {display: inline-block}\n",
       ".list-inline>li:not(:last-child)::after {content: \"\\00b7\"; padding: 0 .5ex}\n",
       "</style>\n",
       "<ol class=list-inline><li>4.21303339667268</li><li>6.43168321073406</li></ol>\n"
      ],
      "text/latex": [
       "\\begin{enumerate*}\n",
       "\\item 4.21303339667268\n",
       "\\item 6.43168321073406\n",
       "\\end{enumerate*}\n"
      ],
      "text/markdown": [
       "1. 4.21303339667268\n",
       "2. 6.43168321073406\n",
       "\n",
       "\n"
      ],
      "text/plain": [
       "[1] 4.213033 6.431683"
      ]
     },
     "metadata": {},
     "output_type": "display_data"
    },
    {
     "data": {
      "text/html": [
       "<style>\n",
       ".list-inline {list-style: none; margin:0; padding: 0}\n",
       ".list-inline>li {display: inline-block}\n",
       ".list-inline>li:not(:last-child)::after {content: \"\\00b7\"; padding: 0 .5ex}\n",
       "</style>\n",
       "<ol class=list-inline><li>4.38687541108538</li><li>6.77706752181094</li></ol>\n"
      ],
      "text/latex": [
       "\\begin{enumerate*}\n",
       "\\item 4.38687541108538\n",
       "\\item 6.77706752181094\n",
       "\\end{enumerate*}\n"
      ],
      "text/markdown": [
       "1. 4.38687541108538\n",
       "2. 6.77706752181094\n",
       "\n",
       "\n"
      ],
      "text/plain": [
       "[1] 4.386875 6.777068"
      ]
     },
     "metadata": {},
     "output_type": "display_data"
    },
    {
     "data": {
      "text/html": [
       "<style>\n",
       ".list-inline {list-style: none; margin:0; padding: 0}\n",
       ".list-inline>li {display: inline-block}\n",
       ".list-inline>li:not(:last-child)::after {content: \"\\00b7\"; padding: 0 .5ex}\n",
       "</style>\n",
       "<ol class=list-inline><li>4.14507733884432</li><li>6.41561389972291</li></ol>\n"
      ],
      "text/latex": [
       "\\begin{enumerate*}\n",
       "\\item 4.14507733884432\n",
       "\\item 6.41561389972291\n",
       "\\end{enumerate*}\n"
      ],
      "text/markdown": [
       "1. 4.14507733884432\n",
       "2. 6.41561389972291\n",
       "\n",
       "\n"
      ],
      "text/plain": [
       "[1] 4.145077 6.415614"
      ]
     },
     "metadata": {},
     "output_type": "display_data"
    },
    {
     "data": {
      "text/html": [
       "<style>\n",
       ".list-inline {list-style: none; margin:0; padding: 0}\n",
       ".list-inline>li {display: inline-block}\n",
       ".list-inline>li:not(:last-child)::after {content: \"\\00b7\"; padding: 0 .5ex}\n",
       "</style>\n",
       "<ol class=list-inline><li>3.48699444328148</li><li>5.84078141711008</li></ol>\n"
      ],
      "text/latex": [
       "\\begin{enumerate*}\n",
       "\\item 3.48699444328148\n",
       "\\item 5.84078141711008\n",
       "\\end{enumerate*}\n"
      ],
      "text/markdown": [
       "1. 3.48699444328148\n",
       "2. 5.84078141711008\n",
       "\n",
       "\n"
      ],
      "text/plain": [
       "[1] 3.486994 5.840781"
      ]
     },
     "metadata": {},
     "output_type": "display_data"
    },
    {
     "data": {
      "text/html": [
       "<style>\n",
       ".list-inline {list-style: none; margin:0; padding: 0}\n",
       ".list-inline>li {display: inline-block}\n",
       ".list-inline>li:not(:last-child)::after {content: \"\\00b7\"; padding: 0 .5ex}\n",
       "</style>\n",
       "<ol class=list-inline><li>2.83770907497816</li><li>5.37740444042868</li></ol>\n"
      ],
      "text/latex": [
       "\\begin{enumerate*}\n",
       "\\item 2.83770907497816\n",
       "\\item 5.37740444042868\n",
       "\\end{enumerate*}\n"
      ],
      "text/markdown": [
       "1. 2.83770907497816\n",
       "2. 5.37740444042868\n",
       "\n",
       "\n"
      ],
      "text/plain": [
       "[1] 2.837709 5.377404"
      ]
     },
     "metadata": {},
     "output_type": "display_data"
    },
    {
     "data": {
      "text/html": [
       "<style>\n",
       ".list-inline {list-style: none; margin:0; padding: 0}\n",
       ".list-inline>li {display: inline-block}\n",
       ".list-inline>li:not(:last-child)::after {content: \"\\00b7\"; padding: 0 .5ex}\n",
       "</style>\n",
       "<ol class=list-inline><li>5.01293225221978</li><li>6.90930391635103</li></ol>\n"
      ],
      "text/latex": [
       "\\begin{enumerate*}\n",
       "\\item 5.01293225221978\n",
       "\\item 6.90930391635103\n",
       "\\end{enumerate*}\n"
      ],
      "text/markdown": [
       "1. 5.01293225221978\n",
       "2. 6.90930391635103\n",
       "\n",
       "\n"
      ],
      "text/plain": [
       "[1] 5.012932 6.909304"
      ]
     },
     "metadata": {},
     "output_type": "display_data"
    }
   ],
   "source": [
    "newtest1<-t.test(M[,1],alternative='two.sided',conf.level=.95)\n",
    "c(newtest1$conf.int[1],newtest1$conf.int[2])\n",
    "newtest2<-t.test(M[,2],alternative='two.sided',conf.level=.95)\n",
    "c(newtest2$conf.int[1],newtest2$conf.int[2])\n",
    "newtest3<-t.test(M[,3],alternative='two.sided',conf.level=.95)\n",
    "c(newtest3$conf.int[1],newtest3$conf.int[2])\n",
    "newtest4<-t.test(M[,4],alternative='two.sided',conf.level=.95)\n",
    "c(newtest4$conf.int[1],newtest4$conf.int[2])\n",
    "newtest5<-t.test(M[,5],alternative='two.sided',conf.level=.95)\n",
    "c(newtest5$conf.int[1],newtest5$conf.int[2])\n",
    "newtest6<-t.test(M[,6],alternative='two.sided',conf.level=.95)\n",
    "c(newtest6$conf.int[1],newtest6$conf.int[2])\n",
    "newtest7<-t.test(M[,7],alternative='two.sided',conf.level=.95)\n",
    "c(newtest7$conf.int[1],newtest7$conf.int[2])\n",
    "newtest8<-t.test(M[,8],alternative='two.sided',conf.level=.95)\n",
    "c(newtest8$conf.int[1],newtest8$conf.int[2])\n",
    "newtest9<-t.test(M[,9],alternative='two.sided',conf.level=.95)\n",
    "c(newtest9$conf.int[1],newtest9$conf.int[2])\n",
    "newtest10<-t.test(M[,10],alternative='two.sided',conf.level=.95)\n",
    "c(newtest10$conf.int[1],newtest10$conf.int[2])"
   ]
  },
  {
   "cell_type": "markdown",
   "id": "dc68935e",
   "metadata": {},
   "source": [
    "### Conclusion\n",
    "\n",
    "Our goal was to analyze if $\\mu=3$ and we observe that none of the Confidence Intervals contain 3. Therefore, we conclude that the expected value of the distribution of the data is not 3."
   ]
  },
  {
   "cell_type": "code",
   "execution_count": null,
   "id": "4d5c2a5e",
   "metadata": {},
   "outputs": [],
   "source": []
  }
 ],
 "metadata": {
  "kernelspec": {
   "display_name": "R",
   "language": "R",
   "name": "ir"
  },
  "language_info": {
   "codemirror_mode": "r",
   "file_extension": ".r",
   "mimetype": "text/x-r-source",
   "name": "R",
   "pygments_lexer": "r",
   "version": "4.1.2"
  }
 },
 "nbformat": 4,
 "nbformat_minor": 5
}
