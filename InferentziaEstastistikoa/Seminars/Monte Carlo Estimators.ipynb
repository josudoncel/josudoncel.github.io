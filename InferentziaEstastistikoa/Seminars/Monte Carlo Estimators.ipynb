{
 "cells": [
  {
   "cell_type": "markdown",
   "id": "2a17cfd8",
   "metadata": {},
   "source": [
    "# Seminar 1: Monte Carlo Estimator\n",
    "\n",
    "The objective of this seminar is to learn what is the Monte Carlo estimation method.\n",
    "\n",
    "We will apply this method to estimate the parameters of the distribution that follows some data and to conclude whether this data follows a normal distribution or not. "
   ]
  },
  {
   "cell_type": "code",
   "execution_count": 27,
   "id": "e715ee3c",
   "metadata": {},
   "outputs": [
    {
     "data": {
      "text/html": [
       "<style>\n",
       ".list-inline {list-style: none; margin:0; padding: 0}\n",
       ".list-inline>li {display: inline-block}\n",
       ".list-inline>li:not(:last-child)::after {content: \"\\00b7\"; padding: 0 .5ex}\n",
       "</style>\n",
       "<ol class=list-inline><li>0.504006461007521</li><li>0.843809101497754</li><li>0.970874157734215</li><li>0.691129986895248</li><li>0.649816833203658</li></ol>\n"
      ],
      "text/latex": [
       "\\begin{enumerate*}\n",
       "\\item 0.504006461007521\n",
       "\\item 0.843809101497754\n",
       "\\item 0.970874157734215\n",
       "\\item 0.691129986895248\n",
       "\\item 0.649816833203658\n",
       "\\end{enumerate*}\n"
      ],
      "text/markdown": [
       "1. 0.504006461007521\n",
       "2. 0.843809101497754\n",
       "3. 0.970874157734215\n",
       "4. 0.691129986895248\n",
       "5. 0.649816833203658\n",
       "\n",
       "\n"
      ],
      "text/plain": [
       "[1] 0.5040065 0.8438091 0.9708742 0.6911300 0.6498168"
      ]
     },
     "metadata": {},
     "output_type": "display_data"
    }
   ],
   "source": [
    "# we consider that X is a r.v. that follows the U(0,1) distribution\n",
    "# We get 5 values that follow this ditribution and we print them\n",
    "sample<-runif(5,0,1)\n",
    "sample"
   ]
  },
  {
   "cell_type": "code",
   "execution_count": 32,
   "id": "ea006b29",
   "metadata": {},
   "outputs": [
    {
     "data": {
      "text/html": [
       "0.731927308067679"
      ],
      "text/latex": [
       "0.731927308067679"
      ],
      "text/markdown": [
       "0.731927308067679"
      ],
      "text/plain": [
       "[1] 0.7319273"
      ]
     },
     "metadata": {},
     "output_type": "display_data"
    }
   ],
   "source": [
    "# To estimate E[X], we consider the sample mean as the point estimator\n",
    "point_estimator<-mean(sample)\n",
    "point_estimator"
   ]
  },
  {
   "cell_type": "markdown",
   "id": "63cdb666",
   "metadata": {},
   "source": [
    "### Explanation\n",
    "\n",
    "We know that $\\mathbb E[X]=0.5$ and our estimator is 0.73. This is very bad!\n",
    "\n",
    "Let's see if, applying Monte Carlo method, we get a better estimator!\n",
    "\n",
    "### Monte Carlo method\n",
    "\n",
    "We proceed as follows:\n",
    "\n",
    "* We get $n$ samples that follow the distribution under analysis\n",
    "\n",
    "* We compute the point estimator of each sample\n",
    "\n",
    "* We calculate the mean of the obtained estimators\n",
    "\n"
   ]
  },
  {
   "cell_type": "code",
   "execution_count": 43,
   "id": "0c1d93e2",
   "metadata": {},
   "outputs": [
    {
     "data": {
      "text/html": [
       "0.430241840220988"
      ],
      "text/latex": [
       "0.430241840220988"
      ],
      "text/markdown": [
       "0.430241840220988"
      ],
      "text/plain": [
       "[1] 0.4302418"
      ]
     },
     "metadata": {},
     "output_type": "display_data"
    }
   ],
   "source": [
    "# we get n=5 samples of the same size as above that follow also the U(0,1) distribution.\n",
    "# We compute the mean of each sample\n",
    "\n",
    "sample1<-runif(5,0,1); point_estimator1<-mean(sample1)\n",
    "sample2<-runif(5,0,1); point_estimator2<-mean(sample2)\n",
    "sample3<-runif(5,0,1); point_estimator3<-mean(sample3)\n",
    "sample4<-runif(5,0,1); point_estimator4<-mean(sample4)\n",
    "sample5<-runif(5,0,1); point_estimator5<-mean(sample5)\n",
    "\n",
    "# The Monte Carlo estimator is the mean of point_estimator1, ...., point_estimator5\n",
    "mc_estimator <- mean(c(point_estimator1,point_estimator2,point_estimator3,point_estimator4,point_estimator5))\n",
    "mc_estimator"
   ]
  },
  {
   "cell_type": "markdown",
   "id": "7ec5b1f2",
   "metadata": {},
   "source": [
    "### Explanation\n",
    "\n",
    "This is much closer to 0.5 than 0.7319! So, we got a better estimator using Monte Carlo! GREAT!!!\n",
    "\n",
    "In general, the more samples we get, the better the estimator is."
   ]
  },
  {
   "cell_type": "code",
   "execution_count": 42,
   "id": "ee90c9c3",
   "metadata": {},
   "outputs": [
    {
     "data": {
      "text/html": [
       "0.4935834778628"
      ],
      "text/latex": [
       "0.4935834778628"
      ],
      "text/markdown": [
       "0.4935834778628"
      ],
      "text/plain": [
       "[1] 0.4935835"
      ]
     },
     "metadata": {},
     "output_type": "display_data"
    }
   ],
   "source": [
    "sample1<-runif(5,0,1); point_estimator1<-mean(sample1)\n",
    "sample2<-runif(5,0,1); point_estimator2<-mean(sample2)\n",
    "sample3<-runif(5,0,1); point_estimator3<-mean(sample3)\n",
    "sample4<-runif(5,0,1); point_estimator4<-mean(sample4)\n",
    "sample5<-runif(5,0,1); point_estimator5<-mean(sample5)\n",
    "sample6<-runif(5,0,1); point_estimator6<-mean(sample6)\n",
    "sample7<-runif(5,0,1); point_estimator7<-mean(sample7)\n",
    "sample8<-runif(5,0,1); point_estimator8<-mean(sample8)\n",
    "sample9<-runif(5,0,1); point_estimator9<-mean(sample9)\n",
    "\n",
    "mean(c(point_estimator1,point_estimator2,point_estimator3,point_estimator4,point_estimator5,point_estimator6,point_estimator7,point_estimator8,point_estimator9))"
   ]
  },
  {
   "cell_type": "markdown",
   "id": "ac22807f",
   "metadata": {},
   "source": [
    "## Another example\n",
    "\n",
    "The above example was easy to analyze since we knew what was the real value of $\\mathbb E[X]$, which is the parameter we aimed at estimating.\n",
    "\n",
    "Unfortunately, we often analyze data where the real value of the parameters is unknown, as we will see now."
   ]
  },
  {
   "cell_type": "code",
   "execution_count": 55,
   "id": "b73f0fa8",
   "metadata": {},
   "outputs": [
    {
     "data": {
      "text/html": [
       "<table class=\"dataframe\">\n",
       "<caption>A data.frame: 5 × 100</caption>\n",
       "<thead>\n",
       "\t<tr><th></th><th scope=col>V1</th><th scope=col>V2</th><th scope=col>V3</th><th scope=col>V4</th><th scope=col>V5</th><th scope=col>V6</th><th scope=col>V7</th><th scope=col>V8</th><th scope=col>V9</th><th scope=col>V10</th><th scope=col>⋯</th><th scope=col>V91</th><th scope=col>V92</th><th scope=col>V93</th><th scope=col>V94</th><th scope=col>V95</th><th scope=col>V96</th><th scope=col>V97</th><th scope=col>V98</th><th scope=col>V99</th><th scope=col>V100</th></tr>\n",
       "\t<tr><th></th><th scope=col>&lt;dbl&gt;</th><th scope=col>&lt;dbl&gt;</th><th scope=col>&lt;dbl&gt;</th><th scope=col>&lt;dbl&gt;</th><th scope=col>&lt;dbl&gt;</th><th scope=col>&lt;dbl&gt;</th><th scope=col>&lt;dbl&gt;</th><th scope=col>&lt;dbl&gt;</th><th scope=col>&lt;dbl&gt;</th><th scope=col>&lt;dbl&gt;</th><th scope=col>⋯</th><th scope=col>&lt;dbl&gt;</th><th scope=col>&lt;dbl&gt;</th><th scope=col>&lt;dbl&gt;</th><th scope=col>&lt;dbl&gt;</th><th scope=col>&lt;dbl&gt;</th><th scope=col>&lt;dbl&gt;</th><th scope=col>&lt;dbl&gt;</th><th scope=col>&lt;dbl&gt;</th><th scope=col>&lt;dbl&gt;</th><th scope=col>&lt;dbl&gt;</th></tr>\n",
       "</thead>\n",
       "<tbody>\n",
       "\t<tr><th scope=row>1</th><td>22.58828</td><td>19.664213</td><td>18.68003</td><td>15.63171</td><td>22.928074</td><td>19.75646</td><td>22.21602</td><td>23.53062</td><td>22.41443</td><td>19.111447</td><td>⋯</td><td>21.23042</td><td>14.77513</td><td>24.51559</td><td>24.79667</td><td>18.78853</td><td>18.29957</td><td>23.84680</td><td>17.95666</td><td>16.10762</td><td>20.16525</td></tr>\n",
       "\t<tr><th scope=row>2</th><td>18.14817</td><td>23.823134</td><td>24.01302</td><td>12.78756</td><td>15.787551</td><td>23.20554</td><td>24.63215</td><td>30.62491</td><td>21.55747</td><td> 9.542973</td><td>⋯</td><td>23.30647</td><td>11.45358</td><td>15.99302</td><td>27.58492</td><td>16.70090</td><td>24.74303</td><td>22.02392</td><td>15.52438</td><td>31.15656</td><td>26.55155</td></tr>\n",
       "\t<tr><th scope=row>3</th><td>25.10999</td><td> 8.029486</td><td>19.11389</td><td>28.57031</td><td> 8.128944</td><td>24.88187</td><td>13.53063</td><td>22.29835</td><td>18.07195</td><td>21.842334</td><td>⋯</td><td>19.68617</td><td>26.78752</td><td>21.79517</td><td>26.17957</td><td>14.71762</td><td>21.91362</td><td>26.33342</td><td>22.39691</td><td>11.49091</td><td>15.09705</td></tr>\n",
       "\t<tr><th scope=row>4</th><td>15.42520</td><td>25.327989</td><td>21.52038</td><td>20.25106</td><td>15.125677</td><td>19.52770</td><td>17.59032</td><td>21.78690</td><td>18.80337</td><td>21.898622</td><td>⋯</td><td>14.90486</td><td>19.87246</td><td>23.91504</td><td>16.46027</td><td>15.81989</td><td>20.58571</td><td>22.65043</td><td>23.29962</td><td>19.67319</td><td>27.79712</td></tr>\n",
       "\t<tr><th scope=row>5</th><td>17.35674</td><td>25.898652</td><td>11.80182</td><td>15.28244</td><td>17.927955</td><td>20.10542</td><td>26.57718</td><td>22.89951</td><td>15.79623</td><td>17.943726</td><td>⋯</td><td>24.10391</td><td>21.57876</td><td>29.22161</td><td>26.72325</td><td>29.06613</td><td>22.86002</td><td>18.80309</td><td>18.25616</td><td>15.80760</td><td>23.10954</td></tr>\n",
       "</tbody>\n",
       "</table>\n"
      ],
      "text/latex": [
       "A data.frame: 5 × 100\n",
       "\\begin{tabular}{r|lllllllllllllllllllll}\n",
       "  & V1 & V2 & V3 & V4 & V5 & V6 & V7 & V8 & V9 & V10 & ⋯ & V91 & V92 & V93 & V94 & V95 & V96 & V97 & V98 & V99 & V100\\\\\n",
       "  & <dbl> & <dbl> & <dbl> & <dbl> & <dbl> & <dbl> & <dbl> & <dbl> & <dbl> & <dbl> & ⋯ & <dbl> & <dbl> & <dbl> & <dbl> & <dbl> & <dbl> & <dbl> & <dbl> & <dbl> & <dbl>\\\\\n",
       "\\hline\n",
       "\t1 & 22.58828 & 19.664213 & 18.68003 & 15.63171 & 22.928074 & 19.75646 & 22.21602 & 23.53062 & 22.41443 & 19.111447 & ⋯ & 21.23042 & 14.77513 & 24.51559 & 24.79667 & 18.78853 & 18.29957 & 23.84680 & 17.95666 & 16.10762 & 20.16525\\\\\n",
       "\t2 & 18.14817 & 23.823134 & 24.01302 & 12.78756 & 15.787551 & 23.20554 & 24.63215 & 30.62491 & 21.55747 &  9.542973 & ⋯ & 23.30647 & 11.45358 & 15.99302 & 27.58492 & 16.70090 & 24.74303 & 22.02392 & 15.52438 & 31.15656 & 26.55155\\\\\n",
       "\t3 & 25.10999 &  8.029486 & 19.11389 & 28.57031 &  8.128944 & 24.88187 & 13.53063 & 22.29835 & 18.07195 & 21.842334 & ⋯ & 19.68617 & 26.78752 & 21.79517 & 26.17957 & 14.71762 & 21.91362 & 26.33342 & 22.39691 & 11.49091 & 15.09705\\\\\n",
       "\t4 & 15.42520 & 25.327989 & 21.52038 & 20.25106 & 15.125677 & 19.52770 & 17.59032 & 21.78690 & 18.80337 & 21.898622 & ⋯ & 14.90486 & 19.87246 & 23.91504 & 16.46027 & 15.81989 & 20.58571 & 22.65043 & 23.29962 & 19.67319 & 27.79712\\\\\n",
       "\t5 & 17.35674 & 25.898652 & 11.80182 & 15.28244 & 17.927955 & 20.10542 & 26.57718 & 22.89951 & 15.79623 & 17.943726 & ⋯ & 24.10391 & 21.57876 & 29.22161 & 26.72325 & 29.06613 & 22.86002 & 18.80309 & 18.25616 & 15.80760 & 23.10954\\\\\n",
       "\\end{tabular}\n"
      ],
      "text/markdown": [
       "\n",
       "A data.frame: 5 × 100\n",
       "\n",
       "| <!--/--> | V1 &lt;dbl&gt; | V2 &lt;dbl&gt; | V3 &lt;dbl&gt; | V4 &lt;dbl&gt; | V5 &lt;dbl&gt; | V6 &lt;dbl&gt; | V7 &lt;dbl&gt; | V8 &lt;dbl&gt; | V9 &lt;dbl&gt; | V10 &lt;dbl&gt; | ⋯ ⋯ | V91 &lt;dbl&gt; | V92 &lt;dbl&gt; | V93 &lt;dbl&gt; | V94 &lt;dbl&gt; | V95 &lt;dbl&gt; | V96 &lt;dbl&gt; | V97 &lt;dbl&gt; | V98 &lt;dbl&gt; | V99 &lt;dbl&gt; | V100 &lt;dbl&gt; |\n",
       "|---|---|---|---|---|---|---|---|---|---|---|---|---|---|---|---|---|---|---|---|---|---|\n",
       "| 1 | 22.58828 | 19.664213 | 18.68003 | 15.63171 | 22.928074 | 19.75646 | 22.21602 | 23.53062 | 22.41443 | 19.111447 | ⋯ | 21.23042 | 14.77513 | 24.51559 | 24.79667 | 18.78853 | 18.29957 | 23.84680 | 17.95666 | 16.10762 | 20.16525 |\n",
       "| 2 | 18.14817 | 23.823134 | 24.01302 | 12.78756 | 15.787551 | 23.20554 | 24.63215 | 30.62491 | 21.55747 |  9.542973 | ⋯ | 23.30647 | 11.45358 | 15.99302 | 27.58492 | 16.70090 | 24.74303 | 22.02392 | 15.52438 | 31.15656 | 26.55155 |\n",
       "| 3 | 25.10999 |  8.029486 | 19.11389 | 28.57031 |  8.128944 | 24.88187 | 13.53063 | 22.29835 | 18.07195 | 21.842334 | ⋯ | 19.68617 | 26.78752 | 21.79517 | 26.17957 | 14.71762 | 21.91362 | 26.33342 | 22.39691 | 11.49091 | 15.09705 |\n",
       "| 4 | 15.42520 | 25.327989 | 21.52038 | 20.25106 | 15.125677 | 19.52770 | 17.59032 | 21.78690 | 18.80337 | 21.898622 | ⋯ | 14.90486 | 19.87246 | 23.91504 | 16.46027 | 15.81989 | 20.58571 | 22.65043 | 23.29962 | 19.67319 | 27.79712 |\n",
       "| 5 | 17.35674 | 25.898652 | 11.80182 | 15.28244 | 17.927955 | 20.10542 | 26.57718 | 22.89951 | 15.79623 | 17.943726 | ⋯ | 24.10391 | 21.57876 | 29.22161 | 26.72325 | 29.06613 | 22.86002 | 18.80309 | 18.25616 | 15.80760 | 23.10954 |\n",
       "\n"
      ],
      "text/plain": [
       "  V1       V2        V3       V4       V5        V6       V7       V8      \n",
       "1 22.58828 19.664213 18.68003 15.63171 22.928074 19.75646 22.21602 23.53062\n",
       "2 18.14817 23.823134 24.01302 12.78756 15.787551 23.20554 24.63215 30.62491\n",
       "3 25.10999  8.029486 19.11389 28.57031  8.128944 24.88187 13.53063 22.29835\n",
       "4 15.42520 25.327989 21.52038 20.25106 15.125677 19.52770 17.59032 21.78690\n",
       "5 17.35674 25.898652 11.80182 15.28244 17.927955 20.10542 26.57718 22.89951\n",
       "  V9       V10       ⋯ V91      V92      V93      V94      V95      V96     \n",
       "1 22.41443 19.111447 ⋯ 21.23042 14.77513 24.51559 24.79667 18.78853 18.29957\n",
       "2 21.55747  9.542973 ⋯ 23.30647 11.45358 15.99302 27.58492 16.70090 24.74303\n",
       "3 18.07195 21.842334 ⋯ 19.68617 26.78752 21.79517 26.17957 14.71762 21.91362\n",
       "4 18.80337 21.898622 ⋯ 14.90486 19.87246 23.91504 16.46027 15.81989 20.58571\n",
       "5 15.79623 17.943726 ⋯ 24.10391 21.57876 29.22161 26.72325 29.06613 22.86002\n",
       "  V97      V98      V99      V100    \n",
       "1 23.84680 17.95666 16.10762 20.16525\n",
       "2 22.02392 15.52438 31.15656 26.55155\n",
       "3 26.33342 22.39691 11.49091 15.09705\n",
       "4 22.65043 23.29962 19.67319 27.79712\n",
       "5 18.80309 18.25616 15.80760 23.10954"
      ]
     },
     "metadata": {},
     "output_type": "display_data"
    }
   ],
   "source": [
    "# we read the data of the file data_example.txt\n",
    "# In this data, we have each sample in a different row and the number of columns determines the size of the samples\n",
    "M<-read.table('data_example.txt')\n",
    "# we visualize the data\n",
    "M\n"
   ]
  },
  {
   "cell_type": "code",
   "execution_count": 56,
   "id": "00af8116",
   "metadata": {},
   "outputs": [
    {
     "data": {
      "text/html": [
       "5"
      ],
      "text/latex": [
       "5"
      ],
      "text/markdown": [
       "5"
      ],
      "text/plain": [
       "[1] 5"
      ]
     },
     "metadata": {},
     "output_type": "display_data"
    },
    {
     "data": {
      "text/html": [
       "100"
      ],
      "text/latex": [
       "100"
      ],
      "text/markdown": [
       "100"
      ],
      "text/plain": [
       "[1] 100"
      ]
     },
     "metadata": {},
     "output_type": "display_data"
    }
   ],
   "source": [
    "# we see that the number of rows is 5 and the number of columns is 100.\n",
    "# An alternative way of getting this information is the following:\n",
    "nrow(M)\n",
    "ncol(M)"
   ]
  },
  {
   "cell_type": "markdown",
   "id": "7620a496",
   "metadata": {},
   "source": [
    "### Estimation of $\\mathbb E[X]$ using Monte Carlo"
   ]
  },
  {
   "cell_type": "code",
   "execution_count": 57,
   "id": "5b112a53",
   "metadata": {},
   "outputs": [
    {
     "data": {
      "text/html": [
       "<style>\n",
       ".list-inline {list-style: none; margin:0; padding: 0}\n",
       ".list-inline>li {display: inline-block}\n",
       ".list-inline>li:not(:last-child)::after {content: \"\\00b7\"; padding: 0 .5ex}\n",
       "</style>\n",
       "<ol class=list-inline><li>20.2447048414092</li><li>20.2990470476669</li><li>19.6632791758816</li><li>19.970226785339</li><li>19.830566696487</li></ol>\n"
      ],
      "text/latex": [
       "\\begin{enumerate*}\n",
       "\\item 20.2447048414092\n",
       "\\item 20.2990470476669\n",
       "\\item 19.6632791758816\n",
       "\\item 19.970226785339\n",
       "\\item 19.830566696487\n",
       "\\end{enumerate*}\n"
      ],
      "text/markdown": [
       "1. 20.2447048414092\n",
       "2. 20.2990470476669\n",
       "3. 19.6632791758816\n",
       "4. 19.970226785339\n",
       "5. 19.830566696487\n",
       "\n",
       "\n"
      ],
      "text/plain": [
       "[1] 20.24470 20.29905 19.66328 19.97023 19.83057"
      ]
     },
     "metadata": {},
     "output_type": "display_data"
    },
    {
     "data": {
      "text/html": [
       "20.0015649093567"
      ],
      "text/latex": [
       "20.0015649093567"
      ],
      "text/markdown": [
       "20.0015649093567"
      ],
      "text/plain": [
       "[1] 20.00156"
      ]
     },
     "metadata": {},
     "output_type": "display_data"
    }
   ],
   "source": [
    "# we compute the mean of each row and store it in a vector v\n",
    "val1<-mean(as.numeric(M[1,]))\n",
    "val2<-mean(as.numeric(M[2,]))\n",
    "val3<-mean(as.numeric(M[3,]))\n",
    "val4<-mean(as.numeric(M[4,]))\n",
    "val5<-mean(as.numeric(M[5,]))\n",
    "v_mean<-c(val1,val2,val3,val4,val5)\n",
    "v_mean\n",
    "#    we compute the mean of the above vector to get a estimator of the expected value of the distribution of the data\n",
    "est_mean<-mean(v_mean)\n",
    "est_mean"
   ]
  },
  {
   "cell_type": "markdown",
   "id": "740668db",
   "metadata": {},
   "source": [
    "#### Explanation\n",
    "\n",
    "The Monte Carlo estimator of $\\mathbb E[X]$ is $20.0015$."
   ]
  },
  {
   "cell_type": "markdown",
   "id": "3fe22458",
   "metadata": {},
   "source": [
    "### Estimation of $SD[X]$ using Monte Carlo"
   ]
  },
  {
   "cell_type": "code",
   "execution_count": 58,
   "id": "4b1919e3",
   "metadata": {},
   "outputs": [
    {
     "data": {
      "text/html": [
       "<style>\n",
       ".list-inline {list-style: none; margin:0; padding: 0}\n",
       ".list-inline>li {display: inline-block}\n",
       ".list-inline>li:not(:last-child)::after {content: \"\\00b7\"; padding: 0 .5ex}\n",
       "</style>\n",
       "<ol class=list-inline><li>5.18022842626995</li><li>5.15232977847756</li><li>5.16776897422592</li><li>4.86678092241092</li><li>4.81289437913703</li></ol>\n"
      ],
      "text/latex": [
       "\\begin{enumerate*}\n",
       "\\item 5.18022842626995\n",
       "\\item 5.15232977847756\n",
       "\\item 5.16776897422592\n",
       "\\item 4.86678092241092\n",
       "\\item 4.81289437913703\n",
       "\\end{enumerate*}\n"
      ],
      "text/markdown": [
       "1. 5.18022842626995\n",
       "2. 5.15232977847756\n",
       "3. 5.16776897422592\n",
       "4. 4.86678092241092\n",
       "5. 4.81289437913703\n",
       "\n",
       "\n"
      ],
      "text/plain": [
       "[1] 5.180228 5.152330 5.167769 4.866781 4.812894"
      ]
     },
     "metadata": {},
     "output_type": "display_data"
    },
    {
     "data": {
      "text/html": [
       "5.03600049610428"
      ],
      "text/latex": [
       "5.03600049610428"
      ],
      "text/markdown": [
       "5.03600049610428"
      ],
      "text/plain": [
       "[1] 5.036"
      ]
     },
     "metadata": {},
     "output_type": "display_data"
    }
   ],
   "source": [
    "# we compute the standard deviation of each row and store it in a vector v\n",
    "val1<-sd(as.numeric(M[1,]))\n",
    "val2<-sd(as.numeric(M[2,]))\n",
    "val3<-sd(as.numeric(M[3,]))\n",
    "val4<-sd(as.numeric(M[4,]))\n",
    "val5<-sd(as.numeric(M[5,]))\n",
    "v_sd<-c(val1,val2,val3,val4,val5)\n",
    "v_sd\n",
    "#    we compute the mean of the above vector to get a estimator of the standard deviation of the distribution of the data\n",
    "est_sd<-mean(v_sd)\n",
    "est_sd\n"
   ]
  },
  {
   "cell_type": "markdown",
   "id": "04b9b12b",
   "metadata": {},
   "source": [
    "#### Explanation\n",
    "\n",
    "The Monte Carlo estimator of $SD[X]$ is $5.0360$.\n",
    "\n"
   ]
  },
  {
   "cell_type": "markdown",
   "id": "5ee51c2a",
   "metadata": {},
   "source": [
    "### Estimation of $\\mathbb E[X^k]$ using Monte Carlo\n",
    "\n",
    "To estimate $\\mathbb E[X^k]$, with $k=1,2,3,\\dots$, we proceed as above considering that, if $x_1,\\dots,x_n$ is a sample, the point estimator is $\\frac{1}{n}\\sum_{i=1}^n x_i^k$."
   ]
  },
  {
   "cell_type": "markdown",
   "id": "bdeaad22",
   "metadata": {},
   "source": [
    "### Analyzing the distribution of the data\n",
    "\n",
    "We aim to know if the data follows a given distribution."
   ]
  },
  {
   "cell_type": "code",
   "execution_count": 60,
   "id": "d2aeaa7e",
   "metadata": {},
   "outputs": [
    {
     "data": {
      "image/png": "[encoded data removed]",
      "text/plain": [
       "Plot with title “Histogram of as.numeric(M[1, ])”"
      ]
     },
     "metadata": {
      "image/png": {
       "height": 420,
       "width": 420
      }
     },
     "output_type": "display_data"
    }
   ],
   "source": [
    "# we check if the data follows th normal distribution with the  estimater parameters.\n",
    "# we consider the data of the first row of M\n",
    "hist(as.numeric(M[1,]), probability=TRUE)\n",
    "xx<-seq(min(M[1,]),max(M[1,]),length=100)\n",
    "lines(xx,dnorm(xx,mean=est_mean,sd=est_sd))"
   ]
  },
  {
   "cell_type": "markdown",
   "id": "1bbf4b0a",
   "metadata": {},
   "source": [
    "#### Explanation:\n",
    "\n",
    "It seems to follow the normal distribution with the parameters estimated using Monte Carlo.\n",
    "The line approaches the values of the histogram"
   ]
  },
  {
   "cell_type": "code",
   "execution_count": 70,
   "id": "3e0214ca",
   "metadata": {},
   "outputs": [
    {
     "data": {
      "image/png": "[encoded data removed]",
      "text/plain": [
       "Plot with title “Histogram of as.numeric(M[1, ])”"
      ]
     },
     "metadata": {
      "image/png": {
       "height": 420,
       "width": 420
      }
     },
     "output_type": "display_data"
    }
   ],
   "source": [
    "# we check if the data follows the chi squared distribution with 10 degrees of freedom\n",
    "# we consider the data of the first row of M\n",
    "hist(as.numeric(M[1,]), probability=TRUE)\n",
    "xx<-seq(min(M[1,]),max(M[1,]),length=100)\n",
    "lines(xx,dchisq(xx,df=10))"
   ]
  },
  {
   "cell_type": "markdown",
   "id": "d8f439ee",
   "metadata": {},
   "source": [
    "#### Explanation:\n",
    "\n",
    "Our data does not follow the chi square distribution with 10 degrees of freedom.\n",
    "The line is far from the values of the histogram"
   ]
  },
  {
   "cell_type": "code",
   "execution_count": null,
   "id": "3d49b73c",
   "metadata": {},
   "outputs": [],
   "source": []
  }
 ],
 "metadata": {
  "kernelspec": {
   "display_name": "R",
   "language": "R",
   "name": "ir"
  },
  "language_info": {
   "codemirror_mode": "r",
   "file_extension": ".r",
   "mimetype": "text/x-r-source",
   "name": "R",
   "pygments_lexer": "r",
   "version": "4.1.2"
  }
 },
 "nbformat": 4,
 "nbformat_minor": 5
}
